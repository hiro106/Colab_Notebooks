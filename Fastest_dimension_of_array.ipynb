{
  "nbformat": 4,
  "nbformat_minor": 0,
  "metadata": {
    "colab": {
      "name": "Fastest_dimension_of_array.ipynb",
      "provenance": [],
      "collapsed_sections": [],
      "authorship_tag": "ABX9TyMOueif0CZOgvidumyE7v5a",
      "include_colab_link": true
    },
    "kernelspec": {
      "name": "python3",
      "display_name": "Python 3"
    },
    "language_info": {
      "name": "python"
    }
  },
  "cells": [
    {
      "cell_type": "markdown",
      "metadata": {
        "id": "view-in-github",
        "colab_type": "text"
      },
      "source": [
        "<a href=\"https://colab.research.google.com/github/hiro106/statistics_ml_cs_learning/blob/main/Fastest_dimension_of_array.ipynb\" target=\"_parent\"><img src=\"https://colab.research.google.com/assets/colab-badge.svg\" alt=\"Open In Colab\"/></a>"
      ]
    },
    {
      "cell_type": "markdown",
      "source": [
        "https://github.com/agilescientific/notebooks/blob/master/Fastest_dimension_of_array.ipynb"
      ],
      "metadata": {
        "id": "8XPs0fJwTCxe"
      }
    },
    {
      "cell_type": "markdown",
      "source": [
        "トレース＆カスタマイズで理解する  \n",
        "I will comprehend the contents of this notebook by tracing and customizing them."
      ],
      "metadata": {
        "id": "q9Acx4NZTdR7"
      }
    },
    {
      "cell_type": "markdown",
      "source": [
        "# Which is the fastest axis of an array?\n",
        "\n",
        "I'd like to know: which axes of a NumPy array are fastest to access?"
      ],
      "metadata": {
        "id": "HwVkFMM4TGA_"
      }
    },
    {
      "cell_type": "code",
      "source": [
        "import numpy as np"
      ],
      "metadata": {
        "id": "5UODgEeoTGDc"
      },
      "execution_count": 1,
      "outputs": []
    },
    {
      "cell_type": "code",
      "source": [
        "np"
      ],
      "metadata": {
        "colab": {
          "base_uri": "https://localhost:8080/"
        },
        "id": "gVl9TImlTGGD",
        "outputId": "3b91adcf-10a1-415e-a4de-aa7fa0af838e"
      },
      "execution_count": 2,
      "outputs": [
        {
          "output_type": "execute_result",
          "data": {
            "text/plain": [
              "<module 'numpy' from '/usr/local/lib/python3.7/dist-packages/numpy/__init__.py'>"
            ]
          },
          "metadata": {},
          "execution_count": 2
        }
      ]
    },
    {
      "cell_type": "code",
      "source": [
        "%matplotlib inline"
      ],
      "metadata": {
        "id": "TrtwKO3LTGI1"
      },
      "execution_count": 3,
      "outputs": []
    },
    {
      "cell_type": "code",
      "source": [
        "matplotlib"
      ],
      "metadata": {
        "colab": {
          "base_uri": "https://localhost:8080/"
        },
        "id": "ei8gjkHxTGLX",
        "outputId": "90b15cd8-a631-4fcd-a5cb-8245aeb68b5e"
      },
      "execution_count": 4,
      "outputs": [
        {
          "output_type": "stream",
          "name": "stdout",
          "text": [
            "Using matplotlib backend: agg\n"
          ]
        }
      ]
    },
    {
      "cell_type": "code",
      "source": [
        "import matplotlib.pyplot as plt"
      ],
      "metadata": {
        "id": "zWb1uMa0TGOJ"
      },
      "execution_count": 5,
      "outputs": []
    },
    {
      "cell_type": "code",
      "source": [
        "plt"
      ],
      "metadata": {
        "colab": {
          "base_uri": "https://localhost:8080/"
        },
        "id": "4niOKaY4TGQ6",
        "outputId": "49584327-cb56-4417-bc5a-f8e99054a2ee"
      },
      "execution_count": 6,
      "outputs": [
        {
          "output_type": "execute_result",
          "data": {
            "text/plain": [
              "<module 'matplotlib.pyplot' from '/usr/local/lib/python3.7/dist-packages/matplotlib/pyplot.py'>"
            ]
          },
          "metadata": {},
          "execution_count": 6
        }
      ]
    },
    {
      "cell_type": "markdown",
      "source": [
        "## A tiny example"
      ],
      "metadata": {
        "id": "sRxNjS3VTGii"
      }
    },
    {
      "cell_type": "code",
      "source": [
        "a = np.arange(9).reshape(3, 3)\n",
        "a"
      ],
      "metadata": {
        "id": "WCcxdE48Ud4f",
        "colab": {
          "base_uri": "https://localhost:8080/"
        },
        "outputId": "a65f66b4-a7f7-4791-c235-0f2db4d82f66"
      },
      "execution_count": 7,
      "outputs": [
        {
          "output_type": "execute_result",
          "data": {
            "text/plain": [
              "array([[0, 1, 2],\n",
              "       [3, 4, 5],\n",
              "       [6, 7, 8]])"
            ]
          },
          "metadata": {},
          "execution_count": 7
        }
      ]
    },
    {
      "cell_type": "code",
      "source": [
        "' '.join(str(i) for i in a.ravel(order='C'))"
      ],
      "metadata": {
        "id": "X_7oTuIIUd7H",
        "colab": {
          "base_uri": "https://localhost:8080/",
          "height": 35
        },
        "outputId": "4c854600-93ce-44c0-b65a-cd4c06b93274"
      },
      "execution_count": 8,
      "outputs": [
        {
          "output_type": "execute_result",
          "data": {
            "text/plain": [
              "'0 1 2 3 4 5 6 7 8'"
            ],
            "application/vnd.google.colaboratory.intrinsic+json": {
              "type": "string"
            }
          },
          "metadata": {},
          "execution_count": 8
        }
      ]
    },
    {
      "cell_type": "code",
      "source": [
        "' '.join(str(i) for i in a.ravel(order='F'))"
      ],
      "metadata": {
        "id": "d1gIqdomUd9w",
        "colab": {
          "base_uri": "https://localhost:8080/",
          "height": 35
        },
        "outputId": "631c25c2-55c2-419c-ca2e-c76dfeed710c"
      },
      "execution_count": 9,
      "outputs": [
        {
          "output_type": "execute_result",
          "data": {
            "text/plain": [
              "'0 3 6 1 4 7 2 5 8'"
            ],
            "application/vnd.google.colaboratory.intrinsic+json": {
              "type": "string"
            }
          },
          "metadata": {},
          "execution_count": 9
        }
      ]
    },
    {
      "cell_type": "markdown",
      "source": [
        "## A seismic volume"
      ],
      "metadata": {
        "id": "yFQirTsuTGmI"
      }
    },
    {
      "cell_type": "code",
      "source": [
        "from google.colab import drive\n",
        "drive.mount('/drive')"
      ],
      "metadata": {
        "colab": {
          "base_uri": "https://localhost:8080/"
        },
        "id": "jvSSlCjkcqLe",
        "outputId": "6c6b8809-117c-4d78-c02e-aaf73a2078d1"
      },
      "execution_count": 10,
      "outputs": [
        {
          "output_type": "stream",
          "name": "stdout",
          "text": [
            "Mounted at /drive\n"
          ]
        }
      ]
    },
    {
      "cell_type": "code",
      "source": [
        "volume = np.load(\"/drive/My Drive/Colab Notebooks/data/F3_volume_3x3_16bit.npy\")"
      ],
      "metadata": {
        "id": "TmUXBmKwTGqk"
      },
      "execution_count": 11,
      "outputs": []
    },
    {
      "cell_type": "code",
      "source": [
        "volume"
      ],
      "metadata": {
        "id": "jmxLHkcFTGvw",
        "colab": {
          "base_uri": "https://localhost:8080/"
        },
        "outputId": "ca93475b-253f-437c-9502-0ce8f5a39b4c"
      },
      "execution_count": 12,
      "outputs": [
        {
          "output_type": "execute_result",
          "data": {
            "text/plain": [
              "array([[[    0,     0,     0, ...,  1779,  1476,  -129],\n",
              "        [    0,     0,     0, ...,  1175,  -273,   598],\n",
              "        [    0,     0,     0, ...,   574,  -526,   302],\n",
              "        ...,\n",
              "        [-1209, -1209, -1209, ...,  4127,  1873,  2032],\n",
              "        [ -151,  -151,  -151, ...,  3619,  2145,  1522],\n",
              "        [ -864,  -864,  -864, ...,  4260,  2667,   405]],\n",
              "\n",
              "       [[-1018, -1018, -1018, ...,  1050,  1238,   189],\n",
              "        [-1173, -1173, -1173, ...,  1310,   324,   289],\n",
              "        [ -417,  -417,  -417, ...,   823,  -466,   447],\n",
              "        ...,\n",
              "        [-2029, -2029, -2029, ...,  3973,   363,   468],\n",
              "        [-1869, -1869, -1869, ...,  3741,  1296,   967],\n",
              "        [-1065, -1065, -1065, ...,  3327,  2041,  1132]],\n",
              "\n",
              "       [[ -425,  -425,  -425, ...,   -12,  1142,  1162],\n",
              "        [  -42,   -42,   -42, ...,   760,  -109,   136],\n",
              "        [ -443,  -443,  -443, ...,    25,  -615,   195],\n",
              "        ...,\n",
              "        [    0,     0,     0, ...,  3430,   638,   804],\n",
              "        [ -490,  -490,  -490, ...,  3741,  1139,   500],\n",
              "        [ -554,  -554,  -554, ...,  4370,  2453,   929]],\n",
              "\n",
              "       ...,\n",
              "\n",
              "       [[    0,     0,     0, ...,   461,  1059,   587],\n",
              "        [    0,     0,     0, ...,   109,  1079,   458],\n",
              "        [    0,     0,     0, ...,   701,  1261,   696],\n",
              "        ...,\n",
              "        [ -146,  -146,  -146, ...,  3392,  4560,  3552],\n",
              "        [ -883,  -883,  -883, ...,  2628,  2509,  2005],\n",
              "        [ -680,  -680,  -680, ..., -1749, -1931, -1902]],\n",
              "\n",
              "       [[ -323,  -323,  -323, ...,  1817,   422,  -714],\n",
              "        [    0,     0,     0, ...,  1291,  -247,  -891],\n",
              "        [ -849,  -849,  -849, ...,   654,   798,  -616],\n",
              "        ...,\n",
              "        [ -346,  -346,  -346, ...,  1571,  3727,  3654],\n",
              "        [ -553,  -553,  -553, ...,   372,  -130,   737],\n",
              "        [ -612,  -612,  -612, ...,  -248,   191, -1447]],\n",
              "\n",
              "       [[    0,     0,     0, ...,  1677,   857,   -56],\n",
              "        [    0,     0,     0, ...,   643,  1177,   275],\n",
              "        [    0,     0,     0, ...,  -263,   575,   790],\n",
              "        ...,\n",
              "        [    0,     0,     0, ...,  1999,  2591,  2373],\n",
              "        [    0,     0,     0, ...,  -299,  1199,   480],\n",
              "        [    0,     0,     0, ...,   845,    94, -1577]]], dtype=int16)"
            ]
          },
          "metadata": {},
          "execution_count": 12
        }
      ]
    },
    {
      "cell_type": "code",
      "source": [
        "volume.shape"
      ],
      "metadata": {
        "colab": {
          "base_uri": "https://localhost:8080/"
        },
        "id": "XUQLYgZnbcgc",
        "outputId": "ec811919-409d-43af-f63d-567906a679ac"
      },
      "execution_count": 13,
      "outputs": [
        {
          "output_type": "execute_result",
          "data": {
            "text/plain": [
              "(194, 299, 451)"
            ]
          },
          "metadata": {},
          "execution_count": 13
        }
      ]
    },
    {
      "cell_type": "markdown",
      "source": [
        "Let's look at how the indices vary:"
      ],
      "metadata": {
        "id": "_JfDwwaRbcjF"
      }
    },
    {
      "cell_type": "code",
      "source": [
        "idx = np.indices(volume.shape)"
      ],
      "metadata": {
        "id": "4608KmcybcmP"
      },
      "execution_count": 14,
      "outputs": []
    },
    {
      "cell_type": "code",
      "source": [
        "idx.shape"
      ],
      "metadata": {
        "colab": {
          "base_uri": "https://localhost:8080/"
        },
        "id": "QwqC1phMbco1",
        "outputId": "294c1db8-f466-4554-c0f4-82b044022a52"
      },
      "execution_count": 15,
      "outputs": [
        {
          "output_type": "execute_result",
          "data": {
            "text/plain": [
              "(3, 194, 299, 451)"
            ]
          },
          "metadata": {},
          "execution_count": 15
        }
      ]
    },
    {
      "cell_type": "code",
      "source": [
        "idx"
      ],
      "metadata": {
        "colab": {
          "base_uri": "https://localhost:8080/"
        },
        "id": "HDzFbtdnbcrz",
        "outputId": "edba7524-796b-458a-ea8a-e33ed009bbcb"
      },
      "execution_count": 16,
      "outputs": [
        {
          "output_type": "execute_result",
          "data": {
            "text/plain": [
              "array([[[[  0,   0,   0, ...,   0,   0,   0],\n",
              "         [  0,   0,   0, ...,   0,   0,   0],\n",
              "         [  0,   0,   0, ...,   0,   0,   0],\n",
              "         ...,\n",
              "         [  0,   0,   0, ...,   0,   0,   0],\n",
              "         [  0,   0,   0, ...,   0,   0,   0],\n",
              "         [  0,   0,   0, ...,   0,   0,   0]],\n",
              "\n",
              "        [[  1,   1,   1, ...,   1,   1,   1],\n",
              "         [  1,   1,   1, ...,   1,   1,   1],\n",
              "         [  1,   1,   1, ...,   1,   1,   1],\n",
              "         ...,\n",
              "         [  1,   1,   1, ...,   1,   1,   1],\n",
              "         [  1,   1,   1, ...,   1,   1,   1],\n",
              "         [  1,   1,   1, ...,   1,   1,   1]],\n",
              "\n",
              "        [[  2,   2,   2, ...,   2,   2,   2],\n",
              "         [  2,   2,   2, ...,   2,   2,   2],\n",
              "         [  2,   2,   2, ...,   2,   2,   2],\n",
              "         ...,\n",
              "         [  2,   2,   2, ...,   2,   2,   2],\n",
              "         [  2,   2,   2, ...,   2,   2,   2],\n",
              "         [  2,   2,   2, ...,   2,   2,   2]],\n",
              "\n",
              "        ...,\n",
              "\n",
              "        [[191, 191, 191, ..., 191, 191, 191],\n",
              "         [191, 191, 191, ..., 191, 191, 191],\n",
              "         [191, 191, 191, ..., 191, 191, 191],\n",
              "         ...,\n",
              "         [191, 191, 191, ..., 191, 191, 191],\n",
              "         [191, 191, 191, ..., 191, 191, 191],\n",
              "         [191, 191, 191, ..., 191, 191, 191]],\n",
              "\n",
              "        [[192, 192, 192, ..., 192, 192, 192],\n",
              "         [192, 192, 192, ..., 192, 192, 192],\n",
              "         [192, 192, 192, ..., 192, 192, 192],\n",
              "         ...,\n",
              "         [192, 192, 192, ..., 192, 192, 192],\n",
              "         [192, 192, 192, ..., 192, 192, 192],\n",
              "         [192, 192, 192, ..., 192, 192, 192]],\n",
              "\n",
              "        [[193, 193, 193, ..., 193, 193, 193],\n",
              "         [193, 193, 193, ..., 193, 193, 193],\n",
              "         [193, 193, 193, ..., 193, 193, 193],\n",
              "         ...,\n",
              "         [193, 193, 193, ..., 193, 193, 193],\n",
              "         [193, 193, 193, ..., 193, 193, 193],\n",
              "         [193, 193, 193, ..., 193, 193, 193]]],\n",
              "\n",
              "\n",
              "       [[[  0,   0,   0, ...,   0,   0,   0],\n",
              "         [  1,   1,   1, ...,   1,   1,   1],\n",
              "         [  2,   2,   2, ...,   2,   2,   2],\n",
              "         ...,\n",
              "         [296, 296, 296, ..., 296, 296, 296],\n",
              "         [297, 297, 297, ..., 297, 297, 297],\n",
              "         [298, 298, 298, ..., 298, 298, 298]],\n",
              "\n",
              "        [[  0,   0,   0, ...,   0,   0,   0],\n",
              "         [  1,   1,   1, ...,   1,   1,   1],\n",
              "         [  2,   2,   2, ...,   2,   2,   2],\n",
              "         ...,\n",
              "         [296, 296, 296, ..., 296, 296, 296],\n",
              "         [297, 297, 297, ..., 297, 297, 297],\n",
              "         [298, 298, 298, ..., 298, 298, 298]],\n",
              "\n",
              "        [[  0,   0,   0, ...,   0,   0,   0],\n",
              "         [  1,   1,   1, ...,   1,   1,   1],\n",
              "         [  2,   2,   2, ...,   2,   2,   2],\n",
              "         ...,\n",
              "         [296, 296, 296, ..., 296, 296, 296],\n",
              "         [297, 297, 297, ..., 297, 297, 297],\n",
              "         [298, 298, 298, ..., 298, 298, 298]],\n",
              "\n",
              "        ...,\n",
              "\n",
              "        [[  0,   0,   0, ...,   0,   0,   0],\n",
              "         [  1,   1,   1, ...,   1,   1,   1],\n",
              "         [  2,   2,   2, ...,   2,   2,   2],\n",
              "         ...,\n",
              "         [296, 296, 296, ..., 296, 296, 296],\n",
              "         [297, 297, 297, ..., 297, 297, 297],\n",
              "         [298, 298, 298, ..., 298, 298, 298]],\n",
              "\n",
              "        [[  0,   0,   0, ...,   0,   0,   0],\n",
              "         [  1,   1,   1, ...,   1,   1,   1],\n",
              "         [  2,   2,   2, ...,   2,   2,   2],\n",
              "         ...,\n",
              "         [296, 296, 296, ..., 296, 296, 296],\n",
              "         [297, 297, 297, ..., 297, 297, 297],\n",
              "         [298, 298, 298, ..., 298, 298, 298]],\n",
              "\n",
              "        [[  0,   0,   0, ...,   0,   0,   0],\n",
              "         [  1,   1,   1, ...,   1,   1,   1],\n",
              "         [  2,   2,   2, ...,   2,   2,   2],\n",
              "         ...,\n",
              "         [296, 296, 296, ..., 296, 296, 296],\n",
              "         [297, 297, 297, ..., 297, 297, 297],\n",
              "         [298, 298, 298, ..., 298, 298, 298]]],\n",
              "\n",
              "\n",
              "       [[[  0,   1,   2, ..., 448, 449, 450],\n",
              "         [  0,   1,   2, ..., 448, 449, 450],\n",
              "         [  0,   1,   2, ..., 448, 449, 450],\n",
              "         ...,\n",
              "         [  0,   1,   2, ..., 448, 449, 450],\n",
              "         [  0,   1,   2, ..., 448, 449, 450],\n",
              "         [  0,   1,   2, ..., 448, 449, 450]],\n",
              "\n",
              "        [[  0,   1,   2, ..., 448, 449, 450],\n",
              "         [  0,   1,   2, ..., 448, 449, 450],\n",
              "         [  0,   1,   2, ..., 448, 449, 450],\n",
              "         ...,\n",
              "         [  0,   1,   2, ..., 448, 449, 450],\n",
              "         [  0,   1,   2, ..., 448, 449, 450],\n",
              "         [  0,   1,   2, ..., 448, 449, 450]],\n",
              "\n",
              "        [[  0,   1,   2, ..., 448, 449, 450],\n",
              "         [  0,   1,   2, ..., 448, 449, 450],\n",
              "         [  0,   1,   2, ..., 448, 449, 450],\n",
              "         ...,\n",
              "         [  0,   1,   2, ..., 448, 449, 450],\n",
              "         [  0,   1,   2, ..., 448, 449, 450],\n",
              "         [  0,   1,   2, ..., 448, 449, 450]],\n",
              "\n",
              "        ...,\n",
              "\n",
              "        [[  0,   1,   2, ..., 448, 449, 450],\n",
              "         [  0,   1,   2, ..., 448, 449, 450],\n",
              "         [  0,   1,   2, ..., 448, 449, 450],\n",
              "         ...,\n",
              "         [  0,   1,   2, ..., 448, 449, 450],\n",
              "         [  0,   1,   2, ..., 448, 449, 450],\n",
              "         [  0,   1,   2, ..., 448, 449, 450]],\n",
              "\n",
              "        [[  0,   1,   2, ..., 448, 449, 450],\n",
              "         [  0,   1,   2, ..., 448, 449, 450],\n",
              "         [  0,   1,   2, ..., 448, 449, 450],\n",
              "         ...,\n",
              "         [  0,   1,   2, ..., 448, 449, 450],\n",
              "         [  0,   1,   2, ..., 448, 449, 450],\n",
              "         [  0,   1,   2, ..., 448, 449, 450]],\n",
              "\n",
              "        [[  0,   1,   2, ..., 448, 449, 450],\n",
              "         [  0,   1,   2, ..., 448, 449, 450],\n",
              "         [  0,   1,   2, ..., 448, 449, 450],\n",
              "         ...,\n",
              "         [  0,   1,   2, ..., 448, 449, 450],\n",
              "         [  0,   1,   2, ..., 448, 449, 450],\n",
              "         [  0,   1,   2, ..., 448, 449, 450]]]])"
            ]
          },
          "metadata": {},
          "execution_count": 16
        }
      ]
    },
    {
      "cell_type": "code",
      "source": [
        ""
      ],
      "metadata": {
        "id": "fm17pLmtdMPS"
      },
      "execution_count": 16,
      "outputs": []
    },
    {
      "cell_type": "code",
      "source": [
        "from matplotlib.font_manager import FontProperties"
      ],
      "metadata": {
        "id": "qZf1l9WEdMRx"
      },
      "execution_count": 17,
      "outputs": []
    },
    {
      "cell_type": "code",
      "source": [
        "annot = ['data[2, :, :]', 'data[:, 2, :]', 'data[:, :, 2]']"
      ],
      "metadata": {
        "id": "19L3XW2xdMUZ"
      },
      "execution_count": 18,
      "outputs": []
    },
    {
      "cell_type": "code",
      "source": [
        "annot"
      ],
      "metadata": {
        "colab": {
          "base_uri": "https://localhost:8080/"
        },
        "id": "x1Wj6ueOdMW5",
        "outputId": "d8fa6148-fc2a-41b6-a89e-d5f393a6c728"
      },
      "execution_count": 19,
      "outputs": [
        {
          "output_type": "execute_result",
          "data": {
            "text/plain": [
              "['data[2, :, :]', 'data[:, 2, :]', 'data[:, :, 2]']"
            ]
          },
          "metadata": {},
          "execution_count": 19
        }
      ]
    },
    {
      "cell_type": "code",
      "source": [
        "mono = FontProperties()"
      ],
      "metadata": {
        "id": "3f_ZtvZYbcvB"
      },
      "execution_count": 20,
      "outputs": []
    },
    {
      "cell_type": "code",
      "source": [
        "mono"
      ],
      "metadata": {
        "colab": {
          "base_uri": "https://localhost:8080/"
        },
        "id": "q5amEDLYlLus",
        "outputId": "97b27c98-7f09-4414-f1f9-100255eb7f32"
      },
      "execution_count": 21,
      "outputs": [
        {
          "output_type": "execute_result",
          "data": {
            "text/plain": [
              "<matplotlib.font_manager.FontProperties at 0x7f95aad68090>"
            ]
          },
          "metadata": {},
          "execution_count": 21
        }
      ]
    },
    {
      "cell_type": "code",
      "source": [
        "mono.set_family('monospace')"
      ],
      "metadata": {
        "id": "-3CXEFwZlMPP"
      },
      "execution_count": 22,
      "outputs": []
    },
    {
      "cell_type": "code",
      "source": [
        "mono"
      ],
      "metadata": {
        "colab": {
          "base_uri": "https://localhost:8080/"
        },
        "id": "A-Li-F78lMR6",
        "outputId": "a77f2208-dc91-415a-ff10-4e3b15b19c81"
      },
      "execution_count": 23,
      "outputs": [
        {
          "output_type": "execute_result",
          "data": {
            "text/plain": [
              "<matplotlib.font_manager.FontProperties at 0x7f95aad68090>"
            ]
          },
          "metadata": {},
          "execution_count": 23
        }
      ]
    },
    {
      "cell_type": "code",
      "source": [
        "fig, axs = plt.subplots(ncols=3, figsize=(15,3), facecolor='w')"
      ],
      "metadata": {
        "id": "yXtSsXmllMUh"
      },
      "execution_count": 24,
      "outputs": []
    },
    {
      "cell_type": "code",
      "source": [
        "fig"
      ],
      "metadata": {
        "colab": {
          "base_uri": "https://localhost:8080/",
          "height": 165
        },
        "id": "bzW1WFxAlj9V",
        "outputId": "1908a1c5-91c2-449f-9e1d-f294b3ba3941"
      },
      "execution_count": 25,
      "outputs": [
        {
          "output_type": "execute_result",
          "data": {
            "text/plain": [
              "<Figure size 1080x216 with 3 Axes>"
            ],
            "image/png": "[encoded data removed]"
          },
          "metadata": {},
          "execution_count": 25
        }
      ]
    },
    {
      "cell_type": "code",
      "source": [
        "axs"
      ],
      "metadata": {
        "colab": {
          "base_uri": "https://localhost:8080/"
        },
        "id": "XOt-MEitlkAA",
        "outputId": "1c4f16d5-bd0a-4cdb-a51e-11eec3eb97cd"
      },
      "execution_count": 26,
      "outputs": [
        {
          "output_type": "execute_result",
          "data": {
            "text/plain": [
              "array([<matplotlib.axes._subplots.AxesSubplot object at 0x7f95aad681d0>,\n",
              "       <matplotlib.axes._subplots.AxesSubplot object at 0x7f95b32af8d0>,\n",
              "       <matplotlib.axes._subplots.AxesSubplot object at 0x7f95aacedcd0>],\n",
              "      dtype=object)"
            ]
          },
          "metadata": {},
          "execution_count": 26
        }
      ]
    },
    {
      "cell_type": "code",
      "source": [
        "for i, ax in enumerate(axs):\n",
        "    data = idx[i, :5, :5, :5].ravel(order='C')\n",
        "    ax.plot(data, c=f'C{i}')\n",
        "    ax.scatter(np.where(data==2), data[data==2], color='r', s=10, zorder=10)\n",
        "    "
      ],
      "metadata": {
        "id": "p-F6EE5alkCm"
      },
      "execution_count": 27,
      "outputs": []
    },
    {
      "cell_type": "code",
      "source": [
        "data"
      ],
      "metadata": {
        "colab": {
          "base_uri": "https://localhost:8080/"
        },
        "id": "w7uZI8sJ7khH",
        "outputId": "4eec2132-3ec5-4cca-caee-764a67328ff8"
      },
      "execution_count": 28,
      "outputs": [
        {
          "output_type": "execute_result",
          "data": {
            "text/plain": [
              "array([0, 1, 2, 3, 4, 0, 1, 2, 3, 4, 0, 1, 2, 3, 4, 0, 1, 2, 3, 4, 0, 1,\n",
              "       2, 3, 4, 0, 1, 2, 3, 4, 0, 1, 2, 3, 4, 0, 1, 2, 3, 4, 0, 1, 2, 3,\n",
              "       4, 0, 1, 2, 3, 4, 0, 1, 2, 3, 4, 0, 1, 2, 3, 4, 0, 1, 2, 3, 4, 0,\n",
              "       1, 2, 3, 4, 0, 1, 2, 3, 4, 0, 1, 2, 3, 4, 0, 1, 2, 3, 4, 0, 1, 2,\n",
              "       3, 4, 0, 1, 2, 3, 4, 0, 1, 2, 3, 4, 0, 1, 2, 3, 4, 0, 1, 2, 3, 4,\n",
              "       0, 1, 2, 3, 4, 0, 1, 2, 3, 4, 0, 1, 2, 3, 4])"
            ]
          },
          "metadata": {},
          "execution_count": 28
        }
      ]
    },
    {
      "cell_type": "code",
      "source": [
        "data_ax0 = idx[0, :5, :5, :5]"
      ],
      "metadata": {
        "id": "lR6Pe7F2lkF8"
      },
      "execution_count": 29,
      "outputs": []
    },
    {
      "cell_type": "code",
      "source": [
        "data_ax0"
      ],
      "metadata": {
        "colab": {
          "base_uri": "https://localhost:8080/"
        },
        "id": "rKcvVlbxlkIq",
        "outputId": "9d8beb3e-44b7-45ef-e5fa-115e3f43af42"
      },
      "execution_count": 30,
      "outputs": [
        {
          "output_type": "execute_result",
          "data": {
            "text/plain": [
              "array([[[0, 0, 0, 0, 0],\n",
              "        [0, 0, 0, 0, 0],\n",
              "        [0, 0, 0, 0, 0],\n",
              "        [0, 0, 0, 0, 0],\n",
              "        [0, 0, 0, 0, 0]],\n",
              "\n",
              "       [[1, 1, 1, 1, 1],\n",
              "        [1, 1, 1, 1, 1],\n",
              "        [1, 1, 1, 1, 1],\n",
              "        [1, 1, 1, 1, 1],\n",
              "        [1, 1, 1, 1, 1]],\n",
              "\n",
              "       [[2, 2, 2, 2, 2],\n",
              "        [2, 2, 2, 2, 2],\n",
              "        [2, 2, 2, 2, 2],\n",
              "        [2, 2, 2, 2, 2],\n",
              "        [2, 2, 2, 2, 2]],\n",
              "\n",
              "       [[3, 3, 3, 3, 3],\n",
              "        [3, 3, 3, 3, 3],\n",
              "        [3, 3, 3, 3, 3],\n",
              "        [3, 3, 3, 3, 3],\n",
              "        [3, 3, 3, 3, 3]],\n",
              "\n",
              "       [[4, 4, 4, 4, 4],\n",
              "        [4, 4, 4, 4, 4],\n",
              "        [4, 4, 4, 4, 4],\n",
              "        [4, 4, 4, 4, 4],\n",
              "        [4, 4, 4, 4, 4]]])"
            ]
          },
          "metadata": {},
          "execution_count": 30
        }
      ]
    },
    {
      "cell_type": "code",
      "source": [
        "data_ax1 = idx[1, :5, :5, :5]\n",
        "data_ax1"
      ],
      "metadata": {
        "colab": {
          "base_uri": "https://localhost:8080/"
        },
        "id": "JfLQzWfp6X_a",
        "outputId": "da59d1e8-35e3-420e-abd7-af26c33de8c4"
      },
      "execution_count": 31,
      "outputs": [
        {
          "output_type": "execute_result",
          "data": {
            "text/plain": [
              "array([[[0, 0, 0, 0, 0],\n",
              "        [1, 1, 1, 1, 1],\n",
              "        [2, 2, 2, 2, 2],\n",
              "        [3, 3, 3, 3, 3],\n",
              "        [4, 4, 4, 4, 4]],\n",
              "\n",
              "       [[0, 0, 0, 0, 0],\n",
              "        [1, 1, 1, 1, 1],\n",
              "        [2, 2, 2, 2, 2],\n",
              "        [3, 3, 3, 3, 3],\n",
              "        [4, 4, 4, 4, 4]],\n",
              "\n",
              "       [[0, 0, 0, 0, 0],\n",
              "        [1, 1, 1, 1, 1],\n",
              "        [2, 2, 2, 2, 2],\n",
              "        [3, 3, 3, 3, 3],\n",
              "        [4, 4, 4, 4, 4]],\n",
              "\n",
              "       [[0, 0, 0, 0, 0],\n",
              "        [1, 1, 1, 1, 1],\n",
              "        [2, 2, 2, 2, 2],\n",
              "        [3, 3, 3, 3, 3],\n",
              "        [4, 4, 4, 4, 4]],\n",
              "\n",
              "       [[0, 0, 0, 0, 0],\n",
              "        [1, 1, 1, 1, 1],\n",
              "        [2, 2, 2, 2, 2],\n",
              "        [3, 3, 3, 3, 3],\n",
              "        [4, 4, 4, 4, 4]]])"
            ]
          },
          "metadata": {},
          "execution_count": 31
        }
      ]
    },
    {
      "cell_type": "code",
      "source": [
        "data_ax2 = idx[2, :5, :5, :5]\n",
        "data_ax2"
      ],
      "metadata": {
        "colab": {
          "base_uri": "https://localhost:8080/"
        },
        "id": "Y0uFYgMX6riL",
        "outputId": "4711273e-d30e-411c-e267-b408d1c1e7d7"
      },
      "execution_count": 32,
      "outputs": [
        {
          "output_type": "execute_result",
          "data": {
            "text/plain": [
              "array([[[0, 1, 2, 3, 4],\n",
              "        [0, 1, 2, 3, 4],\n",
              "        [0, 1, 2, 3, 4],\n",
              "        [0, 1, 2, 3, 4],\n",
              "        [0, 1, 2, 3, 4]],\n",
              "\n",
              "       [[0, 1, 2, 3, 4],\n",
              "        [0, 1, 2, 3, 4],\n",
              "        [0, 1, 2, 3, 4],\n",
              "        [0, 1, 2, 3, 4],\n",
              "        [0, 1, 2, 3, 4]],\n",
              "\n",
              "       [[0, 1, 2, 3, 4],\n",
              "        [0, 1, 2, 3, 4],\n",
              "        [0, 1, 2, 3, 4],\n",
              "        [0, 1, 2, 3, 4],\n",
              "        [0, 1, 2, 3, 4]],\n",
              "\n",
              "       [[0, 1, 2, 3, 4],\n",
              "        [0, 1, 2, 3, 4],\n",
              "        [0, 1, 2, 3, 4],\n",
              "        [0, 1, 2, 3, 4],\n",
              "        [0, 1, 2, 3, 4]],\n",
              "\n",
              "       [[0, 1, 2, 3, 4],\n",
              "        [0, 1, 2, 3, 4],\n",
              "        [0, 1, 2, 3, 4],\n",
              "        [0, 1, 2, 3, 4],\n",
              "        [0, 1, 2, 3, 4]]])"
            ]
          },
          "metadata": {},
          "execution_count": 32
        }
      ]
    },
    {
      "cell_type": "code",
      "source": [
        "data_c = data.ravel(order='C')\n",
        "data_c"
      ],
      "metadata": {
        "colab": {
          "base_uri": "https://localhost:8080/"
        },
        "id": "jlywI3yTlkLC",
        "outputId": "5b1cecd5-d998-4341-8cfb-d6652d14aef1"
      },
      "execution_count": 33,
      "outputs": [
        {
          "output_type": "execute_result",
          "data": {
            "text/plain": [
              "array([0, 1, 2, 3, 4, 0, 1, 2, 3, 4, 0, 1, 2, 3, 4, 0, 1, 2, 3, 4, 0, 1,\n",
              "       2, 3, 4, 0, 1, 2, 3, 4, 0, 1, 2, 3, 4, 0, 1, 2, 3, 4, 0, 1, 2, 3,\n",
              "       4, 0, 1, 2, 3, 4, 0, 1, 2, 3, 4, 0, 1, 2, 3, 4, 0, 1, 2, 3, 4, 0,\n",
              "       1, 2, 3, 4, 0, 1, 2, 3, 4, 0, 1, 2, 3, 4, 0, 1, 2, 3, 4, 0, 1, 2,\n",
              "       3, 4, 0, 1, 2, 3, 4, 0, 1, 2, 3, 4, 0, 1, 2, 3, 4, 0, 1, 2, 3, 4,\n",
              "       0, 1, 2, 3, 4, 0, 1, 2, 3, 4, 0, 1, 2, 3, 4])"
            ]
          },
          "metadata": {},
          "execution_count": 33
        }
      ]
    },
    {
      "cell_type": "code",
      "source": [
        "data_f = data.ravel(order='F')\n",
        "data_f"
      ],
      "metadata": {
        "colab": {
          "base_uri": "https://localhost:8080/"
        },
        "id": "oj_8OycxlkNq",
        "outputId": "6418819d-5968-408e-e08a-219f7f46c525"
      },
      "execution_count": 34,
      "outputs": [
        {
          "output_type": "execute_result",
          "data": {
            "text/plain": [
              "array([0, 1, 2, 3, 4, 0, 1, 2, 3, 4, 0, 1, 2, 3, 4, 0, 1, 2, 3, 4, 0, 1,\n",
              "       2, 3, 4, 0, 1, 2, 3, 4, 0, 1, 2, 3, 4, 0, 1, 2, 3, 4, 0, 1, 2, 3,\n",
              "       4, 0, 1, 2, 3, 4, 0, 1, 2, 3, 4, 0, 1, 2, 3, 4, 0, 1, 2, 3, 4, 0,\n",
              "       1, 2, 3, 4, 0, 1, 2, 3, 4, 0, 1, 2, 3, 4, 0, 1, 2, 3, 4, 0, 1, 2,\n",
              "       3, 4, 0, 1, 2, 3, 4, 0, 1, 2, 3, 4, 0, 1, 2, 3, 4, 0, 1, 2, 3, 4,\n",
              "       0, 1, 2, 3, 4, 0, 1, 2, 3, 4, 0, 1, 2, 3, 4])"
            ]
          },
          "metadata": {},
          "execution_count": 34
        }
      ]
    },
    {
      "cell_type": "code",
      "source": [
        "data = idx[i, :5, :5, :5].ravel(order='C')"
      ],
      "metadata": {
        "id": "RVCwIHnkaC1m"
      },
      "execution_count": 35,
      "outputs": []
    },
    {
      "cell_type": "code",
      "source": [
        "data"
      ],
      "metadata": {
        "colab": {
          "base_uri": "https://localhost:8080/"
        },
        "id": "OuGfLIw5aLoJ",
        "outputId": "4104aec3-b35d-41fb-a70e-67b0a80d9876"
      },
      "execution_count": 36,
      "outputs": [
        {
          "output_type": "execute_result",
          "data": {
            "text/plain": [
              "array([0, 1, 2, 3, 4, 0, 1, 2, 3, 4, 0, 1, 2, 3, 4, 0, 1, 2, 3, 4, 0, 1,\n",
              "       2, 3, 4, 0, 1, 2, 3, 4, 0, 1, 2, 3, 4, 0, 1, 2, 3, 4, 0, 1, 2, 3,\n",
              "       4, 0, 1, 2, 3, 4, 0, 1, 2, 3, 4, 0, 1, 2, 3, 4, 0, 1, 2, 3, 4, 0,\n",
              "       1, 2, 3, 4, 0, 1, 2, 3, 4, 0, 1, 2, 3, 4, 0, 1, 2, 3, 4, 0, 1, 2,\n",
              "       3, 4, 0, 1, 2, 3, 4, 0, 1, 2, 3, 4, 0, 1, 2, 3, 4, 0, 1, 2, 3, 4,\n",
              "       0, 1, 2, 3, 4, 0, 1, 2, 3, 4, 0, 1, 2, 3, 4])"
            ]
          },
          "metadata": {},
          "execution_count": 36
        }
      ]
    },
    {
      "cell_type": "code",
      "source": [
        "# ax.plot(data, c=f'C0')"
      ],
      "metadata": {
        "id": "1r6MN1JxlkQA"
      },
      "execution_count": 37,
      "outputs": []
    },
    {
      "cell_type": "code",
      "source": [
        "# ax.scatter(np.where(data==2), data[data==2], color='r', s=10, zorder=10)"
      ],
      "metadata": {
        "id": "_K04Ux7elkSe"
      },
      "execution_count": 38,
      "outputs": []
    },
    {
      "cell_type": "code",
      "source": [
        "# ax.text(65, 4.3, 'axis 0', color='C0', size=15, ha='center')"
      ],
      "metadata": {
        "id": "no3_Ezi_lkWR"
      },
      "execution_count": 39,
      "outputs": []
    },
    {
      "cell_type": "markdown",
      "source": [
        "\"CN\" color spec where 'C' precedes a number acting as an index into the default property cycle.  \n",
        "https://matplotlib.org/stable/tutorials/colors/colors.html"
      ],
      "metadata": {
        "id": "xxDjmV--lMXE"
      }
    },
    {
      "cell_type": "code",
      "source": [
        "# ax.text(65, -0.7, annot[0], color='red', size=12, ha='center', fontproperties=mono)"
      ],
      "metadata": {
        "id": "mU_a1mSTlMaL"
      },
      "execution_count": 40,
      "outputs": []
    },
    {
      "cell_type": "code",
      "source": [
        "ax.set_ylim(-1, 5)"
      ],
      "metadata": {
        "id": "Rj1m5qjHlMdC",
        "colab": {
          "base_uri": "https://localhost:8080/"
        },
        "outputId": "1504c34b-d9a6-4426-df72-f847d2c3377d"
      },
      "execution_count": 41,
      "outputs": [
        {
          "output_type": "execute_result",
          "data": {
            "text/plain": [
              "(-1.0, 5.0)"
            ]
          },
          "metadata": {},
          "execution_count": 41
        }
      ]
    },
    {
      "cell_type": "code",
      "source": [
        ""
      ],
      "metadata": {
        "id": "K1AcdJ-L08dl"
      },
      "execution_count": 41,
      "outputs": []
    },
    {
      "cell_type": "code",
      "source": [
        "for i, ax in enumerate(axs):\n",
        "    data = idx[i, :5, :5, :5].ravel(order='C')\n",
        "    ax.plot(data, c=f'C{i}')\n",
        "    ax.scatter(np.where(data==2), data[data==2], color='r', s=10, zorder=10)\n",
        "    ax.text(65, 4.3, f'axis {i}', color=f'C{i}', size=15, ha='center')\n",
        "    ax.text(65, -0.7, annot[i], color='red', size=12, ha='center', fontproperties=mono)\n",
        "    ax.set_ylim(-1, 5)"
      ],
      "metadata": {
        "id": "o8GDlAKe08om"
      },
      "execution_count": 42,
      "outputs": []
    },
    {
      "cell_type": "code",
      "source": [
        "fig"
      ],
      "metadata": {
        "colab": {
          "base_uri": "https://localhost:8080/",
          "height": 167
        },
        "id": "xTiPkaX_08z0",
        "outputId": "54fefe03-ece1-44e3-e484-570d5c44f366"
      },
      "execution_count": 43,
      "outputs": [
        {
          "output_type": "execute_result",
          "data": {
            "text/plain": [
              "<Figure size 1080x216 with 3 Axes>"
            ],
            "image/png": "[encoded data removed]"
          },
          "metadata": {},
          "execution_count": 43
        }
      ]
    },
    {
      "cell_type": "code",
      "source": [
        "for i, ax in enumerate(axs):\n",
        "    print(i, ax)"
      ],
      "metadata": {
        "colab": {
          "base_uri": "https://localhost:8080/"
        },
        "id": "lx1xPldx4shK",
        "outputId": "06b9d95c-bcb2-4a9b-c9e8-625ce2565d8e"
      },
      "execution_count": 44,
      "outputs": [
        {
          "output_type": "stream",
          "name": "stdout",
          "text": [
            "0 AxesSubplot(0.125,0.125;0.227941x0.755)\n",
            "1 AxesSubplot(0.398529,0.125;0.227941x0.755)\n",
            "2 AxesSubplot(0.672059,0.125;0.227941x0.755)\n"
          ]
        }
      ]
    },
    {
      "cell_type": "code",
      "source": [
        ""
      ],
      "metadata": {
        "id": "_vxtDO-B4sm3"
      },
      "execution_count": 44,
      "outputs": []
    },
    {
      "cell_type": "code",
      "source": [
        "idx_test = np.indices((2,3))\n",
        "idx_test"
      ],
      "metadata": {
        "colab": {
          "base_uri": "https://localhost:8080/"
        },
        "id": "0urIaRh44ss_",
        "outputId": "da2468eb-38a4-4c18-ce61-c38a97f6dd47"
      },
      "execution_count": 45,
      "outputs": [
        {
          "output_type": "execute_result",
          "data": {
            "text/plain": [
              "array([[[0, 0, 0],\n",
              "        [1, 1, 1]],\n",
              "\n",
              "       [[0, 1, 2],\n",
              "        [0, 1, 2]]])"
            ]
          },
          "metadata": {},
          "execution_count": 45
        }
      ]
    },
    {
      "cell_type": "code",
      "source": [
        "idx_test.shape"
      ],
      "metadata": {
        "colab": {
          "base_uri": "https://localhost:8080/"
        },
        "id": "kyLJ6FQmEjzz",
        "outputId": "ad7fcabd-2843-484f-b9a4-e6d3b5edef2b"
      },
      "execution_count": 46,
      "outputs": [
        {
          "output_type": "execute_result",
          "data": {
            "text/plain": [
              "(2, 2, 3)"
            ]
          },
          "metadata": {},
          "execution_count": 46
        }
      ]
    },
    {
      "cell_type": "code",
      "source": [
        "idx_test2 = np.indices((2,3,4))\n",
        "idx_test2"
      ],
      "metadata": {
        "colab": {
          "base_uri": "https://localhost:8080/"
        },
        "id": "aOU3fEEDEj2l",
        "outputId": "e7c2e7f2-b3b6-40a1-9773-2fab97369444"
      },
      "execution_count": 47,
      "outputs": [
        {
          "output_type": "execute_result",
          "data": {
            "text/plain": [
              "array([[[[0, 0, 0, 0],\n",
              "         [0, 0, 0, 0],\n",
              "         [0, 0, 0, 0]],\n",
              "\n",
              "        [[1, 1, 1, 1],\n",
              "         [1, 1, 1, 1],\n",
              "         [1, 1, 1, 1]]],\n",
              "\n",
              "\n",
              "       [[[0, 0, 0, 0],\n",
              "         [1, 1, 1, 1],\n",
              "         [2, 2, 2, 2]],\n",
              "\n",
              "        [[0, 0, 0, 0],\n",
              "         [1, 1, 1, 1],\n",
              "         [2, 2, 2, 2]]],\n",
              "\n",
              "\n",
              "       [[[0, 1, 2, 3],\n",
              "         [0, 1, 2, 3],\n",
              "         [0, 1, 2, 3]],\n",
              "\n",
              "        [[0, 1, 2, 3],\n",
              "         [0, 1, 2, 3],\n",
              "         [0, 1, 2, 3]]]])"
            ]
          },
          "metadata": {},
          "execution_count": 47
        }
      ]
    },
    {
      "cell_type": "code",
      "source": [
        "idx_test2.shape"
      ],
      "metadata": {
        "colab": {
          "base_uri": "https://localhost:8080/"
        },
        "id": "vOfG2oznEj5d",
        "outputId": "6945e7d0-8880-469e-9e03-1eb2c60ecfe8"
      },
      "execution_count": 48,
      "outputs": [
        {
          "output_type": "execute_result",
          "data": {
            "text/plain": [
              "(3, 2, 3, 4)"
            ]
          },
          "metadata": {},
          "execution_count": 48
        }
      ]
    },
    {
      "cell_type": "code",
      "source": [
        ""
      ],
      "metadata": {
        "id": "9F-1jtd8Ej77"
      },
      "execution_count": 48,
      "outputs": []
    },
    {
      "cell_type": "code",
      "source": [
        "idx_test2"
      ],
      "metadata": {
        "colab": {
          "base_uri": "https://localhost:8080/"
        },
        "id": "V8yDerkOEj-0",
        "outputId": "f8e6d4ba-01c7-4e1c-a6c8-d162fd7f508c"
      },
      "execution_count": 49,
      "outputs": [
        {
          "output_type": "execute_result",
          "data": {
            "text/plain": [
              "array([[[[0, 0, 0, 0],\n",
              "         [0, 0, 0, 0],\n",
              "         [0, 0, 0, 0]],\n",
              "\n",
              "        [[1, 1, 1, 1],\n",
              "         [1, 1, 1, 1],\n",
              "         [1, 1, 1, 1]]],\n",
              "\n",
              "\n",
              "       [[[0, 0, 0, 0],\n",
              "         [1, 1, 1, 1],\n",
              "         [2, 2, 2, 2]],\n",
              "\n",
              "        [[0, 0, 0, 0],\n",
              "         [1, 1, 1, 1],\n",
              "         [2, 2, 2, 2]]],\n",
              "\n",
              "\n",
              "       [[[0, 1, 2, 3],\n",
              "         [0, 1, 2, 3],\n",
              "         [0, 1, 2, 3]],\n",
              "\n",
              "        [[0, 1, 2, 3],\n",
              "         [0, 1, 2, 3],\n",
              "         [0, 1, 2, 3]]]])"
            ]
          },
          "metadata": {},
          "execution_count": 49
        }
      ]
    },
    {
      "cell_type": "code",
      "source": [
        "idx_test2.ravel(order='C')"
      ],
      "metadata": {
        "colab": {
          "base_uri": "https://localhost:8080/"
        },
        "id": "wR-nzUAOEkCA",
        "outputId": "9432ad8a-11a2-484e-9256-12c96962a5da"
      },
      "execution_count": 50,
      "outputs": [
        {
          "output_type": "execute_result",
          "data": {
            "text/plain": [
              "array([0, 0, 0, 0, 0, 0, 0, 0, 0, 0, 0, 0, 1, 1, 1, 1, 1, 1, 1, 1, 1, 1,\n",
              "       1, 1, 0, 0, 0, 0, 1, 1, 1, 1, 2, 2, 2, 2, 0, 0, 0, 0, 1, 1, 1, 1,\n",
              "       2, 2, 2, 2, 0, 1, 2, 3, 0, 1, 2, 3, 0, 1, 2, 3, 0, 1, 2, 3, 0, 1,\n",
              "       2, 3, 0, 1, 2, 3])"
            ]
          },
          "metadata": {},
          "execution_count": 50
        }
      ]
    },
    {
      "cell_type": "code",
      "source": [
        "idx_test2"
      ],
      "metadata": {
        "colab": {
          "base_uri": "https://localhost:8080/"
        },
        "id": "8ofWrQUP4szW",
        "outputId": "2fdc1d61-92e8-4d07-c85b-5a3e143a6bae"
      },
      "execution_count": 51,
      "outputs": [
        {
          "output_type": "execute_result",
          "data": {
            "text/plain": [
              "array([[[[0, 0, 0, 0],\n",
              "         [0, 0, 0, 0],\n",
              "         [0, 0, 0, 0]],\n",
              "\n",
              "        [[1, 1, 1, 1],\n",
              "         [1, 1, 1, 1],\n",
              "         [1, 1, 1, 1]]],\n",
              "\n",
              "\n",
              "       [[[0, 0, 0, 0],\n",
              "         [1, 1, 1, 1],\n",
              "         [2, 2, 2, 2]],\n",
              "\n",
              "        [[0, 0, 0, 0],\n",
              "         [1, 1, 1, 1],\n",
              "         [2, 2, 2, 2]]],\n",
              "\n",
              "\n",
              "       [[[0, 1, 2, 3],\n",
              "         [0, 1, 2, 3],\n",
              "         [0, 1, 2, 3]],\n",
              "\n",
              "        [[0, 1, 2, 3],\n",
              "         [0, 1, 2, 3],\n",
              "         [0, 1, 2, 3]]]])"
            ]
          },
          "metadata": {},
          "execution_count": 51
        }
      ]
    },
    {
      "cell_type": "code",
      "source": [
        "idx_test2.ravel(order='F')"
      ],
      "metadata": {
        "colab": {
          "base_uri": "https://localhost:8080/"
        },
        "id": "AkmlO4ze4s6J",
        "outputId": "afd1a4ff-03c0-4a9e-d221-b343c67dfa76"
      },
      "execution_count": 52,
      "outputs": [
        {
          "output_type": "execute_result",
          "data": {
            "text/plain": [
              "array([0, 0, 0, 1, 0, 0, 0, 1, 0, 1, 1, 0, 0, 2, 0, 1, 2, 0, 0, 0, 1, 1,\n",
              "       0, 1, 0, 1, 1, 1, 1, 1, 0, 2, 1, 1, 2, 1, 0, 0, 2, 1, 0, 2, 0, 1,\n",
              "       2, 1, 1, 2, 0, 2, 2, 1, 2, 2, 0, 0, 3, 1, 0, 3, 0, 1, 3, 1, 1, 3,\n",
              "       0, 2, 3, 1, 2, 3])"
            ]
          },
          "metadata": {},
          "execution_count": 52
        }
      ]
    },
    {
      "cell_type": "code",
      "source": [
        ""
      ],
      "metadata": {
        "id": "9P6cz3ct4tBR"
      },
      "execution_count": 52,
      "outputs": []
    },
    {
      "cell_type": "code",
      "source": [
        ""
      ],
      "metadata": {
        "id": "9jIshnZ4PZgz"
      },
      "execution_count": null,
      "outputs": []
    },
    {
      "cell_type": "code",
      "source": [
        ""
      ],
      "metadata": {
        "id": "hyTgYxqyPZkN"
      },
      "execution_count": null,
      "outputs": []
    },
    {
      "cell_type": "code",
      "source": [
        ""
      ],
      "metadata": {
        "id": "xLG_K6e7PZsP"
      },
      "execution_count": null,
      "outputs": []
    },
    {
      "cell_type": "code",
      "source": [
        ""
      ],
      "metadata": {
        "id": "hhQ9wXAgPZyM"
      },
      "execution_count": null,
      "outputs": []
    },
    {
      "cell_type": "code",
      "source": [
        ""
      ],
      "metadata": {
        "id": "apuMvyBuPZ5P"
      },
      "execution_count": null,
      "outputs": []
    },
    {
      "cell_type": "code",
      "source": [
        ""
      ],
      "metadata": {
        "id": "z1-PQmZaPZ_W"
      },
      "execution_count": null,
      "outputs": []
    }
  ]
}