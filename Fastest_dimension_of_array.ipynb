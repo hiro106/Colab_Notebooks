{
  "nbformat": 4,
  "nbformat_minor": 0,
  "metadata": {
    "colab": {
      "provenance": [],
      "collapsed_sections": [
        "90E9vHJNFIt7",
        "tmAhddj7CzDO"
      ],
      "authorship_tag": "ABX9TyMZrbB9lYOCygjzuErf69JN",
      "include_colab_link": true
    },
    "kernelspec": {
      "name": "python3",
      "display_name": "Python 3"
    },
    "language_info": {
      "name": "python"
    }
  },
  "cells": [
    {
      "cell_type": "markdown",
      "metadata": {
        "id": "view-in-github",
        "colab_type": "text"
      },
      "source": [
        "<a href=\"https://colab.research.google.com/github/hiro106/statistics-ml-cs-learning/blob/main/Fastest_dimension_of_array.ipynb\" target=\"_parent\"><img src=\"https://colab.research.google.com/assets/colab-badge.svg\" alt=\"Open In Colab\"/></a>"
      ]
    },
    {
      "cell_type": "markdown",
      "source": [
        "What is the fastest axis of an array?  \n",
        "https://agilescientific.com/blog/2018/12/28/what-is-the-fastest-axis-of-an-array"
      ],
      "metadata": {
        "id": "ZKnNEa70F9Aq"
      }
    },
    {
      "cell_type": "markdown",
      "source": [
        "https://github.com/agilescientific/notebooks/blob/master/Fastest_dimension_of_array.ipynb"
      ],
      "metadata": {
        "id": "8XPs0fJwTCxe"
      }
    },
    {
      "cell_type": "markdown",
      "source": [
        "トレース＆カスタマイズで理解する  \n",
        "I'm comprehending the contents of the notebook above by tracing and customizing the code on it."
      ],
      "metadata": {
        "id": "q9Acx4NZTdR7"
      }
    },
    {
      "cell_type": "markdown",
      "source": [
        "# Which is the fastest axis of an array?\n",
        "\n",
        "I'd like to know: which axes of a NumPy array are fastest to access?"
      ],
      "metadata": {
        "id": "HwVkFMM4TGA_"
      }
    },
    {
      "cell_type": "code",
      "source": [
        "import numpy as np"
      ],
      "metadata": {
        "id": "5UODgEeoTGDc"
      },
      "execution_count": 1,
      "outputs": []
    },
    {
      "cell_type": "code",
      "source": [
        "np"
      ],
      "metadata": {
        "colab": {
          "base_uri": "https://localhost:8080/"
        },
        "id": "gVl9TImlTGGD",
        "outputId": "eff6222b-6ea8-4e01-fece-9ed0c5ca1a61"
      },
      "execution_count": 2,
      "outputs": [
        {
          "output_type": "execute_result",
          "data": {
            "text/plain": [
              "<module 'numpy' from '/usr/local/lib/python3.7/dist-packages/numpy/__init__.py'>"
            ]
          },
          "metadata": {},
          "execution_count": 2
        }
      ]
    },
    {
      "cell_type": "code",
      "source": [
        "%matplotlib inline"
      ],
      "metadata": {
        "id": "TrtwKO3LTGI1"
      },
      "execution_count": 3,
      "outputs": []
    },
    {
      "cell_type": "code",
      "source": [
        "matplotlib"
      ],
      "metadata": {
        "colab": {
          "base_uri": "https://localhost:8080/"
        },
        "id": "ei8gjkHxTGLX",
        "outputId": "c713de1e-7ce6-410e-d3ed-f2ef2277e21d"
      },
      "execution_count": 4,
      "outputs": [
        {
          "output_type": "stream",
          "name": "stdout",
          "text": [
            "Using matplotlib backend: agg\n"
          ]
        }
      ]
    },
    {
      "cell_type": "code",
      "source": [
        "import matplotlib.pyplot as plt"
      ],
      "metadata": {
        "id": "zWb1uMa0TGOJ"
      },
      "execution_count": 5,
      "outputs": []
    },
    {
      "cell_type": "code",
      "source": [
        "plt"
      ],
      "metadata": {
        "colab": {
          "base_uri": "https://localhost:8080/"
        },
        "id": "4niOKaY4TGQ6",
        "outputId": "3a618b40-de90-4a3f-9e9c-2a9f0f662f44"
      },
      "execution_count": 6,
      "outputs": [
        {
          "output_type": "execute_result",
          "data": {
            "text/plain": [
              "<module 'matplotlib.pyplot' from '/usr/local/lib/python3.7/dist-packages/matplotlib/pyplot.py'>"
            ]
          },
          "metadata": {},
          "execution_count": 6
        }
      ]
    },
    {
      "cell_type": "markdown",
      "source": [
        "## A tiny example"
      ],
      "metadata": {
        "id": "sRxNjS3VTGii"
      }
    },
    {
      "cell_type": "code",
      "source": [
        "a = np.arange(9).reshape(3, 3)\n",
        "a"
      ],
      "metadata": {
        "id": "WCcxdE48Ud4f",
        "colab": {
          "base_uri": "https://localhost:8080/"
        },
        "outputId": "12020ec8-5da6-45b1-ac80-5e86c4ba976b"
      },
      "execution_count": 7,
      "outputs": [
        {
          "output_type": "execute_result",
          "data": {
            "text/plain": [
              "array([[0, 1, 2],\n",
              "       [3, 4, 5],\n",
              "       [6, 7, 8]])"
            ]
          },
          "metadata": {},
          "execution_count": 7
        }
      ]
    },
    {
      "cell_type": "code",
      "source": [
        "' '.join(str(i) for i in a.ravel(order='C'))"
      ],
      "metadata": {
        "id": "X_7oTuIIUd7H",
        "colab": {
          "base_uri": "https://localhost:8080/",
          "height": 35
        },
        "outputId": "c9174d99-26ce-4377-ab0d-00baa7ccd2e5"
      },
      "execution_count": 8,
      "outputs": [
        {
          "output_type": "execute_result",
          "data": {
            "text/plain": [
              "'0 1 2 3 4 5 6 7 8'"
            ],
            "application/vnd.google.colaboratory.intrinsic+json": {
              "type": "string"
            }
          },
          "metadata": {},
          "execution_count": 8
        }
      ]
    },
    {
      "cell_type": "code",
      "source": [
        "' '.join(str(i) for i in a.ravel(order='F'))"
      ],
      "metadata": {
        "id": "d1gIqdomUd9w",
        "colab": {
          "base_uri": "https://localhost:8080/",
          "height": 35
        },
        "outputId": "197e7b0c-61e9-4006-f88c-4448fb2fdfef"
      },
      "execution_count": 9,
      "outputs": [
        {
          "output_type": "execute_result",
          "data": {
            "text/plain": [
              "'0 3 6 1 4 7 2 5 8'"
            ],
            "application/vnd.google.colaboratory.intrinsic+json": {
              "type": "string"
            }
          },
          "metadata": {},
          "execution_count": 9
        }
      ]
    },
    {
      "cell_type": "markdown",
      "source": [
        "## A seismic volume"
      ],
      "metadata": {
        "id": "yFQirTsuTGmI"
      }
    },
    {
      "cell_type": "code",
      "source": [
        "from google.colab import drive\n",
        "drive.mount('/drive')"
      ],
      "metadata": {
        "colab": {
          "base_uri": "https://localhost:8080/"
        },
        "id": "jvSSlCjkcqLe",
        "outputId": "24442a1d-b240-4875-e978-f97387c3904a"
      },
      "execution_count": 10,
      "outputs": [
        {
          "output_type": "stream",
          "name": "stdout",
          "text": [
            "Mounted at /drive\n"
          ]
        }
      ]
    },
    {
      "cell_type": "code",
      "source": [
        "volume = np.load(\"/drive/My Drive/Colab Notebooks/data/F3_volume_3x3_16bit.npy\")"
      ],
      "metadata": {
        "id": "TmUXBmKwTGqk"
      },
      "execution_count": 11,
      "outputs": []
    },
    {
      "cell_type": "code",
      "source": [],
      "metadata": {
        "id": "2X83a36u8HJO"
      },
      "execution_count": 11,
      "outputs": []
    },
    {
      "cell_type": "code",
      "source": [
        "volume"
      ],
      "metadata": {
        "id": "jmxLHkcFTGvw",
        "colab": {
          "base_uri": "https://localhost:8080/"
        },
        "outputId": "a3fae4bb-3f3f-4a63-d566-1ece366b10f5"
      },
      "execution_count": 12,
      "outputs": [
        {
          "output_type": "execute_result",
          "data": {
            "text/plain": [
              "array([[[    0,     0,     0, ...,  1779,  1476,  -129],\n",
              "        [    0,     0,     0, ...,  1175,  -273,   598],\n",
              "        [    0,     0,     0, ...,   574,  -526,   302],\n",
              "        ...,\n",
              "        [-1209, -1209, -1209, ...,  4127,  1873,  2032],\n",
              "        [ -151,  -151,  -151, ...,  3619,  2145,  1522],\n",
              "        [ -864,  -864,  -864, ...,  4260,  2667,   405]],\n",
              "\n",
              "       [[-1018, -1018, -1018, ...,  1050,  1238,   189],\n",
              "        [-1173, -1173, -1173, ...,  1310,   324,   289],\n",
              "        [ -417,  -417,  -417, ...,   823,  -466,   447],\n",
              "        ...,\n",
              "        [-2029, -2029, -2029, ...,  3973,   363,   468],\n",
              "        [-1869, -1869, -1869, ...,  3741,  1296,   967],\n",
              "        [-1065, -1065, -1065, ...,  3327,  2041,  1132]],\n",
              "\n",
              "       [[ -425,  -425,  -425, ...,   -12,  1142,  1162],\n",
              "        [  -42,   -42,   -42, ...,   760,  -109,   136],\n",
              "        [ -443,  -443,  -443, ...,    25,  -615,   195],\n",
              "        ...,\n",
              "        [    0,     0,     0, ...,  3430,   638,   804],\n",
              "        [ -490,  -490,  -490, ...,  3741,  1139,   500],\n",
              "        [ -554,  -554,  -554, ...,  4370,  2453,   929]],\n",
              "\n",
              "       ...,\n",
              "\n",
              "       [[    0,     0,     0, ...,   461,  1059,   587],\n",
              "        [    0,     0,     0, ...,   109,  1079,   458],\n",
              "        [    0,     0,     0, ...,   701,  1261,   696],\n",
              "        ...,\n",
              "        [ -146,  -146,  -146, ...,  3392,  4560,  3552],\n",
              "        [ -883,  -883,  -883, ...,  2628,  2509,  2005],\n",
              "        [ -680,  -680,  -680, ..., -1749, -1931, -1902]],\n",
              "\n",
              "       [[ -323,  -323,  -323, ...,  1817,   422,  -714],\n",
              "        [    0,     0,     0, ...,  1291,  -247,  -891],\n",
              "        [ -849,  -849,  -849, ...,   654,   798,  -616],\n",
              "        ...,\n",
              "        [ -346,  -346,  -346, ...,  1571,  3727,  3654],\n",
              "        [ -553,  -553,  -553, ...,   372,  -130,   737],\n",
              "        [ -612,  -612,  -612, ...,  -248,   191, -1447]],\n",
              "\n",
              "       [[    0,     0,     0, ...,  1677,   857,   -56],\n",
              "        [    0,     0,     0, ...,   643,  1177,   275],\n",
              "        [    0,     0,     0, ...,  -263,   575,   790],\n",
              "        ...,\n",
              "        [    0,     0,     0, ...,  1999,  2591,  2373],\n",
              "        [    0,     0,     0, ...,  -299,  1199,   480],\n",
              "        [    0,     0,     0, ...,   845,    94, -1577]]], dtype=int16)"
            ]
          },
          "metadata": {},
          "execution_count": 12
        }
      ]
    },
    {
      "cell_type": "code",
      "source": [
        "volume.shape"
      ],
      "metadata": {
        "colab": {
          "base_uri": "https://localhost:8080/"
        },
        "id": "XUQLYgZnbcgc",
        "outputId": "72e6ee78-3ea2-46c2-ea72-167cc0753f83"
      },
      "execution_count": 13,
      "outputs": [
        {
          "output_type": "execute_result",
          "data": {
            "text/plain": [
              "(194, 299, 451)"
            ]
          },
          "metadata": {},
          "execution_count": 13
        }
      ]
    },
    {
      "cell_type": "markdown",
      "source": [
        "Let's look at how the indices vary:"
      ],
      "metadata": {
        "id": "_JfDwwaRbcjF"
      }
    },
    {
      "cell_type": "code",
      "source": [
        "idx = np.indices(volume.shape)"
      ],
      "metadata": {
        "id": "4608KmcybcmP"
      },
      "execution_count": 14,
      "outputs": []
    },
    {
      "cell_type": "code",
      "source": [
        "idx.shape"
      ],
      "metadata": {
        "colab": {
          "base_uri": "https://localhost:8080/"
        },
        "id": "QwqC1phMbco1",
        "outputId": "58e2fff9-75ee-4f10-899a-788ea82dcb0c"
      },
      "execution_count": 15,
      "outputs": [
        {
          "output_type": "execute_result",
          "data": {
            "text/plain": [
              "(3, 194, 299, 451)"
            ]
          },
          "metadata": {},
          "execution_count": 15
        }
      ]
    },
    {
      "cell_type": "code",
      "source": [
        "idx"
      ],
      "metadata": {
        "colab": {
          "base_uri": "https://localhost:8080/"
        },
        "id": "HDzFbtdnbcrz",
        "outputId": "133e5de0-cd96-4368-81a2-0864a2b6fb77"
      },
      "execution_count": 16,
      "outputs": [
        {
          "output_type": "execute_result",
          "data": {
            "text/plain": [
              "array([[[[  0,   0,   0, ...,   0,   0,   0],\n",
              "         [  0,   0,   0, ...,   0,   0,   0],\n",
              "         [  0,   0,   0, ...,   0,   0,   0],\n",
              "         ...,\n",
              "         [  0,   0,   0, ...,   0,   0,   0],\n",
              "         [  0,   0,   0, ...,   0,   0,   0],\n",
              "         [  0,   0,   0, ...,   0,   0,   0]],\n",
              "\n",
              "        [[  1,   1,   1, ...,   1,   1,   1],\n",
              "         [  1,   1,   1, ...,   1,   1,   1],\n",
              "         [  1,   1,   1, ...,   1,   1,   1],\n",
              "         ...,\n",
              "         [  1,   1,   1, ...,   1,   1,   1],\n",
              "         [  1,   1,   1, ...,   1,   1,   1],\n",
              "         [  1,   1,   1, ...,   1,   1,   1]],\n",
              "\n",
              "        [[  2,   2,   2, ...,   2,   2,   2],\n",
              "         [  2,   2,   2, ...,   2,   2,   2],\n",
              "         [  2,   2,   2, ...,   2,   2,   2],\n",
              "         ...,\n",
              "         [  2,   2,   2, ...,   2,   2,   2],\n",
              "         [  2,   2,   2, ...,   2,   2,   2],\n",
              "         [  2,   2,   2, ...,   2,   2,   2]],\n",
              "\n",
              "        ...,\n",
              "\n",
              "        [[191, 191, 191, ..., 191, 191, 191],\n",
              "         [191, 191, 191, ..., 191, 191, 191],\n",
              "         [191, 191, 191, ..., 191, 191, 191],\n",
              "         ...,\n",
              "         [191, 191, 191, ..., 191, 191, 191],\n",
              "         [191, 191, 191, ..., 191, 191, 191],\n",
              "         [191, 191, 191, ..., 191, 191, 191]],\n",
              "\n",
              "        [[192, 192, 192, ..., 192, 192, 192],\n",
              "         [192, 192, 192, ..., 192, 192, 192],\n",
              "         [192, 192, 192, ..., 192, 192, 192],\n",
              "         ...,\n",
              "         [192, 192, 192, ..., 192, 192, 192],\n",
              "         [192, 192, 192, ..., 192, 192, 192],\n",
              "         [192, 192, 192, ..., 192, 192, 192]],\n",
              "\n",
              "        [[193, 193, 193, ..., 193, 193, 193],\n",
              "         [193, 193, 193, ..., 193, 193, 193],\n",
              "         [193, 193, 193, ..., 193, 193, 193],\n",
              "         ...,\n",
              "         [193, 193, 193, ..., 193, 193, 193],\n",
              "         [193, 193, 193, ..., 193, 193, 193],\n",
              "         [193, 193, 193, ..., 193, 193, 193]]],\n",
              "\n",
              "\n",
              "       [[[  0,   0,   0, ...,   0,   0,   0],\n",
              "         [  1,   1,   1, ...,   1,   1,   1],\n",
              "         [  2,   2,   2, ...,   2,   2,   2],\n",
              "         ...,\n",
              "         [296, 296, 296, ..., 296, 296, 296],\n",
              "         [297, 297, 297, ..., 297, 297, 297],\n",
              "         [298, 298, 298, ..., 298, 298, 298]],\n",
              "\n",
              "        [[  0,   0,   0, ...,   0,   0,   0],\n",
              "         [  1,   1,   1, ...,   1,   1,   1],\n",
              "         [  2,   2,   2, ...,   2,   2,   2],\n",
              "         ...,\n",
              "         [296, 296, 296, ..., 296, 296, 296],\n",
              "         [297, 297, 297, ..., 297, 297, 297],\n",
              "         [298, 298, 298, ..., 298, 298, 298]],\n",
              "\n",
              "        [[  0,   0,   0, ...,   0,   0,   0],\n",
              "         [  1,   1,   1, ...,   1,   1,   1],\n",
              "         [  2,   2,   2, ...,   2,   2,   2],\n",
              "         ...,\n",
              "         [296, 296, 296, ..., 296, 296, 296],\n",
              "         [297, 297, 297, ..., 297, 297, 297],\n",
              "         [298, 298, 298, ..., 298, 298, 298]],\n",
              "\n",
              "        ...,\n",
              "\n",
              "        [[  0,   0,   0, ...,   0,   0,   0],\n",
              "         [  1,   1,   1, ...,   1,   1,   1],\n",
              "         [  2,   2,   2, ...,   2,   2,   2],\n",
              "         ...,\n",
              "         [296, 296, 296, ..., 296, 296, 296],\n",
              "         [297, 297, 297, ..., 297, 297, 297],\n",
              "         [298, 298, 298, ..., 298, 298, 298]],\n",
              "\n",
              "        [[  0,   0,   0, ...,   0,   0,   0],\n",
              "         [  1,   1,   1, ...,   1,   1,   1],\n",
              "         [  2,   2,   2, ...,   2,   2,   2],\n",
              "         ...,\n",
              "         [296, 296, 296, ..., 296, 296, 296],\n",
              "         [297, 297, 297, ..., 297, 297, 297],\n",
              "         [298, 298, 298, ..., 298, 298, 298]],\n",
              "\n",
              "        [[  0,   0,   0, ...,   0,   0,   0],\n",
              "         [  1,   1,   1, ...,   1,   1,   1],\n",
              "         [  2,   2,   2, ...,   2,   2,   2],\n",
              "         ...,\n",
              "         [296, 296, 296, ..., 296, 296, 296],\n",
              "         [297, 297, 297, ..., 297, 297, 297],\n",
              "         [298, 298, 298, ..., 298, 298, 298]]],\n",
              "\n",
              "\n",
              "       [[[  0,   1,   2, ..., 448, 449, 450],\n",
              "         [  0,   1,   2, ..., 448, 449, 450],\n",
              "         [  0,   1,   2, ..., 448, 449, 450],\n",
              "         ...,\n",
              "         [  0,   1,   2, ..., 448, 449, 450],\n",
              "         [  0,   1,   2, ..., 448, 449, 450],\n",
              "         [  0,   1,   2, ..., 448, 449, 450]],\n",
              "\n",
              "        [[  0,   1,   2, ..., 448, 449, 450],\n",
              "         [  0,   1,   2, ..., 448, 449, 450],\n",
              "         [  0,   1,   2, ..., 448, 449, 450],\n",
              "         ...,\n",
              "         [  0,   1,   2, ..., 448, 449, 450],\n",
              "         [  0,   1,   2, ..., 448, 449, 450],\n",
              "         [  0,   1,   2, ..., 448, 449, 450]],\n",
              "\n",
              "        [[  0,   1,   2, ..., 448, 449, 450],\n",
              "         [  0,   1,   2, ..., 448, 449, 450],\n",
              "         [  0,   1,   2, ..., 448, 449, 450],\n",
              "         ...,\n",
              "         [  0,   1,   2, ..., 448, 449, 450],\n",
              "         [  0,   1,   2, ..., 448, 449, 450],\n",
              "         [  0,   1,   2, ..., 448, 449, 450]],\n",
              "\n",
              "        ...,\n",
              "\n",
              "        [[  0,   1,   2, ..., 448, 449, 450],\n",
              "         [  0,   1,   2, ..., 448, 449, 450],\n",
              "         [  0,   1,   2, ..., 448, 449, 450],\n",
              "         ...,\n",
              "         [  0,   1,   2, ..., 448, 449, 450],\n",
              "         [  0,   1,   2, ..., 448, 449, 450],\n",
              "         [  0,   1,   2, ..., 448, 449, 450]],\n",
              "\n",
              "        [[  0,   1,   2, ..., 448, 449, 450],\n",
              "         [  0,   1,   2, ..., 448, 449, 450],\n",
              "         [  0,   1,   2, ..., 448, 449, 450],\n",
              "         ...,\n",
              "         [  0,   1,   2, ..., 448, 449, 450],\n",
              "         [  0,   1,   2, ..., 448, 449, 450],\n",
              "         [  0,   1,   2, ..., 448, 449, 450]],\n",
              "\n",
              "        [[  0,   1,   2, ..., 448, 449, 450],\n",
              "         [  0,   1,   2, ..., 448, 449, 450],\n",
              "         [  0,   1,   2, ..., 448, 449, 450],\n",
              "         ...,\n",
              "         [  0,   1,   2, ..., 448, 449, 450],\n",
              "         [  0,   1,   2, ..., 448, 449, 450],\n",
              "         [  0,   1,   2, ..., 448, 449, 450]]]])"
            ]
          },
          "metadata": {},
          "execution_count": 16
        }
      ]
    },
    {
      "cell_type": "code",
      "source": [],
      "metadata": {
        "id": "fm17pLmtdMPS"
      },
      "execution_count": 16,
      "outputs": []
    },
    {
      "cell_type": "code",
      "source": [
        "from matplotlib.font_manager import FontProperties"
      ],
      "metadata": {
        "id": "qZf1l9WEdMRx"
      },
      "execution_count": 17,
      "outputs": []
    },
    {
      "cell_type": "code",
      "source": [
        "annot = ['data[2, :, :]', 'data[:, 2, :]', 'data[:, :, 2]']"
      ],
      "metadata": {
        "id": "19L3XW2xdMUZ"
      },
      "execution_count": 18,
      "outputs": []
    },
    {
      "cell_type": "code",
      "source": [
        "annot"
      ],
      "metadata": {
        "colab": {
          "base_uri": "https://localhost:8080/"
        },
        "id": "x1Wj6ueOdMW5",
        "outputId": "54733b1a-4674-4fbf-c913-35626e6b9c81"
      },
      "execution_count": 19,
      "outputs": [
        {
          "output_type": "execute_result",
          "data": {
            "text/plain": [
              "['data[2, :, :]', 'data[:, 2, :]', 'data[:, :, 2]']"
            ]
          },
          "metadata": {},
          "execution_count": 19
        }
      ]
    },
    {
      "cell_type": "code",
      "source": [
        "mono = FontProperties()"
      ],
      "metadata": {
        "id": "3f_ZtvZYbcvB"
      },
      "execution_count": 20,
      "outputs": []
    },
    {
      "cell_type": "code",
      "source": [
        "mono"
      ],
      "metadata": {
        "colab": {
          "base_uri": "https://localhost:8080/"
        },
        "id": "q5amEDLYlLus",
        "outputId": "12d7551e-5874-45a4-baec-9f7b677571ff"
      },
      "execution_count": 21,
      "outputs": [
        {
          "output_type": "execute_result",
          "data": {
            "text/plain": [
              "<matplotlib.font_manager.FontProperties at 0x7fb0698fdfd0>"
            ]
          },
          "metadata": {},
          "execution_count": 21
        }
      ]
    },
    {
      "cell_type": "code",
      "source": [
        "mono.set_family('monospace')"
      ],
      "metadata": {
        "id": "-3CXEFwZlMPP"
      },
      "execution_count": 22,
      "outputs": []
    },
    {
      "cell_type": "code",
      "source": [
        "mono"
      ],
      "metadata": {
        "colab": {
          "base_uri": "https://localhost:8080/"
        },
        "id": "A-Li-F78lMR6",
        "outputId": "27f1bc14-7359-414a-e1c3-1e350c0aed5c"
      },
      "execution_count": 23,
      "outputs": [
        {
          "output_type": "execute_result",
          "data": {
            "text/plain": [
              "<matplotlib.font_manager.FontProperties at 0x7fb0698fdfd0>"
            ]
          },
          "metadata": {},
          "execution_count": 23
        }
      ]
    },
    {
      "cell_type": "code",
      "source": [
        "fig, axs = plt.subplots(ncols=3, figsize=(15,3), facecolor='w')"
      ],
      "metadata": {
        "id": "yXtSsXmllMUh"
      },
      "execution_count": 24,
      "outputs": []
    },
    {
      "cell_type": "code",
      "source": [
        "fig"
      ],
      "metadata": {
        "colab": {
          "base_uri": "https://localhost:8080/",
          "height": 162
        },
        "id": "bzW1WFxAlj9V",
        "outputId": "1fefdf15-ba93-4d58-90bb-9aa19e5f019e"
      },
      "execution_count": 25,
      "outputs": [
        {
          "output_type": "execute_result",
          "data": {
            "text/plain": [
              "<Figure size 1080x216 with 3 Axes>"
            ],
            "image/png": "[encoded data removed]"
          },
          "metadata": {},
          "execution_count": 25
        }
      ]
    },
    {
      "cell_type": "code",
      "source": [
        "axs"
      ],
      "metadata": {
        "colab": {
          "base_uri": "https://localhost:8080/"
        },
        "id": "XOt-MEitlkAA",
        "outputId": "d310bc2a-3f60-4495-b507-a78bf76c8335"
      },
      "execution_count": 26,
      "outputs": [
        {
          "output_type": "execute_result",
          "data": {
            "text/plain": [
              "array([<matplotlib.axes._subplots.AxesSubplot object at 0x7fb0698fd710>,\n",
              "       <matplotlib.axes._subplots.AxesSubplot object at 0x7fb069686ed0>,\n",
              "       <matplotlib.axes._subplots.AxesSubplot object at 0x7fb06964d4d0>],\n",
              "      dtype=object)"
            ]
          },
          "metadata": {},
          "execution_count": 26
        }
      ]
    },
    {
      "cell_type": "code",
      "source": [
        "for i, ax in enumerate(axs):\n",
        "    data = idx[i, :5, :5, :5].ravel(order='C')\n",
        "    ax.plot(data, c=f'C{i}')\n",
        "    ax.scatter(np.where(data==2), data[data==2], color='r', s=10, zorder=10)\n",
        "    "
      ],
      "metadata": {
        "id": "p-F6EE5alkCm"
      },
      "execution_count": 27,
      "outputs": []
    },
    {
      "cell_type": "code",
      "source": [
        "data"
      ],
      "metadata": {
        "colab": {
          "base_uri": "https://localhost:8080/"
        },
        "id": "w7uZI8sJ7khH",
        "outputId": "c787305f-f4e5-4e82-dd14-415a7c5be393"
      },
      "execution_count": 28,
      "outputs": [
        {
          "output_type": "execute_result",
          "data": {
            "text/plain": [
              "array([0, 1, 2, 3, 4, 0, 1, 2, 3, 4, 0, 1, 2, 3, 4, 0, 1, 2, 3, 4, 0, 1,\n",
              "       2, 3, 4, 0, 1, 2, 3, 4, 0, 1, 2, 3, 4, 0, 1, 2, 3, 4, 0, 1, 2, 3,\n",
              "       4, 0, 1, 2, 3, 4, 0, 1, 2, 3, 4, 0, 1, 2, 3, 4, 0, 1, 2, 3, 4, 0,\n",
              "       1, 2, 3, 4, 0, 1, 2, 3, 4, 0, 1, 2, 3, 4, 0, 1, 2, 3, 4, 0, 1, 2,\n",
              "       3, 4, 0, 1, 2, 3, 4, 0, 1, 2, 3, 4, 0, 1, 2, 3, 4, 0, 1, 2, 3, 4,\n",
              "       0, 1, 2, 3, 4, 0, 1, 2, 3, 4, 0, 1, 2, 3, 4])"
            ]
          },
          "metadata": {},
          "execution_count": 28
        }
      ]
    },
    {
      "cell_type": "code",
      "source": [
        "data_ax0 = idx[0, :5, :5, :5]"
      ],
      "metadata": {
        "id": "lR6Pe7F2lkF8"
      },
      "execution_count": 29,
      "outputs": []
    },
    {
      "cell_type": "code",
      "source": [
        "data_ax0"
      ],
      "metadata": {
        "colab": {
          "base_uri": "https://localhost:8080/"
        },
        "id": "rKcvVlbxlkIq",
        "outputId": "00c3f2dc-988c-4113-d3fa-301b8475a946"
      },
      "execution_count": 30,
      "outputs": [
        {
          "output_type": "execute_result",
          "data": {
            "text/plain": [
              "array([[[0, 0, 0, 0, 0],\n",
              "        [0, 0, 0, 0, 0],\n",
              "        [0, 0, 0, 0, 0],\n",
              "        [0, 0, 0, 0, 0],\n",
              "        [0, 0, 0, 0, 0]],\n",
              "\n",
              "       [[1, 1, 1, 1, 1],\n",
              "        [1, 1, 1, 1, 1],\n",
              "        [1, 1, 1, 1, 1],\n",
              "        [1, 1, 1, 1, 1],\n",
              "        [1, 1, 1, 1, 1]],\n",
              "\n",
              "       [[2, 2, 2, 2, 2],\n",
              "        [2, 2, 2, 2, 2],\n",
              "        [2, 2, 2, 2, 2],\n",
              "        [2, 2, 2, 2, 2],\n",
              "        [2, 2, 2, 2, 2]],\n",
              "\n",
              "       [[3, 3, 3, 3, 3],\n",
              "        [3, 3, 3, 3, 3],\n",
              "        [3, 3, 3, 3, 3],\n",
              "        [3, 3, 3, 3, 3],\n",
              "        [3, 3, 3, 3, 3]],\n",
              "\n",
              "       [[4, 4, 4, 4, 4],\n",
              "        [4, 4, 4, 4, 4],\n",
              "        [4, 4, 4, 4, 4],\n",
              "        [4, 4, 4, 4, 4],\n",
              "        [4, 4, 4, 4, 4]]])"
            ]
          },
          "metadata": {},
          "execution_count": 30
        }
      ]
    },
    {
      "cell_type": "code",
      "source": [
        "data_ax1 = idx[1, :5, :5, :5]\n",
        "data_ax1"
      ],
      "metadata": {
        "colab": {
          "base_uri": "https://localhost:8080/"
        },
        "id": "JfLQzWfp6X_a",
        "outputId": "b2de74db-d0d2-4e9e-83be-d2829c03b0f7"
      },
      "execution_count": 31,
      "outputs": [
        {
          "output_type": "execute_result",
          "data": {
            "text/plain": [
              "array([[[0, 0, 0, 0, 0],\n",
              "        [1, 1, 1, 1, 1],\n",
              "        [2, 2, 2, 2, 2],\n",
              "        [3, 3, 3, 3, 3],\n",
              "        [4, 4, 4, 4, 4]],\n",
              "\n",
              "       [[0, 0, 0, 0, 0],\n",
              "        [1, 1, 1, 1, 1],\n",
              "        [2, 2, 2, 2, 2],\n",
              "        [3, 3, 3, 3, 3],\n",
              "        [4, 4, 4, 4, 4]],\n",
              "\n",
              "       [[0, 0, 0, 0, 0],\n",
              "        [1, 1, 1, 1, 1],\n",
              "        [2, 2, 2, 2, 2],\n",
              "        [3, 3, 3, 3, 3],\n",
              "        [4, 4, 4, 4, 4]],\n",
              "\n",
              "       [[0, 0, 0, 0, 0],\n",
              "        [1, 1, 1, 1, 1],\n",
              "        [2, 2, 2, 2, 2],\n",
              "        [3, 3, 3, 3, 3],\n",
              "        [4, 4, 4, 4, 4]],\n",
              "\n",
              "       [[0, 0, 0, 0, 0],\n",
              "        [1, 1, 1, 1, 1],\n",
              "        [2, 2, 2, 2, 2],\n",
              "        [3, 3, 3, 3, 3],\n",
              "        [4, 4, 4, 4, 4]]])"
            ]
          },
          "metadata": {},
          "execution_count": 31
        }
      ]
    },
    {
      "cell_type": "code",
      "source": [
        "data_ax2 = idx[2, :5, :5, :5]\n",
        "data_ax2"
      ],
      "metadata": {
        "colab": {
          "base_uri": "https://localhost:8080/"
        },
        "id": "Y0uFYgMX6riL",
        "outputId": "28527e52-347d-4545-8088-e2189b0b55e5"
      },
      "execution_count": 32,
      "outputs": [
        {
          "output_type": "execute_result",
          "data": {
            "text/plain": [
              "array([[[0, 1, 2, 3, 4],\n",
              "        [0, 1, 2, 3, 4],\n",
              "        [0, 1, 2, 3, 4],\n",
              "        [0, 1, 2, 3, 4],\n",
              "        [0, 1, 2, 3, 4]],\n",
              "\n",
              "       [[0, 1, 2, 3, 4],\n",
              "        [0, 1, 2, 3, 4],\n",
              "        [0, 1, 2, 3, 4],\n",
              "        [0, 1, 2, 3, 4],\n",
              "        [0, 1, 2, 3, 4]],\n",
              "\n",
              "       [[0, 1, 2, 3, 4],\n",
              "        [0, 1, 2, 3, 4],\n",
              "        [0, 1, 2, 3, 4],\n",
              "        [0, 1, 2, 3, 4],\n",
              "        [0, 1, 2, 3, 4]],\n",
              "\n",
              "       [[0, 1, 2, 3, 4],\n",
              "        [0, 1, 2, 3, 4],\n",
              "        [0, 1, 2, 3, 4],\n",
              "        [0, 1, 2, 3, 4],\n",
              "        [0, 1, 2, 3, 4]],\n",
              "\n",
              "       [[0, 1, 2, 3, 4],\n",
              "        [0, 1, 2, 3, 4],\n",
              "        [0, 1, 2, 3, 4],\n",
              "        [0, 1, 2, 3, 4],\n",
              "        [0, 1, 2, 3, 4]]])"
            ]
          },
          "metadata": {},
          "execution_count": 32
        }
      ]
    },
    {
      "cell_type": "code",
      "source": [
        "data_c = data.ravel(order='C')\n",
        "data_c"
      ],
      "metadata": {
        "colab": {
          "base_uri": "https://localhost:8080/"
        },
        "id": "jlywI3yTlkLC",
        "outputId": "b16df7d3-e00b-4bcd-de1f-65c92a03afea"
      },
      "execution_count": 33,
      "outputs": [
        {
          "output_type": "execute_result",
          "data": {
            "text/plain": [
              "array([0, 1, 2, 3, 4, 0, 1, 2, 3, 4, 0, 1, 2, 3, 4, 0, 1, 2, 3, 4, 0, 1,\n",
              "       2, 3, 4, 0, 1, 2, 3, 4, 0, 1, 2, 3, 4, 0, 1, 2, 3, 4, 0, 1, 2, 3,\n",
              "       4, 0, 1, 2, 3, 4, 0, 1, 2, 3, 4, 0, 1, 2, 3, 4, 0, 1, 2, 3, 4, 0,\n",
              "       1, 2, 3, 4, 0, 1, 2, 3, 4, 0, 1, 2, 3, 4, 0, 1, 2, 3, 4, 0, 1, 2,\n",
              "       3, 4, 0, 1, 2, 3, 4, 0, 1, 2, 3, 4, 0, 1, 2, 3, 4, 0, 1, 2, 3, 4,\n",
              "       0, 1, 2, 3, 4, 0, 1, 2, 3, 4, 0, 1, 2, 3, 4])"
            ]
          },
          "metadata": {},
          "execution_count": 33
        }
      ]
    },
    {
      "cell_type": "code",
      "source": [
        "data_f = data.ravel(order='F')\n",
        "data_f"
      ],
      "metadata": {
        "colab": {
          "base_uri": "https://localhost:8080/"
        },
        "id": "oj_8OycxlkNq",
        "outputId": "e8a846f0-5e0d-430f-f9e6-3ad2de09e816"
      },
      "execution_count": 34,
      "outputs": [
        {
          "output_type": "execute_result",
          "data": {
            "text/plain": [
              "array([0, 1, 2, 3, 4, 0, 1, 2, 3, 4, 0, 1, 2, 3, 4, 0, 1, 2, 3, 4, 0, 1,\n",
              "       2, 3, 4, 0, 1, 2, 3, 4, 0, 1, 2, 3, 4, 0, 1, 2, 3, 4, 0, 1, 2, 3,\n",
              "       4, 0, 1, 2, 3, 4, 0, 1, 2, 3, 4, 0, 1, 2, 3, 4, 0, 1, 2, 3, 4, 0,\n",
              "       1, 2, 3, 4, 0, 1, 2, 3, 4, 0, 1, 2, 3, 4, 0, 1, 2, 3, 4, 0, 1, 2,\n",
              "       3, 4, 0, 1, 2, 3, 4, 0, 1, 2, 3, 4, 0, 1, 2, 3, 4, 0, 1, 2, 3, 4,\n",
              "       0, 1, 2, 3, 4, 0, 1, 2, 3, 4, 0, 1, 2, 3, 4])"
            ]
          },
          "metadata": {},
          "execution_count": 34
        }
      ]
    },
    {
      "cell_type": "code",
      "source": [
        "data = idx[i, :5, :5, :5].ravel(order='C')"
      ],
      "metadata": {
        "id": "RVCwIHnkaC1m"
      },
      "execution_count": 35,
      "outputs": []
    },
    {
      "cell_type": "code",
      "source": [
        "data"
      ],
      "metadata": {
        "colab": {
          "base_uri": "https://localhost:8080/"
        },
        "id": "OuGfLIw5aLoJ",
        "outputId": "af03ca71-7f03-4192-a341-7fddf30189d0"
      },
      "execution_count": 36,
      "outputs": [
        {
          "output_type": "execute_result",
          "data": {
            "text/plain": [
              "array([0, 1, 2, 3, 4, 0, 1, 2, 3, 4, 0, 1, 2, 3, 4, 0, 1, 2, 3, 4, 0, 1,\n",
              "       2, 3, 4, 0, 1, 2, 3, 4, 0, 1, 2, 3, 4, 0, 1, 2, 3, 4, 0, 1, 2, 3,\n",
              "       4, 0, 1, 2, 3, 4, 0, 1, 2, 3, 4, 0, 1, 2, 3, 4, 0, 1, 2, 3, 4, 0,\n",
              "       1, 2, 3, 4, 0, 1, 2, 3, 4, 0, 1, 2, 3, 4, 0, 1, 2, 3, 4, 0, 1, 2,\n",
              "       3, 4, 0, 1, 2, 3, 4, 0, 1, 2, 3, 4, 0, 1, 2, 3, 4, 0, 1, 2, 3, 4,\n",
              "       0, 1, 2, 3, 4, 0, 1, 2, 3, 4, 0, 1, 2, 3, 4])"
            ]
          },
          "metadata": {},
          "execution_count": 36
        }
      ]
    },
    {
      "cell_type": "code",
      "source": [
        "# ax.plot(data, c=f'C0')"
      ],
      "metadata": {
        "id": "1r6MN1JxlkQA"
      },
      "execution_count": 37,
      "outputs": []
    },
    {
      "cell_type": "code",
      "source": [
        "# ax.scatter(np.where(data==2), data[data==2], color='r', s=10, zorder=10)"
      ],
      "metadata": {
        "id": "_K04Ux7elkSe"
      },
      "execution_count": 38,
      "outputs": []
    },
    {
      "cell_type": "code",
      "source": [
        "# ax.text(65, 4.3, 'axis 0', color='C0', size=15, ha='center')"
      ],
      "metadata": {
        "id": "no3_Ezi_lkWR"
      },
      "execution_count": 39,
      "outputs": []
    },
    {
      "cell_type": "markdown",
      "source": [
        "\"CN\" color spec where 'C' precedes a number acting as an index into the default property cycle.  \n",
        "https://matplotlib.org/stable/tutorials/colors/colors.html"
      ],
      "metadata": {
        "id": "xxDjmV--lMXE"
      }
    },
    {
      "cell_type": "code",
      "source": [
        "# ax.text(65, -0.7, annot[0], color='red', size=12, ha='center', fontproperties=mono)"
      ],
      "metadata": {
        "id": "mU_a1mSTlMaL"
      },
      "execution_count": 40,
      "outputs": []
    },
    {
      "cell_type": "code",
      "source": [
        "ax.set_ylim(-1, 5)"
      ],
      "metadata": {
        "id": "Rj1m5qjHlMdC",
        "colab": {
          "base_uri": "https://localhost:8080/"
        },
        "outputId": "9183a3fa-28e2-470b-8dfc-db9159706606"
      },
      "execution_count": 41,
      "outputs": [
        {
          "output_type": "execute_result",
          "data": {
            "text/plain": [
              "(-1.0, 5.0)"
            ]
          },
          "metadata": {},
          "execution_count": 41
        }
      ]
    },
    {
      "cell_type": "code",
      "source": [],
      "metadata": {
        "id": "K1AcdJ-L08dl"
      },
      "execution_count": 41,
      "outputs": []
    },
    {
      "cell_type": "code",
      "source": [
        "for i, ax in enumerate(axs):\n",
        "    data = idx[i, :5, :5, :5].ravel(order='C')\n",
        "    ax.plot(data, c=f'C{i}')\n",
        "    ax.scatter(np.where(data==2), data[data==2], color='r', s=10, zorder=10)\n",
        "    ax.text(65, 4.3, f'axis {i}', color=f'C{i}', size=15, ha='center')\n",
        "    ax.text(65, -0.7, annot[i], color='red', size=12, ha='center', fontproperties=mono)\n",
        "    ax.set_ylim(-1, 5)"
      ],
      "metadata": {
        "id": "o8GDlAKe08om"
      },
      "execution_count": 42,
      "outputs": []
    },
    {
      "cell_type": "code",
      "source": [
        "_ = plt.suptitle(\"C order\", size=18)"
      ],
      "metadata": {
        "id": "QVHSXVdA4NB-"
      },
      "execution_count": 43,
      "outputs": []
    },
    {
      "cell_type": "code",
      "source": [
        "fig"
      ],
      "metadata": {
        "colab": {
          "base_uri": "https://localhost:8080/",
          "height": 177
        },
        "id": "xTiPkaX_08z0",
        "outputId": "42d59020-ee8c-4f4a-ffe9-fc2b57d8ffcd"
      },
      "execution_count": 44,
      "outputs": [
        {
          "output_type": "execute_result",
          "data": {
            "text/plain": [
              "<Figure size 1080x216 with 3 Axes>"
            ],
            "image/png": "[encoded data removed]"
          },
          "metadata": {},
          "execution_count": 44
        }
      ]
    },
    {
      "cell_type": "code",
      "source": [
        "plt.savefig(\"/drive/My Drive/Colab Notebooks/3d-array-corder.png\")"
      ],
      "metadata": {
        "id": "6GxYPoG-8LMm"
      },
      "execution_count": 45,
      "outputs": []
    },
    {
      "cell_type": "code",
      "source": [
        "for i, ax in enumerate(axs):\n",
        "    print(i, ax)"
      ],
      "metadata": {
        "colab": {
          "base_uri": "https://localhost:8080/"
        },
        "id": "lx1xPldx4shK",
        "outputId": "50771c8e-f7f9-45f5-8ed6-df2115b64e23"
      },
      "execution_count": 46,
      "outputs": [
        {
          "output_type": "stream",
          "name": "stdout",
          "text": [
            "0 AxesSubplot(0.125,0.125;0.227941x0.755)\n",
            "1 AxesSubplot(0.398529,0.125;0.227941x0.755)\n",
            "2 AxesSubplot(0.672059,0.125;0.227941x0.755)\n"
          ]
        }
      ]
    },
    {
      "cell_type": "code",
      "source": [
        "# tested the behaviors of np.indices in 'numpy.indices.ipynb'."
      ],
      "metadata": {
        "id": "_vxtDO-B4sm3"
      },
      "execution_count": 47,
      "outputs": []
    },
    {
      "cell_type": "code",
      "source": [
        "fig, axs = plt.subplots(ncols=3, figsize=(15, 3), facecolor='w')"
      ],
      "metadata": {
        "id": "hyTgYxqyPZkN"
      },
      "execution_count": 48,
      "outputs": []
    },
    {
      "cell_type": "code",
      "source": [
        "fig"
      ],
      "metadata": {
        "colab": {
          "base_uri": "https://localhost:8080/",
          "height": 162
        },
        "id": "xLG_K6e7PZsP",
        "outputId": "85f540d2-4fec-4a79-fc55-60edc066090d"
      },
      "execution_count": 49,
      "outputs": [
        {
          "output_type": "execute_result",
          "data": {
            "text/plain": [
              "<Figure size 1080x216 with 3 Axes>"
            ],
            "image/png": "[encoded data removed]"
          },
          "metadata": {},
          "execution_count": 49
        }
      ]
    },
    {
      "cell_type": "code",
      "source": [
        "axs"
      ],
      "metadata": {
        "colab": {
          "base_uri": "https://localhost:8080/"
        },
        "id": "-KCm5NLpZAqB",
        "outputId": "86092c57-4d7f-4363-92d1-214cb52eb66e"
      },
      "execution_count": 50,
      "outputs": [
        {
          "output_type": "execute_result",
          "data": {
            "text/plain": [
              "array([<matplotlib.axes._subplots.AxesSubplot object at 0x7fb068fe6890>,\n",
              "       <matplotlib.axes._subplots.AxesSubplot object at 0x7fb068ffda90>,\n",
              "       <matplotlib.axes._subplots.AxesSubplot object at 0x7fb068fe6250>],\n",
              "      dtype=object)"
            ]
          },
          "metadata": {},
          "execution_count": 50
        }
      ]
    },
    {
      "cell_type": "code",
      "source": [
        "for i, ax in enumerate(axs):\n",
        "    data = idx[i, :5, :5, :5].ravel(order='F')\n",
        "    ax.plot(data, c=f'C{i}')\n",
        "    ax.scatter(np.where(data==2), data[data==2], color='r', s=10, zorder=10)\n",
        "    ax.text(65, 4.3, f'axis {i}', color=f'C{i}', size=15, ha='center')\n",
        "    ax.text(65, -0.7, annot[i], color='red', size=12, ha='center', fontproperties=mono)\n",
        "    ax.set_ylim(-1, 5)\n",
        "_ = plt.suptitle(\"Fortran order\", size=18)\n",
        "plt.savefig('/drive/My Drive/Colab Notebooks/3d-array-forder.png')"
      ],
      "metadata": {
        "id": "2zR2wNPPZA15"
      },
      "execution_count": 51,
      "outputs": []
    },
    {
      "cell_type": "code",
      "source": [
        "fig"
      ],
      "metadata": {
        "id": "QBqcnGxWZBBG",
        "colab": {
          "base_uri": "https://localhost:8080/",
          "height": 177
        },
        "outputId": "69d4911d-3d1b-45b3-9ac2-444ecfd591f4"
      },
      "execution_count": 52,
      "outputs": [
        {
          "output_type": "execute_result",
          "data": {
            "text/plain": [
              "<Figure size 1080x216 with 3 Axes>"
            ],
            "image/png": "[encoded data removed]"
          },
          "metadata": {},
          "execution_count": 52
        }
      ]
    },
    {
      "cell_type": "code",
      "source": [
        "fig_together = plt.figure(figsize=(15, 3))\n",
        "plt.plot(idx[0, :5, :5, :5].ravel(), zorder=10)\n",
        "plt.plot(idx[1, :5, :5, :5].ravel(), zorder=9)\n",
        "plt.plot(idx[2, :5, :5, :5].ravel(), zorder=8)"
      ],
      "metadata": {
        "id": "2ha_9_ZlZBJB",
        "colab": {
          "base_uri": "https://localhost:8080/"
        },
        "outputId": "7aba5165-1b8f-482a-a436-a392fa1a2baa"
      },
      "execution_count": 53,
      "outputs": [
        {
          "output_type": "execute_result",
          "data": {
            "text/plain": [
              "[<matplotlib.lines.Line2D at 0x7fb068e71e10>]"
            ]
          },
          "metadata": {},
          "execution_count": 53
        }
      ]
    },
    {
      "cell_type": "code",
      "source": [
        "fig_together"
      ],
      "metadata": {
        "id": "sIXBcAPVZBSN",
        "colab": {
          "base_uri": "https://localhost:8080/",
          "height": 162
        },
        "outputId": "b107b455-1ea1-4d34-ea38-d50e67f3b9b2"
      },
      "execution_count": 54,
      "outputs": [
        {
          "output_type": "execute_result",
          "data": {
            "text/plain": [
              "<Figure size 1080x216 with 1 Axes>"
            ],
            "image/png": "[encoded data removed]"
          },
          "metadata": {},
          "execution_count": 54
        }
      ]
    },
    {
      "cell_type": "code",
      "source": [
        "volume.strides"
      ],
      "metadata": {
        "id": "cT-aZurfZBbG",
        "colab": {
          "base_uri": "https://localhost:8080/"
        },
        "outputId": "e7413139-b128-45eb-c8d3-7cb88d47f4a1"
      },
      "execution_count": 55,
      "outputs": [
        {
          "output_type": "execute_result",
          "data": {
            "text/plain": [
              "(269698, 902, 2)"
            ]
          },
          "metadata": {},
          "execution_count": 55
        }
      ]
    },
    {
      "cell_type": "markdown",
      "source": [
        "# Aside: figure for blog post"
      ],
      "metadata": {
        "id": "IhOaNdTMZBhv"
      }
    },
    {
      "cell_type": "code",
      "source": [
        "fig, axs = plt.subplots(ncols=2, figsize=(10,3), facecolor='w')"
      ],
      "metadata": {
        "id": "8VD9hMO0AOtd"
      },
      "execution_count": 56,
      "outputs": []
    },
    {
      "cell_type": "code",
      "source": [
        "fig"
      ],
      "metadata": {
        "colab": {
          "base_uri": "https://localhost:8080/",
          "height": 215
        },
        "id": "Nx8g9eO-AOwd",
        "outputId": "46eb8461-fa2c-4fe8-b1b8-e02afd957046"
      },
      "execution_count": 57,
      "outputs": [
        {
          "output_type": "execute_result",
          "data": {
            "text/plain": [
              "<Figure size 720x216 with 2 Axes>"
            ],
            "image/png": "[encoded data removed]"
          },
          "metadata": {},
          "execution_count": 57
        }
      ]
    },
    {
      "cell_type": "code",
      "source": [
        "for i, ax in enumerate(axs):\n",
        "    data = idx[i, :3, :3, 0].ravel(order='C')\n",
        "    ax.plot(data, 'o-', c='gray')\n",
        "    ax.text(0, 1.8, f'axis {i}', color='gray', size=15, ha='left')\n",
        "plt.savefig('/drive/My Drive/Colab Notebooks/2d-array-corder.png')"
      ],
      "metadata": {
        "id": "_QAZquadAOzO"
      },
      "execution_count": 58,
      "outputs": []
    },
    {
      "cell_type": "code",
      "source": [
        "fig"
      ],
      "metadata": {
        "colab": {
          "base_uri": "https://localhost:8080/",
          "height": 211
        },
        "id": "GKZwblCYAO17",
        "outputId": "06eaebd7-6785-4757-aff1-a7bfcbddba32"
      },
      "execution_count": 59,
      "outputs": [
        {
          "output_type": "execute_result",
          "data": {
            "text/plain": [
              "<Figure size 720x216 with 2 Axes>"
            ],
            "image/png": "[encoded data removed]"
          },
          "metadata": {},
          "execution_count": 59
        }
      ]
    },
    {
      "cell_type": "code",
      "source": [
        "idx[0, :3, :3, :3]"
      ],
      "metadata": {
        "colab": {
          "base_uri": "https://localhost:8080/"
        },
        "id": "0a6i3Y4-Cr1-",
        "outputId": "4260f5d0-e765-467b-9cc9-e07a5e45f15d"
      },
      "execution_count": 60,
      "outputs": [
        {
          "output_type": "execute_result",
          "data": {
            "text/plain": [
              "array([[[0, 0, 0],\n",
              "        [0, 0, 0],\n",
              "        [0, 0, 0]],\n",
              "\n",
              "       [[1, 1, 1],\n",
              "        [1, 1, 1],\n",
              "        [1, 1, 1]],\n",
              "\n",
              "       [[2, 2, 2],\n",
              "        [2, 2, 2],\n",
              "        [2, 2, 2]]])"
            ]
          },
          "metadata": {},
          "execution_count": 60
        }
      ]
    },
    {
      "cell_type": "code",
      "source": [
        "idx[0, :3, :3, :3].ravel(order='C')"
      ],
      "metadata": {
        "id": "hhQ9wXAgPZyM",
        "colab": {
          "base_uri": "https://localhost:8080/"
        },
        "outputId": "d9454aac-5e83-42e2-b791-71abaf903705"
      },
      "execution_count": 61,
      "outputs": [
        {
          "output_type": "execute_result",
          "data": {
            "text/plain": [
              "array([0, 0, 0, 0, 0, 0, 0, 0, 0, 1, 1, 1, 1, 1, 1, 1, 1, 1, 2, 2, 2, 2,\n",
              "       2, 2, 2, 2, 2])"
            ]
          },
          "metadata": {},
          "execution_count": 61
        }
      ]
    },
    {
      "cell_type": "code",
      "source": [
        "idx[1, :3, :3, :3]"
      ],
      "metadata": {
        "colab": {
          "base_uri": "https://localhost:8080/"
        },
        "id": "lIiXTaAPCt6l",
        "outputId": "026ca538-6eca-409d-bc28-c21b84463bd9"
      },
      "execution_count": 62,
      "outputs": [
        {
          "output_type": "execute_result",
          "data": {
            "text/plain": [
              "array([[[0, 0, 0],\n",
              "        [1, 1, 1],\n",
              "        [2, 2, 2]],\n",
              "\n",
              "       [[0, 0, 0],\n",
              "        [1, 1, 1],\n",
              "        [2, 2, 2]],\n",
              "\n",
              "       [[0, 0, 0],\n",
              "        [1, 1, 1],\n",
              "        [2, 2, 2]]])"
            ]
          },
          "metadata": {},
          "execution_count": 62
        }
      ]
    },
    {
      "cell_type": "code",
      "source": [
        "idx[1, :3, :3, :3].ravel(order='C')"
      ],
      "metadata": {
        "id": "apuMvyBuPZ5P",
        "colab": {
          "base_uri": "https://localhost:8080/"
        },
        "outputId": "15692671-d02a-47a6-b7c9-3c1ecdda8f3f"
      },
      "execution_count": 63,
      "outputs": [
        {
          "output_type": "execute_result",
          "data": {
            "text/plain": [
              "array([0, 0, 0, 1, 1, 1, 2, 2, 2, 0, 0, 0, 1, 1, 1, 2, 2, 2, 0, 0, 0, 1,\n",
              "       1, 1, 2, 2, 2])"
            ]
          },
          "metadata": {},
          "execution_count": 63
        }
      ]
    },
    {
      "cell_type": "code",
      "source": [
        "idx[2, :3, :3, :3]"
      ],
      "metadata": {
        "colab": {
          "base_uri": "https://localhost:8080/"
        },
        "id": "cBoELOYXCv-K",
        "outputId": "78cf0aed-7354-4178-d7aa-6596ea2dede0"
      },
      "execution_count": 64,
      "outputs": [
        {
          "output_type": "execute_result",
          "data": {
            "text/plain": [
              "array([[[0, 1, 2],\n",
              "        [0, 1, 2],\n",
              "        [0, 1, 2]],\n",
              "\n",
              "       [[0, 1, 2],\n",
              "        [0, 1, 2],\n",
              "        [0, 1, 2]],\n",
              "\n",
              "       [[0, 1, 2],\n",
              "        [0, 1, 2],\n",
              "        [0, 1, 2]]])"
            ]
          },
          "metadata": {},
          "execution_count": 64
        }
      ]
    },
    {
      "cell_type": "code",
      "source": [
        "idx[2, :3, :3, :3].ravel(order='C')"
      ],
      "metadata": {
        "id": "z1-PQmZaPZ_W",
        "colab": {
          "base_uri": "https://localhost:8080/"
        },
        "outputId": "c2297f49-b172-4b01-8703-b52dd5a9137a"
      },
      "execution_count": 65,
      "outputs": [
        {
          "output_type": "execute_result",
          "data": {
            "text/plain": [
              "array([0, 1, 2, 0, 1, 2, 0, 1, 2, 0, 1, 2, 0, 1, 2, 0, 1, 2, 0, 1, 2, 0,\n",
              "       1, 2, 0, 1, 2])"
            ]
          },
          "metadata": {},
          "execution_count": 65
        }
      ]
    },
    {
      "cell_type": "markdown",
      "source": [
        "#Accessing the seismic data"
      ],
      "metadata": {
        "id": "ITM5CtkfCpUY"
      }
    },
    {
      "cell_type": "markdown",
      "source": [
        "## ndarray.strides\n",
        "\n",
        "numpy.ndarray.strides  \n",
        "https://numpy.org/doc/stable/reference/generated/numpy.ndarray.strides.html\n",
        "\n",
        "Bits and Bytes  \n",
        "https://web.stanford.edu/class/cs101/bits-bytes.html\n",
        "\n",
        "2,147,483,647  \n",
        "https://en.wikipedia.org/wiki/2,147,483,647#:~:text=The%20number%202%2C147%2C483%2C647%20(or%20hexadecimal,int%20)%20in%20many%20programming%20languages.\n",
        "\n",
        "Gangnam Style overflows INT_MAX, forces YouTube to go 64-bit  \n",
        "https://arstechnica.com/information-technology/2014/12/gangnam-style-overflows-int_max-forces-youtube-to-go-64-bit/\n",
        "\n",
        "メルセンヌ素数  \n",
        "https://ja.wikipedia.org/wiki/%E3%83%A1%E3%83%AB%E3%82%BB%E3%83%B3%E3%83%8C%E6%95%B0"
      ],
      "metadata": {
        "id": "zZLTa33_Cyyn"
      }
    },
    {
      "cell_type": "markdown",
      "source": [
        "Let's make all the dimensions the same, to avoid having to slice later. I'll make a copy, otherwise we'll have a view of the original array.\n",
        "\n",
        "Alternatively, change the shape here to see effect of small dimensions, eg `try volume = volume[:10, :290, :290]` with C ordering."
      ],
      "metadata": {
        "id": "kUZgfrcXCy1T"
      }
    },
    {
      "cell_type": "markdown",
      "source": [
        "Python初心者向けJupyter NotebookでセルにMarkdown記法で入力する方法\n",
        "https://tonari-it.com/python-jupyter-notebook-markdown/"
      ],
      "metadata": {
        "id": "bHHRhWY7Cy4Z"
      }
    },
    {
      "cell_type": "code",
      "source": [
        "volume = volume[:190, :190, :190].copy()"
      ],
      "metadata": {
        "id": "4pLUZcBnCy7E"
      },
      "execution_count": 66,
      "outputs": []
    },
    {
      "cell_type": "code",
      "source": [
        "volume"
      ],
      "metadata": {
        "colab": {
          "base_uri": "https://localhost:8080/"
        },
        "id": "pbnuz9TXCy95",
        "outputId": "ee46c341-cb74-47b5-d38c-4ddd669ca27c"
      },
      "execution_count": 67,
      "outputs": [
        {
          "output_type": "execute_result",
          "data": {
            "text/plain": [
              "array([[[    0,     0,     0, ..., -1572, -2179,   -40],\n",
              "        [    0,     0,     0, ..., -3173, -1118,  1754],\n",
              "        [    0,     0,     0, ..., -3116,   440,  2874],\n",
              "        ...,\n",
              "        [    0,     0,     0, ...,  -203,   807,   272],\n",
              "        [ -407,  -407,  -407, ...,   901,   269,  -782],\n",
              "        [    0,     0,     0, ...,   482, -1240,  -676]],\n",
              "\n",
              "       [[-1018, -1018, -1018, ..., -1740, -2042,  1227],\n",
              "        [-1173, -1173, -1173, ..., -2627,  -414,  2853],\n",
              "        [ -417,  -417,  -417, ..., -2529,  -249,  2811],\n",
              "        ...,\n",
              "        [-1509, -1509, -1509, ...,   603,  -404,  -367],\n",
              "        [ -523,  -523,  -523, ...,  -258, -1396,  -163],\n",
              "        [ -886,  -886,  -886, ...,  -990, -1417,   798]],\n",
              "\n",
              "       [[ -425,  -425,  -425, ..., -1520, -3207,  1019],\n",
              "        [  -42,   -42,   -42, ..., -3645, -1818,  3129],\n",
              "        [ -443,  -443,  -443, ..., -2935,   282,  3299],\n",
              "        ...,\n",
              "        [ -681,  -681,  -681, ...,   335,  -630,     3],\n",
              "        [    0,     0,     0, ...,  -636, -1403,   649],\n",
              "        [ -415,  -415,  -415, ..., -1719,  -993,  2022]],\n",
              "\n",
              "       ...,\n",
              "\n",
              "       [[    0,     0,     0, ..., -1848, -2099, -1249],\n",
              "        [    0,     0,     0, ..., -1574, -2024,   169],\n",
              "        [    0,     0,     0, ..., -2035, -1744,  2358],\n",
              "        ...,\n",
              "        [    0,     0,     0, ...,  1477,   956,   725],\n",
              "        [    0,     0,     0, ...,  1350,   763,   315],\n",
              "        [    0,     0,     0, ...,  1657,  1143,   480]],\n",
              "\n",
              "       [[  -91,   -91,   -91, ...,  -881, -1555, -1101],\n",
              "        [  194,   194,   194, ...,  -966, -1957,   620],\n",
              "        [    0,     0,     0, ..., -1896,  -429,  3099],\n",
              "        ...,\n",
              "        [ -566,  -566,  -566, ...,  1790,  1609,   209],\n",
              "        [-1106, -1106, -1106, ...,  1791,  1681,   657],\n",
              "        [-1004, -1004, -1004, ...,  1454,  1213,   938]],\n",
              "\n",
              "       [[    0,     0,     0, ..., -2030, -1509,   564],\n",
              "        [    0,     0,     0, ..., -2425, -1344,  2379],\n",
              "        [    0,     0,     0, ..., -3310,   109,  5285],\n",
              "        ...,\n",
              "        [ -587,  -587,  -587, ...,  1434,  1050,  -393],\n",
              "        [ -799,  -799,  -799, ...,  1223,  1365,    13],\n",
              "        [-1067, -1067, -1067, ...,  1036,   830,   613]]], dtype=int16)"
            ]
          },
          "metadata": {},
          "execution_count": 67
        }
      ]
    },
    {
      "cell_type": "code",
      "source": [
        "volume.shape"
      ],
      "metadata": {
        "colab": {
          "base_uri": "https://localhost:8080/"
        },
        "id": "9nagNzRVDOBP",
        "outputId": "d571d6e5-ae80-4719-c24e-700220a6d436"
      },
      "execution_count": 68,
      "outputs": [
        {
          "output_type": "execute_result",
          "data": {
            "text/plain": [
              "(190, 190, 190)"
            ]
          },
          "metadata": {},
          "execution_count": 68
        }
      ]
    },
    {
      "cell_type": "code",
      "source": [
        "np.diff(volume.shape)"
      ],
      "metadata": {
        "colab": {
          "base_uri": "https://localhost:8080/"
        },
        "id": "BWQhdHCSDSPY",
        "outputId": "c4b6482f-76ac-4623-fac1-a13bec92fb9c"
      },
      "execution_count": 69,
      "outputs": [
        {
          "output_type": "execute_result",
          "data": {
            "text/plain": [
              "array([0, 0])"
            ]
          },
          "metadata": {},
          "execution_count": 69
        }
      ]
    },
    {
      "cell_type": "code",
      "source": [
        "np.sum(np.diff(volume.shape))"
      ],
      "metadata": {
        "colab": {
          "base_uri": "https://localhost:8080/"
        },
        "id": "TqMIvZUaDYyo",
        "outputId": "9400ba61-ea25-49d8-90bc-a3f16d96b4c4"
      },
      "execution_count": 70,
      "outputs": [
        {
          "output_type": "execute_result",
          "data": {
            "text/plain": [
              "0"
            ]
          },
          "metadata": {},
          "execution_count": 70
        }
      ]
    },
    {
      "cell_type": "markdown",
      "source": [
        "###np.sum  \n",
        "https://numpy.org/doc/stable/reference/generated/numpy.sum.html"
      ],
      "metadata": {
        "id": "90E9vHJNFIt7"
      }
    },
    {
      "cell_type": "code",
      "source": [
        "np.sum([0.9, 0.9], dtype=np.int32)"
      ],
      "metadata": {
        "colab": {
          "base_uri": "https://localhost:8080/"
        },
        "id": "pR1Q3Xj_FMlD",
        "outputId": "e91a3ea0-ef83-486d-f631-7bbd50237421"
      },
      "execution_count": 71,
      "outputs": [
        {
          "output_type": "execute_result",
          "data": {
            "text/plain": [
              "0"
            ]
          },
          "metadata": {},
          "execution_count": 71
        }
      ]
    },
    {
      "cell_type": "code",
      "source": [
        "np.sum([0.9, 0.9, 0.9], dtype=np.int32)"
      ],
      "metadata": {
        "colab": {
          "base_uri": "https://localhost:8080/"
        },
        "id": "8WTBq6EDFTPQ",
        "outputId": "ba45f3ed-6eab-4f3f-fb02-71f14c03233c"
      },
      "execution_count": 72,
      "outputs": [
        {
          "output_type": "execute_result",
          "data": {
            "text/plain": [
              "0"
            ]
          },
          "metadata": {},
          "execution_count": 72
        }
      ]
    },
    {
      "cell_type": "code",
      "source": [
        "np.sum([0.9, 0.9, 1.9, 1.9], dtype=np.int32)"
      ],
      "metadata": {
        "colab": {
          "base_uri": "https://localhost:8080/"
        },
        "id": "SNlt6MlAFZ5b",
        "outputId": "e80c37fc-e339-43c6-f1a8-c1ff00cd5590"
      },
      "execution_count": 73,
      "outputs": [
        {
          "output_type": "execute_result",
          "data": {
            "text/plain": [
              "2"
            ]
          },
          "metadata": {},
          "execution_count": 73
        }
      ]
    },
    {
      "cell_type": "code",
      "source": [
        "np.sum([1.9], dtype=np.int32)"
      ],
      "metadata": {
        "colab": {
          "base_uri": "https://localhost:8080/"
        },
        "id": "G8G-0Cn-FiL2",
        "outputId": "acdae6fe-eabe-4bc5-f82f-940b8397d324"
      },
      "execution_count": 74,
      "outputs": [
        {
          "output_type": "execute_result",
          "data": {
            "text/plain": [
              "1"
            ]
          },
          "metadata": {},
          "execution_count": 74
        }
      ]
    },
    {
      "cell_type": "code",
      "source": [
        "np.sum([[0, 1], [0,5]])"
      ],
      "metadata": {
        "colab": {
          "base_uri": "https://localhost:8080/"
        },
        "id": "77QrxouBFuWh",
        "outputId": "3da447c6-2caa-49d3-a9fe-ea7c24dac108"
      },
      "execution_count": 75,
      "outputs": [
        {
          "output_type": "execute_result",
          "data": {
            "text/plain": [
              "6"
            ]
          },
          "metadata": {},
          "execution_count": 75
        }
      ]
    },
    {
      "cell_type": "code",
      "source": [
        "np.sum([[1, 2], [3, 4]])"
      ],
      "metadata": {
        "colab": {
          "base_uri": "https://localhost:8080/"
        },
        "id": "w-z9wNo6Fzis",
        "outputId": "42fc77c0-8755-48be-efe2-99d9fb702154"
      },
      "execution_count": 76,
      "outputs": [
        {
          "output_type": "execute_result",
          "data": {
            "text/plain": [
              "10"
            ]
          },
          "metadata": {},
          "execution_count": 76
        }
      ]
    },
    {
      "cell_type": "code",
      "source": [
        "np.sum([[1, 2], [3, 4, 5]])"
      ],
      "metadata": {
        "colab": {
          "base_uri": "https://localhost:8080/"
        },
        "id": "3Pc-tCvAFzmK",
        "outputId": "4921b064-3251-4c33-af4e-ac5dff8bee9f"
      },
      "execution_count": 77,
      "outputs": [
        {
          "output_type": "stream",
          "name": "stderr",
          "text": [
            "/usr/local/lib/python3.7/dist-packages/numpy/core/fromnumeric.py:86: VisibleDeprecationWarning: Creating an ndarray from ragged nested sequences (which is a list-or-tuple of lists-or-tuples-or ndarrays with different lengths or shapes) is deprecated. If you meant to do this, you must specify 'dtype=object' when creating the ndarray.\n",
            "  return ufunc.reduce(obj, axis, dtype, out, **passkwargs)\n"
          ]
        },
        {
          "output_type": "execute_result",
          "data": {
            "text/plain": [
              "[1, 2, 3, 4, 5]"
            ]
          },
          "metadata": {},
          "execution_count": 77
        }
      ]
    },
    {
      "cell_type": "code",
      "source": [
        "np.sum([[2, 3], [4, 5]])"
      ],
      "metadata": {
        "colab": {
          "base_uri": "https://localhost:8080/"
        },
        "id": "ezNVyaaiFzpG",
        "outputId": "6bc644b6-a615-48eb-a70d-cab2627b2ddf"
      },
      "execution_count": 78,
      "outputs": [
        {
          "output_type": "execute_result",
          "data": {
            "text/plain": [
              "14"
            ]
          },
          "metadata": {},
          "execution_count": 78
        }
      ]
    },
    {
      "cell_type": "code",
      "source": [
        "np.sum([[2, 3], [4, 5]], axis=0)"
      ],
      "metadata": {
        "colab": {
          "base_uri": "https://localhost:8080/"
        },
        "id": "2OkI_j3OHFJz",
        "outputId": "e1be9bb8-6aa9-433b-95a9-9d3457b8fedd"
      },
      "execution_count": 79,
      "outputs": [
        {
          "output_type": "execute_result",
          "data": {
            "text/plain": [
              "array([6, 8])"
            ]
          },
          "metadata": {},
          "execution_count": 79
        }
      ]
    },
    {
      "cell_type": "code",
      "source": [
        "np.sum([[2, 3], [4, 5]], axis=1)"
      ],
      "metadata": {
        "colab": {
          "base_uri": "https://localhost:8080/"
        },
        "id": "4v2Br1pwHEOx",
        "outputId": "0d487f0a-0ffa-4d36-a7ba-1f0f202f3fac"
      },
      "execution_count": 80,
      "outputs": [
        {
          "output_type": "execute_result",
          "data": {
            "text/plain": [
              "array([5, 9])"
            ]
          },
          "metadata": {},
          "execution_count": 80
        }
      ]
    },
    {
      "cell_type": "code",
      "source": [
        "np.sum([[0, 1], [np.nan, 5]], where=[False, True], axis=1)"
      ],
      "metadata": {
        "colab": {
          "base_uri": "https://localhost:8080/"
        },
        "id": "UPdnabwXFzse",
        "outputId": "b14d6adc-ed62-4b6a-8a15-043dc4dbc1ac"
      },
      "execution_count": 81,
      "outputs": [
        {
          "output_type": "execute_result",
          "data": {
            "text/plain": [
              "array([1., 5.])"
            ]
          },
          "metadata": {},
          "execution_count": 81
        }
      ]
    },
    {
      "cell_type": "code",
      "source": [],
      "metadata": {
        "id": "0Bt_eJoxHeGl"
      },
      "execution_count": 81,
      "outputs": []
    },
    {
      "cell_type": "code",
      "source": [],
      "metadata": {
        "id": "n5KleySaHdPT"
      },
      "execution_count": 81,
      "outputs": []
    },
    {
      "cell_type": "code",
      "source": [
        "def get_slice_3d(volume, x, axis, n=None):\n",
        "    \"\"\"\n",
        "    Naive function... but only works on 3 dimensions.\n",
        "    NB Using ellipses slows down last axis.\n",
        "    \"\"\"\n",
        "    # Force cube shape\n",
        "    if n is None and not np.sum(np.diff(volume.shape)):\n",
        "        n = np.min(volume.shape)\n",
        "    if axis == 0:\n",
        "        data = volume[x, :n, :n]\n",
        "    if axis == 1:\n",
        "        data = volume[:n, x, :n]\n",
        "    if axis == 2:\n",
        "        data = volume[:n, :n, x]\n",
        "    return data + 1"
      ],
      "metadata": {
        "id": "mtgzx-zpCzAV"
      },
      "execution_count": 82,
      "outputs": []
    },
    {
      "cell_type": "code",
      "source": [
        "get_slice_3d"
      ],
      "metadata": {
        "id": "cQKpIGU8DRnE",
        "colab": {
          "base_uri": "https://localhost:8080/"
        },
        "outputId": "874f2dd5-c2cc-4b89-eae6-870c2de93e2c"
      },
      "execution_count": 83,
      "outputs": [
        {
          "output_type": "execute_result",
          "data": {
            "text/plain": [
              "<function __main__.get_slice_3d(volume, x, axis, n=None)>"
            ]
          },
          "metadata": {},
          "execution_count": 83
        }
      ]
    },
    {
      "cell_type": "code",
      "source": [
        "%timeit get_slice_3d(volume, 150, axis=0)\n",
        "%timeit get_slice_3d(volume, 150, axis=1)\n",
        "%timeit get_slice_3d(volume, 150, axis=2)"
      ],
      "metadata": {
        "colab": {
          "base_uri": "https://localhost:8080/"
        },
        "id": "naPlyfDfI2zd",
        "outputId": "c74b1481-951c-483c-f509-82f31501ef8f"
      },
      "execution_count": 84,
      "outputs": [
        {
          "output_type": "stream",
          "name": "stdout",
          "text": [
            "25.6 µs ± 1.84 µs per loop (mean ± std. dev. of 7 runs, 10000 loops each)\n",
            "37 µs ± 1.24 µs per loop (mean ± std. dev. of 7 runs, 10000 loops each)\n",
            "143 µs ± 5.17 µs per loop (mean ± std. dev. of 7 runs, 10000 loops each)\n"
          ]
        }
      ]
    },
    {
      "cell_type": "code",
      "source": [
        "volumef = np.asfortranarray(volume)"
      ],
      "metadata": {
        "id": "bQ5ZPqfcI3R2"
      },
      "execution_count": 85,
      "outputs": []
    },
    {
      "cell_type": "code",
      "source": [
        "volumef"
      ],
      "metadata": {
        "colab": {
          "base_uri": "https://localhost:8080/"
        },
        "id": "podL7FjfJj7s",
        "outputId": "05ca1ca7-31b2-4da4-dae2-b41498cdeff5"
      },
      "execution_count": 86,
      "outputs": [
        {
          "output_type": "execute_result",
          "data": {
            "text/plain": [
              "array([[[    0,     0,     0, ..., -1572, -2179,   -40],\n",
              "        [    0,     0,     0, ..., -3173, -1118,  1754],\n",
              "        [    0,     0,     0, ..., -3116,   440,  2874],\n",
              "        ...,\n",
              "        [    0,     0,     0, ...,  -203,   807,   272],\n",
              "        [ -407,  -407,  -407, ...,   901,   269,  -782],\n",
              "        [    0,     0,     0, ...,   482, -1240,  -676]],\n",
              "\n",
              "       [[-1018, -1018, -1018, ..., -1740, -2042,  1227],\n",
              "        [-1173, -1173, -1173, ..., -2627,  -414,  2853],\n",
              "        [ -417,  -417,  -417, ..., -2529,  -249,  2811],\n",
              "        ...,\n",
              "        [-1509, -1509, -1509, ...,   603,  -404,  -367],\n",
              "        [ -523,  -523,  -523, ...,  -258, -1396,  -163],\n",
              "        [ -886,  -886,  -886, ...,  -990, -1417,   798]],\n",
              "\n",
              "       [[ -425,  -425,  -425, ..., -1520, -3207,  1019],\n",
              "        [  -42,   -42,   -42, ..., -3645, -1818,  3129],\n",
              "        [ -443,  -443,  -443, ..., -2935,   282,  3299],\n",
              "        ...,\n",
              "        [ -681,  -681,  -681, ...,   335,  -630,     3],\n",
              "        [    0,     0,     0, ...,  -636, -1403,   649],\n",
              "        [ -415,  -415,  -415, ..., -1719,  -993,  2022]],\n",
              "\n",
              "       ...,\n",
              "\n",
              "       [[    0,     0,     0, ..., -1848, -2099, -1249],\n",
              "        [    0,     0,     0, ..., -1574, -2024,   169],\n",
              "        [    0,     0,     0, ..., -2035, -1744,  2358],\n",
              "        ...,\n",
              "        [    0,     0,     0, ...,  1477,   956,   725],\n",
              "        [    0,     0,     0, ...,  1350,   763,   315],\n",
              "        [    0,     0,     0, ...,  1657,  1143,   480]],\n",
              "\n",
              "       [[  -91,   -91,   -91, ...,  -881, -1555, -1101],\n",
              "        [  194,   194,   194, ...,  -966, -1957,   620],\n",
              "        [    0,     0,     0, ..., -1896,  -429,  3099],\n",
              "        ...,\n",
              "        [ -566,  -566,  -566, ...,  1790,  1609,   209],\n",
              "        [-1106, -1106, -1106, ...,  1791,  1681,   657],\n",
              "        [-1004, -1004, -1004, ...,  1454,  1213,   938]],\n",
              "\n",
              "       [[    0,     0,     0, ..., -2030, -1509,   564],\n",
              "        [    0,     0,     0, ..., -2425, -1344,  2379],\n",
              "        [    0,     0,     0, ..., -3310,   109,  5285],\n",
              "        ...,\n",
              "        [ -587,  -587,  -587, ...,  1434,  1050,  -393],\n",
              "        [ -799,  -799,  -799, ...,  1223,  1365,    13],\n",
              "        [-1067, -1067, -1067, ...,  1036,   830,   613]]], dtype=int16)"
            ]
          },
          "metadata": {},
          "execution_count": 86
        }
      ]
    },
    {
      "cell_type": "code",
      "source": [],
      "metadata": {
        "id": "16kX19sFJyx2"
      },
      "execution_count": 86,
      "outputs": []
    },
    {
      "cell_type": "markdown",
      "source": [
        "###np.diff  \n",
        "https://numpy.org/doc/stable/reference/generated/numpy.diff.html"
      ],
      "metadata": {
        "id": "tmAhddj7CzDO"
      }
    },
    {
      "cell_type": "code",
      "source": [
        "x = np.array([1, 2, 4, 7, 0])"
      ],
      "metadata": {
        "id": "rnjKX0DLG3iH"
      },
      "execution_count": 87,
      "outputs": []
    },
    {
      "cell_type": "code",
      "source": [
        "x"
      ],
      "metadata": {
        "colab": {
          "base_uri": "https://localhost:8080/"
        },
        "id": "d8boj5X8HCNm",
        "outputId": "b070787c-ccb8-460b-a47c-c717692ec61e"
      },
      "execution_count": 88,
      "outputs": [
        {
          "output_type": "execute_result",
          "data": {
            "text/plain": [
              "array([1, 2, 4, 7, 0])"
            ]
          },
          "metadata": {},
          "execution_count": 88
        }
      ]
    },
    {
      "cell_type": "code",
      "source": [
        "np.diff(x)"
      ],
      "metadata": {
        "colab": {
          "base_uri": "https://localhost:8080/"
        },
        "id": "6eWhSDoJG85l",
        "outputId": "11e08874-474c-490d-91da-ba2621e1f872"
      },
      "execution_count": 89,
      "outputs": [
        {
          "output_type": "execute_result",
          "data": {
            "text/plain": [
              "array([ 1,  2,  3, -7])"
            ]
          },
          "metadata": {},
          "execution_count": 89
        }
      ]
    },
    {
      "cell_type": "code",
      "source": [
        "x = np.array([[1, 3, 6, 10], [0, 5, 6, 8]])"
      ],
      "metadata": {
        "id": "AtLhe7IrHIXB"
      },
      "execution_count": 90,
      "outputs": []
    },
    {
      "cell_type": "code",
      "source": [
        "x"
      ],
      "metadata": {
        "colab": {
          "base_uri": "https://localhost:8080/"
        },
        "id": "NOSK7giGHPC9",
        "outputId": "2a940ed8-d8e0-4433-cbc8-ddb8621f39c2"
      },
      "execution_count": 91,
      "outputs": [
        {
          "output_type": "execute_result",
          "data": {
            "text/plain": [
              "array([[ 1,  3,  6, 10],\n",
              "       [ 0,  5,  6,  8]])"
            ]
          },
          "metadata": {},
          "execution_count": 91
        }
      ]
    },
    {
      "cell_type": "code",
      "source": [
        "np.diff(x)"
      ],
      "metadata": {
        "colab": {
          "base_uri": "https://localhost:8080/"
        },
        "id": "cK_KolPtHQnn",
        "outputId": "488dffeb-9ccb-4a37-83ae-9b629f31006b"
      },
      "execution_count": 92,
      "outputs": [
        {
          "output_type": "execute_result",
          "data": {
            "text/plain": [
              "array([[2, 3, 4],\n",
              "       [5, 1, 2]])"
            ]
          },
          "metadata": {},
          "execution_count": 92
        }
      ]
    },
    {
      "cell_type": "code",
      "source": [
        "x"
      ],
      "metadata": {
        "colab": {
          "base_uri": "https://localhost:8080/"
        },
        "id": "ox53TCS1HT0B",
        "outputId": "da5ad5c1-ade4-46df-896a-9e48f8a25b33"
      },
      "execution_count": 93,
      "outputs": [
        {
          "output_type": "execute_result",
          "data": {
            "text/plain": [
              "array([[ 1,  3,  6, 10],\n",
              "       [ 0,  5,  6,  8]])"
            ]
          },
          "metadata": {},
          "execution_count": 93
        }
      ]
    },
    {
      "cell_type": "code",
      "source": [
        "np.diff(x, axis=0)"
      ],
      "metadata": {
        "colab": {
          "base_uri": "https://localhost:8080/"
        },
        "id": "iSPTGn_CHT3i",
        "outputId": "122690cb-9363-4b98-9213-03a21932ee89"
      },
      "execution_count": 94,
      "outputs": [
        {
          "output_type": "execute_result",
          "data": {
            "text/plain": [
              "array([[-1,  2,  0, -2]])"
            ]
          },
          "metadata": {},
          "execution_count": 94
        }
      ]
    },
    {
      "cell_type": "code",
      "source": [
        "x = np.arange('1066-10-13', '1066-10-16', dtype=np.datetime64)"
      ],
      "metadata": {
        "id": "s0gBuA4uCzF8"
      },
      "execution_count": 95,
      "outputs": []
    },
    {
      "cell_type": "code",
      "source": [
        "x"
      ],
      "metadata": {
        "id": "NXMqmHtDCLZF",
        "colab": {
          "base_uri": "https://localhost:8080/"
        },
        "outputId": "5365a14d-8b61-4d4e-e52d-0f11acb6f972"
      },
      "execution_count": 96,
      "outputs": [
        {
          "output_type": "execute_result",
          "data": {
            "text/plain": [
              "array(['1066-10-13', '1066-10-14', '1066-10-15'], dtype='datetime64[D]')"
            ]
          },
          "metadata": {},
          "execution_count": 96
        }
      ]
    },
    {
      "cell_type": "code",
      "source": [
        "np.diff(x)"
      ],
      "metadata": {
        "id": "w6Afo45xCzIs",
        "colab": {
          "base_uri": "https://localhost:8080/"
        },
        "outputId": "86e67536-d7e8-45f5-f0ed-3e4429e53073"
      },
      "execution_count": 97,
      "outputs": [
        {
          "output_type": "execute_result",
          "data": {
            "text/plain": [
              "array([1, 1], dtype='timedelta64[D]')"
            ]
          },
          "metadata": {},
          "execution_count": 97
        }
      ]
    },
    {
      "cell_type": "markdown",
      "source": [
        "###np.asfortranarray  \n",
        "https://numpy.org/doc/stable/reference/generated/numpy.asfortranarray.html"
      ],
      "metadata": {
        "id": "tR5VSO81CzLS"
      }
    },
    {
      "cell_type": "code",
      "source": [
        "x = np.arange(6).reshape(2,3)"
      ],
      "metadata": {
        "id": "_Q3cavRMCzPQ"
      },
      "execution_count": 98,
      "outputs": []
    },
    {
      "cell_type": "code",
      "source": [
        "x"
      ],
      "metadata": {
        "id": "MUiArEZFCzR8",
        "colab": {
          "base_uri": "https://localhost:8080/"
        },
        "outputId": "3305f2d3-fb93-4dc3-bdcc-cbf499830157"
      },
      "execution_count": 99,
      "outputs": [
        {
          "output_type": "execute_result",
          "data": {
            "text/plain": [
              "array([[0, 1, 2],\n",
              "       [3, 4, 5]])"
            ]
          },
          "metadata": {},
          "execution_count": 99
        }
      ]
    },
    {
      "cell_type": "code",
      "source": [
        "y = np.asfortranarray(x)"
      ],
      "metadata": {
        "id": "oiycPQSeCzVe"
      },
      "execution_count": 100,
      "outputs": []
    },
    {
      "cell_type": "code",
      "source": [
        "y"
      ],
      "metadata": {
        "colab": {
          "base_uri": "https://localhost:8080/"
        },
        "id": "zudCuZ33NRud",
        "outputId": "2ec8c5f3-ab39-4342-e405-ee5eb634d032"
      },
      "execution_count": 101,
      "outputs": [
        {
          "output_type": "execute_result",
          "data": {
            "text/plain": [
              "array([[0, 1, 2],\n",
              "       [3, 4, 5]])"
            ]
          },
          "metadata": {},
          "execution_count": 101
        }
      ]
    },
    {
      "cell_type": "code",
      "source": [
        "x.flags['F_CONTIGUOUS']"
      ],
      "metadata": {
        "id": "jW2tL-mYCzX2",
        "colab": {
          "base_uri": "https://localhost:8080/"
        },
        "outputId": "9aea3da5-378d-4d44-d4f8-b226679e2900"
      },
      "execution_count": 102,
      "outputs": [
        {
          "output_type": "execute_result",
          "data": {
            "text/plain": [
              "False"
            ]
          },
          "metadata": {},
          "execution_count": 102
        }
      ]
    },
    {
      "cell_type": "code",
      "source": [
        "y.flags['F_CONTIGUOUS']"
      ],
      "metadata": {
        "id": "h-260P2VCzZ7",
        "colab": {
          "base_uri": "https://localhost:8080/"
        },
        "outputId": "a62e7c89-6817-4f91-a71c-88c6f844f8eb"
      },
      "execution_count": 103,
      "outputs": [
        {
          "output_type": "execute_result",
          "data": {
            "text/plain": [
              "True"
            ]
          },
          "metadata": {},
          "execution_count": 103
        }
      ]
    },
    {
      "cell_type": "code",
      "source": [],
      "metadata": {
        "id": "TEIo-B2uktwv"
      },
      "execution_count": 103,
      "outputs": []
    },
    {
      "cell_type": "code",
      "source": [
        "# Deviate from the main subject"
      ],
      "metadata": {
        "id": "FsVmbGcakzH0"
      },
      "execution_count": 104,
      "outputs": []
    },
    {
      "cell_type": "markdown",
      "source": [
        "# An Illustrated Guide to Shape and Strides (Part 1)  \n",
        "https://ajcr.net/stride-guide-part-1/  \n",
        "*The series consists of three parts."
      ],
      "metadata": {
        "id": "LFHNaCRNNgR9"
      }
    },
    {
      "cell_type": "markdown",
      "source": [
        "## 1. Array Fundamentals"
      ],
      "metadata": {
        "id": "27h6Pi-fc8c3"
      }
    },
    {
      "cell_type": "code",
      "source": [
        "a = np.arange(12)"
      ],
      "metadata": {
        "id": "Gl86d4QqNheu"
      },
      "execution_count": 105,
      "outputs": []
    },
    {
      "cell_type": "code",
      "source": [
        "a"
      ],
      "metadata": {
        "colab": {
          "base_uri": "https://localhost:8080/"
        },
        "id": "XtgU0WKeNhho",
        "outputId": "10d91417-dab6-4866-b008-053b3f0650ef"
      },
      "execution_count": 106,
      "outputs": [
        {
          "output_type": "execute_result",
          "data": {
            "text/plain": [
              "array([ 0,  1,  2,  3,  4,  5,  6,  7,  8,  9, 10, 11])"
            ]
          },
          "metadata": {},
          "execution_count": 106
        }
      ]
    },
    {
      "cell_type": "code",
      "source": [
        "b = a.reshape(3, 4)"
      ],
      "metadata": {
        "id": "09f9UekL-VBf"
      },
      "execution_count": 107,
      "outputs": []
    },
    {
      "cell_type": "code",
      "source": [
        "b"
      ],
      "metadata": {
        "colab": {
          "base_uri": "https://localhost:8080/"
        },
        "id": "O1HSrm2u-VGg",
        "outputId": "f78b37b9-5a92-4da9-af6b-e6f55a1687f6"
      },
      "execution_count": 108,
      "outputs": [
        {
          "output_type": "execute_result",
          "data": {
            "text/plain": [
              "array([[ 0,  1,  2,  3],\n",
              "       [ 4,  5,  6,  7],\n",
              "       [ 8,  9, 10, 11]])"
            ]
          },
          "metadata": {},
          "execution_count": 108
        }
      ]
    },
    {
      "cell_type": "code",
      "source": [
        "a.shape"
      ],
      "metadata": {
        "colab": {
          "base_uri": "https://localhost:8080/"
        },
        "id": "zXvoH1iV-VJK",
        "outputId": "f217ecd5-0261-4902-ebc4-2304c1aa55aa"
      },
      "execution_count": 109,
      "outputs": [
        {
          "output_type": "execute_result",
          "data": {
            "text/plain": [
              "(12,)"
            ]
          },
          "metadata": {},
          "execution_count": 109
        }
      ]
    },
    {
      "cell_type": "code",
      "source": [
        "a.strides"
      ],
      "metadata": {
        "colab": {
          "base_uri": "https://localhost:8080/"
        },
        "id": "dB9Gcb_q-VL5",
        "outputId": "dc8c67d2-0092-45cd-93ab-02eb8fc10af7"
      },
      "execution_count": 110,
      "outputs": [
        {
          "output_type": "execute_result",
          "data": {
            "text/plain": [
              "(8,)"
            ]
          },
          "metadata": {},
          "execution_count": 110
        }
      ]
    },
    {
      "cell_type": "code",
      "source": [
        "b.shape"
      ],
      "metadata": {
        "colab": {
          "base_uri": "https://localhost:8080/"
        },
        "id": "pStZelcT-oPs",
        "outputId": "90c78079-f037-4073-a714-60b950a6996f"
      },
      "execution_count": 111,
      "outputs": [
        {
          "output_type": "execute_result",
          "data": {
            "text/plain": [
              "(3, 4)"
            ]
          },
          "metadata": {},
          "execution_count": 111
        }
      ]
    },
    {
      "cell_type": "code",
      "source": [
        "b.strides"
      ],
      "metadata": {
        "colab": {
          "base_uri": "https://localhost:8080/"
        },
        "id": "71ek0Xl7-oSd",
        "outputId": "a796e5ec-9d22-46a3-95a6-7b2b3222d1eb"
      },
      "execution_count": 112,
      "outputs": [
        {
          "output_type": "execute_result",
          "data": {
            "text/plain": [
              "(32, 8)"
            ]
          },
          "metadata": {},
          "execution_count": 112
        }
      ]
    },
    {
      "cell_type": "code",
      "source": [
        "a.itemsize"
      ],
      "metadata": {
        "colab": {
          "base_uri": "https://localhost:8080/"
        },
        "id": "_GnxnEz2-oVX",
        "outputId": "879b5e1c-e700-4338-a665-737560753b99"
      },
      "execution_count": 113,
      "outputs": [
        {
          "output_type": "execute_result",
          "data": {
            "text/plain": [
              "8"
            ]
          },
          "metadata": {},
          "execution_count": 113
        }
      ]
    },
    {
      "cell_type": "code",
      "source": [
        "b.itemsize"
      ],
      "metadata": {
        "colab": {
          "base_uri": "https://localhost:8080/"
        },
        "id": "b7aoASVS-oYE",
        "outputId": "4db1e7cd-3831-49fa-9b1b-896bd60b9232"
      },
      "execution_count": 114,
      "outputs": [
        {
          "output_type": "execute_result",
          "data": {
            "text/plain": [
              "8"
            ]
          },
          "metadata": {},
          "execution_count": 114
        }
      ]
    },
    {
      "cell_type": "code",
      "source": [
        "a.data"
      ],
      "metadata": {
        "colab": {
          "base_uri": "https://localhost:8080/"
        },
        "id": "FaLF_Cng-oay",
        "outputId": "0623f0ca-a781-49b3-ae4c-af2edbb74d9c"
      },
      "execution_count": 115,
      "outputs": [
        {
          "output_type": "execute_result",
          "data": {
            "text/plain": [
              "<memory at 0x7fb06c13bd50>"
            ]
          },
          "metadata": {},
          "execution_count": 115
        }
      ]
    },
    {
      "cell_type": "code",
      "source": [
        "b.data"
      ],
      "metadata": {
        "colab": {
          "base_uri": "https://localhost:8080/"
        },
        "id": "iuzEWZXT-VOT",
        "outputId": "e816fabc-959e-4931-fd27-6a92135a677f"
      },
      "execution_count": 116,
      "outputs": [
        {
          "output_type": "execute_result",
          "data": {
            "text/plain": [
              "<memory at 0x7fb06fcd8830>"
            ]
          },
          "metadata": {},
          "execution_count": 116
        }
      ]
    },
    {
      "cell_type": "markdown",
      "source": [
        "Array operations such as **reshaping, transposing, indexing, slicing** can be thought of as convenient high-level methods to manipulate **shape, strides** and **offset** to change how data in memory is traversed."
      ],
      "metadata": {
        "id": "YnXCIh5l-VUk"
      }
    },
    {
      "cell_type": "markdown",
      "source": [
        "## 2. How Shape and Strides Define Dimensions"
      ],
      "metadata": {
        "id": "bED7S-NKdN5f"
      }
    },
    {
      "cell_type": "code",
      "source": [
        "a2 = a[::2]"
      ],
      "metadata": {
        "id": "7GDetcInNhkj"
      },
      "execution_count": 117,
      "outputs": []
    },
    {
      "cell_type": "code",
      "source": [
        "a2"
      ],
      "metadata": {
        "colab": {
          "base_uri": "https://localhost:8080/"
        },
        "id": "C7a9eNVONhnh",
        "outputId": "383fe227-8894-43dc-efc0-06630f37b0d2"
      },
      "execution_count": 118,
      "outputs": [
        {
          "output_type": "execute_result",
          "data": {
            "text/plain": [
              "array([ 0,  2,  4,  6,  8, 10])"
            ]
          },
          "metadata": {},
          "execution_count": 118
        }
      ]
    },
    {
      "cell_type": "code",
      "source": [
        "a2.shape"
      ],
      "metadata": {
        "colab": {
          "base_uri": "https://localhost:8080/"
        },
        "id": "yl166i9rAd0d",
        "outputId": "34067d54-7c37-4089-d2d9-80b4e71b9a8d"
      },
      "execution_count": 119,
      "outputs": [
        {
          "output_type": "execute_result",
          "data": {
            "text/plain": [
              "(6,)"
            ]
          },
          "metadata": {},
          "execution_count": 119
        }
      ]
    },
    {
      "cell_type": "code",
      "source": [
        "a2.strides"
      ],
      "metadata": {
        "colab": {
          "base_uri": "https://localhost:8080/"
        },
        "id": "ILf2aRUwAeLo",
        "outputId": "e4d432fa-0f1d-41cf-e68b-c56ae28881dd"
      },
      "execution_count": 120,
      "outputs": [
        {
          "output_type": "execute_result",
          "data": {
            "text/plain": [
              "(16,)"
            ]
          },
          "metadata": {},
          "execution_count": 120
        }
      ]
    },
    {
      "cell_type": "code",
      "source": [
        "a_reversed = a[::-3]"
      ],
      "metadata": {
        "id": "YzdFB1P9AeVH"
      },
      "execution_count": 121,
      "outputs": []
    },
    {
      "cell_type": "code",
      "source": [
        "a_reversed"
      ],
      "metadata": {
        "colab": {
          "base_uri": "https://localhost:8080/"
        },
        "id": "cthSNG6iAei9",
        "outputId": "e760096d-26db-42b7-ec64-ea7971c0d8cb"
      },
      "execution_count": 122,
      "outputs": [
        {
          "output_type": "execute_result",
          "data": {
            "text/plain": [
              "array([11,  8,  5,  2])"
            ]
          },
          "metadata": {},
          "execution_count": 122
        }
      ]
    },
    {
      "cell_type": "code",
      "source": [
        "a_reversed.shape"
      ],
      "metadata": {
        "colab": {
          "base_uri": "https://localhost:8080/"
        },
        "id": "_k57SEJTAern",
        "outputId": "604c5044-c3c3-44a1-b0cb-43d0c1f23e39"
      },
      "execution_count": 123,
      "outputs": [
        {
          "output_type": "execute_result",
          "data": {
            "text/plain": [
              "(4,)"
            ]
          },
          "metadata": {},
          "execution_count": 123
        }
      ]
    },
    {
      "cell_type": "code",
      "source": [
        "a_reversed.strides"
      ],
      "metadata": {
        "colab": {
          "base_uri": "https://localhost:8080/"
        },
        "id": "PZvAeaCwAezH",
        "outputId": "198ac829-fd81-41ac-de4b-0cd93770fcf8"
      },
      "execution_count": 124,
      "outputs": [
        {
          "output_type": "execute_result",
          "data": {
            "text/plain": [
              "(-24,)"
            ]
          },
          "metadata": {},
          "execution_count": 124
        }
      ]
    },
    {
      "cell_type": "code",
      "source": [
        "b"
      ],
      "metadata": {
        "colab": {
          "base_uri": "https://localhost:8080/"
        },
        "id": "vFQ7IiqVAe6P",
        "outputId": "7c910641-af26-402e-847d-d60145db17e6"
      },
      "execution_count": 125,
      "outputs": [
        {
          "output_type": "execute_result",
          "data": {
            "text/plain": [
              "array([[ 0,  1,  2,  3],\n",
              "       [ 4,  5,  6,  7],\n",
              "       [ 8,  9, 10, 11]])"
            ]
          },
          "metadata": {},
          "execution_count": 125
        }
      ]
    },
    {
      "cell_type": "code",
      "source": [
        "b.shape"
      ],
      "metadata": {
        "colab": {
          "base_uri": "https://localhost:8080/"
        },
        "id": "5L4zNiIyAfBq",
        "outputId": "50310a03-640d-41a3-ed52-4efae8f1e9e1"
      },
      "execution_count": 126,
      "outputs": [
        {
          "output_type": "execute_result",
          "data": {
            "text/plain": [
              "(3, 4)"
            ]
          },
          "metadata": {},
          "execution_count": 126
        }
      ]
    },
    {
      "cell_type": "code",
      "source": [
        "b.strides"
      ],
      "metadata": {
        "colab": {
          "base_uri": "https://localhost:8080/"
        },
        "id": "PuHNjiyFAfJ3",
        "outputId": "cc5a4593-155e-42f8-8167-8d11b835e067"
      },
      "execution_count": 127,
      "outputs": [
        {
          "output_type": "execute_result",
          "data": {
            "text/plain": [
              "(32, 8)"
            ]
          },
          "metadata": {},
          "execution_count": 127
        }
      ]
    },
    {
      "cell_type": "code",
      "source": [
        "b1 = b[1:3, 1:3]"
      ],
      "metadata": {
        "id": "wOLtqT_SAfRI"
      },
      "execution_count": 128,
      "outputs": []
    },
    {
      "cell_type": "code",
      "source": [
        "b1"
      ],
      "metadata": {
        "colab": {
          "base_uri": "https://localhost:8080/"
        },
        "id": "U66Hj2mujhm9",
        "outputId": "cfd5bad1-2269-4fc6-8dd5-aaf369b3aa57"
      },
      "execution_count": 129,
      "outputs": [
        {
          "output_type": "execute_result",
          "data": {
            "text/plain": [
              "array([[ 5,  6],\n",
              "       [ 9, 10]])"
            ]
          },
          "metadata": {},
          "execution_count": 129
        }
      ]
    },
    {
      "cell_type": "code",
      "source": [
        "b1.shape"
      ],
      "metadata": {
        "colab": {
          "base_uri": "https://localhost:8080/"
        },
        "id": "k-XW6kD8jhqt",
        "outputId": "3bf3f4cf-349a-4116-9861-cbf050c0c558"
      },
      "execution_count": 130,
      "outputs": [
        {
          "output_type": "execute_result",
          "data": {
            "text/plain": [
              "(2, 2)"
            ]
          },
          "metadata": {},
          "execution_count": 130
        }
      ]
    },
    {
      "cell_type": "code",
      "source": [
        "b1.strides"
      ],
      "metadata": {
        "colab": {
          "base_uri": "https://localhost:8080/"
        },
        "id": "klD2el2kjhuu",
        "outputId": "775c1440-b1ec-4f86-da4a-dfca9caa0f5a"
      },
      "execution_count": 131,
      "outputs": [
        {
          "output_type": "execute_result",
          "data": {
            "text/plain": [
              "(32, 8)"
            ]
          },
          "metadata": {},
          "execution_count": 131
        }
      ]
    },
    {
      "cell_type": "code",
      "source": [
        "c = a.reshape(3, 2, 2)"
      ],
      "metadata": {
        "id": "HJJZFnPOjhye"
      },
      "execution_count": 132,
      "outputs": []
    },
    {
      "cell_type": "code",
      "source": [
        "c"
      ],
      "metadata": {
        "colab": {
          "base_uri": "https://localhost:8080/"
        },
        "id": "lRNJ_le1i2Gq",
        "outputId": "591ade59-a8bb-480f-ee74-784a839bc763"
      },
      "execution_count": 133,
      "outputs": [
        {
          "output_type": "execute_result",
          "data": {
            "text/plain": [
              "array([[[ 0,  1],\n",
              "        [ 2,  3]],\n",
              "\n",
              "       [[ 4,  5],\n",
              "        [ 6,  7]],\n",
              "\n",
              "       [[ 8,  9],\n",
              "        [10, 11]]])"
            ]
          },
          "metadata": {},
          "execution_count": 133
        }
      ]
    },
    {
      "cell_type": "markdown",
      "source": [
        "Again, you can see that C order means that NumPy must use a greater stride length to traverse the lower axes than the higher axes."
      ],
      "metadata": {
        "id": "ugumwWLzi2P5"
      }
    },
    {
      "cell_type": "code",
      "source": [
        "c.itemsize"
      ],
      "metadata": {
        "colab": {
          "base_uri": "https://localhost:8080/"
        },
        "id": "orULPaiHi2cn",
        "outputId": "d67ee975-187f-4f26-b3be-15db3b4ed97a"
      },
      "execution_count": 134,
      "outputs": [
        {
          "output_type": "execute_result",
          "data": {
            "text/plain": [
              "8"
            ]
          },
          "metadata": {},
          "execution_count": 134
        }
      ]
    },
    {
      "cell_type": "code",
      "source": [
        "b.strides"
      ],
      "metadata": {
        "colab": {
          "base_uri": "https://localhost:8080/"
        },
        "id": "4hV0BX-8i2n3",
        "outputId": "f4e8c94c-3c3b-421c-9bd2-5c43fee7b342"
      },
      "execution_count": 135,
      "outputs": [
        {
          "output_type": "execute_result",
          "data": {
            "text/plain": [
              "(32, 8)"
            ]
          },
          "metadata": {},
          "execution_count": 135
        }
      ]
    },
    {
      "cell_type": "code",
      "source": [
        "b1.shape"
      ],
      "metadata": {
        "id": "Ld7Mfst5mI1O",
        "colab": {
          "base_uri": "https://localhost:8080/"
        },
        "outputId": "d067e37a-b303-41e3-b932-3f277c089523"
      },
      "execution_count": 136,
      "outputs": [
        {
          "output_type": "execute_result",
          "data": {
            "text/plain": [
              "(2, 2)"
            ]
          },
          "metadata": {},
          "execution_count": 136
        }
      ]
    },
    {
      "cell_type": "markdown",
      "source": [
        "## 3. Impossible Reshapes"
      ],
      "metadata": {
        "id": "i32CUI9XdXyK"
      }
    },
    {
      "cell_type": "code",
      "source": [
        "# b1.shape = (4,)"
      ],
      "metadata": {
        "id": "yPCKDrc-mI7x"
      },
      "execution_count": 137,
      "outputs": []
    },
    {
      "cell_type": "markdown",
      "source": [
        "# An Illustrated Guide to Shape and Strides (Part 2)  \n",
        "https://ajcr.net/stride-guide-part-2/"
      ],
      "metadata": {
        "id": "-Hy6vH4QmJFT"
      }
    },
    {
      "cell_type": "markdown",
      "source": [
        "## 1. Transposing Arrays and Permuting Axes"
      ],
      "metadata": {
        "id": "wZVlchyNcs9n"
      }
    },
    {
      "cell_type": "code",
      "source": [
        "a = np.arange(12)"
      ],
      "metadata": {
        "id": "qaNlSlA5mJQE"
      },
      "execution_count": 138,
      "outputs": []
    },
    {
      "cell_type": "code",
      "source": [
        "a"
      ],
      "metadata": {
        "id": "KRCb3FPGi20b",
        "colab": {
          "base_uri": "https://localhost:8080/"
        },
        "outputId": "a71b186b-77f7-4021-d940-15f3d92aa0ce"
      },
      "execution_count": 139,
      "outputs": [
        {
          "output_type": "execute_result",
          "data": {
            "text/plain": [
              "array([ 0,  1,  2,  3,  4,  5,  6,  7,  8,  9, 10, 11])"
            ]
          },
          "metadata": {},
          "execution_count": 139
        }
      ]
    },
    {
      "cell_type": "code",
      "source": [
        "c = a.reshape(3, 2, 2)"
      ],
      "metadata": {
        "id": "7YmvVI8JCvxw"
      },
      "execution_count": 140,
      "outputs": []
    },
    {
      "cell_type": "code",
      "source": [
        "c"
      ],
      "metadata": {
        "colab": {
          "base_uri": "https://localhost:8080/"
        },
        "id": "2h2j6BJwCv5C",
        "outputId": "38b72ba3-75aa-450d-8d96-ff3665c7778e"
      },
      "execution_count": 141,
      "outputs": [
        {
          "output_type": "execute_result",
          "data": {
            "text/plain": [
              "array([[[ 0,  1],\n",
              "        [ 2,  3]],\n",
              "\n",
              "       [[ 4,  5],\n",
              "        [ 6,  7]],\n",
              "\n",
              "       [[ 8,  9],\n",
              "        [10, 11]]])"
            ]
          },
          "metadata": {},
          "execution_count": 141
        }
      ]
    },
    {
      "cell_type": "code",
      "source": [
        "c.T"
      ],
      "metadata": {
        "colab": {
          "base_uri": "https://localhost:8080/"
        },
        "id": "NF56pX-yCv_F",
        "outputId": "2fced17b-8c81-41c2-fa80-847a21a4c0c4"
      },
      "execution_count": 142,
      "outputs": [
        {
          "output_type": "execute_result",
          "data": {
            "text/plain": [
              "array([[[ 0,  4,  8],\n",
              "        [ 2,  6, 10]],\n",
              "\n",
              "       [[ 1,  5,  9],\n",
              "        [ 3,  7, 11]]])"
            ]
          },
          "metadata": {},
          "execution_count": 142
        }
      ]
    },
    {
      "cell_type": "code",
      "source": [
        "c[::2, :, :]"
      ],
      "metadata": {
        "colab": {
          "base_uri": "https://localhost:8080/"
        },
        "id": "baCCZ5o-FxHE",
        "outputId": "e8afd35d-14cd-4d48-ed7a-d47b504235bf"
      },
      "execution_count": 143,
      "outputs": [
        {
          "output_type": "execute_result",
          "data": {
            "text/plain": [
              "array([[[ 0,  1],\n",
              "        [ 2,  3]],\n",
              "\n",
              "       [[ 8,  9],\n",
              "        [10, 11]]])"
            ]
          },
          "metadata": {},
          "execution_count": 143
        }
      ]
    },
    {
      "cell_type": "code",
      "source": [
        "c[::2, :, :].swapaxes(0, 1)"
      ],
      "metadata": {
        "colab": {
          "base_uri": "https://localhost:8080/"
        },
        "id": "beYlSh2lCwFf",
        "outputId": "5b35c798-667e-40e8-e460-1186b607e12c"
      },
      "execution_count": 144,
      "outputs": [
        {
          "output_type": "execute_result",
          "data": {
            "text/plain": [
              "array([[[ 0,  1],\n",
              "        [ 8,  9]],\n",
              "\n",
              "       [[ 2,  3],\n",
              "        [10, 11]]])"
            ]
          },
          "metadata": {},
          "execution_count": 144
        }
      ]
    },
    {
      "cell_type": "markdown",
      "source": [
        "## 2. C order vs. Fortran order"
      ],
      "metadata": {
        "id": "_cM5zCWGCwJJ"
      }
    },
    {
      "cell_type": "code",
      "source": [
        "a = np.arange(12)"
      ],
      "metadata": {
        "id": "1dfpYg_fCwM1"
      },
      "execution_count": 145,
      "outputs": []
    },
    {
      "cell_type": "code",
      "source": [
        "a"
      ],
      "metadata": {
        "colab": {
          "base_uri": "https://localhost:8080/"
        },
        "id": "rI7mrd0CCwQr",
        "outputId": "eccba44c-4e86-49e4-9bcc-9db2a75a9048"
      },
      "execution_count": 146,
      "outputs": [
        {
          "output_type": "execute_result",
          "data": {
            "text/plain": [
              "array([ 0,  1,  2,  3,  4,  5,  6,  7,  8,  9, 10, 11])"
            ]
          },
          "metadata": {},
          "execution_count": 146
        }
      ]
    },
    {
      "cell_type": "code",
      "source": [
        "b = a.reshape(3, 4)"
      ],
      "metadata": {
        "id": "af8Hokd5CwTJ"
      },
      "execution_count": 147,
      "outputs": []
    },
    {
      "cell_type": "code",
      "source": [
        "b"
      ],
      "metadata": {
        "colab": {
          "base_uri": "https://localhost:8080/"
        },
        "id": "lGLr01NmCwVs",
        "outputId": "afb29c6b-6acc-44a1-8a30-7bec1631221e"
      },
      "execution_count": 148,
      "outputs": [
        {
          "output_type": "execute_result",
          "data": {
            "text/plain": [
              "array([[ 0,  1,  2,  3],\n",
              "       [ 4,  5,  6,  7],\n",
              "       [ 8,  9, 10, 11]])"
            ]
          },
          "metadata": {},
          "execution_count": 148
        }
      ]
    },
    {
      "cell_type": "code",
      "source": [
        "a.flags"
      ],
      "metadata": {
        "colab": {
          "base_uri": "https://localhost:8080/"
        },
        "id": "_FCVdtiICwYs",
        "outputId": "a8dfd107-589d-408d-ec4c-58d1461f72f0"
      },
      "execution_count": 149,
      "outputs": [
        {
          "output_type": "execute_result",
          "data": {
            "text/plain": [
              "  C_CONTIGUOUS : True\n",
              "  F_CONTIGUOUS : True\n",
              "  OWNDATA : True\n",
              "  WRITEABLE : True\n",
              "  ALIGNED : True\n",
              "  WRITEBACKIFCOPY : False\n",
              "  UPDATEIFCOPY : False"
            ]
          },
          "metadata": {},
          "execution_count": 149
        }
      ]
    },
    {
      "cell_type": "code",
      "source": [
        "b.flags"
      ],
      "metadata": {
        "colab": {
          "base_uri": "https://localhost:8080/"
        },
        "id": "S6FhZq9dCwa8",
        "outputId": "40d83eaa-1fa4-4ada-8fc8-b02a22952e42"
      },
      "execution_count": 150,
      "outputs": [
        {
          "output_type": "execute_result",
          "data": {
            "text/plain": [
              "  C_CONTIGUOUS : True\n",
              "  F_CONTIGUOUS : False\n",
              "  OWNDATA : False\n",
              "  WRITEABLE : True\n",
              "  ALIGNED : True\n",
              "  WRITEBACKIFCOPY : False\n",
              "  UPDATEIFCOPY : False"
            ]
          },
          "metadata": {},
          "execution_count": 150
        }
      ]
    },
    {
      "cell_type": "code",
      "source": [
        "b.T"
      ],
      "metadata": {
        "colab": {
          "base_uri": "https://localhost:8080/"
        },
        "id": "3zvRdrOTCwd7",
        "outputId": "3c36f76f-85cb-4788-88c7-b6ccb22149f2"
      },
      "execution_count": 151,
      "outputs": [
        {
          "output_type": "execute_result",
          "data": {
            "text/plain": [
              "array([[ 0,  4,  8],\n",
              "       [ 1,  5,  9],\n",
              "       [ 2,  6, 10],\n",
              "       [ 3,  7, 11]])"
            ]
          },
          "metadata": {},
          "execution_count": 151
        }
      ]
    },
    {
      "cell_type": "code",
      "source": [
        "b.T.flags"
      ],
      "metadata": {
        "colab": {
          "base_uri": "https://localhost:8080/"
        },
        "id": "c_Y4dguUCwhp",
        "outputId": "86a5ee9e-958f-439c-f241-1c76f1410655"
      },
      "execution_count": 152,
      "outputs": [
        {
          "output_type": "execute_result",
          "data": {
            "text/plain": [
              "  C_CONTIGUOUS : False\n",
              "  F_CONTIGUOUS : True\n",
              "  OWNDATA : False\n",
              "  WRITEABLE : True\n",
              "  ALIGNED : True\n",
              "  WRITEBACKIFCOPY : False\n",
              "  UPDATEIFCOPY : False"
            ]
          },
          "metadata": {},
          "execution_count": 152
        }
      ]
    },
    {
      "cell_type": "code",
      "source": [
        "b[::2]"
      ],
      "metadata": {
        "id": "Z36YOmO0jh2g",
        "colab": {
          "base_uri": "https://localhost:8080/"
        },
        "outputId": "da22e19d-0b4a-41d5-cc25-5d782d2d1604"
      },
      "execution_count": 153,
      "outputs": [
        {
          "output_type": "execute_result",
          "data": {
            "text/plain": [
              "array([[ 0,  1,  2,  3],\n",
              "       [ 8,  9, 10, 11]])"
            ]
          },
          "metadata": {},
          "execution_count": 153
        }
      ]
    },
    {
      "cell_type": "code",
      "source": [
        "b[::2].flags"
      ],
      "metadata": {
        "id": "PxX522ckh5He",
        "colab": {
          "base_uri": "https://localhost:8080/"
        },
        "outputId": "a64565f1-295a-4b55-e582-5d0b7f34842f"
      },
      "execution_count": 154,
      "outputs": [
        {
          "output_type": "execute_result",
          "data": {
            "text/plain": [
              "  C_CONTIGUOUS : False\n",
              "  F_CONTIGUOUS : False\n",
              "  OWNDATA : False\n",
              "  WRITEABLE : True\n",
              "  ALIGNED : True\n",
              "  WRITEBACKIFCOPY : False\n",
              "  UPDATEIFCOPY : False"
            ]
          },
          "metadata": {},
          "execution_count": 154
        }
      ]
    },
    {
      "cell_type": "markdown",
      "source": [
        "## Ravelling"
      ],
      "metadata": {
        "id": "3vlqlSakh5K0"
      }
    },
    {
      "cell_type": "markdown",
      "source": [
        "# An Illustrated Guide to Shape and Strides (Part 3)\n",
        "https://ajcr.net/stride-guide-part-3/"
      ],
      "metadata": {
        "id": "In9pMKk9pmSo"
      }
    },
    {
      "cell_type": "markdown",
      "source": [
        "## 1. Specifying Strides Directly"
      ],
      "metadata": {
        "id": "AOupDGhT-pS5"
      }
    },
    {
      "cell_type": "markdown",
      "source": [
        "### as_strided"
      ],
      "metadata": {
        "id": "iwmMjSdmVHZK"
      }
    },
    {
      "cell_type": "code",
      "source": [
        "a = np.arange(12)"
      ],
      "metadata": {
        "id": "kkWiQN1PpmX5"
      },
      "execution_count": 155,
      "outputs": []
    },
    {
      "cell_type": "code",
      "source": [
        "a"
      ],
      "metadata": {
        "colab": {
          "base_uri": "https://localhost:8080/"
        },
        "id": "u22wyEWkpmfM",
        "outputId": "a86d8d6e-94f2-435f-ece5-4fe79e73bfc6"
      },
      "execution_count": 156,
      "outputs": [
        {
          "output_type": "execute_result",
          "data": {
            "text/plain": [
              "array([ 0,  1,  2,  3,  4,  5,  6,  7,  8,  9, 10, 11])"
            ]
          },
          "metadata": {},
          "execution_count": 156
        }
      ]
    },
    {
      "cell_type": "code",
      "source": [
        "from numpy.lib.stride_tricks import as_strided"
      ],
      "metadata": {
        "id": "oWXIsdKhpmm9"
      },
      "execution_count": 157,
      "outputs": []
    },
    {
      "cell_type": "code",
      "source": [
        "as_strided(a, shape=(3, 4), strides=(32, 8))"
      ],
      "metadata": {
        "colab": {
          "base_uri": "https://localhost:8080/"
        },
        "id": "QYF6Nlkjh5Pq",
        "outputId": "c3c5091c-5285-476c-f5ed-74acc63fb03d"
      },
      "execution_count": 158,
      "outputs": [
        {
          "output_type": "execute_result",
          "data": {
            "text/plain": [
              "array([[ 0,  1,  2,  3],\n",
              "       [ 4,  5,  6,  7],\n",
              "       [ 8,  9, 10, 11]])"
            ]
          },
          "metadata": {},
          "execution_count": 158
        }
      ]
    },
    {
      "cell_type": "code",
      "source": [
        "as_strided(a, shape=(3, 4), strides=(32, 8)).flags"
      ],
      "metadata": {
        "colab": {
          "base_uri": "https://localhost:8080/"
        },
        "id": "r6YsUR9XPMbJ",
        "outputId": "8b5e38a4-05df-4737-aac3-c373c5cf0b2c"
      },
      "execution_count": 159,
      "outputs": [
        {
          "output_type": "execute_result",
          "data": {
            "text/plain": [
              "  C_CONTIGUOUS : True\n",
              "  F_CONTIGUOUS : False\n",
              "  OWNDATA : False\n",
              "  WRITEABLE : True\n",
              "  ALIGNED : True\n",
              "  WRITEBACKIFCOPY : False\n",
              "  UPDATEIFCOPY : False"
            ]
          },
          "metadata": {},
          "execution_count": 159
        }
      ]
    },
    {
      "cell_type": "code",
      "source": [
        "as_strided(a, shape=(4, 3), strides=(8, 32))"
      ],
      "metadata": {
        "colab": {
          "base_uri": "https://localhost:8080/"
        },
        "id": "eWvOHLvpO_xG",
        "outputId": "25aae5d6-e373-4af8-ae18-22afb57bfc6f"
      },
      "execution_count": 160,
      "outputs": [
        {
          "output_type": "execute_result",
          "data": {
            "text/plain": [
              "array([[ 0,  4,  8],\n",
              "       [ 1,  5,  9],\n",
              "       [ 2,  6, 10],\n",
              "       [ 3,  7, 11]])"
            ]
          },
          "metadata": {},
          "execution_count": 160
        }
      ]
    },
    {
      "cell_type": "code",
      "source": [
        "as_strided(a, shape=(4, 3), strides=(8, 32)).flags"
      ],
      "metadata": {
        "colab": {
          "base_uri": "https://localhost:8080/"
        },
        "id": "2CzbvRk1PYez",
        "outputId": "90045cd2-e4db-4b8a-fc44-f118767c7db5"
      },
      "execution_count": 161,
      "outputs": [
        {
          "output_type": "execute_result",
          "data": {
            "text/plain": [
              "  C_CONTIGUOUS : False\n",
              "  F_CONTIGUOUS : True\n",
              "  OWNDATA : False\n",
              "  WRITEABLE : True\n",
              "  ALIGNED : True\n",
              "  WRITEBACKIFCOPY : False\n",
              "  UPDATEIFCOPY : False"
            ]
          },
          "metadata": {},
          "execution_count": 161
        }
      ]
    },
    {
      "cell_type": "code",
      "source": [
        "as_strided(a, shape=(10, 3), strides=(8, 8))"
      ],
      "metadata": {
        "id": "VLOpbRmRAfXa",
        "colab": {
          "base_uri": "https://localhost:8080/"
        },
        "outputId": "db20db15-a15c-4cbf-f9f5-58c7ec028355"
      },
      "execution_count": 162,
      "outputs": [
        {
          "output_type": "execute_result",
          "data": {
            "text/plain": [
              "array([[ 0,  1,  2],\n",
              "       [ 1,  2,  3],\n",
              "       [ 2,  3,  4],\n",
              "       [ 3,  4,  5],\n",
              "       [ 4,  5,  6],\n",
              "       [ 5,  6,  7],\n",
              "       [ 6,  7,  8],\n",
              "       [ 7,  8,  9],\n",
              "       [ 8,  9, 10],\n",
              "       [ 9, 10, 11]])"
            ]
          },
          "metadata": {},
          "execution_count": 162
        }
      ]
    },
    {
      "cell_type": "code",
      "source": [
        "single_value = np.array(0)"
      ],
      "metadata": {
        "id": "n7a7PhjlMKGr"
      },
      "execution_count": 163,
      "outputs": []
    },
    {
      "cell_type": "code",
      "source": [
        "single_value"
      ],
      "metadata": {
        "colab": {
          "base_uri": "https://localhost:8080/"
        },
        "id": "eRxC8KiYMKWb",
        "outputId": "8f51db13-266b-4899-bb34-087246eee947"
      },
      "execution_count": 164,
      "outputs": [
        {
          "output_type": "execute_result",
          "data": {
            "text/plain": [
              "array(0)"
            ]
          },
          "metadata": {},
          "execution_count": 164
        }
      ]
    },
    {
      "cell_type": "code",
      "source": [
        "as_strided(single_value, (1000, 1000), strides=(0, 0))"
      ],
      "metadata": {
        "colab": {
          "base_uri": "https://localhost:8080/"
        },
        "id": "ECHZ8USqMKfa",
        "outputId": "38959b33-2d6f-4bb8-e20a-bea53233f14d"
      },
      "execution_count": 165,
      "outputs": [
        {
          "output_type": "execute_result",
          "data": {
            "text/plain": [
              "array([[0, 0, 0, ..., 0, 0, 0],\n",
              "       [0, 0, 0, ..., 0, 0, 0],\n",
              "       [0, 0, 0, ..., 0, 0, 0],\n",
              "       ...,\n",
              "       [0, 0, 0, ..., 0, 0, 0],\n",
              "       [0, 0, 0, ..., 0, 0, 0],\n",
              "       [0, 0, 0, ..., 0, 0, 0]])"
            ]
          },
          "metadata": {},
          "execution_count": 165
        }
      ]
    },
    {
      "cell_type": "markdown",
      "source": [
        "### ndarray"
      ],
      "metadata": {
        "id": "uuHUDLQfMKlq"
      }
    },
    {
      "cell_type": "code",
      "source": [
        "a"
      ],
      "metadata": {
        "colab": {
          "base_uri": "https://localhost:8080/"
        },
        "id": "anACI_9QWnec",
        "outputId": "84ca18a6-330b-4aaa-8b36-7074b4f85c75"
      },
      "execution_count": 166,
      "outputs": [
        {
          "output_type": "execute_result",
          "data": {
            "text/plain": [
              "array([ 0,  1,  2,  3,  4,  5,  6,  7,  8,  9, 10, 11])"
            ]
          },
          "metadata": {},
          "execution_count": 166
        }
      ]
    },
    {
      "cell_type": "code",
      "source": [
        "a.reshape(3, 2, 2)"
      ],
      "metadata": {
        "colab": {
          "base_uri": "https://localhost:8080/"
        },
        "id": "1Mb7LtwkWybZ",
        "outputId": "b1764a40-2381-4a86-f3d7-004a37baf9b1"
      },
      "execution_count": 167,
      "outputs": [
        {
          "output_type": "execute_result",
          "data": {
            "text/plain": [
              "array([[[ 0,  1],\n",
              "        [ 2,  3]],\n",
              "\n",
              "       [[ 4,  5],\n",
              "        [ 6,  7]],\n",
              "\n",
              "       [[ 8,  9],\n",
              "        [10, 11]]])"
            ]
          },
          "metadata": {},
          "execution_count": 167
        }
      ]
    },
    {
      "cell_type": "code",
      "source": [
        "a.reshape(3, 2, 2)[:, ::-1]"
      ],
      "metadata": {
        "colab": {
          "base_uri": "https://localhost:8080/"
        },
        "id": "FsCKB0PIMKqD",
        "outputId": "70e44dee-a92c-4a5c-b0dd-600549664d7d"
      },
      "execution_count": 168,
      "outputs": [
        {
          "output_type": "execute_result",
          "data": {
            "text/plain": [
              "array([[[ 2,  3],\n",
              "        [ 0,  1]],\n",
              "\n",
              "       [[ 6,  7],\n",
              "        [ 4,  5]],\n",
              "\n",
              "       [[10, 11],\n",
              "        [ 8,  9]]])"
            ]
          },
          "metadata": {},
          "execution_count": 168
        }
      ]
    },
    {
      "cell_type": "code",
      "source": [
        "a.reshape(3, 2, 2)[:, ::-1, ::-1]"
      ],
      "metadata": {
        "colab": {
          "base_uri": "https://localhost:8080/"
        },
        "id": "UkbLYBkoXIZp",
        "outputId": "0c939b98-352e-4ef7-c56f-53d9c0160a2d"
      },
      "execution_count": 169,
      "outputs": [
        {
          "output_type": "execute_result",
          "data": {
            "text/plain": [
              "array([[[ 3,  2],\n",
              "        [ 1,  0]],\n",
              "\n",
              "       [[ 7,  6],\n",
              "        [ 5,  4]],\n",
              "\n",
              "       [[11, 10],\n",
              "        [ 9,  8]]])"
            ]
          },
          "metadata": {},
          "execution_count": 169
        }
      ]
    },
    {
      "cell_type": "code",
      "source": [
        "a.reshape(3, 2, 2)[::-1, ::-1, ::-1]"
      ],
      "metadata": {
        "colab": {
          "base_uri": "https://localhost:8080/"
        },
        "id": "Nidqi2FnXMyw",
        "outputId": "80c1fecd-fdd6-4448-ef8c-399afa684630"
      },
      "execution_count": 170,
      "outputs": [
        {
          "output_type": "execute_result",
          "data": {
            "text/plain": [
              "array([[[11, 10],\n",
              "        [ 9,  8]],\n",
              "\n",
              "       [[ 7,  6],\n",
              "        [ 5,  4]],\n",
              "\n",
              "       [[ 3,  2],\n",
              "        [ 1,  0]]])"
            ]
          },
          "metadata": {},
          "execution_count": 170
        }
      ]
    },
    {
      "cell_type": "code",
      "source": [
        "a"
      ],
      "metadata": {
        "colab": {
          "base_uri": "https://localhost:8080/"
        },
        "id": "XGv_QYhKWwj9",
        "outputId": "254b94f0-76f5-4fad-e128-3a1e022dcf04"
      },
      "execution_count": 171,
      "outputs": [
        {
          "output_type": "execute_result",
          "data": {
            "text/plain": [
              "array([ 0,  1,  2,  3,  4,  5,  6,  7,  8,  9, 10, 11])"
            ]
          },
          "metadata": {},
          "execution_count": 171
        }
      ]
    },
    {
      "cell_type": "code",
      "source": [
        "ndarr_int = np.ndarray(buffer=a.data, shape=(3, 2, 2), strides=(32, -16, 8), offset=16, dtype=int)\n",
        "ndarr_int"
      ],
      "metadata": {
        "colab": {
          "base_uri": "https://localhost:8080/"
        },
        "id": "6Y_3fO3jMKtz",
        "outputId": "a35525a8-324f-4588-e58e-fb77b887d5c6"
      },
      "execution_count": 172,
      "outputs": [
        {
          "output_type": "execute_result",
          "data": {
            "text/plain": [
              "array([[[ 2,  3],\n",
              "        [ 0,  1]],\n",
              "\n",
              "       [[ 6,  7],\n",
              "        [ 4,  5]],\n",
              "\n",
              "       [[10, 11],\n",
              "        [ 8,  9]]])"
            ]
          },
          "metadata": {},
          "execution_count": 172
        }
      ]
    },
    {
      "cell_type": "code",
      "source": [
        "ndarr_float = np.ndarray(buffer=a.data, shape=(3, 2, 2), strides=(32, -16, 8), offset=16, dtype=float)\n",
        "ndarr_float"
      ],
      "metadata": {
        "colab": {
          "base_uri": "https://localhost:8080/"
        },
        "id": "OVLI8GupMKxo",
        "outputId": "83b00575-5cec-4f22-928f-945534f1a965"
      },
      "execution_count": 173,
      "outputs": [
        {
          "output_type": "execute_result",
          "data": {
            "text/plain": [
              "array([[[9.9e-324, 1.5e-323],\n",
              "        [0.0e+000, 4.9e-324]],\n",
              "\n",
              "       [[3.0e-323, 3.5e-323],\n",
              "        [2.0e-323, 2.5e-323]],\n",
              "\n",
              "       [[4.9e-323, 5.4e-323],\n",
              "        [4.0e-323, 4.4e-323]]])"
            ]
          },
          "metadata": {},
          "execution_count": 173
        }
      ]
    },
    {
      "cell_type": "code",
      "source": [
        "ndarr_float.itemsize"
      ],
      "metadata": {
        "colab": {
          "base_uri": "https://localhost:8080/"
        },
        "id": "LVDNpMkSIcwx",
        "outputId": "1594271f-10b8-4950-98eb-ad84cb1afbb6"
      },
      "execution_count": 174,
      "outputs": [
        {
          "output_type": "execute_result",
          "data": {
            "text/plain": [
              "8"
            ]
          },
          "metadata": {},
          "execution_count": 174
        }
      ]
    },
    {
      "cell_type": "code",
      "source": [
        "# ValueError: strides is incompatible with shape of requested array and size of buffer\n",
        "\n",
        "# np.ndarray(buffer=a.data, shape=(3, 2, 2), strides=(32, -16, 8), offset=8, dtype=float)"
      ],
      "metadata": {
        "id": "P-GWUxh9MK1w"
      },
      "execution_count": 175,
      "outputs": []
    },
    {
      "cell_type": "code",
      "source": [],
      "metadata": {
        "id": "8lZfRxvQLvax"
      },
      "execution_count": 175,
      "outputs": []
    },
    {
      "cell_type": "code",
      "source": [
        "# ValueError: strides is incompatible with shape of requested array and size of buffer\n",
        "\n",
        "# ndarr_float_nobuffer = np.ndarray(shape=(3, 2, 2), strides=(32, -16, 8), offset=8, dtype=float)\n",
        "# ndarr_float_nobuffer"
      ],
      "metadata": {
        "id": "IfKif06-Lvki"
      },
      "execution_count": 176,
      "outputs": []
    },
    {
      "cell_type": "code",
      "source": [],
      "metadata": {
        "id": "Kx1ux0wVMK5O"
      },
      "execution_count": 176,
      "outputs": []
    },
    {
      "cell_type": "markdown",
      "source": [
        "numpy.ndarray  \n",
        "https://numpy.org/doc/stable/reference/generated/numpy.ndarray.html"
      ],
      "metadata": {
        "id": "EAG9sYhOMK9M"
      }
    },
    {
      "cell_type": "code",
      "source": [
        "ndarr1 = np.ndarray(shape=(2, 2), dtype=float, order='F')\n",
        "ndarr1"
      ],
      "metadata": {
        "colab": {
          "base_uri": "https://localhost:8080/"
        },
        "id": "nz2aG6u6BPqi",
        "outputId": "c7ad11a8-6403-45b8-e4ec-db2c87c0e0f2"
      },
      "execution_count": 177,
      "outputs": [
        {
          "output_type": "execute_result",
          "data": {
            "text/plain": [
              "array([[371.48863636, 387.36363636],\n",
              "       [102.54      , 112.54      ]])"
            ]
          },
          "metadata": {},
          "execution_count": 177
        }
      ]
    },
    {
      "cell_type": "code",
      "source": [
        "type(ndarr1)"
      ],
      "metadata": {
        "colab": {
          "base_uri": "https://localhost:8080/"
        },
        "id": "sRIwvoWfMIgt",
        "outputId": "94bd9890-b838-4bae-f412-1a69dea632d8"
      },
      "execution_count": 178,
      "outputs": [
        {
          "output_type": "execute_result",
          "data": {
            "text/plain": [
              "numpy.ndarray"
            ]
          },
          "metadata": {},
          "execution_count": 178
        }
      ]
    },
    {
      "cell_type": "code",
      "source": [
        "ndarr1.itemsize"
      ],
      "metadata": {
        "colab": {
          "base_uri": "https://localhost:8080/"
        },
        "id": "ZEaw5N6TMJCB",
        "outputId": "132a84bd-5223-4ce1-9881-5c591385e0ec"
      },
      "execution_count": 179,
      "outputs": [
        {
          "output_type": "execute_result",
          "data": {
            "text/plain": [
              "8"
            ]
          },
          "metadata": {},
          "execution_count": 179
        }
      ]
    },
    {
      "cell_type": "code",
      "source": [
        "ndarr1.flags"
      ],
      "metadata": {
        "colab": {
          "base_uri": "https://localhost:8080/"
        },
        "id": "v_dCfFs-HmN6",
        "outputId": "ddf90146-2ca1-4a4a-a600-537af0eeaa4a"
      },
      "execution_count": 180,
      "outputs": [
        {
          "output_type": "execute_result",
          "data": {
            "text/plain": [
              "  C_CONTIGUOUS : False\n",
              "  F_CONTIGUOUS : True\n",
              "  OWNDATA : True\n",
              "  WRITEABLE : True\n",
              "  ALIGNED : True\n",
              "  WRITEBACKIFCOPY : False\n",
              "  UPDATEIFCOPY : False"
            ]
          },
          "metadata": {},
          "execution_count": 180
        }
      ]
    },
    {
      "cell_type": "code",
      "source": [
        "ndarr1_with_buffer = np.ndarray((2,), buffer=np.array([1,2,3]),\n",
        "                                offset=np.int_().itemsize,\n",
        "                                dtype=int) \n",
        "                                # offset = 1*itemsize, i.e. skip first element"
      ],
      "metadata": {
        "id": "1sPpi-zQHmWI"
      },
      "execution_count": 181,
      "outputs": []
    },
    {
      "cell_type": "code",
      "source": [
        "ndarr1_with_buffer"
      ],
      "metadata": {
        "colab": {
          "base_uri": "https://localhost:8080/"
        },
        "id": "VNSwZsZ9HmaQ",
        "outputId": "0dd84adb-0912-4eb4-eed2-9d47a27f9a7c"
      },
      "execution_count": 182,
      "outputs": [
        {
          "output_type": "execute_result",
          "data": {
            "text/plain": [
              "array([2, 3])"
            ]
          },
          "metadata": {},
          "execution_count": 182
        }
      ]
    },
    {
      "cell_type": "code",
      "source": [
        "np.int_()"
      ],
      "metadata": {
        "colab": {
          "base_uri": "https://localhost:8080/"
        },
        "id": "VfCEbYUTHmeW",
        "outputId": "1c053ee7-e804-457f-95ea-8f9303d04987"
      },
      "execution_count": 183,
      "outputs": [
        {
          "output_type": "execute_result",
          "data": {
            "text/plain": [
              "0"
            ]
          },
          "metadata": {},
          "execution_count": 183
        }
      ]
    },
    {
      "cell_type": "code",
      "source": [
        "int"
      ],
      "metadata": {
        "colab": {
          "base_uri": "https://localhost:8080/"
        },
        "id": "Zig1me5GcU8R",
        "outputId": "77f2d7ba-339c-4eeb-ae88-2571384545e9"
      },
      "execution_count": 184,
      "outputs": [
        {
          "output_type": "execute_result",
          "data": {
            "text/plain": [
              "int"
            ]
          },
          "metadata": {},
          "execution_count": 184
        }
      ]
    },
    {
      "cell_type": "code",
      "source": [
        "int()"
      ],
      "metadata": {
        "colab": {
          "base_uri": "https://localhost:8080/"
        },
        "id": "x6yvxINVcWpU",
        "outputId": "aa503f21-ee42-44c0-edeb-eb2a5a74ff5c"
      },
      "execution_count": 185,
      "outputs": [
        {
          "output_type": "execute_result",
          "data": {
            "text/plain": [
              "0"
            ]
          },
          "metadata": {},
          "execution_count": 185
        }
      ]
    },
    {
      "cell_type": "code",
      "source": [
        "# help(np.int)"
      ],
      "metadata": {
        "id": "GaZIDpTyb_nE"
      },
      "execution_count": 186,
      "outputs": []
    },
    {
      "cell_type": "code",
      "source": [
        "# help(np.int_)"
      ],
      "metadata": {
        "id": "7CpgTh7LHmkk"
      },
      "execution_count": 187,
      "outputs": []
    },
    {
      "cell_type": "code",
      "source": [
        "np.int_().itemsize"
      ],
      "metadata": {
        "colab": {
          "base_uri": "https://localhost:8080/"
        },
        "id": "7YdpNkpyHmop",
        "outputId": "80ecc938-f69b-4aec-eae5-92d9319e0a5f"
      },
      "execution_count": 188,
      "outputs": [
        {
          "output_type": "execute_result",
          "data": {
            "text/plain": [
              "8"
            ]
          },
          "metadata": {},
          "execution_count": 188
        }
      ]
    },
    {
      "cell_type": "code",
      "source": [
        "#TypeError: buffer is too small for requested array\n",
        "\n",
        "# ndarr2_with_buffer = np.ndarray((2,), buffer=np.array([1,2,3]),\n",
        "#                                 offset=np.int_().itemsize * 2,\n",
        "#                                 dtype=int) \n",
        "                                # offset = 1*itemsize, i.e. skip first element"
      ],
      "metadata": {
        "id": "oslJpTlvdEOF"
      },
      "execution_count": 189,
      "outputs": []
    },
    {
      "cell_type": "code",
      "source": [],
      "metadata": {
        "id": "5sbrGirq2zZ1"
      },
      "execution_count": 189,
      "outputs": []
    },
    {
      "cell_type": "markdown",
      "source": [
        "Difference between np.int, np.int_, int, and np.int_t in cython?  \n",
        "https://stackoverflow.com/questions/21851985/difference-between-np-int-np-int-int-and-np-int-t-in-cython"
      ],
      "metadata": {
        "id": "f4CWQBhjb2xj"
      }
    },
    {
      "cell_type": "code",
      "source": [],
      "metadata": {
        "id": "SsCNAvwbdFEk"
      },
      "execution_count": 189,
      "outputs": []
    },
    {
      "cell_type": "markdown",
      "source": [
        "Get numpy ndarray offset  \n",
        "https://stackoverflow.com/questions/53534305/get-numpy-ndarray-offset"
      ],
      "metadata": {
        "id": "8NOceqU0b299"
      }
    },
    {
      "cell_type": "code",
      "source": [
        "a = np.arange(10)"
      ],
      "metadata": {
        "id": "T46yFL9FdFLh"
      },
      "execution_count": 190,
      "outputs": []
    },
    {
      "cell_type": "code",
      "source": [
        "a"
      ],
      "metadata": {
        "colab": {
          "base_uri": "https://localhost:8080/"
        },
        "id": "lB1r6cpKdFQ1",
        "outputId": "432807ee-af32-4e68-910d-fef147d7eac5"
      },
      "execution_count": 191,
      "outputs": [
        {
          "output_type": "execute_result",
          "data": {
            "text/plain": [
              "array([0, 1, 2, 3, 4, 5, 6, 7, 8, 9])"
            ]
          },
          "metadata": {},
          "execution_count": 191
        }
      ]
    },
    {
      "cell_type": "code",
      "source": [
        "type(a)"
      ],
      "metadata": {
        "colab": {
          "base_uri": "https://localhost:8080/"
        },
        "id": "of4_EfradFV6",
        "outputId": "cfb9c4c2-5753-414f-a15f-c97d2ab9aa28"
      },
      "execution_count": 192,
      "outputs": [
        {
          "output_type": "execute_result",
          "data": {
            "text/plain": [
              "numpy.ndarray"
            ]
          },
          "metadata": {},
          "execution_count": 192
        }
      ]
    },
    {
      "cell_type": "code",
      "source": [
        "a = np.arange(10, dtype=np.uint8)"
      ],
      "metadata": {
        "id": "WdjkaNZqdFaQ"
      },
      "execution_count": 193,
      "outputs": []
    },
    {
      "cell_type": "code",
      "source": [
        "a"
      ],
      "metadata": {
        "colab": {
          "base_uri": "https://localhost:8080/"
        },
        "id": "RdvKjNMqtrtX",
        "outputId": "739b12b1-3e42-4362-99f8-4381ff1f000b"
      },
      "execution_count": 194,
      "outputs": [
        {
          "output_type": "execute_result",
          "data": {
            "text/plain": [
              "array([0, 1, 2, 3, 4, 5, 6, 7, 8, 9], dtype=uint8)"
            ]
          },
          "metadata": {},
          "execution_count": 194
        }
      ]
    },
    {
      "cell_type": "code",
      "source": [
        "type(a)"
      ],
      "metadata": {
        "colab": {
          "base_uri": "https://localhost:8080/"
        },
        "id": "llgh8yq1tryO",
        "outputId": "0f0a6e84-5487-45a4-e02e-e08f397491f2"
      },
      "execution_count": 195,
      "outputs": [
        {
          "output_type": "execute_result",
          "data": {
            "text/plain": [
              "numpy.ndarray"
            ]
          },
          "metadata": {},
          "execution_count": 195
        }
      ]
    },
    {
      "cell_type": "code",
      "source": [
        "a.__array_interface__['data'][0]"
      ],
      "metadata": {
        "colab": {
          "base_uri": "https://localhost:8080/"
        },
        "id": "MH-oRcCotr2u",
        "outputId": "93aa684a-2036-4739-eb61-59b881511014"
      },
      "execution_count": 196,
      "outputs": [
        {
          "output_type": "execute_result",
          "data": {
            "text/plain": [
              "68428368"
            ]
          },
          "metadata": {},
          "execution_count": 196
        }
      ]
    },
    {
      "cell_type": "code",
      "source": [
        "b = a[1:]"
      ],
      "metadata": {
        "id": "Q5CLJ5NXtr6W"
      },
      "execution_count": 197,
      "outputs": []
    },
    {
      "cell_type": "code",
      "source": [
        "b"
      ],
      "metadata": {
        "colab": {
          "base_uri": "https://localhost:8080/"
        },
        "id": "KELBL_qXtr9Z",
        "outputId": "1d52ad22-334f-4798-eb65-4417858992a4"
      },
      "execution_count": 198,
      "outputs": [
        {
          "output_type": "execute_result",
          "data": {
            "text/plain": [
              "array([1, 2, 3, 4, 5, 6, 7, 8, 9], dtype=uint8)"
            ]
          },
          "metadata": {},
          "execution_count": 198
        }
      ]
    },
    {
      "cell_type": "code",
      "source": [
        "b.__array_interface__['data'][0]"
      ],
      "metadata": {
        "colab": {
          "base_uri": "https://localhost:8080/"
        },
        "id": "2BDTG-qtdFef",
        "outputId": "f165b610-df52-4d4f-beab-3198f5314d6b"
      },
      "execution_count": 199,
      "outputs": [
        {
          "output_type": "execute_result",
          "data": {
            "text/plain": [
              "68428369"
            ]
          },
          "metadata": {},
          "execution_count": 199
        }
      ]
    },
    {
      "cell_type": "code",
      "source": [],
      "metadata": {
        "id": "NPwbvPALdFht"
      },
      "execution_count": 199,
      "outputs": []
    },
    {
      "cell_type": "code",
      "source": [
        "# Get back to the section \"An Illustrated Guide to Shape and Strides (Part 3)\""
      ],
      "metadata": {
        "id": "T_KS_MzzuRkj"
      },
      "execution_count": 200,
      "outputs": []
    },
    {
      "cell_type": "markdown",
      "source": [
        "## 2. Solving a Stride Problem: Swapping Tiles"
      ],
      "metadata": {
        "id": "NbqWXC_EuRoG"
      }
    },
    {
      "cell_type": "code",
      "source": [
        "a = np.arange(16)"
      ],
      "metadata": {
        "id": "Fd0ETNrFuRry"
      },
      "execution_count": 201,
      "outputs": []
    },
    {
      "cell_type": "code",
      "source": [
        "a"
      ],
      "metadata": {
        "colab": {
          "base_uri": "https://localhost:8080/"
        },
        "id": "gLoOdYojuRuv",
        "outputId": "b1df20ad-cbd5-4181-fcc3-3a77839b6687"
      },
      "execution_count": 202,
      "outputs": [
        {
          "output_type": "execute_result",
          "data": {
            "text/plain": [
              "array([ 0,  1,  2,  3,  4,  5,  6,  7,  8,  9, 10, 11, 12, 13, 14, 15])"
            ]
          },
          "metadata": {},
          "execution_count": 202
        }
      ]
    },
    {
      "cell_type": "code",
      "source": [
        "a = a.reshape(4, 4)\n",
        "a"
      ],
      "metadata": {
        "colab": {
          "base_uri": "https://localhost:8080/"
        },
        "id": "_KwUoQXKuRxV",
        "outputId": "12029527-7879-42f2-8dd8-502a75791515"
      },
      "execution_count": 203,
      "outputs": [
        {
          "output_type": "execute_result",
          "data": {
            "text/plain": [
              "array([[ 0,  1,  2,  3],\n",
              "       [ 4,  5,  6,  7],\n",
              "       [ 8,  9, 10, 11],\n",
              "       [12, 13, 14, 15]])"
            ]
          },
          "metadata": {},
          "execution_count": 203
        }
      ]
    },
    {
      "cell_type": "code",
      "source": [
        "hor1 = np.hstack((a[0:2, 0:2], a[2:4, 0:2]))\n",
        "hor1"
      ],
      "metadata": {
        "colab": {
          "base_uri": "https://localhost:8080/"
        },
        "id": "RsDPCroHuR0T",
        "outputId": "8e0b4798-9ac4-41c9-8f2d-6336c8efa881"
      },
      "execution_count": 204,
      "outputs": [
        {
          "output_type": "execute_result",
          "data": {
            "text/plain": [
              "array([[ 0,  1,  8,  9],\n",
              "       [ 4,  5, 12, 13]])"
            ]
          },
          "metadata": {},
          "execution_count": 204
        }
      ]
    },
    {
      "cell_type": "code",
      "source": [
        "hor2 = np.hstack((a[0:2, 2:4], a[2:4, 2:4]))\n",
        "hor2"
      ],
      "metadata": {
        "colab": {
          "base_uri": "https://localhost:8080/"
        },
        "id": "NDZ5ERqWFauB",
        "outputId": "f9b31dd2-cb06-4ded-c3f9-892b2e7fb929"
      },
      "execution_count": 205,
      "outputs": [
        {
          "output_type": "execute_result",
          "data": {
            "text/plain": [
              "array([[ 2,  3, 10, 11],\n",
              "       [ 6,  7, 14, 15]])"
            ]
          },
          "metadata": {},
          "execution_count": 205
        }
      ]
    },
    {
      "cell_type": "code",
      "source": [
        "np.vstack((hor1, hor2))"
      ],
      "metadata": {
        "colab": {
          "base_uri": "https://localhost:8080/"
        },
        "id": "63yVdLzpFa4O",
        "outputId": "c486dbc3-d4a5-49a8-a53f-810352b5918a"
      },
      "execution_count": 206,
      "outputs": [
        {
          "output_type": "execute_result",
          "data": {
            "text/plain": [
              "array([[ 0,  1,  8,  9],\n",
              "       [ 4,  5, 12, 13],\n",
              "       [ 2,  3, 10, 11],\n",
              "       [ 6,  7, 14, 15]])"
            ]
          },
          "metadata": {},
          "execution_count": 206
        }
      ]
    },
    {
      "cell_type": "code",
      "source": [],
      "metadata": {
        "id": "aAYBSetfFa_C"
      },
      "execution_count": 206,
      "outputs": []
    },
    {
      "cell_type": "code",
      "source": [
        "b = as_strided(a, shape=(2, 2, 2, 2), strides=(16, 32, 64, 8))\n",
        "b"
      ],
      "metadata": {
        "colab": {
          "base_uri": "https://localhost:8080/"
        },
        "id": "TeG6qNk1uR3J",
        "outputId": "514ab47b-6b1d-413e-d41e-a38740379fe9"
      },
      "execution_count": 207,
      "outputs": [
        {
          "output_type": "execute_result",
          "data": {
            "text/plain": [
              "array([[[[ 0,  1],\n",
              "         [ 8,  9]],\n",
              "\n",
              "        [[ 4,  5],\n",
              "         [12, 13]]],\n",
              "\n",
              "\n",
              "       [[[ 2,  3],\n",
              "         [10, 11]],\n",
              "\n",
              "        [[ 6,  7],\n",
              "         [14, 15]]]])"
            ]
          },
          "metadata": {},
          "execution_count": 207
        }
      ]
    },
    {
      "cell_type": "code",
      "source": [],
      "metadata": {
        "id": "FB3LOdI9HF8m"
      },
      "execution_count": 206,
      "outputs": []
    },
    {
      "cell_type": "markdown",
      "source": [
        "### numpy.swapaxes  \n",
        "https://numpy.org/doc/stable/reference/generated/numpy.swapaxes.html"
      ],
      "metadata": {
        "id": "mJQj1ToBHGDf"
      }
    },
    {
      "cell_type": "code",
      "source": [
        "x = np.array([[1,2,3]])"
      ],
      "metadata": {
        "id": "fD1C3lPHHGGm"
      },
      "execution_count": 208,
      "outputs": []
    },
    {
      "cell_type": "code",
      "source": [
        "x"
      ],
      "metadata": {
        "colab": {
          "base_uri": "https://localhost:8080/"
        },
        "id": "zHKTjOWGHGJ7",
        "outputId": "534c6a28-d8c2-4cce-e22c-c4f99de4a682"
      },
      "execution_count": 209,
      "outputs": [
        {
          "output_type": "execute_result",
          "data": {
            "text/plain": [
              "array([[1, 2, 3]])"
            ]
          },
          "metadata": {},
          "execution_count": 209
        }
      ]
    },
    {
      "cell_type": "code",
      "source": [
        "type(x)"
      ],
      "metadata": {
        "colab": {
          "base_uri": "https://localhost:8080/"
        },
        "id": "51I-fzt_VCC5",
        "outputId": "c8047582-c0a3-4ce9-b8f1-6f65d44455d1"
      },
      "execution_count": 210,
      "outputs": [
        {
          "output_type": "execute_result",
          "data": {
            "text/plain": [
              "numpy.ndarray"
            ]
          },
          "metadata": {},
          "execution_count": 210
        }
      ]
    },
    {
      "cell_type": "code",
      "source": [
        "np.swapaxes(x, 0, 1)"
      ],
      "metadata": {
        "colab": {
          "base_uri": "https://localhost:8080/"
        },
        "id": "PdPoEvz7VCIl",
        "outputId": "74b2f65b-7cf6-4472-8268-6ce7bddb2659"
      },
      "execution_count": 211,
      "outputs": [
        {
          "output_type": "execute_result",
          "data": {
            "text/plain": [
              "array([[1],\n",
              "       [2],\n",
              "       [3]])"
            ]
          },
          "metadata": {},
          "execution_count": 211
        }
      ]
    },
    {
      "cell_type": "code",
      "source": [
        "x"
      ],
      "metadata": {
        "colab": {
          "base_uri": "https://localhost:8080/"
        },
        "id": "AC2zrtdNVCOS",
        "outputId": "048f564a-ec2a-41b1-e70b-06def66a9afe"
      },
      "execution_count": 212,
      "outputs": [
        {
          "output_type": "execute_result",
          "data": {
            "text/plain": [
              "array([[1, 2, 3]])"
            ]
          },
          "metadata": {},
          "execution_count": 212
        }
      ]
    },
    {
      "cell_type": "code",
      "source": [
        "x_swapped = np.swapaxes(x, 0, 1)"
      ],
      "metadata": {
        "id": "atls9F7lVCVa"
      },
      "execution_count": 213,
      "outputs": []
    },
    {
      "cell_type": "code",
      "source": [
        "x_swapped"
      ],
      "metadata": {
        "colab": {
          "base_uri": "https://localhost:8080/"
        },
        "id": "NNw5UOItVdiP",
        "outputId": "60f382e8-bfa9-4662-ea84-69d42b047c35"
      },
      "execution_count": 214,
      "outputs": [
        {
          "output_type": "execute_result",
          "data": {
            "text/plain": [
              "array([[1],\n",
              "       [2],\n",
              "       [3]])"
            ]
          },
          "metadata": {},
          "execution_count": 214
        }
      ]
    },
    {
      "cell_type": "code",
      "source": [
        "np.swapaxes(x_swapped, 0, 1)"
      ],
      "metadata": {
        "colab": {
          "base_uri": "https://localhost:8080/"
        },
        "id": "hzEvtLt3Vdw_",
        "outputId": "ac77d83e-6eb5-4626-d299-6abcb51fc43a"
      },
      "execution_count": 215,
      "outputs": [
        {
          "output_type": "execute_result",
          "data": {
            "text/plain": [
              "array([[1, 2, 3]])"
            ]
          },
          "metadata": {},
          "execution_count": 215
        }
      ]
    },
    {
      "cell_type": "code",
      "source": [
        "# np.swapaxes(np.array([1,2,3]))\n",
        "\n",
        "# TypeError: _swapaxes_dispatcher() missing 2 required positional arguments: 'axis1' and 'axis2'"
      ],
      "metadata": {
        "id": "6IrdCk8GVd_0"
      },
      "execution_count": 217,
      "outputs": []
    },
    {
      "cell_type": "code",
      "source": [
        "x = np.array([[[0,1],[2,3]],[[4,5],[6,7]]])"
      ],
      "metadata": {
        "id": "bHV-93BbVCcO"
      },
      "execution_count": 221,
      "outputs": []
    },
    {
      "cell_type": "code",
      "source": [
        "x"
      ],
      "metadata": {
        "colab": {
          "base_uri": "https://localhost:8080/"
        },
        "id": "xqR4LDiyWXQu",
        "outputId": "02fd36e8-5470-41fe-821b-937a053b7c70"
      },
      "execution_count": 222,
      "outputs": [
        {
          "output_type": "execute_result",
          "data": {
            "text/plain": [
              "array([[[0, 1],\n",
              "        [2, 3]],\n",
              "\n",
              "       [[4, 5],\n",
              "        [6, 7]]])"
            ]
          },
          "metadata": {},
          "execution_count": 222
        }
      ]
    },
    {
      "cell_type": "code",
      "source": [
        " np.swapaxes(x, 0, 2)"
      ],
      "metadata": {
        "colab": {
          "base_uri": "https://localhost:8080/"
        },
        "id": "pQjqCIYyWXaR",
        "outputId": "089ed458-9b69-48ed-cc82-cb14661dae90"
      },
      "execution_count": 223,
      "outputs": [
        {
          "output_type": "execute_result",
          "data": {
            "text/plain": [
              "array([[[0, 4],\n",
              "        [2, 6]],\n",
              "\n",
              "       [[1, 5],\n",
              "        [3, 7]]])"
            ]
          },
          "metadata": {},
          "execution_count": 223
        }
      ]
    },
    {
      "cell_type": "code",
      "source": [
        " np.swapaxes(x, 0, 1)"
      ],
      "metadata": {
        "colab": {
          "base_uri": "https://localhost:8080/"
        },
        "id": "2h3Cl72FWXjO",
        "outputId": "173c2e58-f199-4e95-d912-80c0eca49c10"
      },
      "execution_count": 224,
      "outputs": [
        {
          "output_type": "execute_result",
          "data": {
            "text/plain": [
              "array([[[0, 1],\n",
              "        [4, 5]],\n",
              "\n",
              "       [[2, 3],\n",
              "        [6, 7]]])"
            ]
          },
          "metadata": {},
          "execution_count": 224
        }
      ]
    },
    {
      "cell_type": "code",
      "source": [
        " np.swapaxes(x, 1, 2)"
      ],
      "metadata": {
        "colab": {
          "base_uri": "https://localhost:8080/"
        },
        "id": "j7F7TtyEWXqK",
        "outputId": "1db027e2-f124-42e0-d086-51ec75a68ce8"
      },
      "execution_count": 225,
      "outputs": [
        {
          "output_type": "execute_result",
          "data": {
            "text/plain": [
              "array([[[0, 2],\n",
              "        [1, 3]],\n",
              "\n",
              "       [[4, 6],\n",
              "        [5, 7]]])"
            ]
          },
          "metadata": {},
          "execution_count": 225
        }
      ]
    },
    {
      "cell_type": "code",
      "source": [],
      "metadata": {
        "id": "WYnRtqivWXzF"
      },
      "execution_count": null,
      "outputs": []
    },
    {
      "cell_type": "code",
      "source": [],
      "metadata": {
        "id": "J7gIFTZBVChP"
      },
      "execution_count": null,
      "outputs": []
    },
    {
      "cell_type": "code",
      "source": [],
      "metadata": {
        "id": "vKlIVtR8b3Hg"
      },
      "execution_count": 206,
      "outputs": []
    },
    {
      "cell_type": "code",
      "source": [],
      "metadata": {
        "id": "B5LnItnPb3Mr"
      },
      "execution_count": 206,
      "outputs": []
    }
  ]
}