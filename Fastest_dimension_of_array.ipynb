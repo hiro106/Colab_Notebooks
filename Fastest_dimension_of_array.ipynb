{
  "nbformat": 4,
  "nbformat_minor": 0,
  "metadata": {
    "colab": {
      "name": "Fastest_dimension_of_array.ipynb",
      "provenance": [],
      "collapsed_sections": [],
      "authorship_tag": "ABX9TyPxwGeapOICcRPbPsi5z95d",
      "include_colab_link": true
    },
    "kernelspec": {
      "name": "python3",
      "display_name": "Python 3"
    },
    "language_info": {
      "name": "python"
    }
  },
  "cells": [
    {
      "cell_type": "markdown",
      "metadata": {
        "id": "view-in-github",
        "colab_type": "text"
      },
      "source": [
        "<a href=\"https://colab.research.google.com/github/hiro106/statistics_ml_cs_learning/blob/main/Fastest_dimension_of_array.ipynb\" target=\"_parent\"><img src=\"https://colab.research.google.com/assets/colab-badge.svg\" alt=\"Open In Colab\"/></a>"
      ]
    },
    {
      "cell_type": "markdown",
      "source": [
        "https://github.com/agilescientific/notebooks/blob/master/Fastest_dimension_of_array.ipynb"
      ],
      "metadata": {
        "id": "8XPs0fJwTCxe"
      }
    },
    {
      "cell_type": "markdown",
      "source": [
        "トレース＆カスタマイズで理解する  \n",
        "I will comprehend the contents of this notebook by tracing and customizing them."
      ],
      "metadata": {
        "id": "q9Acx4NZTdR7"
      }
    },
    {
      "cell_type": "markdown",
      "source": [
        "# Which is the fastest axis of an array?\n",
        "\n",
        "I'd like to know: which axes of a NumPy array are fastest to access?"
      ],
      "metadata": {
        "id": "HwVkFMM4TGA_"
      }
    },
    {
      "cell_type": "code",
      "source": [
        "import numpy as np"
      ],
      "metadata": {
        "id": "5UODgEeoTGDc"
      },
      "execution_count": 1,
      "outputs": []
    },
    {
      "cell_type": "code",
      "source": [
        "np"
      ],
      "metadata": {
        "colab": {
          "base_uri": "https://localhost:8080/"
        },
        "id": "gVl9TImlTGGD",
        "outputId": "38f46bbc-99b3-4b2d-a5c0-4984dffc715b"
      },
      "execution_count": 2,
      "outputs": [
        {
          "output_type": "execute_result",
          "data": {
            "text/plain": [
              "<module 'numpy' from '/usr/local/lib/python3.7/dist-packages/numpy/__init__.py'>"
            ]
          },
          "metadata": {},
          "execution_count": 2
        }
      ]
    },
    {
      "cell_type": "code",
      "source": [
        "%matplotlib inline"
      ],
      "metadata": {
        "id": "TrtwKO3LTGI1"
      },
      "execution_count": 3,
      "outputs": []
    },
    {
      "cell_type": "code",
      "source": [
        "matplotlib"
      ],
      "metadata": {
        "colab": {
          "base_uri": "https://localhost:8080/"
        },
        "id": "ei8gjkHxTGLX",
        "outputId": "604e4d1b-9bda-41c9-a0a6-5dff2e1d6ebe"
      },
      "execution_count": 4,
      "outputs": [
        {
          "output_type": "stream",
          "name": "stdout",
          "text": [
            "Using matplotlib backend: agg\n"
          ]
        }
      ]
    },
    {
      "cell_type": "code",
      "source": [
        "import matplotlib.pyplot as plt"
      ],
      "metadata": {
        "id": "zWb1uMa0TGOJ"
      },
      "execution_count": 5,
      "outputs": []
    },
    {
      "cell_type": "code",
      "source": [
        "plt"
      ],
      "metadata": {
        "colab": {
          "base_uri": "https://localhost:8080/"
        },
        "id": "4niOKaY4TGQ6",
        "outputId": "791de663-5a05-4cae-975e-2cdad554a98e"
      },
      "execution_count": 6,
      "outputs": [
        {
          "output_type": "execute_result",
          "data": {
            "text/plain": [
              "<module 'matplotlib.pyplot' from '/usr/local/lib/python3.7/dist-packages/matplotlib/pyplot.py'>"
            ]
          },
          "metadata": {},
          "execution_count": 6
        }
      ]
    },
    {
      "cell_type": "markdown",
      "source": [
        "## A tiny example"
      ],
      "metadata": {
        "id": "sRxNjS3VTGii"
      }
    },
    {
      "cell_type": "code",
      "source": [
        "a = np.arange(9).reshape(3, 3)\n",
        "a"
      ],
      "metadata": {
        "id": "WCcxdE48Ud4f",
        "colab": {
          "base_uri": "https://localhost:8080/"
        },
        "outputId": "07230da4-7a26-43b9-84ac-97861bf74417"
      },
      "execution_count": 7,
      "outputs": [
        {
          "output_type": "execute_result",
          "data": {
            "text/plain": [
              "array([[0, 1, 2],\n",
              "       [3, 4, 5],\n",
              "       [6, 7, 8]])"
            ]
          },
          "metadata": {},
          "execution_count": 7
        }
      ]
    },
    {
      "cell_type": "code",
      "source": [
        "' '.join(str(i) for i in a.ravel(order='C'))"
      ],
      "metadata": {
        "id": "X_7oTuIIUd7H",
        "colab": {
          "base_uri": "https://localhost:8080/",
          "height": 35
        },
        "outputId": "50f5c519-b619-40ce-aaf5-6a44cba7fdf2"
      },
      "execution_count": 8,
      "outputs": [
        {
          "output_type": "execute_result",
          "data": {
            "text/plain": [
              "'0 1 2 3 4 5 6 7 8'"
            ],
            "application/vnd.google.colaboratory.intrinsic+json": {
              "type": "string"
            }
          },
          "metadata": {},
          "execution_count": 8
        }
      ]
    },
    {
      "cell_type": "code",
      "source": [
        "' '.join(str(i) for i in a.ravel(order='F'))"
      ],
      "metadata": {
        "id": "d1gIqdomUd9w",
        "colab": {
          "base_uri": "https://localhost:8080/",
          "height": 35
        },
        "outputId": "61e6a722-6ba6-4730-df54-ebcb975f3709"
      },
      "execution_count": 9,
      "outputs": [
        {
          "output_type": "execute_result",
          "data": {
            "text/plain": [
              "'0 3 6 1 4 7 2 5 8'"
            ],
            "application/vnd.google.colaboratory.intrinsic+json": {
              "type": "string"
            }
          },
          "metadata": {},
          "execution_count": 9
        }
      ]
    },
    {
      "cell_type": "markdown",
      "source": [
        "## A seismic volume"
      ],
      "metadata": {
        "id": "yFQirTsuTGmI"
      }
    },
    {
      "cell_type": "code",
      "source": [
        "from google.colab import drive\n",
        "drive.mount('/drive')"
      ],
      "metadata": {
        "colab": {
          "base_uri": "https://localhost:8080/"
        },
        "id": "jvSSlCjkcqLe",
        "outputId": "7aa0e4a2-dde0-4802-c51b-6c9392cd193f"
      },
      "execution_count": 10,
      "outputs": [
        {
          "output_type": "stream",
          "name": "stdout",
          "text": [
            "Mounted at /drive\n"
          ]
        }
      ]
    },
    {
      "cell_type": "code",
      "source": [
        "volume = np.load(\"/drive/My Drive/Colab Notebooks/data/F3_volume_3x3_16bit.npy\")"
      ],
      "metadata": {
        "id": "TmUXBmKwTGqk"
      },
      "execution_count": 11,
      "outputs": []
    },
    {
      "cell_type": "code",
      "source": [
        "volume"
      ],
      "metadata": {
        "id": "jmxLHkcFTGvw",
        "colab": {
          "base_uri": "https://localhost:8080/"
        },
        "outputId": "4e0fa3ae-e3cc-4e79-8dda-025fd92640fc"
      },
      "execution_count": 12,
      "outputs": [
        {
          "output_type": "execute_result",
          "data": {
            "text/plain": [
              "array([[[    0,     0,     0, ...,  1779,  1476,  -129],\n",
              "        [    0,     0,     0, ...,  1175,  -273,   598],\n",
              "        [    0,     0,     0, ...,   574,  -526,   302],\n",
              "        ...,\n",
              "        [-1209, -1209, -1209, ...,  4127,  1873,  2032],\n",
              "        [ -151,  -151,  -151, ...,  3619,  2145,  1522],\n",
              "        [ -864,  -864,  -864, ...,  4260,  2667,   405]],\n",
              "\n",
              "       [[-1018, -1018, -1018, ...,  1050,  1238,   189],\n",
              "        [-1173, -1173, -1173, ...,  1310,   324,   289],\n",
              "        [ -417,  -417,  -417, ...,   823,  -466,   447],\n",
              "        ...,\n",
              "        [-2029, -2029, -2029, ...,  3973,   363,   468],\n",
              "        [-1869, -1869, -1869, ...,  3741,  1296,   967],\n",
              "        [-1065, -1065, -1065, ...,  3327,  2041,  1132]],\n",
              "\n",
              "       [[ -425,  -425,  -425, ...,   -12,  1142,  1162],\n",
              "        [  -42,   -42,   -42, ...,   760,  -109,   136],\n",
              "        [ -443,  -443,  -443, ...,    25,  -615,   195],\n",
              "        ...,\n",
              "        [    0,     0,     0, ...,  3430,   638,   804],\n",
              "        [ -490,  -490,  -490, ...,  3741,  1139,   500],\n",
              "        [ -554,  -554,  -554, ...,  4370,  2453,   929]],\n",
              "\n",
              "       ...,\n",
              "\n",
              "       [[    0,     0,     0, ...,   461,  1059,   587],\n",
              "        [    0,     0,     0, ...,   109,  1079,   458],\n",
              "        [    0,     0,     0, ...,   701,  1261,   696],\n",
              "        ...,\n",
              "        [ -146,  -146,  -146, ...,  3392,  4560,  3552],\n",
              "        [ -883,  -883,  -883, ...,  2628,  2509,  2005],\n",
              "        [ -680,  -680,  -680, ..., -1749, -1931, -1902]],\n",
              "\n",
              "       [[ -323,  -323,  -323, ...,  1817,   422,  -714],\n",
              "        [    0,     0,     0, ...,  1291,  -247,  -891],\n",
              "        [ -849,  -849,  -849, ...,   654,   798,  -616],\n",
              "        ...,\n",
              "        [ -346,  -346,  -346, ...,  1571,  3727,  3654],\n",
              "        [ -553,  -553,  -553, ...,   372,  -130,   737],\n",
              "        [ -612,  -612,  -612, ...,  -248,   191, -1447]],\n",
              "\n",
              "       [[    0,     0,     0, ...,  1677,   857,   -56],\n",
              "        [    0,     0,     0, ...,   643,  1177,   275],\n",
              "        [    0,     0,     0, ...,  -263,   575,   790],\n",
              "        ...,\n",
              "        [    0,     0,     0, ...,  1999,  2591,  2373],\n",
              "        [    0,     0,     0, ...,  -299,  1199,   480],\n",
              "        [    0,     0,     0, ...,   845,    94, -1577]]], dtype=int16)"
            ]
          },
          "metadata": {},
          "execution_count": 12
        }
      ]
    },
    {
      "cell_type": "code",
      "source": [
        "volume.shape"
      ],
      "metadata": {
        "colab": {
          "base_uri": "https://localhost:8080/"
        },
        "id": "XUQLYgZnbcgc",
        "outputId": "53648d68-e070-434d-c30d-dd7826b907ee"
      },
      "execution_count": 13,
      "outputs": [
        {
          "output_type": "execute_result",
          "data": {
            "text/plain": [
              "(194, 299, 451)"
            ]
          },
          "metadata": {},
          "execution_count": 13
        }
      ]
    },
    {
      "cell_type": "markdown",
      "source": [
        "Let's look at how the indices vary:"
      ],
      "metadata": {
        "id": "_JfDwwaRbcjF"
      }
    },
    {
      "cell_type": "code",
      "source": [
        "idx = np.indices(volume.shape)"
      ],
      "metadata": {
        "id": "4608KmcybcmP"
      },
      "execution_count": 14,
      "outputs": []
    },
    {
      "cell_type": "code",
      "source": [
        "idx.shape"
      ],
      "metadata": {
        "colab": {
          "base_uri": "https://localhost:8080/"
        },
        "id": "QwqC1phMbco1",
        "outputId": "60e34a78-b392-4d34-d49a-c16c897385b1"
      },
      "execution_count": 15,
      "outputs": [
        {
          "output_type": "execute_result",
          "data": {
            "text/plain": [
              "(3, 194, 299, 451)"
            ]
          },
          "metadata": {},
          "execution_count": 15
        }
      ]
    },
    {
      "cell_type": "code",
      "source": [
        "idx"
      ],
      "metadata": {
        "colab": {
          "base_uri": "https://localhost:8080/"
        },
        "id": "HDzFbtdnbcrz",
        "outputId": "b84afc2f-3ebd-40db-b6f0-a3d07bd9272a"
      },
      "execution_count": 16,
      "outputs": [
        {
          "output_type": "execute_result",
          "data": {
            "text/plain": [
              "array([[[[  0,   0,   0, ...,   0,   0,   0],\n",
              "         [  0,   0,   0, ...,   0,   0,   0],\n",
              "         [  0,   0,   0, ...,   0,   0,   0],\n",
              "         ...,\n",
              "         [  0,   0,   0, ...,   0,   0,   0],\n",
              "         [  0,   0,   0, ...,   0,   0,   0],\n",
              "         [  0,   0,   0, ...,   0,   0,   0]],\n",
              "\n",
              "        [[  1,   1,   1, ...,   1,   1,   1],\n",
              "         [  1,   1,   1, ...,   1,   1,   1],\n",
              "         [  1,   1,   1, ...,   1,   1,   1],\n",
              "         ...,\n",
              "         [  1,   1,   1, ...,   1,   1,   1],\n",
              "         [  1,   1,   1, ...,   1,   1,   1],\n",
              "         [  1,   1,   1, ...,   1,   1,   1]],\n",
              "\n",
              "        [[  2,   2,   2, ...,   2,   2,   2],\n",
              "         [  2,   2,   2, ...,   2,   2,   2],\n",
              "         [  2,   2,   2, ...,   2,   2,   2],\n",
              "         ...,\n",
              "         [  2,   2,   2, ...,   2,   2,   2],\n",
              "         [  2,   2,   2, ...,   2,   2,   2],\n",
              "         [  2,   2,   2, ...,   2,   2,   2]],\n",
              "\n",
              "        ...,\n",
              "\n",
              "        [[191, 191, 191, ..., 191, 191, 191],\n",
              "         [191, 191, 191, ..., 191, 191, 191],\n",
              "         [191, 191, 191, ..., 191, 191, 191],\n",
              "         ...,\n",
              "         [191, 191, 191, ..., 191, 191, 191],\n",
              "         [191, 191, 191, ..., 191, 191, 191],\n",
              "         [191, 191, 191, ..., 191, 191, 191]],\n",
              "\n",
              "        [[192, 192, 192, ..., 192, 192, 192],\n",
              "         [192, 192, 192, ..., 192, 192, 192],\n",
              "         [192, 192, 192, ..., 192, 192, 192],\n",
              "         ...,\n",
              "         [192, 192, 192, ..., 192, 192, 192],\n",
              "         [192, 192, 192, ..., 192, 192, 192],\n",
              "         [192, 192, 192, ..., 192, 192, 192]],\n",
              "\n",
              "        [[193, 193, 193, ..., 193, 193, 193],\n",
              "         [193, 193, 193, ..., 193, 193, 193],\n",
              "         [193, 193, 193, ..., 193, 193, 193],\n",
              "         ...,\n",
              "         [193, 193, 193, ..., 193, 193, 193],\n",
              "         [193, 193, 193, ..., 193, 193, 193],\n",
              "         [193, 193, 193, ..., 193, 193, 193]]],\n",
              "\n",
              "\n",
              "       [[[  0,   0,   0, ...,   0,   0,   0],\n",
              "         [  1,   1,   1, ...,   1,   1,   1],\n",
              "         [  2,   2,   2, ...,   2,   2,   2],\n",
              "         ...,\n",
              "         [296, 296, 296, ..., 296, 296, 296],\n",
              "         [297, 297, 297, ..., 297, 297, 297],\n",
              "         [298, 298, 298, ..., 298, 298, 298]],\n",
              "\n",
              "        [[  0,   0,   0, ...,   0,   0,   0],\n",
              "         [  1,   1,   1, ...,   1,   1,   1],\n",
              "         [  2,   2,   2, ...,   2,   2,   2],\n",
              "         ...,\n",
              "         [296, 296, 296, ..., 296, 296, 296],\n",
              "         [297, 297, 297, ..., 297, 297, 297],\n",
              "         [298, 298, 298, ..., 298, 298, 298]],\n",
              "\n",
              "        [[  0,   0,   0, ...,   0,   0,   0],\n",
              "         [  1,   1,   1, ...,   1,   1,   1],\n",
              "         [  2,   2,   2, ...,   2,   2,   2],\n",
              "         ...,\n",
              "         [296, 296, 296, ..., 296, 296, 296],\n",
              "         [297, 297, 297, ..., 297, 297, 297],\n",
              "         [298, 298, 298, ..., 298, 298, 298]],\n",
              "\n",
              "        ...,\n",
              "\n",
              "        [[  0,   0,   0, ...,   0,   0,   0],\n",
              "         [  1,   1,   1, ...,   1,   1,   1],\n",
              "         [  2,   2,   2, ...,   2,   2,   2],\n",
              "         ...,\n",
              "         [296, 296, 296, ..., 296, 296, 296],\n",
              "         [297, 297, 297, ..., 297, 297, 297],\n",
              "         [298, 298, 298, ..., 298, 298, 298]],\n",
              "\n",
              "        [[  0,   0,   0, ...,   0,   0,   0],\n",
              "         [  1,   1,   1, ...,   1,   1,   1],\n",
              "         [  2,   2,   2, ...,   2,   2,   2],\n",
              "         ...,\n",
              "         [296, 296, 296, ..., 296, 296, 296],\n",
              "         [297, 297, 297, ..., 297, 297, 297],\n",
              "         [298, 298, 298, ..., 298, 298, 298]],\n",
              "\n",
              "        [[  0,   0,   0, ...,   0,   0,   0],\n",
              "         [  1,   1,   1, ...,   1,   1,   1],\n",
              "         [  2,   2,   2, ...,   2,   2,   2],\n",
              "         ...,\n",
              "         [296, 296, 296, ..., 296, 296, 296],\n",
              "         [297, 297, 297, ..., 297, 297, 297],\n",
              "         [298, 298, 298, ..., 298, 298, 298]]],\n",
              "\n",
              "\n",
              "       [[[  0,   1,   2, ..., 448, 449, 450],\n",
              "         [  0,   1,   2, ..., 448, 449, 450],\n",
              "         [  0,   1,   2, ..., 448, 449, 450],\n",
              "         ...,\n",
              "         [  0,   1,   2, ..., 448, 449, 450],\n",
              "         [  0,   1,   2, ..., 448, 449, 450],\n",
              "         [  0,   1,   2, ..., 448, 449, 450]],\n",
              "\n",
              "        [[  0,   1,   2, ..., 448, 449, 450],\n",
              "         [  0,   1,   2, ..., 448, 449, 450],\n",
              "         [  0,   1,   2, ..., 448, 449, 450],\n",
              "         ...,\n",
              "         [  0,   1,   2, ..., 448, 449, 450],\n",
              "         [  0,   1,   2, ..., 448, 449, 450],\n",
              "         [  0,   1,   2, ..., 448, 449, 450]],\n",
              "\n",
              "        [[  0,   1,   2, ..., 448, 449, 450],\n",
              "         [  0,   1,   2, ..., 448, 449, 450],\n",
              "         [  0,   1,   2, ..., 448, 449, 450],\n",
              "         ...,\n",
              "         [  0,   1,   2, ..., 448, 449, 450],\n",
              "         [  0,   1,   2, ..., 448, 449, 450],\n",
              "         [  0,   1,   2, ..., 448, 449, 450]],\n",
              "\n",
              "        ...,\n",
              "\n",
              "        [[  0,   1,   2, ..., 448, 449, 450],\n",
              "         [  0,   1,   2, ..., 448, 449, 450],\n",
              "         [  0,   1,   2, ..., 448, 449, 450],\n",
              "         ...,\n",
              "         [  0,   1,   2, ..., 448, 449, 450],\n",
              "         [  0,   1,   2, ..., 448, 449, 450],\n",
              "         [  0,   1,   2, ..., 448, 449, 450]],\n",
              "\n",
              "        [[  0,   1,   2, ..., 448, 449, 450],\n",
              "         [  0,   1,   2, ..., 448, 449, 450],\n",
              "         [  0,   1,   2, ..., 448, 449, 450],\n",
              "         ...,\n",
              "         [  0,   1,   2, ..., 448, 449, 450],\n",
              "         [  0,   1,   2, ..., 448, 449, 450],\n",
              "         [  0,   1,   2, ..., 448, 449, 450]],\n",
              "\n",
              "        [[  0,   1,   2, ..., 448, 449, 450],\n",
              "         [  0,   1,   2, ..., 448, 449, 450],\n",
              "         [  0,   1,   2, ..., 448, 449, 450],\n",
              "         ...,\n",
              "         [  0,   1,   2, ..., 448, 449, 450],\n",
              "         [  0,   1,   2, ..., 448, 449, 450],\n",
              "         [  0,   1,   2, ..., 448, 449, 450]]]])"
            ]
          },
          "metadata": {},
          "execution_count": 16
        }
      ]
    },
    {
      "cell_type": "code",
      "source": [
        ""
      ],
      "metadata": {
        "id": "fm17pLmtdMPS"
      },
      "execution_count": 16,
      "outputs": []
    },
    {
      "cell_type": "code",
      "source": [
        "from matplotlib.font_manager import FontProperties"
      ],
      "metadata": {
        "id": "qZf1l9WEdMRx"
      },
      "execution_count": 17,
      "outputs": []
    },
    {
      "cell_type": "code",
      "source": [
        "annot = ['data[2, :, :]', 'data[:, 2, :]', 'data[:, :, 2]']"
      ],
      "metadata": {
        "id": "19L3XW2xdMUZ"
      },
      "execution_count": 18,
      "outputs": []
    },
    {
      "cell_type": "code",
      "source": [
        "annot"
      ],
      "metadata": {
        "colab": {
          "base_uri": "https://localhost:8080/"
        },
        "id": "x1Wj6ueOdMW5",
        "outputId": "5bc92aff-150d-4f4b-a310-106d250c3e7a"
      },
      "execution_count": 19,
      "outputs": [
        {
          "output_type": "execute_result",
          "data": {
            "text/plain": [
              "['data[2, :, :]', 'data[:, 2, :]', 'data[:, :, 2]']"
            ]
          },
          "metadata": {},
          "execution_count": 19
        }
      ]
    },
    {
      "cell_type": "code",
      "source": [
        "mono = FontProperties()"
      ],
      "metadata": {
        "id": "3f_ZtvZYbcvB"
      },
      "execution_count": 20,
      "outputs": []
    },
    {
      "cell_type": "code",
      "source": [
        "mono"
      ],
      "metadata": {
        "colab": {
          "base_uri": "https://localhost:8080/"
        },
        "id": "q5amEDLYlLus",
        "outputId": "58122a53-31ea-4422-a94e-1e27b69ba717"
      },
      "execution_count": 21,
      "outputs": [
        {
          "output_type": "execute_result",
          "data": {
            "text/plain": [
              "<matplotlib.font_manager.FontProperties at 0x7f9e5e75bc10>"
            ]
          },
          "metadata": {},
          "execution_count": 21
        }
      ]
    },
    {
      "cell_type": "code",
      "source": [
        "mono.set_family('monospace')"
      ],
      "metadata": {
        "id": "-3CXEFwZlMPP"
      },
      "execution_count": 22,
      "outputs": []
    },
    {
      "cell_type": "code",
      "source": [
        "mono"
      ],
      "metadata": {
        "colab": {
          "base_uri": "https://localhost:8080/"
        },
        "id": "A-Li-F78lMR6",
        "outputId": "370c961e-6bf9-4020-f9b0-8542442408a7"
      },
      "execution_count": 23,
      "outputs": [
        {
          "output_type": "execute_result",
          "data": {
            "text/plain": [
              "<matplotlib.font_manager.FontProperties at 0x7f9e5e75bc10>"
            ]
          },
          "metadata": {},
          "execution_count": 23
        }
      ]
    },
    {
      "cell_type": "code",
      "source": [
        "fig, axs = plt.subplots(ncols=3, figsize=(15,3), facecolor='w')"
      ],
      "metadata": {
        "id": "yXtSsXmllMUh"
      },
      "execution_count": 51,
      "outputs": []
    },
    {
      "cell_type": "code",
      "source": [
        "fig"
      ],
      "metadata": {
        "colab": {
          "base_uri": "https://localhost:8080/",
          "height": 169
        },
        "id": "bzW1WFxAlj9V",
        "outputId": "2fecda43-58bb-4516-ef46-5783a7cbea97"
      },
      "execution_count": 25,
      "outputs": [
        {
          "output_type": "execute_result",
          "data": {
            "text/plain": [
              "<Figure size 1080x216 with 3 Axes>"
            ],
            "image/png": "[encoded data removed]"
          },
          "metadata": {},
          "execution_count": 25
        }
      ]
    },
    {
      "cell_type": "code",
      "source": [
        "axs"
      ],
      "metadata": {
        "colab": {
          "base_uri": "https://localhost:8080/"
        },
        "id": "XOt-MEitlkAA",
        "outputId": "77207a08-56b7-48b1-c3c8-d9ba4d50a20f"
      },
      "execution_count": 26,
      "outputs": [
        {
          "output_type": "execute_result",
          "data": {
            "text/plain": [
              "array([<matplotlib.axes._subplots.AxesSubplot object at 0x7f9e666085d0>,\n",
              "       <matplotlib.axes._subplots.AxesSubplot object at 0x7f9e5e4ae450>,\n",
              "       <matplotlib.axes._subplots.AxesSubplot object at 0x7f9e5e466950>],\n",
              "      dtype=object)"
            ]
          },
          "metadata": {},
          "execution_count": 26
        }
      ]
    },
    {
      "cell_type": "code",
      "source": [
        "for i, ax in enumerate(axs):\n",
        "    data = idx[i, :5, :5, :5].ravel(order='C')\n",
        "    ax.plot(data, c=f'C{i}')\n",
        "    ax.scatter(np.where(data==2), data[data==2], color='r', s=10, zorder=10)\n",
        "    "
      ],
      "metadata": {
        "id": "p-F6EE5alkCm"
      },
      "execution_count": 27,
      "outputs": []
    },
    {
      "cell_type": "code",
      "source": [
        "data = idx[0, :5, :5, :5]"
      ],
      "metadata": {
        "id": "lR6Pe7F2lkF8"
      },
      "execution_count": 28,
      "outputs": []
    },
    {
      "cell_type": "code",
      "source": [
        "data"
      ],
      "metadata": {
        "colab": {
          "base_uri": "https://localhost:8080/"
        },
        "id": "rKcvVlbxlkIq",
        "outputId": "eec0ca30-59fe-4a32-cb18-30f183f4351b"
      },
      "execution_count": 29,
      "outputs": [
        {
          "output_type": "execute_result",
          "data": {
            "text/plain": [
              "array([[[0, 0, 0, 0, 0],\n",
              "        [0, 0, 0, 0, 0],\n",
              "        [0, 0, 0, 0, 0],\n",
              "        [0, 0, 0, 0, 0],\n",
              "        [0, 0, 0, 0, 0]],\n",
              "\n",
              "       [[1, 1, 1, 1, 1],\n",
              "        [1, 1, 1, 1, 1],\n",
              "        [1, 1, 1, 1, 1],\n",
              "        [1, 1, 1, 1, 1],\n",
              "        [1, 1, 1, 1, 1]],\n",
              "\n",
              "       [[2, 2, 2, 2, 2],\n",
              "        [2, 2, 2, 2, 2],\n",
              "        [2, 2, 2, 2, 2],\n",
              "        [2, 2, 2, 2, 2],\n",
              "        [2, 2, 2, 2, 2]],\n",
              "\n",
              "       [[3, 3, 3, 3, 3],\n",
              "        [3, 3, 3, 3, 3],\n",
              "        [3, 3, 3, 3, 3],\n",
              "        [3, 3, 3, 3, 3],\n",
              "        [3, 3, 3, 3, 3]],\n",
              "\n",
              "       [[4, 4, 4, 4, 4],\n",
              "        [4, 4, 4, 4, 4],\n",
              "        [4, 4, 4, 4, 4],\n",
              "        [4, 4, 4, 4, 4],\n",
              "        [4, 4, 4, 4, 4]]])"
            ]
          },
          "metadata": {},
          "execution_count": 29
        }
      ]
    },
    {
      "cell_type": "code",
      "source": [
        "data_c = data.ravel(order='C')\n",
        "data_c"
      ],
      "metadata": {
        "colab": {
          "base_uri": "https://localhost:8080/"
        },
        "id": "jlywI3yTlkLC",
        "outputId": "af965461-dc90-4d5c-daeb-9bc20ee13bfd"
      },
      "execution_count": 30,
      "outputs": [
        {
          "output_type": "execute_result",
          "data": {
            "text/plain": [
              "array([0, 0, 0, 0, 0, 0, 0, 0, 0, 0, 0, 0, 0, 0, 0, 0, 0, 0, 0, 0, 0, 0,\n",
              "       0, 0, 0, 1, 1, 1, 1, 1, 1, 1, 1, 1, 1, 1, 1, 1, 1, 1, 1, 1, 1, 1,\n",
              "       1, 1, 1, 1, 1, 1, 2, 2, 2, 2, 2, 2, 2, 2, 2, 2, 2, 2, 2, 2, 2, 2,\n",
              "       2, 2, 2, 2, 2, 2, 2, 2, 2, 3, 3, 3, 3, 3, 3, 3, 3, 3, 3, 3, 3, 3,\n",
              "       3, 3, 3, 3, 3, 3, 3, 3, 3, 3, 3, 3, 4, 4, 4, 4, 4, 4, 4, 4, 4, 4,\n",
              "       4, 4, 4, 4, 4, 4, 4, 4, 4, 4, 4, 4, 4, 4, 4])"
            ]
          },
          "metadata": {},
          "execution_count": 30
        }
      ]
    },
    {
      "cell_type": "code",
      "source": [
        "data_f = data.ravel(order='F')\n",
        "data_f"
      ],
      "metadata": {
        "colab": {
          "base_uri": "https://localhost:8080/"
        },
        "id": "oj_8OycxlkNq",
        "outputId": "9bff800e-eeab-4174-9a5a-840499fe89bd"
      },
      "execution_count": 31,
      "outputs": [
        {
          "output_type": "execute_result",
          "data": {
            "text/plain": [
              "array([0, 1, 2, 3, 4, 0, 1, 2, 3, 4, 0, 1, 2, 3, 4, 0, 1, 2, 3, 4, 0, 1,\n",
              "       2, 3, 4, 0, 1, 2, 3, 4, 0, 1, 2, 3, 4, 0, 1, 2, 3, 4, 0, 1, 2, 3,\n",
              "       4, 0, 1, 2, 3, 4, 0, 1, 2, 3, 4, 0, 1, 2, 3, 4, 0, 1, 2, 3, 4, 0,\n",
              "       1, 2, 3, 4, 0, 1, 2, 3, 4, 0, 1, 2, 3, 4, 0, 1, 2, 3, 4, 0, 1, 2,\n",
              "       3, 4, 0, 1, 2, 3, 4, 0, 1, 2, 3, 4, 0, 1, 2, 3, 4, 0, 1, 2, 3, 4,\n",
              "       0, 1, 2, 3, 4, 0, 1, 2, 3, 4, 0, 1, 2, 3, 4])"
            ]
          },
          "metadata": {},
          "execution_count": 31
        }
      ]
    },
    {
      "cell_type": "code",
      "source": [
        "data = idx[i, :5, :5, :5].ravel(order='C')"
      ],
      "metadata": {
        "id": "RVCwIHnkaC1m"
      },
      "execution_count": 32,
      "outputs": []
    },
    {
      "cell_type": "code",
      "source": [
        "data"
      ],
      "metadata": {
        "colab": {
          "base_uri": "https://localhost:8080/"
        },
        "id": "OuGfLIw5aLoJ",
        "outputId": "d00e0d66-bd7d-4a09-e0f9-87aab81f2702"
      },
      "execution_count": 33,
      "outputs": [
        {
          "output_type": "execute_result",
          "data": {
            "text/plain": [
              "array([0, 1, 2, 3, 4, 0, 1, 2, 3, 4, 0, 1, 2, 3, 4, 0, 1, 2, 3, 4, 0, 1,\n",
              "       2, 3, 4, 0, 1, 2, 3, 4, 0, 1, 2, 3, 4, 0, 1, 2, 3, 4, 0, 1, 2, 3,\n",
              "       4, 0, 1, 2, 3, 4, 0, 1, 2, 3, 4, 0, 1, 2, 3, 4, 0, 1, 2, 3, 4, 0,\n",
              "       1, 2, 3, 4, 0, 1, 2, 3, 4, 0, 1, 2, 3, 4, 0, 1, 2, 3, 4, 0, 1, 2,\n",
              "       3, 4, 0, 1, 2, 3, 4, 0, 1, 2, 3, 4, 0, 1, 2, 3, 4, 0, 1, 2, 3, 4,\n",
              "       0, 1, 2, 3, 4, 0, 1, 2, 3, 4, 0, 1, 2, 3, 4])"
            ]
          },
          "metadata": {},
          "execution_count": 33
        }
      ]
    },
    {
      "cell_type": "code",
      "source": [
        "ax.plot(data, c=f'C0')"
      ],
      "metadata": {
        "id": "1r6MN1JxlkQA",
        "colab": {
          "base_uri": "https://localhost:8080/"
        },
        "outputId": "6ba7d913-237a-466c-98c7-ac9fef019b06"
      },
      "execution_count": 34,
      "outputs": [
        {
          "output_type": "execute_result",
          "data": {
            "text/plain": [
              "[<matplotlib.lines.Line2D at 0x7f9e5e3c9490>]"
            ]
          },
          "metadata": {},
          "execution_count": 34
        }
      ]
    },
    {
      "cell_type": "code",
      "source": [
        "ax.scatter(np.where(data==2), data[data==2], color='r', s=10, zorder=10)"
      ],
      "metadata": {
        "id": "_K04Ux7elkSe",
        "colab": {
          "base_uri": "https://localhost:8080/"
        },
        "outputId": "fbd8fee6-52fc-40c8-9f19-d71950f55ee7"
      },
      "execution_count": 35,
      "outputs": [
        {
          "output_type": "execute_result",
          "data": {
            "text/plain": [
              "<matplotlib.collections.PathCollection at 0x7f9e5df21b50>"
            ]
          },
          "metadata": {},
          "execution_count": 35
        }
      ]
    },
    {
      "cell_type": "code",
      "source": [
        "ax.text(65, 4.3, 'axis 0', color='C0', size=15, ha='center')"
      ],
      "metadata": {
        "id": "no3_Ezi_lkWR",
        "colab": {
          "base_uri": "https://localhost:8080/"
        },
        "outputId": "56ffc61a-2a46-4d9b-bf36-3ba641c63eee"
      },
      "execution_count": 38,
      "outputs": [
        {
          "output_type": "execute_result",
          "data": {
            "text/plain": [
              "Text(65, 4.3, 'axis 0')"
            ]
          },
          "metadata": {},
          "execution_count": 38
        }
      ]
    },
    {
      "cell_type": "markdown",
      "source": [
        "\"CN\" color spec where 'C' precedes a number acting as an index into the default property cycle.  \n",
        "https://matplotlib.org/stable/tutorials/colors/colors.html"
      ],
      "metadata": {
        "id": "xxDjmV--lMXE"
      }
    },
    {
      "cell_type": "code",
      "source": [
        "ax.text(65, -0.7, annot[0], color='red', size=12, ha='center', fontproperties=mono)"
      ],
      "metadata": {
        "id": "mU_a1mSTlMaL",
        "colab": {
          "base_uri": "https://localhost:8080/"
        },
        "outputId": "afe80caa-502a-4508-c08b-f255105d499f"
      },
      "execution_count": 39,
      "outputs": [
        {
          "output_type": "execute_result",
          "data": {
            "text/plain": [
              "Text(65, -0.7, 'data[2, :, :]')"
            ]
          },
          "metadata": {},
          "execution_count": 39
        }
      ]
    },
    {
      "cell_type": "code",
      "source": [
        "ax.set_ylim(-1, 5)"
      ],
      "metadata": {
        "id": "Rj1m5qjHlMdC",
        "colab": {
          "base_uri": "https://localhost:8080/"
        },
        "outputId": "14148340-acbd-47e4-ffdf-6d9a24c1d29f"
      },
      "execution_count": 40,
      "outputs": [
        {
          "output_type": "execute_result",
          "data": {
            "text/plain": [
              "(-1.0, 5.0)"
            ]
          },
          "metadata": {},
          "execution_count": 40
        }
      ]
    },
    {
      "cell_type": "code",
      "source": [
        ""
      ],
      "metadata": {
        "id": "K1AcdJ-L08dl"
      },
      "execution_count": null,
      "outputs": []
    },
    {
      "cell_type": "code",
      "source": [
        "for i, ax in enumerate(axs):\n",
        "    data = idx[i, :5, :5, :5].ravel(order='C')\n",
        "    ax.plot(data, c=f'C{i}')\n",
        "    ax.scatter(np.where(data==2), data[data==2], color='r', s=10, zorder=10)\n",
        "    ax.text(65, 4.3, f'axis {i}', color=f'C{i}', size=15, ha='center')\n",
        "    ax.text(65, -0.7, annot[i], color='red', size=12, ha='center', fontproperties=mono)\n",
        "    ax.set_ylim(-1, 5)"
      ],
      "metadata": {
        "id": "o8GDlAKe08om"
      },
      "execution_count": 52,
      "outputs": []
    },
    {
      "cell_type": "code",
      "source": [
        "fig"
      ],
      "metadata": {
        "colab": {
          "base_uri": "https://localhost:8080/",
          "height": 170
        },
        "id": "xTiPkaX_08z0",
        "outputId": "ad915d96-4598-4c44-8e75-ffcfa5764ac8"
      },
      "execution_count": 53,
      "outputs": [
        {
          "output_type": "execute_result",
          "data": {
            "text/plain": [
              "<Figure size 1080x216 with 3 Axes>"
            ],
            "image/png": "[encoded data removed]"
          },
          "metadata": {},
          "execution_count": 53
        }
      ]
    },
    {
      "cell_type": "code",
      "source": [
        ""
      ],
      "metadata": {
        "id": "lx1xPldx4shK"
      },
      "execution_count": null,
      "outputs": []
    },
    {
      "cell_type": "code",
      "source": [
        ""
      ],
      "metadata": {
        "id": "_vxtDO-B4sm3"
      },
      "execution_count": null,
      "outputs": []
    },
    {
      "cell_type": "code",
      "source": [
        ""
      ],
      "metadata": {
        "id": "0urIaRh44ss_"
      },
      "execution_count": null,
      "outputs": []
    },
    {
      "cell_type": "code",
      "source": [
        ""
      ],
      "metadata": {
        "id": "8ofWrQUP4szW"
      },
      "execution_count": null,
      "outputs": []
    },
    {
      "cell_type": "code",
      "source": [
        ""
      ],
      "metadata": {
        "id": "AkmlO4ze4s6J"
      },
      "execution_count": null,
      "outputs": []
    },
    {
      "cell_type": "code",
      "source": [
        ""
      ],
      "metadata": {
        "id": "9P6cz3ct4tBR"
      },
      "execution_count": null,
      "outputs": []
    }
  ]
}