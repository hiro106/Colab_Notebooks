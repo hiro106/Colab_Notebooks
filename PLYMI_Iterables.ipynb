{
  "nbformat": 4,
  "nbformat_minor": 0,
  "metadata": {
    "colab": {
      "provenance": [],
      "collapsed_sections": [],
      "authorship_tag": "ABX9TyNzAWkSagw3NMCGoQTl+E6q",
      "include_colab_link": true
    },
    "kernelspec": {
      "name": "python3",
      "display_name": "Python 3"
    },
    "language_info": {
      "name": "python"
    }
  },
  "cells": [
    {
      "cell_type": "markdown",
      "metadata": {
        "id": "view-in-github",
        "colab_type": "text"
      },
      "source": [
        "<a href=\"https://colab.research.google.com/github/hiro106/statistics-ml-cs-learning/blob/main/PLYMI_Iterables.ipynb\" target=\"_parent\"><img src=\"https://colab.research.google.com/assets/colab-badge.svg\" alt=\"Open In Colab\"/></a>"
      ]
    },
    {
      "cell_type": "markdown",
      "source": [
        "# Iterables  \n",
        "https://www.pythonlikeyoumeanit.com/Module2_EssentialsOfPython/Iterables.html"
      ],
      "metadata": {
        "id": "o7GesLMxIVd2"
      }
    },
    {
      "cell_type": "markdown",
      "source": [
        "### Reading Comprehension: Is it sorted?"
      ],
      "metadata": {
        "id": "g2QwsW9iIegs"
      }
    },
    {
      "cell_type": "code",
      "source": [
        "unsorted_index = None"
      ],
      "metadata": {
        "id": "hmp_eLpiIeji"
      },
      "execution_count": 9,
      "outputs": []
    },
    {
      "cell_type": "code",
      "source": [
        "my_list = [0, 1, -10, 2]"
      ],
      "metadata": {
        "id": "gls0T3xEIemJ"
      },
      "execution_count": 10,
      "outputs": []
    },
    {
      "cell_type": "code",
      "source": [
        "for idx, item in enumerate(my_list):\n",
        "    if item <= my_list[idx + 1]:\n",
        "        continue\n",
        "    else:\n",
        "        unsorted_index = idx + 1\n",
        "        break\n",
        "\n",
        "print(unsorted_index)"
      ],
      "metadata": {
        "colab": {
          "base_uri": "https://localhost:8080/"
        },
        "id": "dUeaeQAnIeox",
        "outputId": "904e5b8d-d7dd-4daa-ec0f-b864474ab3e3"
      },
      "execution_count": 11,
      "outputs": [
        {
          "output_type": "stream",
          "name": "stdout",
          "text": [
            "2\n"
          ]
        }
      ]
    },
    {
      "cell_type": "code",
      "source": [
        "my_list = [0, 1, -10, 2]\n",
        "unsorted_index = None\n",
        "for index, current_num in enumerate(my_list):\n",
        "    if index == 0:\n",
        "        prev_num = current_num\n",
        "    elif prev_num > current_num:\n",
        "        unsorted_index = index\n",
        "        break\n",
        "    prev_num = current_num\n",
        "else:\n",
        "    print(\"sorted!\")\n",
        "print(unsorted_index)"
      ],
      "metadata": {
        "colab": {
          "base_uri": "https://localhost:8080/"
        },
        "id": "6tXjm0OW7Jvk",
        "outputId": "95030282-77a3-4381-ee4d-599cbb02750c"
      },
      "execution_count": 12,
      "outputs": [
        {
          "output_type": "stream",
          "name": "stdout",
          "text": [
            "2\n"
          ]
        }
      ]
    },
    {
      "cell_type": "code",
      "source": [
        "my_list = [-1, 0, 3, 6]\n",
        "unsorted_index = None\n",
        "for index, current_num in enumerate(my_list):\n",
        "    if index == 0:\n",
        "        prev_num = current_num\n",
        "        print(f\"{index}, if clause was applied.\")\n",
        "    elif prev_num > current_num:\n",
        "        unsorted_index = index\n",
        "        break\n",
        "    prev_num = current_num\n",
        "    print(f\"{index}, outer clause was applied.\")\n",
        "else:\n",
        "    print(f\"{index}, sorted!\")\n",
        "print(f\"unsorted_index is {unsorted_index}\")"
      ],
      "metadata": {
        "colab": {
          "base_uri": "https://localhost:8080/"
        },
        "id": "8VrHTPcLIet7",
        "outputId": "19d4c099-4878-4e6d-a029-c6a36e6b0444"
      },
      "execution_count": 18,
      "outputs": [
        {
          "output_type": "stream",
          "name": "stdout",
          "text": [
            "0, if clause was applied.\n",
            "0, outer clause was applied.\n",
            "1, outer clause was applied.\n",
            "2, outer clause was applied.\n",
            "3, outer clause was applied.\n",
            "3, sorted!\n",
            "unsorted_index is None\n"
          ]
        }
      ]
    },
    {
      "cell_type": "code",
      "source": [
        "my_list = [0, 1, -10, 2]\n",
        "unsorted_index = None\n",
        "for index, current_num in enumerate(my_list):\n",
        "    if index == 0:\n",
        "        prev_num = current_num\n",
        "        print(f\"{index}, if clause was applied.\")\n",
        "    elif prev_num > current_num:\n",
        "        unsorted_index = index\n",
        "        break\n",
        "    prev_num = current_num\n",
        "    print(f\"{index}, outer clause was applied.\")\n",
        "else:\n",
        "    print(f\"{index}, sorted!\")\n",
        "print(f\"unsorted_index is {unsorted_index}\")"
      ],
      "metadata": {
        "colab": {
          "base_uri": "https://localhost:8080/"
        },
        "id": "fGe-16P7Opwf",
        "outputId": "34f8cc43-b12a-4694-8278-0809aa9e9197"
      },
      "execution_count": 19,
      "outputs": [
        {
          "output_type": "stream",
          "name": "stdout",
          "text": [
            "0, if clause was applied.\n",
            "0, outer clause was applied.\n",
            "1, outer clause was applied.\n",
            "unsorted_index is 2\n"
          ]
        }
      ]
    },
    {
      "cell_type": "code",
      "source": [],
      "metadata": {
        "id": "QZvZ4djdIewp"
      },
      "execution_count": 13,
      "outputs": []
    },
    {
      "cell_type": "markdown",
      "source": [
        "### for/else\n",
        "https://book.pythontips.com/en/latest/for_-_else.html"
      ],
      "metadata": {
        "id": "QP2OFG9rIezK"
      }
    },
    {
      "cell_type": "code",
      "source": [
        "for n in range(2, 10):\n",
        "    for x in range(2, n):\n",
        "        if n % x == 0:\n",
        "            print(n, 'equals', x, '*', n/x)\n",
        "            break"
      ],
      "metadata": {
        "colab": {
          "base_uri": "https://localhost:8080/"
        },
        "id": "iul7TRLPIe15",
        "outputId": "899b3e72-b353-491e-9e9f-0da276038e78"
      },
      "execution_count": 14,
      "outputs": [
        {
          "output_type": "stream",
          "name": "stdout",
          "text": [
            "4 equals 2 * 2.0\n",
            "6 equals 2 * 3.0\n",
            "8 equals 2 * 4.0\n",
            "9 equals 3 * 3.0\n"
          ]
        }
      ]
    },
    {
      "cell_type": "code",
      "source": [
        "for n in range(2, 10):\n",
        "    for x in range(2, n):\n",
        "        if n % x == 0:\n",
        "            print(n, 'equals', x, '*', n/x)\n",
        "            break\n",
        "    else:\n",
        "        print(n, 'is a prime number')"
      ],
      "metadata": {
        "colab": {
          "base_uri": "https://localhost:8080/"
        },
        "id": "j-0gznGH_o14",
        "outputId": "e72b8b72-0890-4cbf-ca42-36aa23aa7b61"
      },
      "execution_count": 15,
      "outputs": [
        {
          "output_type": "stream",
          "name": "stdout",
          "text": [
            "2 is a prime number\n",
            "3 is a prime number\n",
            "4 equals 2 * 2.0\n",
            "5 is a prime number\n",
            "6 equals 2 * 3.0\n",
            "7 is a prime number\n",
            "8 equals 2 * 4.0\n",
            "9 equals 3 * 3.0\n"
          ]
        }
      ]
    },
    {
      "cell_type": "code",
      "source": [],
      "metadata": {
        "id": "3lBHpScZ_o4i"
      },
      "execution_count": 15,
      "outputs": []
    },
    {
      "cell_type": "code",
      "source": [],
      "metadata": {
        "id": "_FTbsICk_o7Z"
      },
      "execution_count": 15,
      "outputs": []
    },
    {
      "cell_type": "code",
      "source": [],
      "metadata": {
        "id": "0Lxd2O0r_o-M"
      },
      "execution_count": 15,
      "outputs": []
    },
    {
      "cell_type": "code",
      "source": [],
      "metadata": {
        "id": "FteW7Bym_pBw"
      },
      "execution_count": 15,
      "outputs": []
    },
    {
      "cell_type": "code",
      "source": [],
      "metadata": {
        "id": "HISMLjX9Ie4j"
      },
      "execution_count": 15,
      "outputs": []
    },
    {
      "cell_type": "code",
      "source": [],
      "metadata": {
        "id": "QIpOk2BLIe7b"
      },
      "execution_count": 15,
      "outputs": []
    },
    {
      "cell_type": "code",
      "source": [],
      "metadata": {
        "id": "YX1JulMaIe-M"
      },
      "execution_count": 15,
      "outputs": []
    },
    {
      "cell_type": "code",
      "source": [],
      "metadata": {
        "id": "xinskZNmIfAu"
      },
      "execution_count": 15,
      "outputs": []
    }
  ]
}