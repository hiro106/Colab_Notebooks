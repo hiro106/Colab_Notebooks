{
 "cells": [
  {
   "cell_type": "code",
   "execution_count": 1,
   "id": "5aac2766",
   "metadata": {
    "_cell_guid": "b1076dfc-b9ad-4769-8c92-a6c4dae69d19",
    "_uuid": "8f2839f25d086af736a60e9eeb907d3b93b6e0e5",
    "execution": {
     "iopub.execute_input": "2022-06-12T01:32:52.023216Z",
     "iopub.status.busy": "2022-06-12T01:32:52.022570Z",
     "iopub.status.idle": "2022-06-12T01:32:52.033251Z",
     "shell.execute_reply": "2022-06-12T01:32:52.032643Z"
    },
    "papermill": {
     "duration": 0.016851,
     "end_time": "2022-06-12T01:32:52.035107",
     "exception": false,
     "start_time": "2022-06-12T01:32:52.018256",
     "status": "completed"
    },
    "tags": []
   },
   "outputs": [],
   "source": [
    "# This Python 3 environment comes with many helpful analytics libraries installed\n",
    "# It is defined by the kaggle/python Docker image: https://github.com/kaggle/docker-python\n",
    "# For example, here's several helpful packages to load\n",
    "\n",
    "import numpy as np # linear algebra\n",
    "import pandas as pd # data processing, CSV file I/O (e.g. pd.read_csv)\n",
    "\n",
    "# Input data files are available in the read-only \"../input/\" directory\n",
    "# For example, running this (by clicking run or pressing Shift+Enter) will list all files under the input directory\n",
    "\n",
    "import os\n",
    "for dirname, _, filenames in os.walk('/kaggle/input'):\n",
    "    for filename in filenames:\n",
    "        print(os.path.join(dirname, filename))\n",
    "\n",
    "# You can write up to 20GB to the current directory (/kaggle/working/) that gets preserved as output when you create a version using \"Save & Run All\" \n",
    "# You can also write temporary files to /kaggle/temp/, but they won't be saved outside of the current session"
   ]
  },
  {
   "cell_type": "code",
   "execution_count": 2,
   "id": "6e6ee0e3",
   "metadata": {
    "execution": {
     "iopub.execute_input": "2022-06-12T01:32:52.040568Z",
     "iopub.status.busy": "2022-06-12T01:32:52.040215Z",
     "iopub.status.idle": "2022-06-12T01:32:52.073127Z",
     "shell.execute_reply": "2022-06-12T01:32:52.072481Z"
    },
    "papermill": {
     "duration": 0.03808,
     "end_time": "2022-06-12T01:32:52.075489",
     "exception": false,
     "start_time": "2022-06-12T01:32:52.037409",
     "status": "completed"
    },
    "tags": []
   },
   "outputs": [],
   "source": [
    "# Set up code checking\n",
    "from learntools.core import binder\n",
    "binder.bind(globals())\n",
    "from learntools.machine_learning.ex7 import *\n",
    "\n",
    "# Set up filepaths\n",
    "# import os\n",
    "# if not os.path.exists(\"../input/train.csv\"):\n",
    "#     os.symlink(\"../input/home-data-for-ml-course/train.csv\", \"../input/train.csv\")  \n",
    "#     os.symlink(\"../input/home-data-for-ml-course/test.csv\", \"../input/test.csv\") "
   ]
  },
  {
   "cell_type": "markdown",
   "id": "4f40fdc4",
   "metadata": {
    "papermill": {
     "duration": 0.001717,
     "end_time": "2022-06-12T01:32:52.079351",
     "exception": false,
     "start_time": "2022-06-12T01:32:52.077634",
     "status": "completed"
    },
    "tags": []
   },
   "source": [
    "As mentioned above, it seems that we can't upload any file to the /input folder on a new\n",
    "notebook, though we could do so on the notebook below.\n",
    "\n",
    "https://www.kaggle.com/code/hiro106/exercise-machine-learning-competitions/edit\n",
    "\n",
    "The latter notebook is a built-in notebook on the ML-Intro course. It might have some kind of special authority.\n",
    "\n",
    "In terms of file location(URL), only the difference is whether the file is under the /code folder. I have no idea how I put a file to the folder.\n",
    "\n",
    "Ref:\n",
    "https://www.kaggle.com/getting-started/84736"
   ]
  },
  {
   "cell_type": "code",
   "execution_count": null,
   "id": "52757de4",
   "metadata": {
    "papermill": {
     "duration": 0.001717,
     "end_time": "2022-06-12T01:32:52.082938",
     "exception": false,
     "start_time": "2022-06-12T01:32:52.081221",
     "status": "completed"
    },
    "tags": []
   },
   "outputs": [],
   "source": []
  }
 ],
 "metadata": {
  "kernelspec": {
   "display_name": "Python 3",
   "language": "python",
   "name": "python3"
  },
  "language_info": {
   "codemirror_mode": {
    "name": "ipython",
    "version": 3
   },
   "file_extension": ".py",
   "mimetype": "text/x-python",
   "name": "python",
   "nbconvert_exporter": "python",
   "pygments_lexer": "ipython3",
   "version": "3.7.12"
  },
  "papermill": {
   "default_parameters": {},
   "duration": 10.071798,
   "end_time": "2022-06-12T01:32:52.704018",
   "environment_variables": {},
   "exception": null,
   "input_path": "__notebook__.ipynb",
   "output_path": "__notebook__.ipynb",
   "parameters": {},
   "start_time": "2022-06-12T01:32:42.632220",
   "version": "2.3.4"
  }
 },
 "nbformat": 4,
 "nbformat_minor": 5
}
