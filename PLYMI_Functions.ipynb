{
  "nbformat": 4,
  "nbformat_minor": 0,
  "metadata": {
    "colab": {
      "provenance": [],
      "collapsed_sections": [],
      "authorship_tag": "ABX9TyPlwucVeztC/YZBS1gsyMtE",
      "include_colab_link": true
    },
    "kernelspec": {
      "name": "python3",
      "display_name": "Python 3"
    },
    "language_info": {
      "name": "python"
    }
  },
  "cells": [
    {
      "cell_type": "markdown",
      "metadata": {
        "id": "view-in-github",
        "colab_type": "text"
      },
      "source": [
        "<a href=\"https://colab.research.google.com/github/hiro106/statistics-ml-cs-learning/blob/main/PLYMI_Functions.ipynb\" target=\"_parent\"><img src=\"https://colab.research.google.com/assets/colab-badge.svg\" alt=\"Open In Colab\"/></a>"
      ]
    },
    {
      "cell_type": "markdown",
      "source": [
        "https://www.pythonlikeyoumeanit.com/Module2_EssentialsOfPython/Functions.html"
      ],
      "metadata": {
        "id": "gPsa7qz98KFH"
      }
    },
    {
      "cell_type": "markdown",
      "source": [
        "# Basics of Functions"
      ],
      "metadata": {
        "id": "9-M8yqUC8wJD"
      }
    },
    {
      "cell_type": "markdown",
      "source": [
        "## The `def` Statement"
      ],
      "metadata": {
        "id": "lIGmIiGJ9HgX"
      }
    },
    {
      "cell_type": "markdown",
      "source": [
        "### Reading Comprehension: Writing a Basic Function"
      ],
      "metadata": {
        "id": "GcKuA_DB8wLT"
      }
    },
    {
      "cell_type": "code",
      "source": [
        "def count_even(numbers):\n",
        "    total = 0\n",
        "    for num in numbers:\n",
        "        if num % 2 == 0:\n",
        "            total += 1\n",
        "    return total "
      ],
      "metadata": {
        "id": "5ElNZC4i8wN7"
      },
      "execution_count": 1,
      "outputs": []
    },
    {
      "cell_type": "code",
      "source": [
        "count_even([0, 1, 2, 3, 4, 5])"
      ],
      "metadata": {
        "colab": {
          "base_uri": "https://localhost:8080/"
        },
        "id": "m6MQLyZE8wQo",
        "outputId": "69879c95-d9ea-4212-8c39-6660a4b4117d"
      },
      "execution_count": 2,
      "outputs": [
        {
          "output_type": "execute_result",
          "data": {
            "text/plain": [
              "3"
            ]
          },
          "metadata": {},
          "execution_count": 2
        }
      ]
    },
    {
      "cell_type": "code",
      "source": [
        "def count_even(numbers):\n",
        "    return(sum(1 for num in numbers if num % 2 == 0))"
      ],
      "metadata": {
        "id": "GlNbjoOV8wTQ"
      },
      "execution_count": 3,
      "outputs": []
    },
    {
      "cell_type": "code",
      "source": [
        "count_even([0, 1, 2, 3, 4, 5])"
      ],
      "metadata": {
        "colab": {
          "base_uri": "https://localhost:8080/"
        },
        "id": "WmnsppIa8wVr",
        "outputId": "0da3e1c8-41fc-4bc2-f633-c6fd8d1903d2"
      },
      "execution_count": 4,
      "outputs": [
        {
          "output_type": "execute_result",
          "data": {
            "text/plain": [
              "3"
            ]
          },
          "metadata": {},
          "execution_count": 4
        }
      ]
    },
    {
      "cell_type": "code",
      "source": [],
      "metadata": {
        "id": "dvXxvej68wYz"
      },
      "execution_count": null,
      "outputs": []
    },
    {
      "cell_type": "code",
      "source": [],
      "metadata": {
        "id": "dUMRjPuu8wbM"
      },
      "execution_count": null,
      "outputs": []
    },
    {
      "cell_type": "code",
      "source": [],
      "metadata": {
        "id": "iRKjIml78weA"
      },
      "execution_count": null,
      "outputs": []
    },
    {
      "cell_type": "code",
      "source": [],
      "metadata": {
        "id": "J3beK-mu8wgx"
      },
      "execution_count": null,
      "outputs": []
    },
    {
      "cell_type": "code",
      "source": [],
      "metadata": {
        "id": "mFNph2Ck8wjj"
      },
      "execution_count": null,
      "outputs": []
    },
    {
      "cell_type": "code",
      "source": [],
      "metadata": {
        "id": "KASZ2izE8wmG"
      },
      "execution_count": null,
      "outputs": []
    }
  ]
}