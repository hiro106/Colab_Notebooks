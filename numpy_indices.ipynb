{
  "nbformat": 4,
  "nbformat_minor": 0,
  "metadata": {
    "colab": {
      "name": "numpy.indices.ipynb",
      "provenance": [],
      "collapsed_sections": [],
      "authorship_tag": "ABX9TyMROwOyhonfVm1Ara8m8nuM",
      "include_colab_link": true
    },
    "kernelspec": {
      "name": "python3",
      "display_name": "Python 3"
    },
    "language_info": {
      "name": "python"
    }
  },
  "cells": [
    {
      "cell_type": "markdown",
      "metadata": {
        "id": "view-in-github",
        "colab_type": "text"
      },
      "source": [
        "<a href=\"https://colab.research.google.com/github/hiro106/statistics_ml_cs_learning/blob/main/numpy_indices.ipynb\" target=\"_parent\"><img src=\"https://colab.research.google.com/assets/colab-badge.svg\" alt=\"Open In Colab\"/></a>"
      ]
    },
    {
      "cell_type": "markdown",
      "source": [
        "https://numpy.org/doc/stable/reference/generated/numpy.indices.html"
      ],
      "metadata": {
        "id": "hzP9VTFTnjzA"
      }
    },
    {
      "cell_type": "code",
      "execution_count": 2,
      "metadata": {
        "id": "G0XF8XZLjVQu"
      },
      "outputs": [],
      "source": [
        "import numpy as np"
      ]
    },
    {
      "cell_type": "code",
      "source": [
        "grid = np.indices((2, 3))"
      ],
      "metadata": {
        "id": "Rz8N845Klr6i"
      },
      "execution_count": 3,
      "outputs": []
    },
    {
      "cell_type": "code",
      "source": [
        "grid.shape"
      ],
      "metadata": {
        "colab": {
          "base_uri": "https://localhost:8080/"
        },
        "id": "MH_qlBA7lr9u",
        "outputId": "c04cd8b1-de68-46f5-9e18-d3e6547ac97f"
      },
      "execution_count": 4,
      "outputs": [
        {
          "output_type": "execute_result",
          "data": {
            "text/plain": [
              "(2, 2, 3)"
            ]
          },
          "metadata": {},
          "execution_count": 4
        }
      ]
    },
    {
      "cell_type": "code",
      "source": [
        "grid"
      ],
      "metadata": {
        "colab": {
          "base_uri": "https://localhost:8080/"
        },
        "id": "M_K31nsblsAH",
        "outputId": "2f9f2b2f-7e6f-4c97-d5bf-c94ca5c6be1f"
      },
      "execution_count": 5,
      "outputs": [
        {
          "output_type": "execute_result",
          "data": {
            "text/plain": [
              "array([[[0, 0, 0],\n",
              "        [1, 1, 1]],\n",
              "\n",
              "       [[0, 1, 2],\n",
              "        [0, 1, 2]]])"
            ]
          },
          "metadata": {},
          "execution_count": 5
        }
      ]
    },
    {
      "cell_type": "code",
      "source": [
        "x = np.arange(20).reshape(5, 4)"
      ],
      "metadata": {
        "id": "PFnQ6efklsDF"
      },
      "execution_count": 6,
      "outputs": []
    },
    {
      "cell_type": "code",
      "source": [
        "x"
      ],
      "metadata": {
        "colab": {
          "base_uri": "https://localhost:8080/"
        },
        "id": "NBEgN-SulsGE",
        "outputId": "0eb1a618-6b8b-42e2-a613-e687f1c5932d"
      },
      "execution_count": 7,
      "outputs": [
        {
          "output_type": "execute_result",
          "data": {
            "text/plain": [
              "array([[ 0,  1,  2,  3],\n",
              "       [ 4,  5,  6,  7],\n",
              "       [ 8,  9, 10, 11],\n",
              "       [12, 13, 14, 15],\n",
              "       [16, 17, 18, 19]])"
            ]
          },
          "metadata": {},
          "execution_count": 7
        }
      ]
    },
    {
      "cell_type": "code",
      "source": [
        "row, col = np.indices((2, 3))"
      ],
      "metadata": {
        "id": "hcapar5-lsJc"
      },
      "execution_count": 8,
      "outputs": []
    },
    {
      "cell_type": "code",
      "source": [
        "row"
      ],
      "metadata": {
        "colab": {
          "base_uri": "https://localhost:8080/"
        },
        "id": "e5qroiSLlsj9",
        "outputId": "42d89b37-2bfc-4333-adef-6d2cc52ccac1"
      },
      "execution_count": 9,
      "outputs": [
        {
          "output_type": "execute_result",
          "data": {
            "text/plain": [
              "array([[0, 0, 0],\n",
              "       [1, 1, 1]])"
            ]
          },
          "metadata": {},
          "execution_count": 9
        }
      ]
    },
    {
      "cell_type": "code",
      "source": [
        "col"
      ],
      "metadata": {
        "colab": {
          "base_uri": "https://localhost:8080/"
        },
        "id": "v3zx_PLplsnO",
        "outputId": "84fab344-1142-4633-932c-5549d4d76f90"
      },
      "execution_count": 10,
      "outputs": [
        {
          "output_type": "execute_result",
          "data": {
            "text/plain": [
              "array([[0, 1, 2],\n",
              "       [0, 1, 2]])"
            ]
          },
          "metadata": {},
          "execution_count": 10
        }
      ]
    },
    {
      "cell_type": "code",
      "source": [
        "x[row, col]"
      ],
      "metadata": {
        "colab": {
          "base_uri": "https://localhost:8080/"
        },
        "id": "vf13JUtWlsr0",
        "outputId": "1ad716b9-8b46-4282-e455-257ed11dec75"
      },
      "execution_count": 11,
      "outputs": [
        {
          "output_type": "execute_result",
          "data": {
            "text/plain": [
              "array([[0, 1, 2],\n",
              "       [4, 5, 6]])"
            ]
          },
          "metadata": {},
          "execution_count": 11
        }
      ]
    },
    {
      "cell_type": "code",
      "source": [
        "x[:2, :3]"
      ],
      "metadata": {
        "colab": {
          "base_uri": "https://localhost:8080/"
        },
        "id": "9KurR3HFmiEV",
        "outputId": "771616a8-977f-488d-d740-36e491f8873f"
      },
      "execution_count": 12,
      "outputs": [
        {
          "output_type": "execute_result",
          "data": {
            "text/plain": [
              "array([[0, 1, 2],\n",
              "       [4, 5, 6]])"
            ]
          },
          "metadata": {},
          "execution_count": 12
        }
      ]
    },
    {
      "cell_type": "code",
      "source": [
        ""
      ],
      "metadata": {
        "id": "CcnxXm9M8iNe"
      },
      "execution_count": 12,
      "outputs": []
    },
    {
      "cell_type": "code",
      "source": [
        "i, j = np.indices((2, 3), sparse=True)"
      ],
      "metadata": {
        "id": "JH4k3J1MmiHM"
      },
      "execution_count": 13,
      "outputs": []
    },
    {
      "cell_type": "code",
      "source": [
        "i"
      ],
      "metadata": {
        "colab": {
          "base_uri": "https://localhost:8080/"
        },
        "id": "ErHeqFQDmiKT",
        "outputId": "985cc2d8-b803-4e59-ea6d-b1ce95ff42fe"
      },
      "execution_count": 14,
      "outputs": [
        {
          "output_type": "execute_result",
          "data": {
            "text/plain": [
              "array([[0],\n",
              "       [1]])"
            ]
          },
          "metadata": {},
          "execution_count": 14
        }
      ]
    },
    {
      "cell_type": "code",
      "source": [
        "j"
      ],
      "metadata": {
        "colab": {
          "base_uri": "https://localhost:8080/"
        },
        "id": "71jLZ59UmiNR",
        "outputId": "e25ee4d5-9d1c-434e-a262-6bc49df834c8"
      },
      "execution_count": 15,
      "outputs": [
        {
          "output_type": "execute_result",
          "data": {
            "text/plain": [
              "array([[0, 1, 2]])"
            ]
          },
          "metadata": {},
          "execution_count": 15
        }
      ]
    },
    {
      "cell_type": "code",
      "source": [
        ""
      ],
      "metadata": {
        "id": "jv9HiTg3miPy"
      },
      "execution_count": 15,
      "outputs": []
    },
    {
      "cell_type": "code",
      "source": [
        "i, j = np.indices((2, 3))"
      ],
      "metadata": {
        "id": "Lp5JTVnWGSR0"
      },
      "execution_count": 16,
      "outputs": []
    },
    {
      "cell_type": "code",
      "source": [
        "i"
      ],
      "metadata": {
        "colab": {
          "base_uri": "https://localhost:8080/"
        },
        "id": "dU8QqxIKGSVB",
        "outputId": "4b412b2c-3143-4b6b-e4f1-b5d070f4d820"
      },
      "execution_count": 17,
      "outputs": [
        {
          "output_type": "execute_result",
          "data": {
            "text/plain": [
              "array([[0, 0, 0],\n",
              "       [1, 1, 1]])"
            ]
          },
          "metadata": {},
          "execution_count": 17
        }
      ]
    },
    {
      "cell_type": "code",
      "source": [
        "j"
      ],
      "metadata": {
        "colab": {
          "base_uri": "https://localhost:8080/"
        },
        "id": "ze09l5QbGSYA",
        "outputId": "b5e66ef5-aa64-4fbf-b24e-500391fa2e03"
      },
      "execution_count": 18,
      "outputs": [
        {
          "output_type": "execute_result",
          "data": {
            "text/plain": [
              "array([[0, 1, 2],\n",
              "       [0, 1, 2]])"
            ]
          },
          "metadata": {},
          "execution_count": 18
        }
      ]
    },
    {
      "cell_type": "code",
      "source": [
        ""
      ],
      "metadata": {
        "id": "NqQKBGPmGSbb"
      },
      "execution_count": 18,
      "outputs": []
    },
    {
      "cell_type": "markdown",
      "source": [
        "## Test with a sample matrix"
      ],
      "metadata": {
        "id": "x8l06G_gmiSd"
      }
    },
    {
      "cell_type": "code",
      "source": [
        "idx_test = np.indices((2,3))\n",
        "idx_test"
      ],
      "metadata": {
        "colab": {
          "base_uri": "https://localhost:8080/"
        },
        "id": "0urIaRh44ss_",
        "outputId": "8447c3db-d369-4177-9d81-8183dff1d559"
      },
      "execution_count": null,
      "outputs": [
        {
          "output_type": "execute_result",
          "data": {
            "text/plain": [
              "array([[[0, 0, 0],\n",
              "        [1, 1, 1]],\n",
              "\n",
              "       [[0, 1, 2],\n",
              "        [0, 1, 2]]])"
            ]
          },
          "metadata": {},
          "execution_count": 45
        }
      ]
    },
    {
      "cell_type": "code",
      "source": [
        "idx_test.shape"
      ],
      "metadata": {
        "colab": {
          "base_uri": "https://localhost:8080/"
        },
        "id": "kyLJ6FQmEjzz",
        "outputId": "437e4bef-a5f7-4361-83ff-a6376c4dc844"
      },
      "execution_count": null,
      "outputs": [
        {
          "output_type": "execute_result",
          "data": {
            "text/plain": [
              "(2, 2, 3)"
            ]
          },
          "metadata": {},
          "execution_count": 46
        }
      ]
    },
    {
      "cell_type": "code",
      "source": [
        "idx_test2 = np.indices((2,3,4))\n",
        "idx_test2"
      ],
      "metadata": {
        "colab": {
          "base_uri": "https://localhost:8080/"
        },
        "id": "aOU3fEEDEj2l",
        "outputId": "596f71b8-2ff3-4893-e43f-0b10fdeec414"
      },
      "execution_count": null,
      "outputs": [
        {
          "output_type": "execute_result",
          "data": {
            "text/plain": [
              "array([[[[0, 0, 0, 0],\n",
              "         [0, 0, 0, 0],\n",
              "         [0, 0, 0, 0]],\n",
              "\n",
              "        [[1, 1, 1, 1],\n",
              "         [1, 1, 1, 1],\n",
              "         [1, 1, 1, 1]]],\n",
              "\n",
              "\n",
              "       [[[0, 0, 0, 0],\n",
              "         [1, 1, 1, 1],\n",
              "         [2, 2, 2, 2]],\n",
              "\n",
              "        [[0, 0, 0, 0],\n",
              "         [1, 1, 1, 1],\n",
              "         [2, 2, 2, 2]]],\n",
              "\n",
              "\n",
              "       [[[0, 1, 2, 3],\n",
              "         [0, 1, 2, 3],\n",
              "         [0, 1, 2, 3]],\n",
              "\n",
              "        [[0, 1, 2, 3],\n",
              "         [0, 1, 2, 3],\n",
              "         [0, 1, 2, 3]]]])"
            ]
          },
          "metadata": {},
          "execution_count": 47
        }
      ]
    },
    {
      "cell_type": "code",
      "source": [
        "idx_test2.shape"
      ],
      "metadata": {
        "colab": {
          "base_uri": "https://localhost:8080/"
        },
        "id": "vOfG2oznEj5d",
        "outputId": "e416f2e3-17eb-4374-f515-1057ab60842c"
      },
      "execution_count": null,
      "outputs": [
        {
          "output_type": "execute_result",
          "data": {
            "text/plain": [
              "(3, 2, 3, 4)"
            ]
          },
          "metadata": {},
          "execution_count": 48
        }
      ]
    },
    {
      "cell_type": "code",
      "source": [
        ""
      ],
      "metadata": {
        "id": "9F-1jtd8Ej77"
      },
      "execution_count": null,
      "outputs": []
    },
    {
      "cell_type": "code",
      "source": [
        "idx_test2"
      ],
      "metadata": {
        "colab": {
          "base_uri": "https://localhost:8080/"
        },
        "id": "V8yDerkOEj-0",
        "outputId": "4b756c73-0f96-4450-a994-ef1d4846ddf0"
      },
      "execution_count": null,
      "outputs": [
        {
          "output_type": "execute_result",
          "data": {
            "text/plain": [
              "array([[[[0, 0, 0, 0],\n",
              "         [0, 0, 0, 0],\n",
              "         [0, 0, 0, 0]],\n",
              "\n",
              "        [[1, 1, 1, 1],\n",
              "         [1, 1, 1, 1],\n",
              "         [1, 1, 1, 1]]],\n",
              "\n",
              "\n",
              "       [[[0, 0, 0, 0],\n",
              "         [1, 1, 1, 1],\n",
              "         [2, 2, 2, 2]],\n",
              "\n",
              "        [[0, 0, 0, 0],\n",
              "         [1, 1, 1, 1],\n",
              "         [2, 2, 2, 2]]],\n",
              "\n",
              "\n",
              "       [[[0, 1, 2, 3],\n",
              "         [0, 1, 2, 3],\n",
              "         [0, 1, 2, 3]],\n",
              "\n",
              "        [[0, 1, 2, 3],\n",
              "         [0, 1, 2, 3],\n",
              "         [0, 1, 2, 3]]]])"
            ]
          },
          "metadata": {},
          "execution_count": 49
        }
      ]
    },
    {
      "cell_type": "code",
      "source": [
        "idx_test2.ravel(order='C')"
      ],
      "metadata": {
        "colab": {
          "base_uri": "https://localhost:8080/"
        },
        "id": "wR-nzUAOEkCA",
        "outputId": "073f9b0b-68be-43ee-b121-dd19d6bc0af9"
      },
      "execution_count": null,
      "outputs": [
        {
          "output_type": "execute_result",
          "data": {
            "text/plain": [
              "array([0, 0, 0, 0, 0, 0, 0, 0, 0, 0, 0, 0, 1, 1, 1, 1, 1, 1, 1, 1, 1, 1,\n",
              "       1, 1, 0, 0, 0, 0, 1, 1, 1, 1, 2, 2, 2, 2, 0, 0, 0, 0, 1, 1, 1, 1,\n",
              "       2, 2, 2, 2, 0, 1, 2, 3, 0, 1, 2, 3, 0, 1, 2, 3, 0, 1, 2, 3, 0, 1,\n",
              "       2, 3, 0, 1, 2, 3])"
            ]
          },
          "metadata": {},
          "execution_count": 50
        }
      ]
    },
    {
      "cell_type": "code",
      "source": [
        "idx_test2"
      ],
      "metadata": {
        "colab": {
          "base_uri": "https://localhost:8080/"
        },
        "id": "8ofWrQUP4szW",
        "outputId": "05ec3f33-5f35-4e50-da66-79085369c39c"
      },
      "execution_count": null,
      "outputs": [
        {
          "output_type": "execute_result",
          "data": {
            "text/plain": [
              "array([[[[0, 0, 0, 0],\n",
              "         [0, 0, 0, 0],\n",
              "         [0, 0, 0, 0]],\n",
              "\n",
              "        [[1, 1, 1, 1],\n",
              "         [1, 1, 1, 1],\n",
              "         [1, 1, 1, 1]]],\n",
              "\n",
              "\n",
              "       [[[0, 0, 0, 0],\n",
              "         [1, 1, 1, 1],\n",
              "         [2, 2, 2, 2]],\n",
              "\n",
              "        [[0, 0, 0, 0],\n",
              "         [1, 1, 1, 1],\n",
              "         [2, 2, 2, 2]]],\n",
              "\n",
              "\n",
              "       [[[0, 1, 2, 3],\n",
              "         [0, 1, 2, 3],\n",
              "         [0, 1, 2, 3]],\n",
              "\n",
              "        [[0, 1, 2, 3],\n",
              "         [0, 1, 2, 3],\n",
              "         [0, 1, 2, 3]]]])"
            ]
          },
          "metadata": {},
          "execution_count": 51
        }
      ]
    },
    {
      "cell_type": "code",
      "source": [
        "idx_test2.ravel(order='F')"
      ],
      "metadata": {
        "colab": {
          "base_uri": "https://localhost:8080/"
        },
        "id": "AkmlO4ze4s6J",
        "outputId": "96a02342-a3ac-4862-df6c-7441191d4ced"
      },
      "execution_count": null,
      "outputs": [
        {
          "output_type": "execute_result",
          "data": {
            "text/plain": [
              "array([0, 0, 0, 1, 0, 0, 0, 1, 0, 1, 1, 0, 0, 2, 0, 1, 2, 0, 0, 0, 1, 1,\n",
              "       0, 1, 0, 1, 1, 1, 1, 1, 0, 2, 1, 1, 2, 1, 0, 0, 2, 1, 0, 2, 0, 1,\n",
              "       2, 1, 1, 2, 0, 2, 2, 1, 2, 2, 0, 0, 3, 1, 0, 3, 0, 1, 3, 1, 1, 3,\n",
              "       0, 2, 3, 1, 2, 3])"
            ]
          },
          "metadata": {},
          "execution_count": 52
        }
      ]
    },
    {
      "cell_type": "code",
      "source": [
        ""
      ],
      "metadata": {
        "id": "9P6cz3ct4tBR"
      },
      "execution_count": null,
      "outputs": []
    },
    {
      "cell_type": "code",
      "source": [
        "idx_test2_sparse = np.indices((2,3,4), sparse=True)\n",
        "idx_test2_sparse"
      ],
      "metadata": {
        "colab": {
          "base_uri": "https://localhost:8080/"
        },
        "id": "9jIshnZ4PZgz",
        "outputId": "4d94248f-1593-4f5d-990c-c23bce1b0c32"
      },
      "execution_count": null,
      "outputs": [
        {
          "output_type": "execute_result",
          "data": {
            "text/plain": [
              "(array([[[0]],\n",
              " \n",
              "        [[1]]]), array([[[0],\n",
              "         [1],\n",
              "         [2]]]), array([[[0, 1, 2, 3]]]))"
            ]
          },
          "metadata": {},
          "execution_count": 53
        }
      ]
    },
    {
      "cell_type": "code",
      "source": [
        ""
      ],
      "metadata": {
        "id": "vidnPEXqmiVF"
      },
      "execution_count": 18,
      "outputs": []
    }
  ]
}