{
 "cells": [
  {
   "cell_type": "markdown",
   "id": "6d81040f",
   "metadata": {
    "papermill": {
     "duration": 0.00753,
     "end_time": "2022-06-11T07:03:57.450502",
     "exception": false,
     "start_time": "2022-06-11T07:03:57.442972",
     "status": "completed"
    },
    "tags": []
   },
   "source": [
    "**This notebook is an exercise in the [Introduction to Machine Learning](https://www.kaggle.com/learn/intro-to-machine-learning) course.  You can reference the tutorial at [this link](https://www.kaggle.com/alexisbcook/machine-learning-competitions).**\n",
    "\n",
    "---\n"
   ]
  },
  {
   "cell_type": "markdown",
   "id": "43265807",
   "metadata": {
    "papermill": {
     "duration": 0.00601,
     "end_time": "2022-06-11T07:03:57.462802",
     "exception": false,
     "start_time": "2022-06-11T07:03:57.456792",
     "status": "completed"
    },
    "tags": []
   },
   "source": [
    "# Introduction\n",
    "\n",
    "In this exercise, you will create and submit predictions for a Kaggle competition. You can then improve your model (e.g. by adding features) to apply what you've learned and move up the leaderboard.\n",
    "\n",
    "Begin by running the code cell below to set up code checking and the filepaths for the dataset."
   ]
  },
  {
   "cell_type": "code",
   "execution_count": 1,
   "id": "d2ec2901",
   "metadata": {
    "execution": {
     "iopub.execute_input": "2022-06-11T07:03:57.477807Z",
     "iopub.status.busy": "2022-06-11T07:03:57.476659Z",
     "iopub.status.idle": "2022-06-11T07:03:57.520152Z",
     "shell.execute_reply": "2022-06-11T07:03:57.519376Z"
    },
    "papermill": {
     "duration": 0.053335,
     "end_time": "2022-06-11T07:03:57.522391",
     "exception": false,
     "start_time": "2022-06-11T07:03:57.469056",
     "status": "completed"
    },
    "tags": []
   },
   "outputs": [],
   "source": [
    "# Set up code checking\n",
    "from learntools.core import binder\n",
    "binder.bind(globals())\n",
    "from learntools.machine_learning.ex7 import *\n",
    "\n",
    "# Set up filepaths\n",
    "import os\n",
    "if not os.path.exists(\"../input/train.csv\"):\n",
    "    os.symlink(\"../input/home-data-for-ml-course/train.csv\", \"../input/train.csv\")  \n",
    "    os.symlink(\"../input/home-data-for-ml-course/test.csv\", \"../input/test.csv\") "
   ]
  },
  {
   "cell_type": "code",
   "execution_count": 2,
   "id": "727ff6f0",
   "metadata": {
    "execution": {
     "iopub.execute_input": "2022-06-11T07:03:57.536166Z",
     "iopub.status.busy": "2022-06-11T07:03:57.535797Z",
     "iopub.status.idle": "2022-06-11T07:03:57.543594Z",
     "shell.execute_reply": "2022-06-11T07:03:57.542692Z"
    },
    "papermill": {
     "duration": 0.01761,
     "end_time": "2022-06-11T07:03:57.546253",
     "exception": false,
     "start_time": "2022-06-11T07:03:57.528643",
     "status": "completed"
    },
    "tags": []
   },
   "outputs": [
    {
     "data": {
      "text/plain": [
       "learntools.core.globals_binder.Binder"
      ]
     },
     "execution_count": 2,
     "metadata": {},
     "output_type": "execute_result"
    }
   ],
   "source": [
    "type(binder)"
   ]
  },
  {
   "cell_type": "code",
   "execution_count": 3,
   "id": "4ebb0fa0",
   "metadata": {
    "execution": {
     "iopub.execute_input": "2022-06-11T07:03:57.560701Z",
     "iopub.status.busy": "2022-06-11T07:03:57.560130Z",
     "iopub.status.idle": "2022-06-11T07:03:57.565513Z",
     "shell.execute_reply": "2022-06-11T07:03:57.564861Z"
    },
    "papermill": {
     "duration": 0.014473,
     "end_time": "2022-06-11T07:03:57.567078",
     "exception": false,
     "start_time": "2022-06-11T07:03:57.552605",
     "status": "completed"
    },
    "tags": []
   },
   "outputs": [
    {
     "data": {
      "text/plain": [
       "method"
      ]
     },
     "execution_count": 3,
     "metadata": {},
     "output_type": "execute_result"
    }
   ],
   "source": [
    "type(binder.bind)"
   ]
  },
  {
   "cell_type": "code",
   "execution_count": 4,
   "id": "2c208a99",
   "metadata": {
    "execution": {
     "iopub.execute_input": "2022-06-11T07:03:57.580855Z",
     "iopub.status.busy": "2022-06-11T07:03:57.580332Z",
     "iopub.status.idle": "2022-06-11T07:03:57.585551Z",
     "shell.execute_reply": "2022-06-11T07:03:57.584859Z"
    },
    "papermill": {
     "duration": 0.014126,
     "end_time": "2022-06-11T07:03:57.587194",
     "exception": false,
     "start_time": "2022-06-11T07:03:57.573068",
     "status": "completed"
    },
    "tags": []
   },
   "outputs": [
    {
     "data": {
      "text/plain": [
       "builtin_function_or_method"
      ]
     },
     "execution_count": 4,
     "metadata": {},
     "output_type": "execute_result"
    }
   ],
   "source": [
    "type(globals)"
   ]
  },
  {
   "cell_type": "code",
   "execution_count": 5,
   "id": "083a9d37",
   "metadata": {
    "execution": {
     "iopub.execute_input": "2022-06-11T07:03:57.601029Z",
     "iopub.status.busy": "2022-06-11T07:03:57.600659Z",
     "iopub.status.idle": "2022-06-11T07:03:57.606063Z",
     "shell.execute_reply": "2022-06-11T07:03:57.605154Z"
    },
    "papermill": {
     "duration": 0.014539,
     "end_time": "2022-06-11T07:03:57.607835",
     "exception": false,
     "start_time": "2022-06-11T07:03:57.593296",
     "status": "completed"
    },
    "tags": []
   },
   "outputs": [
    {
     "data": {
      "text/plain": [
       "module"
      ]
     },
     "execution_count": 5,
     "metadata": {},
     "output_type": "execute_result"
    }
   ],
   "source": [
    "type(os)"
   ]
  },
  {
   "cell_type": "code",
   "execution_count": 6,
   "id": "3bca581f",
   "metadata": {
    "execution": {
     "iopub.execute_input": "2022-06-11T07:03:57.624697Z",
     "iopub.status.busy": "2022-06-11T07:03:57.623499Z",
     "iopub.status.idle": "2022-06-11T07:03:57.629151Z",
     "shell.execute_reply": "2022-06-11T07:03:57.628496Z"
    },
    "papermill": {
     "duration": 0.016274,
     "end_time": "2022-06-11T07:03:57.630803",
     "exception": false,
     "start_time": "2022-06-11T07:03:57.614529",
     "status": "completed"
    },
    "tags": []
   },
   "outputs": [
    {
     "data": {
      "text/plain": [
       "module"
      ]
     },
     "execution_count": 6,
     "metadata": {},
     "output_type": "execute_result"
    }
   ],
   "source": [
    "type(os.path)"
   ]
  },
  {
   "cell_type": "code",
   "execution_count": 7,
   "id": "0ccf43ac",
   "metadata": {
    "execution": {
     "iopub.execute_input": "2022-06-11T07:03:57.646081Z",
     "iopub.status.busy": "2022-06-11T07:03:57.644902Z",
     "iopub.status.idle": "2022-06-11T07:03:57.651174Z",
     "shell.execute_reply": "2022-06-11T07:03:57.650480Z"
    },
    "papermill": {
     "duration": 0.015523,
     "end_time": "2022-06-11T07:03:57.652758",
     "exception": false,
     "start_time": "2022-06-11T07:03:57.637235",
     "status": "completed"
    },
    "tags": []
   },
   "outputs": [
    {
     "data": {
      "text/plain": [
       "function"
      ]
     },
     "execution_count": 7,
     "metadata": {},
     "output_type": "execute_result"
    }
   ],
   "source": [
    "type(os.path.exists)"
   ]
  },
  {
   "cell_type": "markdown",
   "id": "6b9214fc",
   "metadata": {
    "papermill": {
     "duration": 0.006151,
     "end_time": "2022-06-11T07:03:57.665438",
     "exception": false,
     "start_time": "2022-06-11T07:03:57.659287",
     "status": "completed"
    },
    "tags": []
   },
   "source": [
    "Here's some of the code you've written so far. Start by running it again."
   ]
  },
  {
   "cell_type": "code",
   "execution_count": 8,
   "id": "2a55fe6c",
   "metadata": {
    "execution": {
     "iopub.execute_input": "2022-06-11T07:03:57.680216Z",
     "iopub.status.busy": "2022-06-11T07:03:57.679771Z",
     "iopub.status.idle": "2022-06-11T07:03:59.528708Z",
     "shell.execute_reply": "2022-06-11T07:03:59.527775Z"
    },
    "papermill": {
     "duration": 1.859611,
     "end_time": "2022-06-11T07:03:59.531423",
     "exception": false,
     "start_time": "2022-06-11T07:03:57.671812",
     "status": "completed"
    },
    "tags": []
   },
   "outputs": [
    {
     "name": "stdout",
     "output_type": "stream",
     "text": [
      "Validation MAE for Random Forest Model: 21,857\n"
     ]
    }
   ],
   "source": [
    "# Import helpful libraries\n",
    "import pandas as pd\n",
    "from sklearn.ensemble import RandomForestRegressor\n",
    "from sklearn.metrics import mean_absolute_error\n",
    "from sklearn.model_selection import train_test_split\n",
    "\n",
    "# Load the data, and separate the target\n",
    "iowa_file_path = '../input/train.csv'\n",
    "home_data = pd.read_csv(iowa_file_path)\n",
    "y = home_data.SalePrice\n",
    "\n",
    "# Create X (After completing the exercise, you can return to modify this line!)\n",
    "features = ['LotArea', 'YearBuilt', '1stFlrSF', '2ndFlrSF', 'FullBath', 'BedroomAbvGr', 'TotRmsAbvGrd']\n",
    "\n",
    "# Select columns corresponding to features, and preview the data\n",
    "X = home_data[features]\n",
    "X.head()\n",
    "\n",
    "# Split into validation and training data\n",
    "train_X, val_X, train_y, val_y = train_test_split(X, y, random_state=1)\n",
    "\n",
    "# Define a random forest model\n",
    "rf_model = RandomForestRegressor(random_state=1)\n",
    "rf_model.fit(train_X, train_y)\n",
    "rf_val_predictions = rf_model.predict(val_X)\n",
    "rf_val_mae = mean_absolute_error(rf_val_predictions, val_y)\n",
    "\n",
    "print(\"Validation MAE for Random Forest Model: {:,.0f}\".format(rf_val_mae))"
   ]
  },
  {
   "cell_type": "code",
   "execution_count": 9,
   "id": "1b165fb4",
   "metadata": {
    "execution": {
     "iopub.execute_input": "2022-06-11T07:03:59.547777Z",
     "iopub.status.busy": "2022-06-11T07:03:59.546931Z",
     "iopub.status.idle": "2022-06-11T07:03:59.553002Z",
     "shell.execute_reply": "2022-06-11T07:03:59.552065Z"
    },
    "papermill": {
     "duration": 0.015987,
     "end_time": "2022-06-11T07:03:59.554956",
     "exception": false,
     "start_time": "2022-06-11T07:03:59.538969",
     "status": "completed"
    },
    "tags": []
   },
   "outputs": [
    {
     "data": {
      "text/plain": [
       "module"
      ]
     },
     "execution_count": 9,
     "metadata": {},
     "output_type": "execute_result"
    }
   ],
   "source": [
    "type(pd)"
   ]
  },
  {
   "cell_type": "code",
   "execution_count": 10,
   "id": "9dcc5fe3",
   "metadata": {
    "execution": {
     "iopub.execute_input": "2022-06-11T07:03:59.570706Z",
     "iopub.status.busy": "2022-06-11T07:03:59.570041Z",
     "iopub.status.idle": "2022-06-11T07:03:59.575163Z",
     "shell.execute_reply": "2022-06-11T07:03:59.574476Z"
    },
    "papermill": {
     "duration": 0.015205,
     "end_time": "2022-06-11T07:03:59.576985",
     "exception": false,
     "start_time": "2022-06-11T07:03:59.561780",
     "status": "completed"
    },
    "tags": []
   },
   "outputs": [
    {
     "data": {
      "text/plain": [
       "abc.ABCMeta"
      ]
     },
     "execution_count": 10,
     "metadata": {},
     "output_type": "execute_result"
    }
   ],
   "source": [
    "type(RandomForestRegressor)"
   ]
  },
  {
   "cell_type": "code",
   "execution_count": 11,
   "id": "405384d7",
   "metadata": {
    "collapsed": true,
    "execution": {
     "iopub.execute_input": "2022-06-11T07:03:59.592749Z",
     "iopub.status.busy": "2022-06-11T07:03:59.592109Z",
     "iopub.status.idle": "2022-06-11T07:03:59.597647Z",
     "shell.execute_reply": "2022-06-11T07:03:59.596219Z"
    },
    "jupyter": {
     "outputs_hidden": true
    },
    "papermill": {
     "duration": 0.016039,
     "end_time": "2022-06-11T07:03:59.599729",
     "exception": false,
     "start_time": "2022-06-11T07:03:59.583690",
     "status": "completed"
    },
    "tags": []
   },
   "outputs": [
    {
     "name": "stdout",
     "output_type": "stream",
     "text": [
      "Help on function mean_absolute_error in module sklearn.metrics._regression:\n",
      "\n",
      "mean_absolute_error(y_true, y_pred, *, sample_weight=None, multioutput='uniform_average')\n",
      "    Mean absolute error regression loss.\n",
      "    \n",
      "    Read more in the :ref:`User Guide <mean_absolute_error>`.\n",
      "    \n",
      "    Parameters\n",
      "    ----------\n",
      "    y_true : array-like of shape (n_samples,) or (n_samples, n_outputs)\n",
      "        Ground truth (correct) target values.\n",
      "    \n",
      "    y_pred : array-like of shape (n_samples,) or (n_samples, n_outputs)\n",
      "        Estimated target values.\n",
      "    \n",
      "    sample_weight : array-like of shape (n_samples,), default=None\n",
      "        Sample weights.\n",
      "    \n",
      "    multioutput : {'raw_values', 'uniform_average'}  or array-like of shape             (n_outputs,), default='uniform_average'\n",
      "        Defines aggregating of multiple output values.\n",
      "        Array-like value defines weights used to average errors.\n",
      "    \n",
      "        'raw_values' :\n",
      "            Returns a full set of errors in case of multioutput input.\n",
      "    \n",
      "        'uniform_average' :\n",
      "            Errors of all outputs are averaged with uniform weight.\n",
      "    \n",
      "    \n",
      "    Returns\n",
      "    -------\n",
      "    loss : float or ndarray of floats\n",
      "        If multioutput is 'raw_values', then mean absolute error is returned\n",
      "        for each output separately.\n",
      "        If multioutput is 'uniform_average' or an ndarray of weights, then the\n",
      "        weighted average of all output errors is returned.\n",
      "    \n",
      "        MAE output is non-negative floating point. The best value is 0.0.\n",
      "    \n",
      "    Examples\n",
      "    --------\n",
      "    >>> from sklearn.metrics import mean_absolute_error\n",
      "    >>> y_true = [3, -0.5, 2, 7]\n",
      "    >>> y_pred = [2.5, 0.0, 2, 8]\n",
      "    >>> mean_absolute_error(y_true, y_pred)\n",
      "    0.5\n",
      "    >>> y_true = [[0.5, 1], [-1, 1], [7, -6]]\n",
      "    >>> y_pred = [[0, 2], [-1, 2], [8, -5]]\n",
      "    >>> mean_absolute_error(y_true, y_pred)\n",
      "    0.75\n",
      "    >>> mean_absolute_error(y_true, y_pred, multioutput='raw_values')\n",
      "    array([0.5, 1. ])\n",
      "    >>> mean_absolute_error(y_true, y_pred, multioutput=[0.3, 0.7])\n",
      "    0.85...\n",
      "\n"
     ]
    }
   ],
   "source": [
    "help(mean_absolute_error)"
   ]
  },
  {
   "cell_type": "code",
   "execution_count": 12,
   "id": "fcd1b1e9",
   "metadata": {
    "collapsed": true,
    "execution": {
     "iopub.execute_input": "2022-06-11T07:03:59.615666Z",
     "iopub.status.busy": "2022-06-11T07:03:59.614786Z",
     "iopub.status.idle": "2022-06-11T07:03:59.620431Z",
     "shell.execute_reply": "2022-06-11T07:03:59.619407Z"
    },
    "jupyter": {
     "outputs_hidden": true
    },
    "papermill": {
     "duration": 0.015872,
     "end_time": "2022-06-11T07:03:59.622597",
     "exception": false,
     "start_time": "2022-06-11T07:03:59.606725",
     "status": "completed"
    },
    "tags": []
   },
   "outputs": [
    {
     "name": "stdout",
     "output_type": "stream",
     "text": [
      "Help on function train_test_split in module sklearn.model_selection._split:\n",
      "\n",
      "train_test_split(*arrays, test_size=None, train_size=None, random_state=None, shuffle=True, stratify=None)\n",
      "    Split arrays or matrices into random train and test subsets.\n",
      "    \n",
      "    Quick utility that wraps input validation and\n",
      "    ``next(ShuffleSplit().split(X, y))`` and application to input data\n",
      "    into a single call for splitting (and optionally subsampling) data in a\n",
      "    oneliner.\n",
      "    \n",
      "    Read more in the :ref:`User Guide <cross_validation>`.\n",
      "    \n",
      "    Parameters\n",
      "    ----------\n",
      "    *arrays : sequence of indexables with same length / shape[0]\n",
      "        Allowed inputs are lists, numpy arrays, scipy-sparse\n",
      "        matrices or pandas dataframes.\n",
      "    \n",
      "    test_size : float or int, default=None\n",
      "        If float, should be between 0.0 and 1.0 and represent the proportion\n",
      "        of the dataset to include in the test split. If int, represents the\n",
      "        absolute number of test samples. If None, the value is set to the\n",
      "        complement of the train size. If ``train_size`` is also None, it will\n",
      "        be set to 0.25.\n",
      "    \n",
      "    train_size : float or int, default=None\n",
      "        If float, should be between 0.0 and 1.0 and represent the\n",
      "        proportion of the dataset to include in the train split. If\n",
      "        int, represents the absolute number of train samples. If None,\n",
      "        the value is automatically set to the complement of the test size.\n",
      "    \n",
      "    random_state : int, RandomState instance or None, default=None\n",
      "        Controls the shuffling applied to the data before applying the split.\n",
      "        Pass an int for reproducible output across multiple function calls.\n",
      "        See :term:`Glossary <random_state>`.\n",
      "    \n",
      "    shuffle : bool, default=True\n",
      "        Whether or not to shuffle the data before splitting. If shuffle=False\n",
      "        then stratify must be None.\n",
      "    \n",
      "    stratify : array-like, default=None\n",
      "        If not None, data is split in a stratified fashion, using this as\n",
      "        the class labels.\n",
      "        Read more in the :ref:`User Guide <stratification>`.\n",
      "    \n",
      "    Returns\n",
      "    -------\n",
      "    splitting : list, length=2 * len(arrays)\n",
      "        List containing train-test split of inputs.\n",
      "    \n",
      "        .. versionadded:: 0.16\n",
      "            If the input is sparse, the output will be a\n",
      "            ``scipy.sparse.csr_matrix``. Else, output type is the same as the\n",
      "            input type.\n",
      "    \n",
      "    Examples\n",
      "    --------\n",
      "    >>> import numpy as np\n",
      "    >>> from sklearn.model_selection import train_test_split\n",
      "    >>> X, y = np.arange(10).reshape((5, 2)), range(5)\n",
      "    >>> X\n",
      "    array([[0, 1],\n",
      "           [2, 3],\n",
      "           [4, 5],\n",
      "           [6, 7],\n",
      "           [8, 9]])\n",
      "    >>> list(y)\n",
      "    [0, 1, 2, 3, 4]\n",
      "    \n",
      "    >>> X_train, X_test, y_train, y_test = train_test_split(\n",
      "    ...     X, y, test_size=0.33, random_state=42)\n",
      "    ...\n",
      "    >>> X_train\n",
      "    array([[4, 5],\n",
      "           [0, 1],\n",
      "           [6, 7]])\n",
      "    >>> y_train\n",
      "    [2, 0, 3]\n",
      "    >>> X_test\n",
      "    array([[2, 3],\n",
      "           [8, 9]])\n",
      "    >>> y_test\n",
      "    [1, 4]\n",
      "    \n",
      "    >>> train_test_split(y, shuffle=False)\n",
      "    [[0, 1, 2], [3, 4]]\n",
      "\n"
     ]
    }
   ],
   "source": [
    "help(train_test_split)"
   ]
  },
  {
   "cell_type": "code",
   "execution_count": 13,
   "id": "a3c62af8",
   "metadata": {
    "execution": {
     "iopub.execute_input": "2022-06-11T07:03:59.638620Z",
     "iopub.status.busy": "2022-06-11T07:03:59.637883Z",
     "iopub.status.idle": "2022-06-11T07:03:59.643903Z",
     "shell.execute_reply": "2022-06-11T07:03:59.642982Z"
    },
    "papermill": {
     "duration": 0.0159,
     "end_time": "2022-06-11T07:03:59.645648",
     "exception": false,
     "start_time": "2022-06-11T07:03:59.629748",
     "status": "completed"
    },
    "tags": []
   },
   "outputs": [
    {
     "data": {
      "text/plain": [
       "pandas.core.frame.DataFrame"
      ]
     },
     "execution_count": 13,
     "metadata": {},
     "output_type": "execute_result"
    }
   ],
   "source": [
    "type(home_data)"
   ]
  },
  {
   "cell_type": "code",
   "execution_count": 14,
   "id": "a7adb628",
   "metadata": {
    "execution": {
     "iopub.execute_input": "2022-06-11T07:03:59.662079Z",
     "iopub.status.busy": "2022-06-11T07:03:59.661428Z",
     "iopub.status.idle": "2022-06-11T07:03:59.666080Z",
     "shell.execute_reply": "2022-06-11T07:03:59.665506Z"
    },
    "papermill": {
     "duration": 0.014788,
     "end_time": "2022-06-11T07:03:59.667659",
     "exception": false,
     "start_time": "2022-06-11T07:03:59.652871",
     "status": "completed"
    },
    "tags": []
   },
   "outputs": [
    {
     "data": {
      "text/plain": [
       "pandas.core.series.Series"
      ]
     },
     "execution_count": 14,
     "metadata": {},
     "output_type": "execute_result"
    }
   ],
   "source": [
    "type(y)"
   ]
  },
  {
   "cell_type": "code",
   "execution_count": 15,
   "id": "8a86171f",
   "metadata": {
    "execution": {
     "iopub.execute_input": "2022-06-11T07:03:59.684458Z",
     "iopub.status.busy": "2022-06-11T07:03:59.683889Z",
     "iopub.status.idle": "2022-06-11T07:03:59.689111Z",
     "shell.execute_reply": "2022-06-11T07:03:59.688303Z"
    },
    "papermill": {
     "duration": 0.015544,
     "end_time": "2022-06-11T07:03:59.690946",
     "exception": false,
     "start_time": "2022-06-11T07:03:59.675402",
     "status": "completed"
    },
    "tags": []
   },
   "outputs": [
    {
     "data": {
      "text/plain": [
       "pandas.core.frame.DataFrame"
      ]
     },
     "execution_count": 15,
     "metadata": {},
     "output_type": "execute_result"
    }
   ],
   "source": [
    "type(X)"
   ]
  },
  {
   "cell_type": "markdown",
   "id": "6705c1d1",
   "metadata": {
    "papermill": {
     "duration": 0.006985,
     "end_time": "2022-06-11T07:03:59.705416",
     "exception": false,
     "start_time": "2022-06-11T07:03:59.698431",
     "status": "completed"
    },
    "tags": []
   },
   "source": [
    "# Train a model for the competition\n",
    "\n",
    "The code cell above trains a Random Forest model on **`train_X`** and **`train_y`**.  \n",
    "\n",
    "Use the code cell below to build a Random Forest model and train it on all of **`X`** and **`y`**."
   ]
  },
  {
   "cell_type": "code",
   "execution_count": 16,
   "id": "749ab718",
   "metadata": {
    "execution": {
     "iopub.execute_input": "2022-06-11T07:03:59.721771Z",
     "iopub.status.busy": "2022-06-11T07:03:59.721160Z",
     "iopub.status.idle": "2022-06-11T07:04:00.222505Z",
     "shell.execute_reply": "2022-06-11T07:04:00.221468Z"
    },
    "papermill": {
     "duration": 0.511893,
     "end_time": "2022-06-11T07:04:00.224599",
     "exception": false,
     "start_time": "2022-06-11T07:03:59.712706",
     "status": "completed"
    },
    "tags": []
   },
   "outputs": [
    {
     "data": {
      "text/plain": [
       "RandomForestRegressor(random_state=1)"
      ]
     },
     "execution_count": 16,
     "metadata": {},
     "output_type": "execute_result"
    }
   ],
   "source": [
    "# To improve accuracy, create a new Random Forest model which you will train on all training data\n",
    "rf_model_on_full_data = RandomForestRegressor(random_state=1)\n",
    "\n",
    "# fit rf_model_on_full_data on all data from the training data\n",
    "rf_model_on_full_data.fit(X, y)"
   ]
  },
  {
   "cell_type": "markdown",
   "id": "cf1e1556",
   "metadata": {
    "papermill": {
     "duration": 0.007373,
     "end_time": "2022-06-11T07:04:00.239642",
     "exception": false,
     "start_time": "2022-06-11T07:04:00.232269",
     "status": "completed"
    },
    "tags": []
   },
   "source": [
    "Now, read the file of \"test\" data, and apply your model to make predictions."
   ]
  },
  {
   "cell_type": "code",
   "execution_count": 17,
   "id": "ed088bfa",
   "metadata": {
    "execution": {
     "iopub.execute_input": "2022-06-11T07:04:00.256924Z",
     "iopub.status.busy": "2022-06-11T07:04:00.256037Z",
     "iopub.status.idle": "2022-06-11T07:04:00.324207Z",
     "shell.execute_reply": "2022-06-11T07:04:00.323267Z"
    },
    "papermill": {
     "duration": 0.079292,
     "end_time": "2022-06-11T07:04:00.326559",
     "exception": false,
     "start_time": "2022-06-11T07:04:00.247267",
     "status": "completed"
    },
    "tags": []
   },
   "outputs": [],
   "source": [
    "# path to file you will use for predictions\n",
    "test_data_path = '../input/test.csv'\n",
    "\n",
    "# read test data file using pandas\n",
    "test_data = pd.read_csv(test_data_path)\n",
    "\n",
    "# create test_X which comes from test_data but includes only the columns you used for prediction.\n",
    "# The list of columns is stored in a variable called features\n",
    "test_X = test_data[features]\n",
    "\n",
    "# make predictions which we will submit. \n",
    "test_preds = rf_model_on_full_data.predict(test_X)"
   ]
  },
  {
   "cell_type": "code",
   "execution_count": 18,
   "id": "c064346c",
   "metadata": {
    "execution": {
     "iopub.execute_input": "2022-06-11T07:04:00.343048Z",
     "iopub.status.busy": "2022-06-11T07:04:00.342637Z",
     "iopub.status.idle": "2022-06-11T07:04:00.348486Z",
     "shell.execute_reply": "2022-06-11T07:04:00.347529Z"
    },
    "papermill": {
     "duration": 0.016388,
     "end_time": "2022-06-11T07:04:00.350400",
     "exception": false,
     "start_time": "2022-06-11T07:04:00.334012",
     "status": "completed"
    },
    "tags": []
   },
   "outputs": [
    {
     "data": {
      "text/plain": [
       "pandas.core.frame.DataFrame"
      ]
     },
     "execution_count": 18,
     "metadata": {},
     "output_type": "execute_result"
    }
   ],
   "source": [
    "type(test_data)"
   ]
  },
  {
   "cell_type": "code",
   "execution_count": 19,
   "id": "5fd4c0f3",
   "metadata": {
    "execution": {
     "iopub.execute_input": "2022-06-11T07:04:00.367276Z",
     "iopub.status.busy": "2022-06-11T07:04:00.366204Z",
     "iopub.status.idle": "2022-06-11T07:04:00.372370Z",
     "shell.execute_reply": "2022-06-11T07:04:00.371593Z"
    },
    "papermill": {
     "duration": 0.01635,
     "end_time": "2022-06-11T07:04:00.374132",
     "exception": false,
     "start_time": "2022-06-11T07:04:00.357782",
     "status": "completed"
    },
    "tags": []
   },
   "outputs": [
    {
     "data": {
      "text/plain": [
       "pandas.core.frame.DataFrame"
      ]
     },
     "execution_count": 19,
     "metadata": {},
     "output_type": "execute_result"
    }
   ],
   "source": [
    "type(test_X)"
   ]
  },
  {
   "cell_type": "code",
   "execution_count": 20,
   "id": "34c16d03",
   "metadata": {
    "execution": {
     "iopub.execute_input": "2022-06-11T07:04:00.391633Z",
     "iopub.status.busy": "2022-06-11T07:04:00.390915Z",
     "iopub.status.idle": "2022-06-11T07:04:00.396727Z",
     "shell.execute_reply": "2022-06-11T07:04:00.396073Z"
    },
    "papermill": {
     "duration": 0.016737,
     "end_time": "2022-06-11T07:04:00.398496",
     "exception": false,
     "start_time": "2022-06-11T07:04:00.381759",
     "status": "completed"
    },
    "tags": []
   },
   "outputs": [
    {
     "data": {
      "text/plain": [
       "numpy.ndarray"
      ]
     },
     "execution_count": 20,
     "metadata": {},
     "output_type": "execute_result"
    }
   ],
   "source": [
    "type(test_preds)"
   ]
  },
  {
   "cell_type": "code",
   "execution_count": 21,
   "id": "b731e2e3",
   "metadata": {
    "execution": {
     "iopub.execute_input": "2022-06-11T07:04:00.415883Z",
     "iopub.status.busy": "2022-06-11T07:04:00.415207Z",
     "iopub.status.idle": "2022-06-11T07:04:00.420874Z",
     "shell.execute_reply": "2022-06-11T07:04:00.419833Z"
    },
    "papermill": {
     "duration": 0.017278,
     "end_time": "2022-06-11T07:04:00.423495",
     "exception": false,
     "start_time": "2022-06-11T07:04:00.406217",
     "status": "completed"
    },
    "tags": []
   },
   "outputs": [
    {
     "name": "stdout",
     "output_type": "stream",
     "text": [
      "Help on method predict in module sklearn.ensemble._forest:\n",
      "\n",
      "predict(X) method of sklearn.ensemble._forest.RandomForestRegressor instance\n",
      "    Predict regression target for X.\n",
      "    \n",
      "    The predicted regression target of an input sample is computed as the\n",
      "    mean predicted regression targets of the trees in the forest.\n",
      "    \n",
      "    Parameters\n",
      "    ----------\n",
      "    X : {array-like, sparse matrix} of shape (n_samples, n_features)\n",
      "        The input samples. Internally, its dtype will be converted to\n",
      "        ``dtype=np.float32``. If a sparse matrix is provided, it will be\n",
      "        converted into a sparse ``csr_matrix``.\n",
      "    \n",
      "    Returns\n",
      "    -------\n",
      "    y : ndarray of shape (n_samples,) or (n_samples, n_outputs)\n",
      "        The predicted values.\n",
      "\n"
     ]
    }
   ],
   "source": [
    "help(rf_model_on_full_data.predict)"
   ]
  },
  {
   "cell_type": "code",
   "execution_count": null,
   "id": "18a5c3ff",
   "metadata": {
    "papermill": {
     "duration": 0.008189,
     "end_time": "2022-06-11T07:04:00.441249",
     "exception": false,
     "start_time": "2022-06-11T07:04:00.433060",
     "status": "completed"
    },
    "tags": []
   },
   "outputs": [],
   "source": []
  },
  {
   "cell_type": "markdown",
   "id": "5b8102f8",
   "metadata": {
    "papermill": {
     "duration": 0.007624,
     "end_time": "2022-06-11T07:04:00.457012",
     "exception": false,
     "start_time": "2022-06-11T07:04:00.449388",
     "status": "completed"
    },
    "tags": []
   },
   "source": [
    "Before submitting, run a check to make sure your `test_preds` have the right format."
   ]
  },
  {
   "cell_type": "code",
   "execution_count": 22,
   "id": "77bc6eea",
   "metadata": {
    "execution": {
     "iopub.execute_input": "2022-06-11T07:04:00.475281Z",
     "iopub.status.busy": "2022-06-11T07:04:00.474413Z",
     "iopub.status.idle": "2022-06-11T07:04:00.486691Z",
     "shell.execute_reply": "2022-06-11T07:04:00.485850Z"
    },
    "papermill": {
     "duration": 0.023397,
     "end_time": "2022-06-11T07:04:00.488476",
     "exception": false,
     "start_time": "2022-06-11T07:04:00.465079",
     "status": "completed"
    },
    "tags": []
   },
   "outputs": [
    {
     "data": {
      "application/javascript": [
       "parent.postMessage({\"jupyterEvent\": \"custom.exercise_interaction\", \"data\": {\"outcomeType\": 1, \"valueTowardsCompletion\": 1.0, \"interactionType\": 1, \"questionType\": 2, \"questionId\": \"1_CheckSubmittablePreds\", \"learnToolsVersion\": \"0.3.4\", \"failureMessage\": \"\", \"exceptionClass\": \"\", \"trace\": \"\"}}, \"*\")"
      ],
      "text/plain": [
       "<IPython.core.display.Javascript object>"
      ]
     },
     "metadata": {},
     "output_type": "display_data"
    },
    {
     "data": {
      "text/markdown": [
       "<span style=\"color:#33cc33\">Correct</span>"
      ],
      "text/plain": [
       "Correct"
      ]
     },
     "metadata": {},
     "output_type": "display_data"
    },
    {
     "data": {
      "application/javascript": [
       "parent.postMessage({\"jupyterEvent\": \"custom.exercise_interaction\", \"data\": {\"interactionType\": 3, \"questionType\": 2, \"questionId\": \"1_CheckSubmittablePreds\", \"learnToolsVersion\": \"0.3.4\", \"valueTowardsCompletion\": 0.0, \"failureMessage\": \"\", \"exceptionClass\": \"\", \"trace\": \"\", \"outcomeType\": 4}}, \"*\")"
      ],
      "text/plain": [
       "<IPython.core.display.Javascript object>"
      ]
     },
     "metadata": {},
     "output_type": "display_data"
    },
    {
     "data": {
      "text/markdown": [
       "<span style=\"color:#33cc99\">Solution:</span> \n",
       "```python\n",
       "\n",
       "# In previous code cell\n",
       "rf_model_on_full_data = RandomForestRegressor()\n",
       "rf_model_on_full_data.fit(X, y)\n",
       "\n",
       "# Then in last code cell\n",
       "test_data_path = '../input/test.csv'\n",
       "test_data = pd.read_csv(test_data_path)\n",
       "test_X = test_data[features]\n",
       "test_preds = rf_model_on_full_data.predict(test_X)\n",
       "\n",
       "\n",
       "output = pd.DataFrame({'Id': test_data.Id,\n",
       "                       'SalePrice': test_preds})\n",
       "output.to_csv('submission.csv', index=False)\n",
       "\n",
       "```"
      ],
      "text/plain": [
       "Solution: \n",
       "```python\n",
       "\n",
       "# In previous code cell\n",
       "rf_model_on_full_data = RandomForestRegressor()\n",
       "rf_model_on_full_data.fit(X, y)\n",
       "\n",
       "# Then in last code cell\n",
       "test_data_path = '../input/test.csv'\n",
       "test_data = pd.read_csv(test_data_path)\n",
       "test_X = test_data[features]\n",
       "test_preds = rf_model_on_full_data.predict(test_X)\n",
       "\n",
       "\n",
       "output = pd.DataFrame({'Id': test_data.Id,\n",
       "                       'SalePrice': test_preds})\n",
       "output.to_csv('submission.csv', index=False)\n",
       "\n",
       "```"
      ]
     },
     "metadata": {},
     "output_type": "display_data"
    }
   ],
   "source": [
    "# Check your answer (To get credit for completing the exercise, you must get a \"Correct\" result!)\n",
    "step_1.check()\n",
    "step_1.solution()"
   ]
  },
  {
   "cell_type": "markdown",
   "id": "56970bac",
   "metadata": {
    "papermill": {
     "duration": 0.00795,
     "end_time": "2022-06-11T07:04:00.504631",
     "exception": false,
     "start_time": "2022-06-11T07:04:00.496681",
     "status": "completed"
    },
    "tags": []
   },
   "source": [
    "# Generate a submission\n",
    "\n",
    "Run the code cell below to generate a CSV file with your predictions that you can use to submit to the competition."
   ]
  },
  {
   "cell_type": "code",
   "execution_count": 23,
   "id": "2b314e60",
   "metadata": {
    "execution": {
     "iopub.execute_input": "2022-06-11T07:04:00.523231Z",
     "iopub.status.busy": "2022-06-11T07:04:00.522159Z",
     "iopub.status.idle": "2022-06-11T07:04:00.535000Z",
     "shell.execute_reply": "2022-06-11T07:04:00.533547Z"
    },
    "papermill": {
     "duration": 0.024659,
     "end_time": "2022-06-11T07:04:00.537521",
     "exception": false,
     "start_time": "2022-06-11T07:04:00.512862",
     "status": "completed"
    },
    "tags": []
   },
   "outputs": [],
   "source": [
    "# Run the code to save predictions in the format used for competition scoring\n",
    "\n",
    "output = pd.DataFrame({'Id': test_data.Id,\n",
    "                       'SalePrice': test_preds})\n",
    "output.to_csv('submission.csv', index=False)"
   ]
  },
  {
   "cell_type": "markdown",
   "id": "14002fb8",
   "metadata": {
    "papermill": {
     "duration": 0.008306,
     "end_time": "2022-06-11T07:04:00.554432",
     "exception": false,
     "start_time": "2022-06-11T07:04:00.546126",
     "status": "completed"
    },
    "tags": []
   },
   "source": [
    "# Submit to the competition\n",
    "\n",
    "To test your results, you'll need to join the competition (if you haven't already).  So open a new window by clicking on **[this link](https://www.kaggle.com/c/home-data-for-ml-course)**.  Then click on the **Join Competition** button.\n",
    "\n",
    "![join competition image](https://i.imgur.com/axBzctl.png)\n",
    "\n",
    "Next, follow the instructions below:\n",
    "1. Begin by clicking on the **Save Version** button in the top right corner of the window.  This will generate a pop-up window.  \n",
    "2. Ensure that the **Save and Run All** option is selected, and then click on the **Save** button.\n",
    "3. This generates a window in the bottom left corner of the notebook.  After it has finished running, click on the number to the right of the **Save Version** button.  This pulls up a list of versions on the right of the screen.  Click on the ellipsis **(...)** to the right of the most recent version, and select **Open in Viewer**.  This brings you into view mode of the same page. You will need to scroll down to get back to these instructions.\n",
    "4. Click on the **Output** tab on the right of the screen.  Then, click on the file you would like to submit, and click on the **Submit** button to submit your results to the leaderboard.\n",
    "\n",
    "You have now successfully submitted to the competition!\n",
    "\n",
    "If you want to keep working to improve your performance, select the **Edit** button in the top right of the screen. Then you can change your code and repeat the process. There's a lot of room to improve, and you will climb up the leaderboard as you work.\n",
    "\n",
    "\n",
    "# Continue Your Progress\n",
    "There are many ways to improve your model, and **experimenting is a great way to learn at this point.**\n",
    "\n",
    "The best way to improve your model is to add features.  To add more features to the data, revisit the first code cell, and change this line of code to include more column names:\n",
    "```python\n",
    "features = ['LotArea', 'YearBuilt', '1stFlrSF', '2ndFlrSF', 'FullBath', 'BedroomAbvGr', 'TotRmsAbvGrd']\n",
    "```\n",
    "\n",
    "Some features will cause errors because of issues like missing values or non-numeric data types.  Here is a complete list of potential columns that you might like to use, and that won't throw errors:\n",
    "- 'MSSubClass'\n",
    "- 'LotArea'\n",
    "- 'OverallQual' \n",
    "- 'OverallCond' \n",
    "- 'YearBuilt'\n",
    "- 'YearRemodAdd' \n",
    "- '1stFlrSF'\n",
    "- '2ndFlrSF' \n",
    "- 'LowQualFinSF' \n",
    "- 'GrLivArea'\n",
    "- 'FullBath'\n",
    "- 'HalfBath'\n",
    "- 'BedroomAbvGr' \n",
    "- 'KitchenAbvGr' \n",
    "- 'TotRmsAbvGrd' \n",
    "- 'Fireplaces' \n",
    "- 'WoodDeckSF' \n",
    "- 'OpenPorchSF'\n",
    "- 'EnclosedPorch' \n",
    "- '3SsnPorch' \n",
    "- 'ScreenPorch' \n",
    "- 'PoolArea' \n",
    "- 'MiscVal' \n",
    "- 'MoSold' \n",
    "- 'YrSold'\n",
    "\n",
    "Look at the list of columns and think about what might affect home prices.  To learn more about each of these features, take a look at the data description on the **[competition page](https://www.kaggle.com/c/home-data-for-ml-course/data)**.\n",
    "\n",
    "After updating the code cell above that defines the features, re-run all of the code cells to evaluate the model and generate a new submission file.  \n",
    "\n",
    "\n",
    "# What's next?\n",
    "\n",
    "As mentioned above, some of the features will throw an error if you try to use them to train your model.  The **[Intermediate Machine Learning](https://www.kaggle.com/learn/intermediate-machine-learning)** course will teach you how to handle these types of features. You will also learn to use **xgboost**, a technique giving even better accuracy than Random Forest.\n",
    "\n",
    "The **[Pandas](https://kaggle.com/Learn/Pandas)** course will give you the data manipulation skills to quickly go from conceptual idea to implementation in your data science projects. \n",
    "\n",
    "You are also ready for the **[Deep Learning](https://kaggle.com/Learn/intro-to-Deep-Learning)** course, where you will build models with better-than-human level performance at computer vision tasks."
   ]
  },
  {
   "cell_type": "markdown",
   "id": "92ef12b9",
   "metadata": {
    "papermill": {
     "duration": 0.007834,
     "end_time": "2022-06-11T07:04:00.570595",
     "exception": false,
     "start_time": "2022-06-11T07:04:00.562761",
     "status": "completed"
    },
    "tags": []
   },
   "source": [
    "---\n",
    "\n",
    "\n",
    "\n",
    "\n",
    "*Have questions or comments? Visit the [course discussion forum](https://www.kaggle.com/learn/intro-to-machine-learning/discussion) to chat with other learners.*"
   ]
  }
 ],
 "metadata": {
  "kernelspec": {
   "display_name": "Python 3",
   "language": "python",
   "name": "python3"
  },
  "language_info": {
   "codemirror_mode": {
    "name": "ipython",
    "version": 3
   },
   "file_extension": ".py",
   "mimetype": "text/x-python",
   "name": "python",
   "nbconvert_exporter": "python",
   "pygments_lexer": "ipython3",
   "version": "3.7.12"
  },
  "papermill": {
   "default_parameters": {},
   "duration": 13.183927,
   "end_time": "2022-06-11T07:04:01.299226",
   "environment_variables": {},
   "exception": null,
   "input_path": "__notebook__.ipynb",
   "output_path": "__notebook__.ipynb",
   "parameters": {},
   "start_time": "2022-06-11T07:03:48.115299",
   "version": "2.3.4"
  }
 },
 "nbformat": 4,
 "nbformat_minor": 5
}
