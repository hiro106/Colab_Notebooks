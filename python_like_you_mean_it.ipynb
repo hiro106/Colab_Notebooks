{
  "nbformat": 4,
  "nbformat_minor": 0,
  "metadata": {
    "colab": {
      "provenance": [],
      "collapsed_sections": [],
      "authorship_tag": "ABX9TyODXwwYnSeOWfqqrSce2bpy",
      "include_colab_link": true
    },
    "kernelspec": {
      "name": "python3",
      "display_name": "Python 3"
    },
    "language_info": {
      "name": "python"
    }
  },
  "cells": [
    {
      "cell_type": "markdown",
      "metadata": {
        "id": "view-in-github",
        "colab_type": "text"
      },
      "source": [
        "<a href=\"https://colab.research.google.com/github/hiro106/statistics-ml-cs-learning/blob/main/python_like_you_mean_it.ipynb\" target=\"_parent\"><img src=\"https://colab.research.google.com/assets/colab-badge.svg\" alt=\"Open In Colab\"/></a>"
      ]
    },
    {
      "cell_type": "markdown",
      "source": [
        "## Module 2: The Essentials of Python » For-Loops and While-Loops\n",
        "https://www.pythonlikeyoumeanit.com/Module2_EssentialsOfPython/ForLoops.html\n"
      ],
      "metadata": {
        "id": "Dn7yolT7aCxg"
      }
    },
    {
      "cell_type": "markdown",
      "source": [
        "###Reading Comprehension: conducting flow in a loop\n",
        "\n",
        "Loop over a list of integers repeatedly, summing up all of its even values, and adding the content to a total. Repeat this process until the the total exceeds 100, or if you have looped over the list more than 50 times. Print the total only if it exceeds 100."
      ],
      "metadata": {
        "id": "DUgndak9aLr9"
      }
    },
    {
      "cell_type": "code",
      "source": [
        "int_list = [3, 21, 4, 12, 5, 16, 7, 9, 22, 34, 14, 66]"
      ],
      "metadata": {
        "id": "TaxJPewoaLw3"
      },
      "execution_count": 20,
      "outputs": []
    },
    {
      "cell_type": "code",
      "source": [
        "count = 0\n",
        "total = 0\n",
        "for x in int_list:\n",
        "    if (count >= 50) or (total >= 100):\n",
        "        print(total)\n",
        "        break \n",
        "    elif (x % 2) == 0:\n",
        "        total += x\n",
        "        count += 1\n",
        "        print (f\"total: {total}, count: {count}\")\n",
        "    else:\n",
        "        count += 1\n",
        "        print (f\"total: {total}, count: {count}\")\n",
        "        continue"
      ],
      "metadata": {
        "colab": {
          "base_uri": "https://localhost:8080/"
        },
        "id": "VJ9UVlmyaLzf",
        "outputId": "629eeb45-bb08-4ebc-e960-379187198572"
      },
      "execution_count": 21,
      "outputs": [
        {
          "output_type": "stream",
          "name": "stdout",
          "text": [
            "total: 0, count: 1\n",
            "total: 0, count: 2\n",
            "total: 4, count: 3\n",
            "total: 16, count: 4\n",
            "total: 16, count: 5\n",
            "total: 32, count: 6\n",
            "total: 32, count: 7\n",
            "total: 32, count: 8\n",
            "total: 54, count: 9\n",
            "total: 88, count: 10\n",
            "total: 102, count: 11\n",
            "102\n"
          ]
        }
      ]
    },
    {
      "cell_type": "code",
      "source": [
        "x = [3, 21, 4, 12, 5, 16, 7, 9, 22, 34, 14, 66]"
      ],
      "metadata": {
        "id": "Ovx5AwCIaL2D"
      },
      "execution_count": 22,
      "outputs": []
    },
    {
      "cell_type": "code",
      "source": [
        "num_loop = 0\n",
        "total = 0\n",
        "while total < 100:\n",
        "    for item in x:\n",
        "        # return to for-loop if\n",
        "        # 'item' is odd-valued\n",
        "        if item % 2 == 1:\n",
        "            num_loop += 1\n",
        "            print (f\"num_loop: {num_loop}, total: {total}\")\n",
        "            continue\n",
        "        else:\n",
        "            total += item\n",
        "            num_loop += 1\n",
        "            print (f\"num_loop: {num_loop}, total: {total}\")\n",
        "\n",
        "    # break from while-loop if\n",
        "    # more than 50 items tallied\n",
        "    if 50 < num_loop:\n",
        "        break\n",
        "else:\n",
        "    print(total)"
      ],
      "metadata": {
        "colab": {
          "base_uri": "https://localhost:8080/"
        },
        "id": "291B-l54aL-R",
        "outputId": "37c021f5-f3b3-4b85-dcb2-693faeada932"
      },
      "execution_count": 36,
      "outputs": [
        {
          "output_type": "stream",
          "name": "stdout",
          "text": [
            "num_loop: 1, total: 0\n",
            "num_loop: 2, total: 0\n",
            "num_loop: 3, total: 4\n",
            "num_loop: 4, total: 16\n",
            "num_loop: 5, total: 16\n",
            "num_loop: 6, total: 32\n",
            "num_loop: 7, total: 32\n",
            "num_loop: 8, total: 32\n",
            "num_loop: 9, total: 54\n",
            "num_loop: 10, total: 88\n",
            "num_loop: 11, total: 102\n",
            "num_loop: 12, total: 168\n",
            "168\n"
          ]
        }
      ]
    },
    {
      "cell_type": "code",
      "source": [],
      "metadata": {
        "id": "SG60xRLmKgWy"
      },
      "execution_count": null,
      "outputs": []
    },
    {
      "cell_type": "code",
      "source": [],
      "metadata": {
        "id": "i3Lp5OW7KgZX"
      },
      "execution_count": null,
      "outputs": []
    },
    {
      "cell_type": "code",
      "source": [],
      "metadata": {
        "id": "VhREYHKxKgbn"
      },
      "execution_count": null,
      "outputs": []
    },
    {
      "cell_type": "code",
      "source": [],
      "metadata": {
        "id": "FVFyXHsWKgeM"
      },
      "execution_count": null,
      "outputs": []
    },
    {
      "cell_type": "code",
      "source": [],
      "metadata": {
        "id": "4Jif7Py_Kgg_"
      },
      "execution_count": null,
      "outputs": []
    },
    {
      "cell_type": "code",
      "source": [],
      "metadata": {
        "id": "UWT4pYB-aMAi"
      },
      "execution_count": null,
      "outputs": []
    }
  ]
}