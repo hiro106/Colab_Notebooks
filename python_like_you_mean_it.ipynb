{
  "nbformat": 4,
  "nbformat_minor": 0,
  "metadata": {
    "colab": {
      "provenance": [],
      "collapsed_sections": [],
      "authorship_tag": "ABX9TyPjBfwmKj3jONU87flim3tf",
      "include_colab_link": true
    },
    "kernelspec": {
      "name": "python3",
      "display_name": "Python 3"
    },
    "language_info": {
      "name": "python"
    }
  },
  "cells": [
    {
      "cell_type": "markdown",
      "metadata": {
        "id": "view-in-github",
        "colab_type": "text"
      },
      "source": [
        "<a href=\"https://colab.research.google.com/github/hiro106/statistics-ml-cs-learning/blob/main/python_like_you_mean_it.ipynb\" target=\"_parent\"><img src=\"https://colab.research.google.com/assets/colab-badge.svg\" alt=\"Open In Colab\"/></a>"
      ]
    },
    {
      "cell_type": "markdown",
      "source": [
        "## Module 2: The Essentials of Python » For-Loops and While-Loops\n",
        "https://www.pythonlikeyoumeanit.com/Module2_EssentialsOfPython/ForLoops.html\n"
      ],
      "metadata": {
        "id": "Dn7yolT7aCxg"
      }
    },
    {
      "cell_type": "markdown",
      "source": [
        "###Reading Comprehension: conducting flow in a loop\n",
        "\n",
        "Loop over a list of integers repeatedly, summing up all of its even values, and adding the content to a total. Repeat this process until the the total exceeds 100, or if you have looped over the list more than 50 times. Print the total only if it exceeds 100."
      ],
      "metadata": {
        "id": "DUgndak9aLr9"
      }
    },
    {
      "cell_type": "code",
      "source": [
        "int_list = [3, 21, 4, 12, 5, 16, 7, 9, 22, 34, 14, 66]"
      ],
      "metadata": {
        "id": "TaxJPewoaLw3"
      },
      "execution_count": 1,
      "outputs": []
    },
    {
      "cell_type": "code",
      "source": [
        "count = 0\n",
        "total = 0\n",
        "for x in int_list:\n",
        "    if (count >= 50) or (total >= 100):\n",
        "        print(total)\n",
        "        break \n",
        "    elif (x % 2) == 0:\n",
        "        total += x\n",
        "        count += 1\n",
        "        print (f\"total: {total}, count: {count}\")\n",
        "    else:\n",
        "        count += 1\n",
        "        print (f\"total: {total}, count: {count}\")\n",
        "        continue"
      ],
      "metadata": {
        "colab": {
          "base_uri": "https://localhost:8080/"
        },
        "id": "VJ9UVlmyaLzf",
        "outputId": "78deaeed-1bcd-45e0-8a03-e48c234f9adc"
      },
      "execution_count": 2,
      "outputs": [
        {
          "output_type": "stream",
          "name": "stdout",
          "text": [
            "total: 0, count: 1\n",
            "total: 0, count: 2\n",
            "total: 4, count: 3\n",
            "total: 16, count: 4\n",
            "total: 16, count: 5\n",
            "total: 32, count: 6\n",
            "total: 32, count: 7\n",
            "total: 32, count: 8\n",
            "total: 54, count: 9\n",
            "total: 88, count: 10\n",
            "total: 102, count: 11\n",
            "102\n"
          ]
        }
      ]
    },
    {
      "cell_type": "code",
      "source": [
        "x = list(range(1, 31))\n",
        "x"
      ],
      "metadata": {
        "colab": {
          "base_uri": "https://localhost:8080/"
        },
        "id": "Ovx5AwCIaL2D",
        "outputId": "686735de-bc7d-4c30-958e-d52f335e49d7"
      },
      "execution_count": 3,
      "outputs": [
        {
          "output_type": "execute_result",
          "data": {
            "text/plain": [
              "[1,\n",
              " 2,\n",
              " 3,\n",
              " 4,\n",
              " 5,\n",
              " 6,\n",
              " 7,\n",
              " 8,\n",
              " 9,\n",
              " 10,\n",
              " 11,\n",
              " 12,\n",
              " 13,\n",
              " 14,\n",
              " 15,\n",
              " 16,\n",
              " 17,\n",
              " 18,\n",
              " 19,\n",
              " 20,\n",
              " 21,\n",
              " 22,\n",
              " 23,\n",
              " 24,\n",
              " 25,\n",
              " 26,\n",
              " 27,\n",
              " 28,\n",
              " 29,\n",
              " 30]"
            ]
          },
          "metadata": {},
          "execution_count": 3
        }
      ]
    },
    {
      "cell_type": "code",
      "source": [
        "# The solution written in the article contains a bug.\n",
        "# The for-loop is nested by the while-loop, \n",
        "# so the while-loop doesn't have effect as intended. \n",
        "# So, I revised it in the next cell.\n",
        "\n",
        "\n",
        "x = list(range(1, 31))\n",
        "num_loop = 0\n",
        "total = 0\n",
        "\n",
        "while total < 100:\n",
        "    for item in x:\n",
        "        # return to for-loop if\n",
        "        # 'item' is odd-valued\n",
        "        if item % 2 == 1:\n",
        "            num_loop += 1\n",
        "            # Additional code for checking the process\n",
        "            print (f\"num_loop: {num_loop}, item: {item}, total: {total}\")\n",
        "            continue\n",
        "        else:\n",
        "            total += item\n",
        "            num_loop += 1\n",
        "            # Additional code for checking the process\n",
        "            print (f\"num_loop: {num_loop}, item: {item}, total: {total}\")\n",
        "\n",
        "    # break from while-loop if\n",
        "    # more than 50 items tallied\n",
        "    if 50 < num_loop:\n",
        "        break\n",
        "else:\n",
        "    print(total)"
      ],
      "metadata": {
        "colab": {
          "base_uri": "https://localhost:8080/"
        },
        "id": "291B-l54aL-R",
        "outputId": "52919349-4ca5-4a2b-c05a-fe5fa9a5a992"
      },
      "execution_count": 9,
      "outputs": [
        {
          "output_type": "stream",
          "name": "stdout",
          "text": [
            "num_loop: 1, item: 1, total: 0\n",
            "num_loop: 2, item: 2, total: 2\n",
            "num_loop: 3, item: 3, total: 2\n",
            "num_loop: 4, item: 4, total: 6\n",
            "num_loop: 5, item: 5, total: 6\n",
            "num_loop: 6, item: 6, total: 12\n",
            "num_loop: 7, item: 7, total: 12\n",
            "num_loop: 8, item: 8, total: 20\n",
            "num_loop: 9, item: 9, total: 20\n",
            "num_loop: 10, item: 10, total: 30\n",
            "num_loop: 11, item: 11, total: 30\n",
            "num_loop: 12, item: 12, total: 42\n",
            "num_loop: 13, item: 13, total: 42\n",
            "num_loop: 14, item: 14, total: 56\n",
            "num_loop: 15, item: 15, total: 56\n",
            "num_loop: 16, item: 16, total: 72\n",
            "num_loop: 17, item: 17, total: 72\n",
            "num_loop: 18, item: 18, total: 90\n",
            "num_loop: 19, item: 19, total: 90\n",
            "num_loop: 20, item: 20, total: 110\n",
            "num_loop: 21, item: 21, total: 110\n",
            "num_loop: 22, item: 22, total: 132\n",
            "num_loop: 23, item: 23, total: 132\n",
            "num_loop: 24, item: 24, total: 156\n",
            "num_loop: 25, item: 25, total: 156\n",
            "num_loop: 26, item: 26, total: 182\n",
            "num_loop: 27, item: 27, total: 182\n",
            "num_loop: 28, item: 28, total: 210\n",
            "num_loop: 29, item: 29, total: 210\n",
            "num_loop: 30, item: 30, total: 240\n",
            "240\n"
          ]
        }
      ]
    },
    {
      "cell_type": "code",
      "source": [
        "x = list(range(1, 31))\n",
        "num_loop = 0\n",
        "total = 0\n",
        "\n",
        "for item in x:\n",
        "    # return to for-loop if\n",
        "    # 'item' is odd-valued\n",
        "    if (100 < total) or (50 < num_loop):\n",
        "        # Additional code for checking the process\n",
        "        print (f\"num_loop: {num_loop}, item: {item}, total: {total}\")\n",
        "        break\n",
        "    elif item % 2 == 1:\n",
        "        num_loop += 1\n",
        "        # Additional code for checking the process\n",
        "        print (f\"num_loop: {num_loop}, item: {item}, total: {total}\")\n",
        "        continue\n",
        "    else:\n",
        "        total += item\n",
        "        num_loop += 1\n",
        "        # Additional code for checking the process\n",
        "        print (f\"num_loop: {num_loop}, item: {item}, total: {total}\")\n",
        "\n",
        "print(total)"
      ],
      "metadata": {
        "id": "SG60xRLmKgWy",
        "colab": {
          "base_uri": "https://localhost:8080/"
        },
        "outputId": "05141f0a-477f-41c9-a568-8444f1b17d85"
      },
      "execution_count": 11,
      "outputs": [
        {
          "output_type": "stream",
          "name": "stdout",
          "text": [
            "num_loop: 1, item: 1, total: 0\n",
            "num_loop: 2, item: 2, total: 2\n",
            "num_loop: 3, item: 3, total: 2\n",
            "num_loop: 4, item: 4, total: 6\n",
            "num_loop: 5, item: 5, total: 6\n",
            "num_loop: 6, item: 6, total: 12\n",
            "num_loop: 7, item: 7, total: 12\n",
            "num_loop: 8, item: 8, total: 20\n",
            "num_loop: 9, item: 9, total: 20\n",
            "num_loop: 10, item: 10, total: 30\n",
            "num_loop: 11, item: 11, total: 30\n",
            "num_loop: 12, item: 12, total: 42\n",
            "num_loop: 13, item: 13, total: 42\n",
            "num_loop: 14, item: 14, total: 56\n",
            "num_loop: 15, item: 15, total: 56\n",
            "num_loop: 16, item: 16, total: 72\n",
            "num_loop: 17, item: 17, total: 72\n",
            "num_loop: 18, item: 18, total: 90\n",
            "num_loop: 19, item: 19, total: 90\n",
            "num_loop: 20, item: 20, total: 110\n",
            "num_loop: 20, item: 21, total: 110\n",
            "110\n"
          ]
        }
      ]
    },
    {
      "cell_type": "markdown",
      "source": [
        "I made a github issue.  \n",
        "https://github.com/rsokl/Learning_Python/issues/195"
      ],
      "metadata": {
        "id": "i3Lp5OW7KgZX"
      }
    },
    {
      "cell_type": "code",
      "source": [],
      "metadata": {
        "id": "VhREYHKxKgbn"
      },
      "execution_count": 4,
      "outputs": []
    },
    {
      "cell_type": "code",
      "source": [],
      "metadata": {
        "id": "FVFyXHsWKgeM"
      },
      "execution_count": 4,
      "outputs": []
    },
    {
      "cell_type": "code",
      "source": [],
      "metadata": {
        "id": "4Jif7Py_Kgg_"
      },
      "execution_count": 4,
      "outputs": []
    },
    {
      "cell_type": "code",
      "source": [],
      "metadata": {
        "id": "UWT4pYB-aMAi"
      },
      "execution_count": 4,
      "outputs": []
    }
  ]
}