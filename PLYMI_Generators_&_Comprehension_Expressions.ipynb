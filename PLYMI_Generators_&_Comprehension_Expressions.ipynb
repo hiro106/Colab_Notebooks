{
  "nbformat": 4,
  "nbformat_minor": 0,
  "metadata": {
    "colab": {
      "provenance": [],
      "collapsed_sections": [],
      "authorship_tag": "ABX9TyMgafH5tn+zTvY34TMDfPUe",
      "include_colab_link": true
    },
    "kernelspec": {
      "name": "python3",
      "display_name": "Python 3"
    },
    "language_info": {
      "name": "python"
    }
  },
  "cells": [
    {
      "cell_type": "markdown",
      "metadata": {
        "id": "view-in-github",
        "colab_type": "text"
      },
      "source": [
        "<a href=\"https://colab.research.google.com/github/hiro106/statistics-ml-cs-learning/blob/main/PLYMI_Generators_%26_Comprehension_Expressions.ipynb\" target=\"_parent\"><img src=\"https://colab.research.google.com/assets/colab-badge.svg\" alt=\"Open In Colab\"/></a>"
      ]
    },
    {
      "cell_type": "code",
      "execution_count": null,
      "metadata": {
        "id": "YOUBGqdcn-sx"
      },
      "outputs": [],
      "source": [
        "# https://www.pythonlikeyoumeanit.com/Module2_EssentialsOfPython/Generators_and_Comprehensions.html"
      ]
    },
    {
      "cell_type": "code",
      "source": [
        "for i in range(10, 0, -1):\n",
        "    print(i)"
      ],
      "metadata": {
        "colab": {
          "base_uri": "https://localhost:8080/"
        },
        "id": "4l6zB-Zooe7p",
        "outputId": "6a55b457-3f46-45b1-ad90-12bea2225c6e"
      },
      "execution_count": null,
      "outputs": [
        {
          "output_type": "stream",
          "name": "stdout",
          "text": [
            "10\n",
            "9\n",
            "8\n",
            "7\n",
            "6\n",
            "5\n",
            "4\n",
            "3\n",
            "2\n",
            "1\n"
          ]
        }
      ]
    },
    {
      "cell_type": "code",
      "source": [
        "type(range(10, 0, -1))"
      ],
      "metadata": {
        "colab": {
          "base_uri": "https://localhost:8080/"
        },
        "id": "FPK3LKvwopLM",
        "outputId": "7602bb60-4e29-4f8c-b463-774c0a0bb15c"
      },
      "execution_count": null,
      "outputs": [
        {
          "output_type": "execute_result",
          "data": {
            "text/plain": [
              "range"
            ]
          },
          "metadata": {},
          "execution_count": 3
        }
      ]
    },
    {
      "cell_type": "code",
      "source": [
        "type(range)"
      ],
      "metadata": {
        "colab": {
          "base_uri": "https://localhost:8080/"
        },
        "id": "GJctrxrtopNr",
        "outputId": "f7e56502-4c46-415c-bd7e-c95bb94879ff"
      },
      "execution_count": null,
      "outputs": [
        {
          "output_type": "execute_result",
          "data": {
            "text/plain": [
              "type"
            ]
          },
          "metadata": {},
          "execution_count": 4
        }
      ]
    },
    {
      "cell_type": "code",
      "source": [
        "help(range(10, 0, -1))"
      ],
      "metadata": {
        "id": "ZAELHXsJopQZ",
        "colab": {
          "base_uri": "https://localhost:8080/"
        },
        "outputId": "9ec276d1-8317-409b-de7d-9fb1380a1dfd"
      },
      "execution_count": null,
      "outputs": [
        {
          "output_type": "stream",
          "name": "stdout",
          "text": [
            "Help on range object:\n",
            "\n",
            "class range(object)\n",
            " |  range(stop) -> range object\n",
            " |  range(start, stop[, step]) -> range object\n",
            " |  \n",
            " |  Return an object that produces a sequence of integers from start (inclusive)\n",
            " |  to stop (exclusive) by step.  range(i, j) produces i, i+1, i+2, ..., j-1.\n",
            " |  start defaults to 0, and stop is omitted!  range(4) produces 0, 1, 2, 3.\n",
            " |  These are exactly the valid indices for a list of 4 elements.\n",
            " |  When step is given, it specifies the increment (or decrement).\n",
            " |  \n",
            " |  Methods defined here:\n",
            " |  \n",
            " |  __bool__(self, /)\n",
            " |      self != 0\n",
            " |  \n",
            " |  __contains__(self, key, /)\n",
            " |      Return key in self.\n",
            " |  \n",
            " |  __eq__(self, value, /)\n",
            " |      Return self==value.\n",
            " |  \n",
            " |  __ge__(self, value, /)\n",
            " |      Return self>=value.\n",
            " |  \n",
            " |  __getattribute__(self, name, /)\n",
            " |      Return getattr(self, name).\n",
            " |  \n",
            " |  __getitem__(self, key, /)\n",
            " |      Return self[key].\n",
            " |  \n",
            " |  __gt__(self, value, /)\n",
            " |      Return self>value.\n",
            " |  \n",
            " |  __hash__(self, /)\n",
            " |      Return hash(self).\n",
            " |  \n",
            " |  __iter__(self, /)\n",
            " |      Implement iter(self).\n",
            " |  \n",
            " |  __le__(self, value, /)\n",
            " |      Return self<=value.\n",
            " |  \n",
            " |  __len__(self, /)\n",
            " |      Return len(self).\n",
            " |  \n",
            " |  __lt__(self, value, /)\n",
            " |      Return self<value.\n",
            " |  \n",
            " |  __ne__(self, value, /)\n",
            " |      Return self!=value.\n",
            " |  \n",
            " |  __reduce__(...)\n",
            " |      Helper for pickle.\n",
            " |  \n",
            " |  __repr__(self, /)\n",
            " |      Return repr(self).\n",
            " |  \n",
            " |  __reversed__(...)\n",
            " |      Return a reverse iterator.\n",
            " |  \n",
            " |  count(...)\n",
            " |      rangeobject.count(value) -> integer -- return number of occurrences of value\n",
            " |  \n",
            " |  index(...)\n",
            " |      rangeobject.index(value) -> integer -- return index of value.\n",
            " |      Raise ValueError if the value is not present.\n",
            " |  \n",
            " |  ----------------------------------------------------------------------\n",
            " |  Static methods defined here:\n",
            " |  \n",
            " |  __new__(*args, **kwargs) from builtins.type\n",
            " |      Create and return a new object.  See help(type) for accurate signature.\n",
            " |  \n",
            " |  ----------------------------------------------------------------------\n",
            " |  Data descriptors defined here:\n",
            " |  \n",
            " |  start\n",
            " |  \n",
            " |  step\n",
            " |  \n",
            " |  stop\n",
            "\n"
          ]
        }
      ]
    },
    {
      "cell_type": "code",
      "source": [
        "help(range)"
      ],
      "metadata": {
        "id": "vRiZVmzVopS7",
        "colab": {
          "base_uri": "https://localhost:8080/"
        },
        "outputId": "88f4152d-78e1-437e-ede9-7a8af0a0a3a1"
      },
      "execution_count": null,
      "outputs": [
        {
          "output_type": "stream",
          "name": "stdout",
          "text": [
            "Help on class range in module builtins:\n",
            "\n",
            "class range(object)\n",
            " |  range(stop) -> range object\n",
            " |  range(start, stop[, step]) -> range object\n",
            " |  \n",
            " |  Return an object that produces a sequence of integers from start (inclusive)\n",
            " |  to stop (exclusive) by step.  range(i, j) produces i, i+1, i+2, ..., j-1.\n",
            " |  start defaults to 0, and stop is omitted!  range(4) produces 0, 1, 2, 3.\n",
            " |  These are exactly the valid indices for a list of 4 elements.\n",
            " |  When step is given, it specifies the increment (or decrement).\n",
            " |  \n",
            " |  Methods defined here:\n",
            " |  \n",
            " |  __bool__(self, /)\n",
            " |      self != 0\n",
            " |  \n",
            " |  __contains__(self, key, /)\n",
            " |      Return key in self.\n",
            " |  \n",
            " |  __eq__(self, value, /)\n",
            " |      Return self==value.\n",
            " |  \n",
            " |  __ge__(self, value, /)\n",
            " |      Return self>=value.\n",
            " |  \n",
            " |  __getattribute__(self, name, /)\n",
            " |      Return getattr(self, name).\n",
            " |  \n",
            " |  __getitem__(self, key, /)\n",
            " |      Return self[key].\n",
            " |  \n",
            " |  __gt__(self, value, /)\n",
            " |      Return self>value.\n",
            " |  \n",
            " |  __hash__(self, /)\n",
            " |      Return hash(self).\n",
            " |  \n",
            " |  __iter__(self, /)\n",
            " |      Implement iter(self).\n",
            " |  \n",
            " |  __le__(self, value, /)\n",
            " |      Return self<=value.\n",
            " |  \n",
            " |  __len__(self, /)\n",
            " |      Return len(self).\n",
            " |  \n",
            " |  __lt__(self, value, /)\n",
            " |      Return self<value.\n",
            " |  \n",
            " |  __ne__(self, value, /)\n",
            " |      Return self!=value.\n",
            " |  \n",
            " |  __reduce__(...)\n",
            " |      Helper for pickle.\n",
            " |  \n",
            " |  __repr__(self, /)\n",
            " |      Return repr(self).\n",
            " |  \n",
            " |  __reversed__(...)\n",
            " |      Return a reverse iterator.\n",
            " |  \n",
            " |  count(...)\n",
            " |      rangeobject.count(value) -> integer -- return number of occurrences of value\n",
            " |  \n",
            " |  index(...)\n",
            " |      rangeobject.index(value) -> integer -- return index of value.\n",
            " |      Raise ValueError if the value is not present.\n",
            " |  \n",
            " |  ----------------------------------------------------------------------\n",
            " |  Static methods defined here:\n",
            " |  \n",
            " |  __new__(*args, **kwargs) from builtins.type\n",
            " |      Create and return a new object.  See help(type) for accurate signature.\n",
            " |  \n",
            " |  ----------------------------------------------------------------------\n",
            " |  Data descriptors defined here:\n",
            " |  \n",
            " |  start\n",
            " |  \n",
            " |  step\n",
            " |  \n",
            " |  stop\n",
            "\n"
          ]
        }
      ]
    },
    {
      "cell_type": "code",
      "source": [
        "print(tuple((i, i+2) for i in range(6) if i != 3))"
      ],
      "metadata": {
        "colab": {
          "base_uri": "https://localhost:8080/"
        },
        "id": "1FNxwBGcopVa",
        "outputId": "f7985a6f-de64-4ca6-85ff-16d3db3ae8ec"
      },
      "execution_count": null,
      "outputs": [
        {
          "output_type": "stream",
          "name": "stdout",
          "text": [
            "((0, 2), (1, 3), (2, 4), (4, 6), (5, 7))\n"
          ]
        }
      ]
    },
    {
      "cell_type": "code",
      "source": [
        "print(list((i, i+2) for i in range(6) if i != 3))"
      ],
      "metadata": {
        "colab": {
          "base_uri": "https://localhost:8080/"
        },
        "id": "woLjMbi4opbV",
        "outputId": "c990a215-23e2-4bbe-f3c2-e712fdfd527d"
      },
      "execution_count": null,
      "outputs": [
        {
          "output_type": "stream",
          "name": "stdout",
          "text": [
            "[(0, 2), (1, 3), (2, 4), (4, 6), (5, 7)]\n"
          ]
        }
      ]
    },
    {
      "cell_type": "code",
      "source": [
        "sum(i for i in range(101) if i%2 != 0) "
      ],
      "metadata": {
        "colab": {
          "base_uri": "https://localhost:8080/"
        },
        "id": "SydCsLuRoe-G",
        "outputId": "0067f212-3e35-4afd-989b-af7cac449f54"
      },
      "execution_count": null,
      "outputs": [
        {
          "output_type": "execute_result",
          "data": {
            "text/plain": [
              "2500"
            ]
          },
          "metadata": {},
          "execution_count": 9
        }
      ]
    },
    {
      "cell_type": "code",
      "source": [
        "# When we want to use an if-statement inside a tuple comprehension, \n",
        "# the corresponding else-statement is also needed. \n",
        "# Otherwise, the program cause an syntax error.\n",
        "sum((i if True else True) for i in range(101)) "
      ],
      "metadata": {
        "colab": {
          "base_uri": "https://localhost:8080/"
        },
        "id": "DOzMLuLjofAa",
        "outputId": "8d791c93-61a2-4146-ef62-2a633f274d1d"
      },
      "execution_count": null,
      "outputs": [
        {
          "output_type": "execute_result",
          "data": {
            "text/plain": [
              "5050"
            ]
          },
          "metadata": {},
          "execution_count": 10
        }
      ]
    },
    {
      "cell_type": "code",
      "source": [
        "[\"hello\" for i in range(100)]"
      ],
      "metadata": {
        "id": "oAvPZcdZofDA",
        "colab": {
          "base_uri": "https://localhost:8080/"
        },
        "outputId": "34df8f96-ffd2-4536-dc47-1d083bc439fb"
      },
      "execution_count": null,
      "outputs": [
        {
          "output_type": "execute_result",
          "data": {
            "text/plain": [
              "['hello',\n",
              " 'hello',\n",
              " 'hello',\n",
              " 'hello',\n",
              " 'hello',\n",
              " 'hello',\n",
              " 'hello',\n",
              " 'hello',\n",
              " 'hello',\n",
              " 'hello',\n",
              " 'hello',\n",
              " 'hello',\n",
              " 'hello',\n",
              " 'hello',\n",
              " 'hello',\n",
              " 'hello',\n",
              " 'hello',\n",
              " 'hello',\n",
              " 'hello',\n",
              " 'hello',\n",
              " 'hello',\n",
              " 'hello',\n",
              " 'hello',\n",
              " 'hello',\n",
              " 'hello',\n",
              " 'hello',\n",
              " 'hello',\n",
              " 'hello',\n",
              " 'hello',\n",
              " 'hello',\n",
              " 'hello',\n",
              " 'hello',\n",
              " 'hello',\n",
              " 'hello',\n",
              " 'hello',\n",
              " 'hello',\n",
              " 'hello',\n",
              " 'hello',\n",
              " 'hello',\n",
              " 'hello',\n",
              " 'hello',\n",
              " 'hello',\n",
              " 'hello',\n",
              " 'hello',\n",
              " 'hello',\n",
              " 'hello',\n",
              " 'hello',\n",
              " 'hello',\n",
              " 'hello',\n",
              " 'hello',\n",
              " 'hello',\n",
              " 'hello',\n",
              " 'hello',\n",
              " 'hello',\n",
              " 'hello',\n",
              " 'hello',\n",
              " 'hello',\n",
              " 'hello',\n",
              " 'hello',\n",
              " 'hello',\n",
              " 'hello',\n",
              " 'hello',\n",
              " 'hello',\n",
              " 'hello',\n",
              " 'hello',\n",
              " 'hello',\n",
              " 'hello',\n",
              " 'hello',\n",
              " 'hello',\n",
              " 'hello',\n",
              " 'hello',\n",
              " 'hello',\n",
              " 'hello',\n",
              " 'hello',\n",
              " 'hello',\n",
              " 'hello',\n",
              " 'hello',\n",
              " 'hello',\n",
              " 'hello',\n",
              " 'hello',\n",
              " 'hello',\n",
              " 'hello',\n",
              " 'hello',\n",
              " 'hello',\n",
              " 'hello',\n",
              " 'hello',\n",
              " 'hello',\n",
              " 'hello',\n",
              " 'hello',\n",
              " 'hello',\n",
              " 'hello',\n",
              " 'hello',\n",
              " 'hello',\n",
              " 'hello',\n",
              " 'hello',\n",
              " 'hello',\n",
              " 'hello',\n",
              " 'hello',\n",
              " 'hello',\n",
              " 'hello']"
            ]
          },
          "metadata": {},
          "execution_count": 11
        }
      ]
    },
    {
      "cell_type": "code",
      "source": [
        "print([('hello' if i%2==0 else 'goodbye') for i in range(10)])"
      ],
      "metadata": {
        "colab": {
          "base_uri": "https://localhost:8080/"
        },
        "id": "uXRcUeDQu4i1",
        "outputId": "41e5a9af-4823-4e9b-9725-1d26298a834b"
      },
      "execution_count": null,
      "outputs": [
        {
          "output_type": "stream",
          "name": "stdout",
          "text": [
            "['hello', 'goodbye', 'hello', 'goodbye', 'hello', 'goodbye', 'hello', 'goodbye', 'hello', 'goodbye']\n"
          ]
        }
      ]
    },
    {
      "cell_type": "code",
      "source": [
        "tuple(float(i) for i in str.split(\"3.2,2.4,99.8\", \",\"))"
      ],
      "metadata": {
        "id": "201HheGwvWk4",
        "colab": {
          "base_uri": "https://localhost:8080/"
        },
        "outputId": "6fd65794-4ade-491a-f331-71d097fadf2d"
      },
      "execution_count": null,
      "outputs": [
        {
          "output_type": "execute_result",
          "data": {
            "text/plain": [
              "(3.2, 2.4, 99.8)"
            ]
          },
          "metadata": {},
          "execution_count": 15
        }
      ]
    },
    {
      "cell_type": "code",
      "source": [
        "help(str.split)"
      ],
      "metadata": {
        "id": "o22hcTTdvWng"
      },
      "execution_count": null,
      "outputs": []
    },
    {
      "cell_type": "code",
      "source": [
        "string_of_nums = \"3.2,2.4,99.8\""
      ],
      "metadata": {
        "id": "-BHeaQb6u4lr"
      },
      "execution_count": null,
      "outputs": []
    },
    {
      "cell_type": "code",
      "source": [
        "tuple(float(i) for i in string_of_nums.split(\",\"))"
      ],
      "metadata": {
        "id": "DXRvcVZJu4oC",
        "colab": {
          "base_uri": "https://localhost:8080/"
        },
        "outputId": "a1735158-1d46-4404-f8f1-b67dce0ecd62"
      },
      "execution_count": null,
      "outputs": [
        {
          "output_type": "execute_result",
          "data": {
            "text/plain": [
              "(3.2, 2.4, 99.8)"
            ]
          },
          "metadata": {},
          "execution_count": 18
        }
      ]
    },
    {
      "cell_type": "code",
      "source": [
        "out = []\n",
        "\n",
        "for i in \"Hello. How Are You?\":\n",
        "    if i.islower():\n",
        "        out.append(1 if i == \"o\" else 0)"
      ],
      "metadata": {
        "id": "rB-Phefpu4qa"
      },
      "execution_count": null,
      "outputs": []
    },
    {
      "cell_type": "code",
      "source": [
        "out"
      ],
      "metadata": {
        "id": "Li2CpCU5ofFh",
        "colab": {
          "base_uri": "https://localhost:8080/"
        },
        "outputId": "05e184e5-8c1e-4f77-ce45-86d37d95a683"
      },
      "execution_count": null,
      "outputs": [
        {
          "output_type": "execute_result",
          "data": {
            "text/plain": [
              "[0, 0, 0, 1, 1, 0, 0, 0, 1, 0]"
            ]
          },
          "metadata": {},
          "execution_count": 21
        }
      ]
    },
    {
      "cell_type": "code",
      "source": [
        "[(1 if i == \"o\" else 0) for i in \"Hello. How Are You?\" if i.islower()]"
      ],
      "metadata": {
        "colab": {
          "base_uri": "https://localhost:8080/"
        },
        "id": "WMFbu0cNzJrF",
        "outputId": "cf5bbdd0-f164-409b-eaf8-321dcb05387b"
      },
      "execution_count": null,
      "outputs": [
        {
          "output_type": "execute_result",
          "data": {
            "text/plain": [
              "[0, 0, 0, 1, 1, 0, 0, 0, 1, 0]"
            ]
          },
          "metadata": {},
          "execution_count": 22
        }
      ]
    },
    {
      "cell_type": "code",
      "source": [],
      "metadata": {
        "id": "nhgjwt6CzJsl"
      },
      "execution_count": null,
      "outputs": []
    },
    {
      "cell_type": "code",
      "source": [
        "import timeit"
      ],
      "metadata": {
        "id": "4GavSGGm059E"
      },
      "execution_count": null,
      "outputs": []
    },
    {
      "cell_type": "code",
      "source": [
        "%timeit sum(1/n for n in range(1, 10001))"
      ],
      "metadata": {
        "colab": {
          "base_uri": "https://localhost:8080/"
        },
        "id": "qUI8DDdQzJva",
        "outputId": "da166524-2449-4629-d974-85b12bb1a598"
      },
      "execution_count": null,
      "outputs": [
        {
          "output_type": "stream",
          "name": "stdout",
          "text": [
            "1000 loops, best of 5: 835 µs per loop\n"
          ]
        }
      ]
    },
    {
      "cell_type": "code",
      "source": [
        "%timeit sum([1/n for n in range(1, 10001)])"
      ],
      "metadata": {
        "colab": {
          "base_uri": "https://localhost:8080/"
        },
        "id": "_T-pAlb7zJx8",
        "outputId": "698253d8-cb47-495c-8025-2da60cd5aa44"
      },
      "execution_count": null,
      "outputs": [
        {
          "output_type": "stream",
          "name": "stdout",
          "text": [
            "1000 loops, best of 5: 810 µs per loop\n"
          ]
        }
      ]
    },
    {
      "cell_type": "code",
      "source": [],
      "metadata": {
        "id": "488Kyc6MzJ0S"
      },
      "execution_count": null,
      "outputs": []
    },
    {
      "cell_type": "code",
      "source": [],
      "metadata": {
        "id": "04c1pyNDzJ3T"
      },
      "execution_count": null,
      "outputs": []
    },
    {
      "cell_type": "code",
      "source": [],
      "metadata": {
        "id": "ysCaCoBqzJ5g"
      },
      "execution_count": null,
      "outputs": []
    },
    {
      "cell_type": "code",
      "source": [],
      "metadata": {
        "id": "8jdc97pLzJ8R"
      },
      "execution_count": null,
      "outputs": []
    },
    {
      "cell_type": "code",
      "source": [],
      "metadata": {
        "id": "k5XiFfFvzKAR"
      },
      "execution_count": null,
      "outputs": []
    },
    {
      "cell_type": "code",
      "source": [],
      "metadata": {
        "id": "X_-fpoi5ofIA"
      },
      "execution_count": null,
      "outputs": []
    },
    {
      "cell_type": "code",
      "source": [],
      "metadata": {
        "id": "1YWh3hkHofK-"
      },
      "execution_count": null,
      "outputs": []
    }
  ]
}