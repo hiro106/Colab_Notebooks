{
  "nbformat": 4,
  "nbformat_minor": 0,
  "metadata": {
    "colab": {
      "provenance": [],
      "authorship_tag": "ABX9TyPnT3j2neVDFPaYSWB4zRTW",
      "include_colab_link": true
    },
    "kernelspec": {
      "name": "python3",
      "display_name": "Python 3"
    },
    "language_info": {
      "name": "python"
    }
  },
  "cells": [
    {
      "cell_type": "markdown",
      "metadata": {
        "id": "view-in-github",
        "colab_type": "text"
      },
      "source": [
        "<a href=\"https://colab.research.google.com/github/hiro106/statistics-ml-cs-learning/blob/main/Difference_Fanout_problem_PLYMI.ipynb\" target=\"_parent\"><img src=\"https://colab.research.google.com/assets/colab-badge.svg\" alt=\"Open In Colab\"/></a>"
      ]
    },
    {
      "cell_type": "markdown",
      "source": [
        "http://www.pythonlikeyoumeanit.com/Module2_EssentialsOfPython/Problems/DifferenceFanout.html"
      ],
      "metadata": {
        "id": "IMm8PpTzlBQw"
      }
    },
    {
      "cell_type": "code",
      "execution_count": 1,
      "metadata": {
        "id": "BX7X6V3pkkO9"
      },
      "outputs": [],
      "source": [
        "def difference_fanout(l, fanout):\n",
        "    \"\"\" Return a list of difference for\n",
        "        each value with its following teams\n",
        "\n",
        "        Parameters\n",
        "        ----------\n",
        "        l: List[Number]\n",
        "            Input list of base numbers.\n",
        "\n",
        "        fanout: int\n",
        "            Number of neighbors to compute differences against.\n",
        "\n",
        "        Returns\n",
        "        --------\n",
        "        List[List[Number]]\n",
        "    \"\"\"\n",
        "    all_fanouts = []\n",
        "    for i, base_number in enumerate(l):\n",
        "        base_fanout = []\n",
        "        for neighbor in l[i+1: i+1+fanout]:\n",
        "            base_fanout.append(neighbor - base_number)\n",
        "\n",
        "        all_fanouts.append(base_fanout)\n",
        "    return all_fanouts\n"
      ]
    },
    {
      "cell_type": "code",
      "source": [
        "difference_fanout([3, 2, 4, 6, 1], 3)"
      ],
      "metadata": {
        "colab": {
          "base_uri": "https://localhost:8080/"
        },
        "id": "zq4w5wCVnlpO",
        "outputId": "e7a24899-b6cf-407a-9038-357117a2c42f"
      },
      "execution_count": 2,
      "outputs": [
        {
          "output_type": "execute_result",
          "data": {
            "text/plain": [
              "[[-1, 1, 3], [2, 4, -1], [2, -3], [-5], []]"
            ]
          },
          "metadata": {},
          "execution_count": 2
        }
      ]
    },
    {
      "cell_type": "code",
      "source": [
        "def difference_fanout(l, fanout):\n",
        "    \"\"\" Return a list of difference for\n",
        "        each value with its following terms\n",
        "\n",
        "        Parameters\n",
        "        ----------\n",
        "        l: List[Number]\n",
        "            Input list\n",
        "\n",
        "        fanout: int\n",
        "            Number of neighbors to compute difference with\n",
        "\n",
        "        Returns\n",
        "        -------\n",
        "        List[Number]\n",
        "    \"\"\"\n",
        "    return [[neighbor - base for neighbor in l[i+1:i+1+fanout]]\n",
        "        for i, base in enumerate(l)]"
      ],
      "metadata": {
        "id": "E-fSBuIxnyFZ"
      },
      "execution_count": 4,
      "outputs": []
    },
    {
      "cell_type": "code",
      "source": [
        "difference_fanout([3, 2, 4, 6, 1], 3)"
      ],
      "metadata": {
        "colab": {
          "base_uri": "https://localhost:8080/"
        },
        "id": "94QPHOpfA4Ra",
        "outputId": "eb9b7024-2d26-4bed-ade5-b76ac6bf1d21"
      },
      "execution_count": 5,
      "outputs": [
        {
          "output_type": "execute_result",
          "data": {
            "text/plain": [
              "[[-1, 1, 3], [2, 4, -1], [2, -3], [-5], []]"
            ]
          },
          "metadata": {},
          "execution_count": 5
        }
      ]
    },
    {
      "cell_type": "code",
      "source": [
        "def apply_fanout(l, fanout, op):\n",
        "    \"\"\" Return a list of outputs for each value\n",
        "        after applying a binary operation between\n",
        "        the value and its following terms\n",
        "\n",
        "        Parameters\n",
        "        ----------\n",
        "        l: List[Any]\n",
        "            Input list\n",
        "\n",
        "        fanout: int\n",
        "            Number of neighbors to apply the operation with\n",
        "\n",
        "        op: Callable[[Any, Any], Any]\n",
        "            Any binary operation to be applied to fanout-pairs\n",
        "            of elements in 'l'.\n",
        "\n",
        "        Returns\n",
        "        -------\n",
        "        List[List[Any]]\n",
        "    \"\"\"\n",
        "    return [[op(neighbor, base) for neighbor in l[i+1:i+1+fanout]]\n",
        "                for i, base in enumerate(l)]"
      ],
      "metadata": {
        "id": "T670G8zOA4O7"
      },
      "execution_count": 7,
      "outputs": []
    },
    {
      "cell_type": "code",
      "source": [
        "def subtract(a, b):\n",
        "    return a - b"
      ],
      "metadata": {
        "id": "WEIgTnA6A4MF"
      },
      "execution_count": 8,
      "outputs": []
    },
    {
      "cell_type": "code",
      "source": [
        "def difference_fanout(l, fanout):\n",
        "    return apply_fanout(l, fanout, subtract)"
      ],
      "metadata": {
        "id": "9zHCL5KtA4Jc"
      },
      "execution_count": 9,
      "outputs": []
    },
    {
      "cell_type": "code",
      "source": [
        "difference_fanout([3, 2, 4, 6, 1], 3)"
      ],
      "metadata": {
        "colab": {
          "base_uri": "https://localhost:8080/"
        },
        "id": "unxBliRYA4D2",
        "outputId": "5dc32c9f-79f2-444b-f81d-59b9d6d7adaf"
      },
      "execution_count": 10,
      "outputs": [
        {
          "output_type": "execute_result",
          "data": {
            "text/plain": [
              "[[-1, 1, 3], [2, 4, -1], [2, -3], [-5], []]"
            ]
          },
          "metadata": {},
          "execution_count": 10
        }
      ]
    },
    {
      "cell_type": "code",
      "source": [],
      "metadata": {
        "id": "Au77DZyzA36N"
      },
      "execution_count": null,
      "outputs": []
    },
    {
      "cell_type": "code",
      "source": [],
      "metadata": {
        "id": "6wPXnqHhA3qW"
      },
      "execution_count": null,
      "outputs": []
    }
  ]
}