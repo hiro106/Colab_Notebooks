{
  "nbformat": 4,
  "nbformat_minor": 0,
  "metadata": {
    "colab": {
      "provenance": [],
      "authorship_tag": "ABX9TyN41AtYnHwrHQ11rrD7kM8f",
      "include_colab_link": true
    },
    "kernelspec": {
      "name": "python3",
      "display_name": "Python 3"
    },
    "language_info": {
      "name": "python"
    }
  },
  "cells": [
    {
      "cell_type": "markdown",
      "metadata": {
        "id": "view-in-github",
        "colab_type": "text"
      },
      "source": [
        "<a href=\"https://colab.research.google.com/github/hiro106/statistics-ml-cs-learning/blob/main/Difference_Fanout_problem_PLYMI.ipynb\" target=\"_parent\"><img src=\"https://colab.research.google.com/assets/colab-badge.svg\" alt=\"Open In Colab\"/></a>"
      ]
    },
    {
      "cell_type": "markdown",
      "source": [
        "http://www.pythonlikeyoumeanit.com/Module2_EssentialsOfPython/Problems/DifferenceFanout.html"
      ],
      "metadata": {
        "id": "IMm8PpTzlBQw"
      }
    },
    {
      "cell_type": "code",
      "execution_count": 1,
      "metadata": {
        "id": "BX7X6V3pkkO9"
      },
      "outputs": [],
      "source": [
        "def difference_fanout(l, fanout):\n",
        "    \"\"\" Return a list of difference for\n",
        "        each value with its following teams\n",
        "\n",
        "        Parameters\n",
        "        ----------\n",
        "        l: List[Number]\n",
        "            Input list of base numbers.\n",
        "\n",
        "        fanout: int\n",
        "            Number of neighbors to compute differences against.\n",
        "\n",
        "        Returns\n",
        "        --------\n",
        "        List[List[Number]]\n",
        "    \"\"\"\n",
        "    all_fanouts = []\n",
        "    for i, base_number in enumerate(l):\n",
        "        base_fanout = []\n",
        "        for neighbor in l[i+1: i+1+fanout]:\n",
        "            base_fanout.append(neighbor - base_number)\n",
        "\n",
        "        all_fanouts.append(base_fanout)\n",
        "    return all_fanouts\n"
      ]
    },
    {
      "cell_type": "code",
      "source": [
        "difference_fanout([3, 2, 4, 6, 1], 3)"
      ],
      "metadata": {
        "colab": {
          "base_uri": "https://localhost:8080/"
        },
        "id": "zq4w5wCVnlpO",
        "outputId": "de9fe0c2-017f-4988-c4d7-ca405047affd"
      },
      "execution_count": 2,
      "outputs": [
        {
          "output_type": "execute_result",
          "data": {
            "text/plain": [
              "[[-1, 1, 3], [2, 4, -1], [2, -3], [-5], []]"
            ]
          },
          "metadata": {},
          "execution_count": 2
        }
      ]
    },
    {
      "cell_type": "code",
      "source": [],
      "metadata": {
        "id": "E-fSBuIxnyFZ"
      },
      "execution_count": null,
      "outputs": []
    }
  ]
}