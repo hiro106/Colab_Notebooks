{
 "cells": [
  {
   "cell_type": "markdown",
   "id": "bdc524e1",
   "metadata": {
    "papermill": {
     "duration": 0.003047,
     "end_time": "2022-06-09T11:42:38.855747",
     "exception": false,
     "start_time": "2022-06-09T11:42:38.852700",
     "status": "completed"
    },
    "tags": []
   },
   "source": [
    "**This notebook is an exercise in the [Introduction to Machine Learning](https://www.kaggle.com/learn/intro-to-machine-learning) course.  You can reference the tutorial at [this link](https://www.kaggle.com/dansbecker/random-forests).**\n",
    "\n",
    "---\n"
   ]
  },
  {
   "cell_type": "markdown",
   "id": "dbdeb5ef",
   "metadata": {
    "papermill": {
     "duration": 0.001824,
     "end_time": "2022-06-09T11:42:38.859834",
     "exception": false,
     "start_time": "2022-06-09T11:42:38.858010",
     "status": "completed"
    },
    "tags": []
   },
   "source": [
    "## Recap\n",
    "Here's the code you've written so far."
   ]
  },
  {
   "cell_type": "code",
   "execution_count": 1,
   "id": "a81e70b5",
   "metadata": {
    "collapsed": true,
    "execution": {
     "iopub.execute_input": "2022-06-09T11:42:38.865734Z",
     "iopub.status.busy": "2022-06-09T11:42:38.865148Z",
     "iopub.status.idle": "2022-06-09T11:42:40.169077Z",
     "shell.execute_reply": "2022-06-09T11:42:40.167948Z"
    },
    "jupyter": {
     "outputs_hidden": true
    },
    "papermill": {
     "duration": 1.309531,
     "end_time": "2022-06-09T11:42:40.171330",
     "exception": false,
     "start_time": "2022-06-09T11:42:38.861799",
     "status": "completed"
    },
    "tags": []
   },
   "outputs": [
    {
     "name": "stdout",
     "output_type": "stream",
     "text": [
      "Validation MAE when not specifying max_leaf_nodes: 29,653\n",
      "Validation MAE for best value of max_leaf_nodes: 27,283\n",
      "\n",
      "Setup complete\n"
     ]
    }
   ],
   "source": [
    "# Code you have previously used to load data\n",
    "import pandas as pd\n",
    "from sklearn.metrics import mean_absolute_error\n",
    "from sklearn.model_selection import train_test_split\n",
    "from sklearn.tree import DecisionTreeRegressor\n",
    "\n",
    "\n",
    "# Path of the file to read\n",
    "iowa_file_path = '../input/home-data-for-ml-course/train.csv'\n",
    "\n",
    "home_data = pd.read_csv(iowa_file_path)\n",
    "# Create target object and call it y\n",
    "y = home_data.SalePrice\n",
    "# Create X\n",
    "features = ['LotArea', 'YearBuilt', '1stFlrSF', '2ndFlrSF', 'FullBath', 'BedroomAbvGr', 'TotRmsAbvGrd']\n",
    "X = home_data[features]\n",
    "\n",
    "# Split into validation and training data\n",
    "train_X, val_X, train_y, val_y = train_test_split(X, y, random_state=1)\n",
    "\n",
    "# Specify Model\n",
    "iowa_model = DecisionTreeRegressor(random_state=1)\n",
    "# Fit Model\n",
    "iowa_model.fit(train_X, train_y)\n",
    "\n",
    "# Make validation predictions and calculate mean absolute error\n",
    "val_predictions = iowa_model.predict(val_X)\n",
    "val_mae = mean_absolute_error(val_predictions, val_y)\n",
    "print(\"Validation MAE when not specifying max_leaf_nodes: {:,.0f}\".format(val_mae))\n",
    "\n",
    "# Using best value for max_leaf_nodes\n",
    "iowa_model = DecisionTreeRegressor(max_leaf_nodes=100, random_state=1)\n",
    "iowa_model.fit(train_X, train_y)\n",
    "val_predictions = iowa_model.predict(val_X)\n",
    "val_mae = mean_absolute_error(val_predictions, val_y)\n",
    "print(\"Validation MAE for best value of max_leaf_nodes: {:,.0f}\".format(val_mae))\n",
    "\n",
    "\n",
    "# Set up code checking\n",
    "from learntools.core import binder\n",
    "binder.bind(globals())\n",
    "from learntools.machine_learning.ex6 import *\n",
    "print(\"\\nSetup complete\")"
   ]
  },
  {
   "cell_type": "markdown",
   "id": "257cc56d",
   "metadata": {
    "papermill": {
     "duration": 0.002045,
     "end_time": "2022-06-09T11:42:40.175860",
     "exception": false,
     "start_time": "2022-06-09T11:42:40.173815",
     "status": "completed"
    },
    "tags": []
   },
   "source": [
    "# Exercises\n",
    "Data science isn't always this easy. But replacing the decision tree with a Random Forest is going to be an easy win."
   ]
  },
  {
   "cell_type": "markdown",
   "id": "47afc547",
   "metadata": {
    "papermill": {
     "duration": 0.004022,
     "end_time": "2022-06-09T11:42:40.182052",
     "exception": false,
     "start_time": "2022-06-09T11:42:40.178030",
     "status": "completed"
    },
    "tags": []
   },
   "source": [
    "## Step 1: Use a Random Forest"
   ]
  },
  {
   "cell_type": "code",
   "execution_count": 2,
   "id": "e131bebb",
   "metadata": {
    "execution": {
     "iopub.execute_input": "2022-06-09T11:42:40.187957Z",
     "iopub.status.busy": "2022-06-09T11:42:40.187573Z",
     "iopub.status.idle": "2022-06-09T11:42:40.257563Z",
     "shell.execute_reply": "2022-06-09T11:42:40.256557Z"
    },
    "papermill": {
     "duration": 0.075233,
     "end_time": "2022-06-09T11:42:40.259363",
     "exception": false,
     "start_time": "2022-06-09T11:42:40.184130",
     "status": "completed"
    },
    "tags": []
   },
   "outputs": [
    {
     "name": "stdout",
     "output_type": "stream",
     "text": [
      "Validation MAE for Random Forest Model: <learntools.core.constants.PlaceholderValue object at 0x7fa39bb4b190>\n"
     ]
    },
    {
     "data": {
      "application/javascript": [
       "parent.postMessage({\"jupyterEvent\": \"custom.exercise_interaction\", \"data\": {\"outcomeType\": 4, \"interactionType\": 1, \"questionType\": 2, \"questionId\": \"1_CheckRfScore\", \"learnToolsVersion\": \"0.3.4\", \"valueTowardsCompletion\": 0.0, \"failureMessage\": \"\", \"exceptionClass\": \"\", \"trace\": \"\"}}, \"*\")"
      ],
      "text/plain": [
       "<IPython.core.display.Javascript object>"
      ]
     },
     "metadata": {},
     "output_type": "display_data"
    },
    {
     "data": {
      "text/markdown": [
       "<span style=\"color:#ccaa33\">Check:</span> When you've updated the starter code, `check()` will tell you whether your code is correct. You need to update the code that creates variable `rf_val_mae`"
      ],
      "text/plain": [
       "Check: When you've updated the starter code, `check()` will tell you whether your code is correct. You need to update the code that creates variable `rf_val_mae`"
      ]
     },
     "metadata": {},
     "output_type": "display_data"
    }
   ],
   "source": [
    "from sklearn.ensemble import RandomForestRegressor\n",
    "\n",
    "# Define the model. Set random_state to 1\n",
    "rf_model = ____\n",
    "\n",
    "# fit your model\n",
    "____\n",
    "\n",
    "# Calculate the mean absolute error of your Random Forest model on the validation data\n",
    "rf_val_mae = ____\n",
    "\n",
    "print(\"Validation MAE for Random Forest Model: {}\".format(rf_val_mae))\n",
    "\n",
    "# Check your answer\n",
    "step_1.check()"
   ]
  },
  {
   "cell_type": "code",
   "execution_count": 3,
   "id": "120e22fb",
   "metadata": {
    "execution": {
     "iopub.execute_input": "2022-06-09T11:42:40.265947Z",
     "iopub.status.busy": "2022-06-09T11:42:40.265420Z",
     "iopub.status.idle": "2022-06-09T11:42:40.269065Z",
     "shell.execute_reply": "2022-06-09T11:42:40.268153Z"
    },
    "papermill": {
     "duration": 0.008947,
     "end_time": "2022-06-09T11:42:40.270882",
     "exception": false,
     "start_time": "2022-06-09T11:42:40.261935",
     "status": "completed"
    },
    "tags": []
   },
   "outputs": [],
   "source": [
    "# The lines below will show you a hint or the solution.\n",
    "# step_1.hint() \n",
    "# step_1.solution()\n"
   ]
  },
  {
   "cell_type": "markdown",
   "id": "f2664c18",
   "metadata": {
    "papermill": {
     "duration": 0.002304,
     "end_time": "2022-06-09T11:42:40.275807",
     "exception": false,
     "start_time": "2022-06-09T11:42:40.273503",
     "status": "completed"
    },
    "tags": []
   },
   "source": [
    "So far, you have followed specific instructions at each step of your project. This helped learn key ideas and build your first model, but now you know enough to try things on your own. \n",
    "\n",
    "Machine Learning competitions are a great way to try your own ideas and learn more as you independently navigate a machine learning project. \n",
    "\n",
    "# Keep Going\n",
    "\n",
    "You are ready for **[Machine Learning Competitions](https://www.kaggle.com/alexisbcook/machine-learning-competitions).**\n"
   ]
  },
  {
   "cell_type": "markdown",
   "id": "d5ab9548",
   "metadata": {
    "papermill": {
     "duration": 0.002215,
     "end_time": "2022-06-09T11:42:40.280560",
     "exception": false,
     "start_time": "2022-06-09T11:42:40.278345",
     "status": "completed"
    },
    "tags": []
   },
   "source": [
    "---\n",
    "\n",
    "\n",
    "\n",
    "\n",
    "*Have questions or comments? Visit the [course discussion forum](https://www.kaggle.com/learn/intro-to-machine-learning/discussion) to chat with other learners.*"
   ]
  }
 ],
 "metadata": {
  "kernelspec": {
   "display_name": "Python 3",
   "language": "python",
   "name": "python3"
  },
  "language_info": {
   "codemirror_mode": {
    "name": "ipython",
    "version": 3
   },
   "file_extension": ".py",
   "mimetype": "text/x-python",
   "name": "python",
   "nbconvert_exporter": "python",
   "pygments_lexer": "ipython3",
   "version": "3.7.12"
  },
  "papermill": {
   "default_parameters": {},
   "duration": 10.304013,
   "end_time": "2022-06-09T11:42:40.904198",
   "environment_variables": {},
   "exception": null,
   "input_path": "__notebook__.ipynb",
   "output_path": "__notebook__.ipynb",
   "parameters": {},
   "start_time": "2022-06-09T11:42:30.600185",
   "version": "2.3.4"
  }
 },
 "nbformat": 4,
 "nbformat_minor": 5
}
