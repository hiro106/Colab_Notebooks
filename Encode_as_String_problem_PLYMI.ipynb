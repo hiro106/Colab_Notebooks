{
  "nbformat": 4,
  "nbformat_minor": 0,
  "metadata": {
    "colab": {
      "provenance": [],
      "authorship_tag": "ABX9TyNRAPX4HK/AkGhedXFKfQGL",
      "include_colab_link": true
    },
    "kernelspec": {
      "name": "python3",
      "display_name": "Python 3"
    },
    "language_info": {
      "name": "python"
    }
  },
  "cells": [
    {
      "cell_type": "markdown",
      "metadata": {
        "id": "view-in-github",
        "colab_type": "text"
      },
      "source": [
        "<a href=\"https://colab.research.google.com/github/hiro106/statistics-ml-cs-learning/blob/main/Encode_as_String_problem_PLYMI.ipynb\" target=\"_parent\"><img src=\"https://colab.research.google.com/assets/colab-badge.svg\" alt=\"Open In Colab\"/></a>"
      ]
    },
    {
      "cell_type": "markdown",
      "source": [
        "http://www.pythonlikeyoumeanit.com/Module2_EssentialsOfPython/Problems/EncodeAsString.html"
      ],
      "metadata": {
        "id": "5vKQ9hDwqDWy"
      }
    },
    {
      "cell_type": "code",
      "source": [
        "def int_to_str(n):\n",
        "    \"\"\"\n",
        "    Takes an integer and format it into a special string\n",
        "        e.g. 142 -> \"one-four-two\"\n",
        "             -12 -> \"neg-one-two\"\n",
        "    \"\"\"\n",
        "    mapping = {\"0\": \"zero\", \"1\": \"one\", \"2\": \"two\", \"3\": \"three\",\n",
        "               \"4\": \"four\", \"5\": \"five\", \"6\": \"six\", \"7\": \"seven\",\n",
        "               \"8\": \"eight\", \"9\": \"nine\", \"-\": \"neg\"}\n",
        "    return \"-\".join(mapping[digit] for digit in str(n))"
      ],
      "metadata": {
        "id": "MD5JxvoTq6Fo"
      },
      "execution_count": 1,
      "outputs": []
    },
    {
      "cell_type": "code",
      "source": [
        "int_to_str(2356)"
      ],
      "metadata": {
        "colab": {
          "base_uri": "https://localhost:8080/",
          "height": 35
        },
        "id": "YmJTh3Jdq7Ed",
        "outputId": "52d3ebfd-e2fe-4b06-95bd-50b14a8028b0"
      },
      "execution_count": 2,
      "outputs": [
        {
          "output_type": "execute_result",
          "data": {
            "text/plain": [
              "'two-three-five-six'"
            ],
            "application/vnd.google.colaboratory.intrinsic+json": {
              "type": "string"
            }
          },
          "metadata": {},
          "execution_count": 2
        }
      ]
    },
    {
      "cell_type": "code",
      "source": [
        "def item_to_transcript(item)"
      ],
      "metadata": {
        "id": "1tlCOABKq7Bl"
      },
      "execution_count": null,
      "outputs": []
    },
    {
      "cell_type": "code",
      "source": [],
      "metadata": {
        "id": "b_Wsto1Mq6-q"
      },
      "execution_count": null,
      "outputs": []
    },
    {
      "cell_type": "code",
      "source": [],
      "metadata": {
        "id": "m5b28W4Kq676"
      },
      "execution_count": null,
      "outputs": []
    },
    {
      "cell_type": "code",
      "source": [],
      "metadata": {
        "id": "arpHiBZTq65L"
      },
      "execution_count": null,
      "outputs": []
    },
    {
      "cell_type": "code",
      "source": [],
      "metadata": {
        "id": "ZBDCyQrhq62U"
      },
      "execution_count": null,
      "outputs": []
    },
    {
      "cell_type": "code",
      "source": [],
      "metadata": {
        "id": "fkwV5rLAq6zl"
      },
      "execution_count": null,
      "outputs": []
    },
    {
      "cell_type": "code",
      "source": [],
      "metadata": {
        "id": "7kJb4jhJq6ww"
      },
      "execution_count": null,
      "outputs": []
    },
    {
      "cell_type": "code",
      "source": [],
      "metadata": {
        "id": "uI_Zr0l1q6ua"
      },
      "execution_count": null,
      "outputs": []
    },
    {
      "cell_type": "code",
      "source": [],
      "metadata": {
        "id": "7x8EvxBbq6ru"
      },
      "execution_count": null,
      "outputs": []
    },
    {
      "cell_type": "code",
      "source": [],
      "metadata": {
        "id": "_8Jbj0voq6pE"
      },
      "execution_count": null,
      "outputs": []
    },
    {
      "cell_type": "code",
      "source": [],
      "metadata": {
        "id": "5YN5-tS4q6mU"
      },
      "execution_count": null,
      "outputs": []
    },
    {
      "cell_type": "code",
      "source": [],
      "metadata": {
        "id": "usVmcktVq6ji"
      },
      "execution_count": null,
      "outputs": []
    },
    {
      "cell_type": "code",
      "source": [],
      "metadata": {
        "id": "cETmSwpqq6dO"
      },
      "execution_count": null,
      "outputs": []
    }
  ]
}