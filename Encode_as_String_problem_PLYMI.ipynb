{
  "nbformat": 4,
  "nbformat_minor": 0,
  "metadata": {
    "colab": {
      "provenance": [],
      "authorship_tag": "ABX9TyNRezts2r+8j0tCalNUIj+S",
      "include_colab_link": true
    },
    "kernelspec": {
      "name": "python3",
      "display_name": "Python 3"
    },
    "language_info": {
      "name": "python"
    }
  },
  "cells": [
    {
      "cell_type": "markdown",
      "metadata": {
        "id": "view-in-github",
        "colab_type": "text"
      },
      "source": [
        "<a href=\"https://colab.research.google.com/github/hiro106/statistics-ml-cs-learning/blob/main/Encode_as_String_problem_PLYMI.ipynb\" target=\"_parent\"><img src=\"https://colab.research.google.com/assets/colab-badge.svg\" alt=\"Open In Colab\"/></a>"
      ]
    },
    {
      "cell_type": "markdown",
      "source": [
        "http://www.pythonlikeyoumeanit.com/Module2_EssentialsOfPython/Problems/EncodeAsString.html"
      ],
      "metadata": {
        "id": "5vKQ9hDwqDWy"
      }
    },
    {
      "cell_type": "code",
      "source": [
        "def int_to_str(n):\n",
        "    \"\"\"\n",
        "    Takes an integer and format it into a special string\n",
        "        e.g. 142 -> \"one-four-two\"\n",
        "             -12 -> \"neg-one-two\"\n",
        "    \"\"\"\n",
        "    mapping = {\"0\": \"zero\", \"1\": \"one\", \"2\": \"two\", \"3\": \"three\",\n",
        "               \"4\": \"four\", \"5\": \"five\", \"6\": \"six\", \"7\": \"seven\",\n",
        "               \"8\": \"eight\", \"9\": \"nine\", \"-\": \"neg\"}\n",
        "    return \"-\".join(mapping[digit] for digit in str(n))"
      ],
      "metadata": {
        "id": "MD5JxvoTq6Fo"
      },
      "execution_count": 1,
      "outputs": []
    },
    {
      "cell_type": "code",
      "source": [
        "int_to_str(2356)"
      ],
      "metadata": {
        "colab": {
          "base_uri": "https://localhost:8080/",
          "height": 35
        },
        "id": "YmJTh3Jdq7Ed",
        "outputId": "a6edb5f9-8169-4272-ad7c-b89d43e05246"
      },
      "execution_count": 2,
      "outputs": [
        {
          "output_type": "execute_result",
          "data": {
            "text/plain": [
              "'two-three-five-six'"
            ],
            "application/vnd.google.colaboratory.intrinsic+json": {
              "type": "string"
            }
          },
          "metadata": {},
          "execution_count": 2
        }
      ]
    },
    {
      "cell_type": "code",
      "source": [
        "def item_to_transcript(item):\n",
        "    if isinstance(item, bool): return '<OTHER>'\n",
        "    if isinstance(item, int): return int_to_str(item)\n",
        "    if isinstance(item, float): return int_to_str(item) + \" and float\"\n",
        "    if isinstance(item, str): return item\n",
        "    return '<OTHER>'"
      ],
      "metadata": {
        "id": "1tlCOABKq7Bl"
      },
      "execution_count": 3,
      "outputs": []
    },
    {
      "cell_type": "code",
      "source": [
        "def concat_to_str(l):\n",
        "    \"\"\"\n",
        "    Maps a list of objects to their string\n",
        "    representations concatenated together\n",
        "\n",
        "    Parameters\n",
        "    ----------\n",
        "    l: List[Any]\n",
        "        Input list of objects\n",
        "\n",
        "    Returns\n",
        "    --------\n",
        "    str\n",
        "\n",
        "    Examples\n",
        "    ---------\n",
        "    >>> concat_to_str([1, None, 'hi', 2.0])\n",
        "    one | <OTHER> | hi | two and float\n",
        "    \"\"\"\n",
        "    return \" | \".join(item_to_transcript(item) for item in l)"
      ],
      "metadata": {
        "id": "b_Wsto1Mq6-q"
      },
      "execution_count": 4,
      "outputs": []
    },
    {
      "cell_type": "code",
      "source": [
        "some_iterable_of_strings = \"dictionaries\"\n",
        "\"<hi>\".join(x for x in some_iterable_of_strings)"
      ],
      "metadata": {
        "colab": {
          "base_uri": "https://localhost:8080/",
          "height": 35
        },
        "id": "m5b28W4Kq676",
        "outputId": "14c38a22-4095-4825-c7cb-98f29aac3ce3"
      },
      "execution_count": 5,
      "outputs": [
        {
          "output_type": "execute_result",
          "data": {
            "text/plain": [
              "'d<hi>i<hi>c<hi>t<hi>i<hi>o<hi>n<hi>a<hi>r<hi>i<hi>e<hi>s'"
            ],
            "application/vnd.google.colaboratory.intrinsic+json": {
              "type": "string"
            }
          },
          "metadata": {},
          "execution_count": 5
        }
      ]
    },
    {
      "cell_type": "code",
      "source": [
        "out = \"\"\n",
        "for x in some_iterable_of_strings:\n",
        "    out += \"<hi>\" + x"
      ],
      "metadata": {
        "id": "arpHiBZTq65L"
      },
      "execution_count": 6,
      "outputs": []
    },
    {
      "cell_type": "code",
      "source": [
        "out"
      ],
      "metadata": {
        "colab": {
          "base_uri": "https://localhost:8080/",
          "height": 35
        },
        "id": "ZBDCyQrhq62U",
        "outputId": "a3fa0cc4-94cb-4e34-d399-099549a50f9a"
      },
      "execution_count": 7,
      "outputs": [
        {
          "output_type": "execute_result",
          "data": {
            "text/plain": [
              "'<hi>d<hi>i<hi>c<hi>t<hi>i<hi>o<hi>n<hi>a<hi>r<hi>i<hi>e<hi>s'"
            ],
            "application/vnd.google.colaboratory.intrinsic+json": {
              "type": "string"
            }
          },
          "metadata": {},
          "execution_count": 7
        }
      ]
    },
    {
      "cell_type": "code",
      "source": [
        "out = out.lstrip(\"<hi>\")"
      ],
      "metadata": {
        "id": "fkwV5rLAq6zl"
      },
      "execution_count": 8,
      "outputs": []
    },
    {
      "cell_type": "code",
      "source": [
        "out"
      ],
      "metadata": {
        "colab": {
          "base_uri": "https://localhost:8080/",
          "height": 35
        },
        "id": "7kJb4jhJq6ww",
        "outputId": "fa42fd5e-fb8d-4016-f8a2-0fcf246ff9f1"
      },
      "execution_count": 9,
      "outputs": [
        {
          "output_type": "execute_result",
          "data": {
            "text/plain": [
              "'d<hi>i<hi>c<hi>t<hi>i<hi>o<hi>n<hi>a<hi>r<hi>i<hi>e<hi>s'"
            ],
            "application/vnd.google.colaboratory.intrinsic+json": {
              "type": "string"
            }
          },
          "metadata": {},
          "execution_count": 9
        }
      ]
    },
    {
      "cell_type": "code",
      "source": [
        "x = str(-123)\n",
        "x"
      ],
      "metadata": {
        "colab": {
          "base_uri": "https://localhost:8080/",
          "height": 35
        },
        "id": "uI_Zr0l1q6ua",
        "outputId": "2affd576-b70e-4f46-d545-c076f1a0fd30"
      },
      "execution_count": 10,
      "outputs": [
        {
          "output_type": "execute_result",
          "data": {
            "text/plain": [
              "'-123'"
            ],
            "application/vnd.google.colaboratory.intrinsic+json": {
              "type": "string"
            }
          },
          "metadata": {},
          "execution_count": 10
        }
      ]
    },
    {
      "cell_type": "code",
      "source": [
        "x[0]"
      ],
      "metadata": {
        "colab": {
          "base_uri": "https://localhost:8080/",
          "height": 35
        },
        "id": "7x8EvxBbq6ru",
        "outputId": "e3ec614d-f20e-43f4-afc3-a57e670cded5"
      },
      "execution_count": 11,
      "outputs": [
        {
          "output_type": "execute_result",
          "data": {
            "text/plain": [
              "'-'"
            ],
            "application/vnd.google.colaboratory.intrinsic+json": {
              "type": "string"
            }
          },
          "metadata": {},
          "execution_count": 11
        }
      ]
    },
    {
      "cell_type": "code",
      "source": [
        "x[-1]"
      ],
      "metadata": {
        "colab": {
          "base_uri": "https://localhost:8080/",
          "height": 35
        },
        "id": "_8Jbj0voq6pE",
        "outputId": "631cb338-121f-435c-9a42-0a2e726aba04"
      },
      "execution_count": 12,
      "outputs": [
        {
          "output_type": "execute_result",
          "data": {
            "text/plain": [
              "'3'"
            ],
            "application/vnd.google.colaboratory.intrinsic+json": {
              "type": "string"
            }
          },
          "metadata": {},
          "execution_count": 12
        }
      ]
    },
    {
      "cell_type": "code",
      "source": [
        "isinstance(True, int) and isinstance(True, bool)"
      ],
      "metadata": {
        "colab": {
          "base_uri": "https://localhost:8080/"
        },
        "id": "5YN5-tS4q6mU",
        "outputId": "72ec1c67-40ef-45e6-88ad-a882047820bd"
      },
      "execution_count": 13,
      "outputs": [
        {
          "output_type": "execute_result",
          "data": {
            "text/plain": [
              "True"
            ]
          },
          "metadata": {},
          "execution_count": 13
        }
      ]
    },
    {
      "cell_type": "code",
      "source": [
        "3*True + True - False"
      ],
      "metadata": {
        "colab": {
          "base_uri": "https://localhost:8080/"
        },
        "id": "usVmcktVq6ji",
        "outputId": "5716753d-f998-49e4-96d4-39a307c1fd0e"
      },
      "execution_count": 14,
      "outputs": [
        {
          "output_type": "execute_result",
          "data": {
            "text/plain": [
              "4"
            ]
          },
          "metadata": {},
          "execution_count": 14
        }
      ]
    },
    {
      "cell_type": "code",
      "source": [
        "True"
      ],
      "metadata": {
        "colab": {
          "base_uri": "https://localhost:8080/"
        },
        "id": "cETmSwpqq6dO",
        "outputId": "32f54d5a-318c-448e-9b07-df5ec83cc523"
      },
      "execution_count": 15,
      "outputs": [
        {
          "output_type": "execute_result",
          "data": {
            "text/plain": [
              "True"
            ]
          },
          "metadata": {},
          "execution_count": 15
        }
      ]
    },
    {
      "cell_type": "code",
      "source": [
        "True + True - True"
      ],
      "metadata": {
        "colab": {
          "base_uri": "https://localhost:8080/"
        },
        "id": "UjtWz3PHEqoM",
        "outputId": "39dcfa4f-c7bf-4553-f084-2d29ff914d5f"
      },
      "execution_count": 16,
      "outputs": [
        {
          "output_type": "execute_result",
          "data": {
            "text/plain": [
              "1"
            ]
          },
          "metadata": {},
          "execution_count": 16
        }
      ]
    },
    {
      "cell_type": "code",
      "source": [
        "# int_to_str(True)\n",
        "# ->KeyError"
      ],
      "metadata": {
        "id": "zMwrdYOZEuH-"
      },
      "execution_count": 20,
      "outputs": []
    },
    {
      "cell_type": "code",
      "source": [
        "int_to_str(-108)"
      ],
      "metadata": {
        "colab": {
          "base_uri": "https://localhost:8080/",
          "height": 35
        },
        "id": "t6-zd0CfE216",
        "outputId": "59e54feb-caf1-4ab9-e204-f8ad06d4380a"
      },
      "execution_count": 19,
      "outputs": [
        {
          "output_type": "execute_result",
          "data": {
            "text/plain": [
              "'neg-one-zero-eight'"
            ],
            "application/vnd.google.colaboratory.intrinsic+json": {
              "type": "string"
            }
          },
          "metadata": {},
          "execution_count": 19
        }
      ]
    },
    {
      "cell_type": "code",
      "source": [],
      "metadata": {
        "id": "STby3EKnGO4C"
      },
      "execution_count": null,
      "outputs": []
    }
  ]
}